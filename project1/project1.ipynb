{
 "cells": [
  {
   "cell_type": "markdown",
   "metadata": {},
   "source": [
    "# Exploring Oxycontin Use in the NSDUH Data Set"
   ]
  },
  {
   "cell_type": "code",
   "execution_count": 402,
   "metadata": {},
   "outputs": [],
   "source": [
    "from os import path\n",
    "import pandas as pd\n",
    "import numpy as np\n",
    "import matplotlib.pyplot as plt\n",
    "import seaborn as sns\n",
    "sns.set(style='white')\n",
    "\n",
    "import thinkstats2 as ts\n",
    "import thinkplot\n",
    "\n",
    "oxy_file = 'oxy.hdf5'"
   ]
  },
  {
   "cell_type": "markdown",
   "metadata": {},
   "source": [
    "For this project, I'm exploring the 2014 NSDUH series data to look for trends in OxyContin use.\n",
    "\n",
    "The survey series can be found on the [SAMHDA website](https://www.datafiles.samhsa.gov/study-series/national-survey-drug-use-and-health-nsduh-nid13517).\n",
    "\n",
    "The codebook and data for 2014 can be found on [this page](https://www.datafiles.samhsa.gov/study-dataset/national-survey-drug-use-and-health-2014-nsduh-2014-ds0001-nid16876)\n",
    "\n",
    "The terms of use for this data can be found on the [SAMHDA website's terms of use page](https://www.datafiles.samhsa.gov/info/terms-use-nid3422)"
   ]
  },
  {
   "cell_type": "markdown",
   "metadata": {},
   "source": [
    "## Load data"
   ]
  },
  {
   "cell_type": "markdown",
   "metadata": {},
   "source": [
    "First, read in all of the data for 2014. Then, we'll look at some interesting variables and create a smaller data frame that only contains the variables we analyzed to save and load in the future."
   ]
  },
  {
   "cell_type": "code",
   "execution_count": null,
   "metadata": {},
   "outputs": [],
   "source": [
    "oxy_df_file = 'oxy_df.hdf5'\n",
    "oxy_df_resample_file = 'oxy_df_resample.hdf5'"
   ]
  },
  {
   "cell_type": "code",
   "execution_count": null,
   "metadata": {
    "scrolled": true
   },
   "outputs": [],
   "source": [
    "if not path.exists(oxy_df_resample_file):\n",
    "    nsduh2014 = pd.read_stata('nsduh_data/NSDUH_2014.DTA')\n",
    "    nsduh2014.head()"
   ]
  },
  {
   "cell_type": "markdown",
   "metadata": {},
   "source": [
    "## Prescription Opioids\n",
    "The most common opiods incvolved in prescription overdose death are Metadone, Oxycodone, and Hydrocodone [according to the CDC](https://www.cdc.gov/drugoverdose/opioids/prescribed.html). I'm going to specifically look at OxyContin because the NSDUH survey provides the most questions targeted at its use as a painkiller."
   ]
  },
  {
   "cell_type": "markdown",
   "metadata": {},
   "source": [
    "### Prepare the data"
   ]
  },
  {
   "cell_type": "markdown",
   "metadata": {},
   "source": [
    "For the 2014 survey, the questions pertaining to OxyContin use are:\n",
    "\n",
    "* 'oxycage': AGE WHEN FIRST USED OXYCONTIN NONMEDICALLY\\*\n",
    "* 'oxycrec': TIME SINCE LAST USED OXYCONTIN NONMEDICALLY\\*\n",
    "* 'oxyyrtot': TOTAL # DAYS USED OXYCONTIN PAST 12 MONTHS\n",
    "* 'oxdaypyr': # DAYS USED OXYCONTIN \"NM\" PAST 12 MONTHS\n",
    "\n",
    "\\* \"Nonmedically\" is consistently defined in the codebook as usage of the drug that was not prescribed for the individual or usage only for the experience or feeling it caused.\n",
    "\n",
    "Other useful categories for analysis are:\n",
    "\n",
    "* 'AGE2': RECODE - FINAL EDITED AGE\n",
    "    * Note included with description in codebook: \"After a respondent has entered his/her birthdate in the first part of the questionnaire, he/she has multiple opportunities to change his/her age in response to consistency checks throughout the questionnaire. It is therefore possible for the age recorded by the respondent at the beginning of the questionnaire to be different than the age at the end of the questionnaire. The final age variable is determined using these two constituent age variables, in addition to the age calculated from the raw birthdate and the final edited interview date, the age entered in the questionnaire roster (if it exists), and the pre-interview screener age.\"\n",
    "* 'ANALWT_3': \"The weight can be interpreted as representing the total number of target population individuals each record on the file represents\""
   ]
  },
  {
   "cell_type": "markdown",
   "metadata": {},
   "source": [
    "The Series in this data set are categorical, so we need to do some careful mapping to put the variables we want into a usable format. Because the categorical labels are fairly consistently formatted, we can define a function to map the categories to usable integers."
   ]
  },
  {
   "cell_type": "code",
   "execution_count": null,
   "metadata": {},
   "outputs": [],
   "source": [
    "def map_cat_to_int(variable):\n",
    "    \"\"\"Creates a mapping from a categorical label to an integer.\n",
    "    \n",
    "    Args:\n",
    "        variable (pandas Series): The categorical variable to map.\n",
    "    \n",
    "    Returns:\n",
    "        cat_dict (dictionary): A dictionary with keys as the categorical\n",
    "            labels and values as the integers corresponding to the label.\n",
    "        mapped_variable (pandas Series): The variable with categorical \n",
    "            labels replaced with integers.\n",
    "    \"\"\"\n",
    "    categories = list(variable.cat.categories)\n",
    "    \n",
    "    cat_dict = {}\n",
    "    \n",
    "    for cat in categories:\n",
    "        if isinstance(cat, int):\n",
    "            cat_dict[cat] = cat\n",
    "        else:\n",
    "            code = int(cat.split(\" \")[0])\n",
    "            cat_dict[cat] = code\n",
    "    \n",
    "    mapped_variable = variable.map(cat_dict)\n",
    "    return cat_dict, mapped_variable"
   ]
  },
  {
   "cell_type": "markdown",
   "metadata": {},
   "source": [
    "#### Age"
   ]
  },
  {
   "cell_type": "markdown",
   "metadata": {},
   "source": [
    "`AGE2` is categorical, so we have to make a mapping to get the integer values of the codes."
   ]
  },
  {
   "cell_type": "code",
   "execution_count": null,
   "metadata": {},
   "outputs": [],
   "source": [
    "if not path.exists(oxy_df_resample_file):\n",
    "    age = nsduh2014['AGE2']"
   ]
  },
  {
   "cell_type": "markdown",
   "metadata": {},
   "source": [
    "Make a dictionary to map these codes to the corresponding integers and perform the mapping."
   ]
  },
  {
   "cell_type": "code",
   "execution_count": null,
   "metadata": {},
   "outputs": [],
   "source": [
    "if not path.exists(oxy_df_resample_file):\n",
    "    age_cat_dict, age = map_cat_to_int(age)\n",
    "    print(age_cat_dict)\n",
    "    age.head()"
   ]
  },
  {
   "cell_type": "markdown",
   "metadata": {},
   "source": [
    "#### Weight"
   ]
  },
  {
   "cell_type": "markdown",
   "metadata": {},
   "source": [
    "The weight variable weight isn't categorical, so we can leave it as is for now."
   ]
  },
  {
   "cell_type": "code",
   "execution_count": null,
   "metadata": {},
   "outputs": [],
   "source": [
    "if not path.exists(oxy_df_resample_file):\n",
    "    weight = nsduh2014['ANALWT_C']\n",
    "    weight.dtype"
   ]
  },
  {
   "cell_type": "markdown",
   "metadata": {},
   "source": [
    "#### OXYCAGE: AGE WHEN FIRST USED OXYCONTIN NONMEDICALLY"
   ]
  },
  {
   "cell_type": "markdown",
   "metadata": {},
   "source": [
    "`OXYCAGE` is categorical, so we have to process it the same way as for `AGE2`"
   ]
  },
  {
   "cell_type": "code",
   "execution_count": null,
   "metadata": {},
   "outputs": [],
   "source": [
    "if not path.exists(oxy_df_resample_file):\n",
    "    oxycage = nsduh2014['oxycage']"
   ]
  },
  {
   "cell_type": "code",
   "execution_count": null,
   "metadata": {},
   "outputs": [],
   "source": [
    "if not path.exists(oxy_df_resample_file):\n",
    "    oxycage_cat_dict, oxycage = map_cat_to_int(oxycage)\n",
    "    print(oxycage_cat_dict)\n",
    "    oxycage.describe()"
   ]
  },
  {
   "cell_type": "markdown",
   "metadata": {},
   "source": [
    "#### OXYCREC: TIME SINCE LAST USED OXYCONTIN NONMEDICALLY"
   ]
  },
  {
   "cell_type": "markdown",
   "metadata": {},
   "source": [
    "`OXYCREC` is categorical too."
   ]
  },
  {
   "cell_type": "code",
   "execution_count": null,
   "metadata": {},
   "outputs": [],
   "source": [
    "if not path.exists(oxy_df_resample_file):\n",
    "    oxycrec = nsduh2014['oxycrec']"
   ]
  },
  {
   "cell_type": "code",
   "execution_count": null,
   "metadata": {},
   "outputs": [],
   "source": [
    "if not path.exists(oxy_df_resample_file):\n",
    "    oxycrec_cat_dict, oxycrec = map_cat_to_int(oxycrec)\n",
    "    print(oxycrec_cat_dict)\n",
    "    oxycrec.describe()"
   ]
  },
  {
   "cell_type": "markdown",
   "metadata": {},
   "source": [
    "#### OXYYRTOT: TOTAL # DAYS USED OXYCONTIN PAST 12 MONTHS"
   ]
  },
  {
   "cell_type": "code",
   "execution_count": null,
   "metadata": {},
   "outputs": [],
   "source": [
    "if not path.exists(oxy_df_resample_file):\n",
    "    oxyyrtot = nsduh2014['oxyyrtot']"
   ]
  },
  {
   "cell_type": "code",
   "execution_count": null,
   "metadata": {},
   "outputs": [],
   "source": [
    "if not path.exists(oxy_df_resample_file):\n",
    "    oxyyrtot_cat_dict, oxyyrtot = map_cat_to_int(oxyyrtot)\n",
    "    print(oxyyrtot_cat_dict)\n",
    "    print(oxyyrtot.describe())"
   ]
  },
  {
   "cell_type": "markdown",
   "metadata": {},
   "source": [
    "#### OXDAYPYR: DAYS USED OXYCONTIN \"NM\" PAST 12 MONTHS"
   ]
  },
  {
   "cell_type": "code",
   "execution_count": null,
   "metadata": {},
   "outputs": [],
   "source": [
    "if not path.exists(oxy_df_resample_file):\n",
    "    oxdaypyr = nsduh2014['oxdaypyr']\n",
    "    oxdaypyr.describe()"
   ]
  },
  {
   "cell_type": "code",
   "execution_count": null,
   "metadata": {},
   "outputs": [],
   "source": [
    "if not path.exists(oxy_df_resample_file):\n",
    "    oxdaypyr_cat_dict, oxdaypyr = map_cat_to_int(oxdaypyr)\n",
    "    print(oxdaypyr_cat_dict)\n",
    "    oxdaypyr.describe()"
   ]
  },
  {
   "cell_type": "markdown",
   "metadata": {},
   "source": [
    "### Clean and keep usable variables"
   ]
  },
  {
   "cell_type": "markdown",
   "metadata": {},
   "source": [
    "The variables that we found to have potential for analysis are `ANAlWT_C`, `AGE2`, `OXYCAGE`, `OXYCREC`, `OXYYRTOT`, and `OXYDAYPYR`. Let's clean up these variables and save them in a data frame for further analysis."
   ]
  },
  {
   "cell_type": "markdown",
   "metadata": {},
   "source": [
    "#### OXYCAGE"
   ]
  },
  {
   "cell_type": "markdown",
   "metadata": {},
   "source": [
    "First, let's replace all of the codes corresponding to missing or unusable data."
   ]
  },
  {
   "cell_type": "code",
   "execution_count": null,
   "metadata": {},
   "outputs": [],
   "source": [
    "if not path.exists(oxy_df_resample_file):\n",
    "    print(oxycage_cat_dict)"
   ]
  },
  {
   "cell_type": "markdown",
   "metadata": {},
   "source": [
    "The codes to replace with NaNs in this case are all of the 900 codes. This is because we want to know the ages at which people who HAVE used OxyContin at all tried it nonmedically for the first time."
   ]
  },
  {
   "cell_type": "code",
   "execution_count": null,
   "metadata": {},
   "outputs": [],
   "source": [
    "replace_codes = [981, 985, 991, 994, 997, 998]\n",
    "\n",
    "if not path.exists(oxy_df_resample_file):\n",
    "    oxycage = oxycage.replace(replace_codes, np.nan)"
   ]
  },
  {
   "cell_type": "markdown",
   "metadata": {},
   "source": [
    "#### OXYCREC"
   ]
  },
  {
   "cell_type": "code",
   "execution_count": null,
   "metadata": {},
   "outputs": [],
   "source": [
    "if not path.exists(oxy_df_resample_file):\n",
    "    print(oxycrec_cat_dict)"
   ]
  },
  {
   "cell_type": "markdown",
   "metadata": {},
   "source": [
    "This variable takes a little more work because of the way it is coded. There are some categories that are the same aside from if they are or aren't 'LOGICALLY ASSIGNED'. The logically assigned variables mean that the answer to the question was inferred from information from other questions. I want to group these categories together, recode some of the category numbers for easier visualization later, and replace missing or unusable data with NaNs."
   ]
  },
  {
   "cell_type": "markdown",
   "metadata": {},
   "source": [
    "First, replace all of the codes corresponding to missing data in `OXYCREC` with NaNs."
   ]
  },
  {
   "cell_type": "code",
   "execution_count": null,
   "metadata": {},
   "outputs": [],
   "source": [
    "replace_codes = [85, 97, 98]\n",
    "\n",
    "if not path.exists(oxy_df_resample_file):\n",
    "    oxycrec = mapped_oxycrec.replace(replace_codes, np.nan)"
   ]
  },
  {
   "cell_type": "markdown",
   "metadata": {},
   "source": [
    "Now, let's group the \"never used\" categories together and reassign some of the other codes for easier graphing later."
   ]
  },
  {
   "cell_type": "code",
   "execution_count": null,
   "metadata": {},
   "outputs": [],
   "source": [
    "if not path.exists(oxy_df_resample_file):\n",
    "    # Group logically assigned category with the rest of 'within 30 days'\n",
    "    oxycrec = oxycrec.replace([11], 1)\n",
    "\n",
    "    # Shift the labels of these categories for better visualization later.\n",
    "    oxycrec = oxycrec.replace([8], 4)\n",
    "    oxycrec = oxycrec.replace([9], 5)\n",
    "\n",
    "    # Group the 'never used' categories together.\n",
    "    oxycrec = oxycrec.replace([81, 91], 6)"
   ]
  },
  {
   "cell_type": "markdown",
   "metadata": {},
   "source": [
    "#### OXYYRTOT"
   ]
  },
  {
   "cell_type": "code",
   "execution_count": null,
   "metadata": {},
   "outputs": [],
   "source": [
    "if not path.exists(oxy_df_resample_file):\n",
    "    print(oxyyrtot_cat_dict)"
   ]
  },
  {
   "cell_type": "markdown",
   "metadata": {},
   "source": [
    "For this variable, I want to do two replacements. The first is to replace missing or unusable data with NaNs. The second is to replace and of the categories that indicate that someone hadn't used OxyContin in the past year with 0s."
   ]
  },
  {
   "cell_type": "markdown",
   "metadata": {},
   "source": [
    "First, replace the missing data."
   ]
  },
  {
   "cell_type": "code",
   "execution_count": null,
   "metadata": {},
   "outputs": [],
   "source": [
    "replace_codes = [985, 994, 997, 998]\n",
    "\n",
    "if not path.exists(oxy_df_resample_file):\n",
    "    oxyyrtot = oxyyrtot.replace(replace_codes, np.nan)"
   ]
  },
  {
   "cell_type": "code",
   "execution_count": null,
   "metadata": {},
   "outputs": [],
   "source": [
    "replace_codes = [981, 991, 993]\n",
    "\n",
    "if not path.exists(oxy_df_resample_file):\n",
    "    oxyyrtot = oxyyrtot.replace(replace_codes, 0)"
   ]
  },
  {
   "cell_type": "markdown",
   "metadata": {},
   "source": [
    "#### OXDAYPYR"
   ]
  },
  {
   "cell_type": "code",
   "execution_count": null,
   "metadata": {},
   "outputs": [],
   "source": [
    "if not path.exists(oxy_df_resample_file):\n",
    "    print(oxdaypyr_cat_dict)"
   ]
  },
  {
   "cell_type": "markdown",
   "metadata": {},
   "source": [
    "Finally, let's perform a similar cleaning as with `OXYYRTOT` because the variables are very similar."
   ]
  },
  {
   "cell_type": "markdown",
   "metadata": {},
   "source": [
    "Replace missing or unusable data with NaNs"
   ]
  },
  {
   "cell_type": "code",
   "execution_count": null,
   "metadata": {},
   "outputs": [],
   "source": [
    "replace_codes = [985, 989, 997, 998, 999]\n",
    "\n",
    "if not path.exists(oxy_df_resample_file):\n",
    "    oxdaypyr = oxdaypyr.replace(replace_codes, np.nan)"
   ]
  },
  {
   "cell_type": "markdown",
   "metadata": {},
   "source": [
    "Replace codes that indicate someone hasn't used in the past year or more with 0s."
   ]
  },
  {
   "cell_type": "code",
   "execution_count": null,
   "metadata": {},
   "outputs": [],
   "source": [
    "replace_codes = [981, 991, 993]\n",
    "\n",
    "if not path.exists(oxy_df_resample_file):\n",
    "    oxdaypyr = oxdaypyr.replace(replace_codes, 0)"
   ]
  },
  {
   "cell_type": "markdown",
   "metadata": {},
   "source": [
    "### Creating and Saving the DataFrame"
   ]
  },
  {
   "cell_type": "markdown",
   "metadata": {},
   "source": [
    "Now that all of the data is cleaned and converted to numerical values, we can put it all together into one data frame, adjust the weights, and save the data for fast loading later."
   ]
  },
  {
   "cell_type": "markdown",
   "metadata": {},
   "source": [
    "First, concatenate the individual series."
   ]
  },
  {
   "cell_type": "code",
   "execution_count": null,
   "metadata": {},
   "outputs": [],
   "source": [
    "if not path.exists(oxy_df_resample_file):\n",
    "    variables = [age, weight, oxycage, oxycrec, oxyyrtot, oxdaypyr]\n",
    "    oxy_df = pd.concat(variables, axis=1, sort=True)\n",
    "    oxy_df.head()"
   ]
  },
  {
   "cell_type": "markdown",
   "metadata": {},
   "source": [
    "Now, let's resample the data according to the weights. The following code was adapted from Think Stats Chapter 10.7"
   ]
  },
  {
   "cell_type": "code",
   "execution_count": null,
   "metadata": {},
   "outputs": [],
   "source": [
    "if not path.exists(oxy_df_resample_file):\n",
    "    weights = oxy_df['ANALWT_C']\n",
    "    cdf_weights = ts.Cdf(dict(weights))\n",
    "    indices = cdf_weights.Sample(len(weights))\n",
    "    oxy_df_resample = oxy_df.loc[indices]\n",
    "    oxy_df_resample.head()"
   ]
  },
  {
   "cell_type": "markdown",
   "metadata": {},
   "source": [
    "Finally, let's save the new data frame to an hdf file for quicker loading later."
   ]
  },
  {
   "cell_type": "code",
   "execution_count": null,
   "metadata": {},
   "outputs": [],
   "source": [
    "if not path.exists(oxy_df_resample_file):\n",
    "    oxy_df.to_hdf(oxy_df_file, key='oxy_df')\n",
    "    oxy_df_resample.to_hdf(oxy_df_resample_file, key='oxy_df_resample')\n",
    "else:\n",
    "    oxy_df = pd.read_hdf(oxy_df_file, key='oxy_df')\n",
    "    oxy_df = pd.read_hdf(oxy_df_resample_file, key='oxy_df_resample')"
   ]
  },
  {
   "cell_type": "markdown",
   "metadata": {},
   "source": [
    "## Look at Individual Variables"
   ]
  },
  {
   "cell_type": "markdown",
   "metadata": {},
   "source": [
    "Let's look at the individual variables first to get an idea of what questions we may be able to answer."
   ]
  },
  {
   "cell_type": "markdown",
   "metadata": {},
   "source": [
    "### AGE2"
   ]
  },
  {
   "cell_type": "markdown",
   "metadata": {},
   "source": [
    "To get a general idea of the distribution of age categories, let's look at the PMF and CDF of the raw categories."
   ]
  },
  {
   "cell_type": "code",
   "execution_count": null,
   "metadata": {},
   "outputs": [],
   "source": [
    "age_cat_dict"
   ]
  },
  {
   "cell_type": "code",
   "execution_count": null,
   "metadata": {},
   "outputs": [],
   "source": [
    "ticks = [i for i in range(1, 18)]\n",
    "labels = ['12', '13', '14', '15', '16', '17',\n",
    "          '18', '19', '20', '21', '22-23', '24-25',\n",
    "          '26-29', '30-34', '35-49', '50-64', '65+']\n",
    "\n",
    "pmf_age_cats = ts.Pmf(oxy_df_resample['AGE2'])\n",
    "\n",
    "thinkplot.Pmf(pmf_age_cats, label='AGE2')\n",
    "\n",
    "plt.xticks(ticks, labels, rotation=90)\n",
    "plt.ylabel('PMF')\n",
    "plt.xlabel('Age range (years)')\n",
    "plt.title('Respondent Ages')\n",
    "plt.legend()\n",
    "plt.savefig('figures/age2_pmf.png')\n"
   ]
  },
  {
   "cell_type": "code",
   "execution_count": null,
   "metadata": {},
   "outputs": [],
   "source": [
    "cdf_age_cats = ts.Cdf(oxy_df_resample['AGE2'])\n",
    "\n",
    "thinkplot.Cdf(cdf_age_cats, label='AGE2')\n",
    "\n",
    "plt.xticks(ticks, labels, rotation=90)\n",
    "plt.ylabel('CDF')\n",
    "plt.xlabel('Age range (years)')\n",
    "plt.title('Respondent Ages')\n",
    "plt.legend()\n",
    "plt.savefig('figures/age2_cdf.png')"
   ]
  },
  {
   "cell_type": "markdown",
   "metadata": {},
   "source": [
    "It looks like respondents are more likely to be over 35. I want to also see what this distribution looks like with the younger ages grouped together more, just to get a better sense of how many young people are represented."
   ]
  },
  {
   "cell_type": "code",
   "execution_count": null,
   "metadata": {},
   "outputs": [],
   "source": [
    "# Compress the respondents under 20 into one group, \n",
    "# and the respondents in their 20s into another group.\n",
    "group_map = {1:12, 2:12, 3:12, 4:12, 5:12, 6:12, 7:12, 8:12,\n",
    "            9:13, 10:13, 11:13, 12:13,\n",
    "            14:14, 15:15, 16:16, 17:17}\n",
    "age_grouped = oxy_df_resample['AGE2'].map(group_map)"
   ]
  },
  {
   "cell_type": "code",
   "execution_count": null,
   "metadata": {},
   "outputs": [],
   "source": [
    "ticks = [i for i in range(12, 18)]\n",
    "labels = ['12-19', '20-29', '30-34', '35-49', '50-64', '65+']\n",
    "\n",
    "pmf_age_grouped = ts.Pmf(age_grouped)\n",
    "\n",
    "thinkplot.Pmf(pmf_age_grouped, label='AGE2 Compressed Groups')\n",
    "\n",
    "plt.xticks(ticks, labels, rotation=90)\n",
    "plt.ylabel('PMF')\n",
    "plt.xlabel('Age range (years)')\n",
    "plt.title('Respondent Ages (Compressed Groups)')\n",
    "plt.legend()\n",
    "plt.savefig('figures/age2_grouped_pmf.png')"
   ]
  },
  {
   "cell_type": "code",
   "execution_count": null,
   "metadata": {},
   "outputs": [],
   "source": [
    "cdf_age_grouped = ts.Cdf(age_grouped)\n",
    "\n",
    "thinkplot.Cdf(cdf_age_grouped, label='AGE2 Compressed Groups')\n",
    "\n",
    "plt.xticks(ticks, labels, rotation=90)\n",
    "plt.ylabel('CDF')\n",
    "plt.xlabel('Age range (years)')\n",
    "plt.title('Respondent Ages (Compressed Groups)')\n",
    "plt.legend()\n",
    "plt.savefig('figures/age2_grouped_cdf.png')"
   ]
  },
  {
   "cell_type": "markdown",
   "metadata": {},
   "source": [
    "This sample looks a little more uniform in distribution now that the groups for the younger ages are larger, as can be seem by the CDF looking approximately straight."
   ]
  },
  {
   "cell_type": "markdown",
   "metadata": {},
   "source": [
    "### OXYCAGE: AGE WHEN FIRST USED OXYCONTIN NONMEDICALLY"
   ]
  },
  {
   "cell_type": "markdown",
   "metadata": {},
   "source": [
    "Just like before, let's see what the PMF and CDF of `OXYCAGE` look like to get a sense of the distribution. Recall that the cleaned data only contains valid ages, so this is only representative of people who have ever tried OxyContin non-medically in their lives."
   ]
  },
  {
   "cell_type": "code",
   "execution_count": null,
   "metadata": {},
   "outputs": [],
   "source": [
    "pmf_oxycage = ts.Pmf(oxy_df_resample['oxycage'])\n",
    "thinkplot.Pmf(pmf_oxycage, label='oxycage')\n",
    "plt.ylabel('PMF')\n",
    "plt.xlabel('Age (years)')\n",
    "plt.title(\"Age of first trying OxyContin non-medically\")\n",
    "plt.legend()\n",
    "plt.savefig('figures/oxycage_pmf.png')"
   ]
  },
  {
   "cell_type": "code",
   "execution_count": null,
   "metadata": {},
   "outputs": [],
   "source": [
    "cdf_oxycage = ts.Cdf(oxy_df_resample['oxycage'])\n",
    "thinkplot.Cdf(cdf_oxycage, label='oxycage')\n",
    "plt.ylabel('CDF')\n",
    "plt.xlabel('Age (years)')\n",
    "plt.title(\"Age of first trying OxyContin non-medically\")\n",
    "plt.legend()\n",
    "plt.savefig('figures/oxycage_cdf.png')"
   ]
  },
  {
   "cell_type": "code",
   "execution_count": null,
   "metadata": {},
   "outputs": [],
   "source": [
    "median = cdf_oxycage.Value(.5)\n",
    "iqr = cdf_oxycage.Value(0.75) - cdf_oxycage.Value(0.25)\n",
    "mean = pmf_oxycage.Mean()\n",
    "perc_25 = cdf_oxycage.Value(0.25)\n",
    "perc_75 = cdf_oxycage.Value(0.75)\n",
    "\n",
    "print(\"Median: {}, 25th Percentile: {}, 75th Percentile: {}, IQR: {}, Mean: {}\".format(median, perc_25, perc_75, iqr, mean))"
   ]
  },
  {
   "cell_type": "markdown",
   "metadata": {},
   "source": [
    "It looks like respondents who have used OxyContin non-medically are much more likely to try it in their 20s for the first time than at older ages. This is consistent with what I expected to see. I expect that young people are more likely to use medication in a way that was not directed by a doctor. I would also expect young people to experiment with more drugs based on anecdotal evidence."
   ]
  },
  {
   "cell_type": "markdown",
   "metadata": {},
   "source": [
    "The distribution is skewed right, since the median is less than the mean. This is also consistent with what I expected of this data. Very young people are probably not going to have the freedom or  wish to take drugs in a way not directed by their doctor, but people in their 30s upwards are probably more likely to be prescribed or have access to OxyContin, and they may choose to take it in a way other than prescribed."
   ]
  },
  {
   "cell_type": "markdown",
   "metadata": {},
   "source": [
    "### OXYCREC: TIME SINCE LAST USED OXYCONTIN NONMEDICALLY"
   ]
  },
  {
   "cell_type": "markdown",
   "metadata": {},
   "source": [
    "This variable gives more information about how long ago it was that people used OxyContin nonmedically, not just the age they were when they first did. This variable is representative of both people who have and haven't used OxyContin in any way in their lives."
   ]
  },
  {
   "cell_type": "markdown",
   "metadata": {},
   "source": [
    "First, let's look at the PMF of this variable."
   ]
  },
  {
   "cell_type": "code",
   "execution_count": null,
   "metadata": {},
   "outputs": [],
   "source": [
    "print(oxycrec_cat_dict)"
   ]
  },
  {
   "cell_type": "code",
   "execution_count": null,
   "metadata": {},
   "outputs": [],
   "source": [
    "ticks = [i for i in range(1, 7)]\n",
    "labels = ['Within past 30 days',\n",
    "          '30 days to 12 months ago',\n",
    "          'More than 12 months ago',\n",
    "          'Some point in past 12 months',\n",
    "          'Some point in life',\n",
    "          'Never used']\n",
    "\n",
    "pmf_oxycrec = ts.Pmf(oxy_df_resample['oxycrec'])\n",
    "thinkplot.Pmf(pmf_oxycrec, label='oxycrec')\n",
    "plt.xticks(ticks, labels, rotation=90)\n",
    "plt.ylabel('PMF')\n",
    "plt.title('Time since using OxyContin non-medically')\n",
    "plt.legend()\n",
    "\n",
    "plt.savefig('figures/oxycrec_w_nevers.png')"
   ]
  },
  {
   "cell_type": "markdown",
   "metadata": {},
   "source": [
    "Because there are so many people who have never used OxyContin, it is hard to get an idea of the distribution of people who have used it. Let's take out the last category and plot the PMF again."
   ]
  },
  {
   "cell_type": "code",
   "execution_count": null,
   "metadata": {},
   "outputs": [],
   "source": [
    "ticks = [i for i in range(1, 6)]\n",
    "labels = ['Within past 30 days',\n",
    "          '30 days to 12 months ago',\n",
    "          'More than 12 months ago',\n",
    "          'Some point in past 12 months',\n",
    "          'Some point in life']\n",
    "\n",
    "oxycrec_ever = oxy_df_resample['oxycrec'].replace([6], np.nan)\n",
    "pmf_oxycrec_ever = ts.Pmf(oxycrec_ever)\n",
    "thinkplot.Pmf(pmf_oxycrec_ever, label='oxycrec no \"nevers\"')\n",
    "plt.ylabel('PMF')\n",
    "plt.xticks(ticks, labels, rotation=90)\n",
    "plt.title('Time since using OxyContin non-medically, if ever used')\n",
    "plt.legend()\n",
    "\n",
    "plt.savefig('figures/oxycrec_wo_nevers.png')"
   ]
  },
  {
   "cell_type": "markdown",
   "metadata": {},
   "source": [
    "Out of the people who reported ever using OxyContin, an overwhelming majority used it over 12 months ago. This is consistent with the finding that respondents were much more likely to use OxyContin non-medically for the first time in their 20s coupled with the finding that a majority of the respondents were over 30 at the time of taking the survey."
   ]
  },
  {
   "cell_type": "markdown",
   "metadata": {},
   "source": [
    "### OXYYRTOT: TOTAL # DAYS USED OXYCONTIN PAST 12 MONTHS"
   ]
  },
  {
   "cell_type": "markdown",
   "metadata": {},
   "source": [
    "This variable represents the number of days in the 12 months prioir to taking the survey the respondents used OxyContin in any way, as directed by a doctor or otherwise. Recall that earlier I replaced any answers corresponding to respondents not having taken OxyContin in the last 12 months or ever in their lives with a 0."
   ]
  },
  {
   "cell_type": "code",
   "execution_count": null,
   "metadata": {},
   "outputs": [],
   "source": [
    "pmf_oxyyrtot = ts.Pmf(oxy_df_resample['oxyyrtot'])\n",
    "thinkplot.Pmf(pmf_oxyyrtot, label='oxyyrtot with 0s')\n",
    "plt.ylabel('PMF')\n",
    "plt.xlabel('Number of days')\n",
    "plt.title('Total number of days OxyContin use in the last 12 months')\n",
    "plt.legend()\n",
    "\n",
    "plt.savefig('figures/oxyyrtot_w_0s.png')"
   ]
  },
  {
   "cell_type": "markdown",
   "metadata": {},
   "source": [
    "So, as expected, there are a very large number of respondents with 0 days of use. Let's take the zeros out to get an idea of the number of days people who did use OxyContin in the last year used it."
   ]
  },
  {
   "cell_type": "code",
   "execution_count": null,
   "metadata": {},
   "outputs": [],
   "source": [
    "oxyyrtot_no_zeros = oxy_df_resample['oxyyrtot'].replace([0], np.nan)\n",
    "\n",
    "pmf_oxyyrtot = ts.Pmf(oxyyrtot_no_zeros)\n",
    "thinkplot.Pmf(pmf_oxyyrtot, label='oxyyrtot without 0s')\n",
    "plt.ylabel('PMF')\n",
    "plt.xlabel('Number of days')\n",
    "plt.title('Total number of days OxyContin use in the last 12 months, if used at all')\n",
    "plt.legend()\n",
    "\n",
    "plt.savefig('figures/oxyyrtot_wo_0s_pmf.png')"
   ]
  },
  {
   "cell_type": "code",
   "execution_count": null,
   "metadata": {},
   "outputs": [],
   "source": [
    "cdf_oxyyrtot = ts.Cdf(oxyyrtot_no_zeros)\n",
    "thinkplot.Cdf(cdf_oxyyrtot, label='oxyyrtot without 0s')\n",
    "plt.ylabel('CDF')\n",
    "plt.xlabel('Number of days')\n",
    "plt.title('Total number of days OxyContin use in the last 12 months, if used at all')\n",
    "plt.legend()\n",
    "\n",
    "plt.savefig('figures/oxyyrtot_wo_0s_pmf.png')"
   ]
  },
  {
   "cell_type": "code",
   "execution_count": null,
   "metadata": {},
   "outputs": [],
   "source": [
    "max_days = oxyyrtot_no_zeros.max()\n",
    "mean = cdf_oxyyrtot.Mean()\n",
    "median = cdf_oxyyrtot.Value(.5)\n",
    "iqr = cdf_oxyyrtot.Value(.75) - cdf_oxyyrtot.Value(.25)\n",
    "\n",
    "print('Max: {}, Mean: {}, Median: {}, IQR: {}'.format(max_days, mean, median, iqr))"
   ]
  },
  {
   "cell_type": "markdown",
   "metadata": {},
   "source": [
    "Again, these plots are consistent with what I would expect. The majority of the respondents who have ever used OxyContin used it less than two weeks out of the year. The data is skewed right with a very long tail, which makes sense because I would expect to see a smaller number of heavier users (these people may be prescribed the drug for severe chronic pain and use it as directed, or have an addiction to the drug to name a couple of scenarios for heavier use)."
   ]
  },
  {
   "cell_type": "markdown",
   "metadata": {},
   "source": [
    "### OXDAYPYR: # DAYS USED OXYCONTIN \"NM\" PAST 12 MONTHS"
   ]
  },
  {
   "cell_type": "markdown",
   "metadata": {},
   "source": [
    "Recall that `OXDAYPYR` differs from `OXYYRTOT` in that it asks how many days the respondents used OxyContin non-medically only instead of any use. Also recall that I replaced the same categories as with `OXYYRTOT` with 0s. I expect to see more 0s in the PMF of this variable, so we probably will have to look at the PMF for only people who have used OxyContin nonmedically in the past 12 months."
   ]
  },
  {
   "cell_type": "code",
   "execution_count": null,
   "metadata": {},
   "outputs": [],
   "source": [
    "pmf_oxdaypyr = ts.Pmf(oxy_df_resample['oxdaypyr'])\n",
    "thinkplot.Pmf(pmf_oxdaypyr, label='oxdaypyr')\n",
    "plt.ylabel('PMF')\n",
    "plt.xlabel('Number of days')\n",
    "plt.title('Total number of days OxyContin non-medical use in the last 12 months')\n",
    "plt.legend()\n",
    "\n",
    "plt.savefig('figures/oxdaypyr_w_0s_pmf.png')"
   ]
  },
  {
   "cell_type": "markdown",
   "metadata": {},
   "source": [
    "As expected, the 0s dominate the pmf. Let's take a look at only the respondents who did use OxyContin non-medically in the 12 months prior to taking the survey."
   ]
  },
  {
   "cell_type": "code",
   "execution_count": null,
   "metadata": {},
   "outputs": [],
   "source": [
    "oxdaypyr_no_zeros = oxy_df_resample['oxdaypyr'].replace([0], np.nan)\n",
    "\n",
    "pmf_oxdaypyr = ts.Pmf(oxdaypyr_no_zeros)\n",
    "thinkplot.Pmf(pmf_oxdaypyr, label='oxdaypyr without zeros')\n",
    "plt.ylabel('PMF')\n",
    "plt.xlabel('Number of days')\n",
    "plt.title('Total number of days OxyContin non-medical use in the last 12 months, if used at all')\n",
    "plt.legend()\n",
    "\n",
    "plt.savefig('figures/oxdaypyr_wo_0s_pmf.png')"
   ]
  },
  {
   "cell_type": "code",
   "execution_count": null,
   "metadata": {},
   "outputs": [],
   "source": [
    "cdf_oxdaypyr = ts.Cdf(oxdaypyr_no_zeros)\n",
    "thinkplot.Cdf(cdf_oxdaypyr, label='oxdaypyr without zeros')\n",
    "plt.ylabel('CDF')\n",
    "plt.xlabel('Number of days')\n",
    "plt.title('Total number of days OxyContin non-medical use in the last 12 months, if used at all')\n",
    "plt.legend()\n",
    "\n",
    "plt.savefig('figures/oxdaypyr_wo_0s_cdf.png')"
   ]
  },
  {
   "cell_type": "code",
   "execution_count": null,
   "metadata": {},
   "outputs": [],
   "source": [
    "max_days = oxdaypyr_no_zeros.max()\n",
    "mean = cdf_oxdaypyr.Mean()\n",
    "median = cdf_oxdaypyr.Value(.5)\n",
    "iqr = cdf_oxdaypyr.Value(.75) - cdf_oxdaypyr.Value(.25)\n",
    "\n",
    "print('Max: {}, Mean: {}, Median: {}, IQR: {}'.format(max_days, mean, median, iqr))"
   ]
  },
  {
   "cell_type": "markdown",
   "metadata": {},
   "source": [
    "Like the distribution for `OXYYRTOT`, this distribution is also skewed right. The majority of people who took OxyContin non-medically in the past 12 months took it for less than a week total. It is interesting to note that the maximum number of days respondents took it non-medically is 50, as opposed to 360 in the previous section. I can imagine a couple of reasons why. One is that people who used OxyContin non-medically had a prescription, or knew someone with a prescription, and they may have used it non-medically for a temporary severe pain they were experiencing instead of going to the doctor. I have anecdotal evidence from several aquaintences that is consistent with this guess. Another reason may be that it is more difficult to obtain OxyContin so regularly without a prescription, so people are much less likely to use the drug frequently unless they have a medical reason to use it. A final reason may be that OxyContin is very strong, and people with opioid dependencies may be more likely to use a less strong drug more frequently. This would require more data on other types of opioids to test."
   ]
  },
  {
   "cell_type": "markdown",
   "metadata": {},
   "source": [
    "## Relationships by Age"
   ]
  },
  {
   "cell_type": "markdown",
   "metadata": {},
   "source": [
    "I want to see if there is a relationship between the age of respondents and the age that the respondents reported first trying OxyContin non medically for the first time. I think this could provide some insights into if there is an increasing problem with non-medical OxyContin use, and if there is, which age group is most at risk."
   ]
  },
  {
   "cell_type": "markdown",
   "metadata": {},
   "source": [
    "Let's take a look at the CDFs of `OXYCAGE` for the age groups I defined earlier. Recall that I grouped all respondents under 20 into one group, and I grouped all respondents in their 20s together into another age group."
   ]
  },
  {
   "cell_type": "code",
   "execution_count": null,
   "metadata": {},
   "outputs": [],
   "source": [
    "# Print categories for reference.\n",
    "print(age_cat_dict)"
   ]
  },
  {
   "cell_type": "code",
   "execution_count": null,
   "metadata": {},
   "outputs": [],
   "source": [
    "# Select rows based on age groups.\n",
    "oxycage_under_20 = oxy_df_resample[(oxy_df_resample['AGE2'] < 9)]\n",
    "oxycage_20s = oxy_df_resample[(oxy_df_resample['AGE2'] >= 9) & (oxy_df_resample['AGE2'] < 14)]\n",
    "oxycage_30_34 = oxy_df_resample[(oxy_df_resample['AGE2'] == 14)]\n",
    "oxycage_35_49 = oxy_df_resample[(oxy_df_resample['AGE2'] == 15)]\n",
    "oxycage_50_64 = oxy_df_resample[(oxy_df_resample['AGE2'] == 16)]\n",
    "oxycage_65 = oxy_df_resample[(oxy_df_resample['AGE2'] == 17)]"
   ]
  },
  {
   "cell_type": "code",
   "execution_count": null,
   "metadata": {},
   "outputs": [],
   "source": [
    "def create_cdf_oxycage(df, label, age_range_string, figure_name):\n",
    "    \"\"\"Make and format a CDF plot of oxycage for an age group\n",
    "    \n",
    "    Args:\n",
    "        df: A dataframe of selected rows for the desired age group.\n",
    "        label: The label for the plot legend.\n",
    "        age_range_string: An age range to use for formatting the\n",
    "            title of the plot.\n",
    "        figure_name: The file name of the saved figure. Does not\n",
    "            include the directory or file extension.\n",
    "    \"\"\"\n",
    "    cdf = ts.Cdf(df['oxycage'])\n",
    "    thinkplot.Cdf(cdf, label=label)\n",
    "    plt.ylabel('CDF')\n",
    "    plt.xlabel('Age (years)')\n",
    "    plt.title('Age of first using OxyContin non-medically for ages {}'.format(age_range_string))\n",
    "    plt.legend()\n",
    "    plt.savefig('figures/{}.png'.format(figure_name))\n",
    "    \n",
    "    min_age = df['oxycage'].min()\n",
    "    max_age = df['oxycage'].max()\n",
    "    mean = cdf.Mean()\n",
    "    median = cdf.Value(.5)\n",
    "    iqr = cdf.Value(.75) - cdf.Value(.25)\n",
    "    \n",
    "    print(\"Min: {}, Max: {}, Mean: {}, Median {}, IQR: {}\".format(min_age, max_age, mean, median, iqr))"
   ]
  },
  {
   "cell_type": "code",
   "execution_count": null,
   "metadata": {},
   "outputs": [],
   "source": [
    "create_cdf_oxycage(oxycage_under_20, 'oxycage_under_20', '12 - 19', 'oxycage_under_20')"
   ]
  },
  {
   "cell_type": "code",
   "execution_count": null,
   "metadata": {},
   "outputs": [],
   "source": [
    "create_cdf_oxycage(oxycage_20s, 'oxycage_20s', '20-29', 'oxycage_20s')"
   ]
  },
  {
   "cell_type": "code",
   "execution_count": null,
   "metadata": {},
   "outputs": [],
   "source": [
    "create_cdf_oxycage(oxycage_30_34, 'oxycage_30_34', '30 - 34', 'oxycage_30_34')"
   ]
  },
  {
   "cell_type": "code",
   "execution_count": null,
   "metadata": {},
   "outputs": [],
   "source": [
    "create_cdf_oxycage(oxycage_35_49, 'oxycage_35_49', '35 - 49', 'oxycage_35_49')"
   ]
  },
  {
   "cell_type": "code",
   "execution_count": null,
   "metadata": {},
   "outputs": [],
   "source": [
    "create_cdf_oxycage(oxycage_50_64, 'oxycage_50_64', '50 - 64', 'oxycage_50_64')"
   ]
  },
  {
   "cell_type": "code",
   "execution_count": null,
   "metadata": {},
   "outputs": [],
   "source": [
    "create_cdf_oxycage(oxycage_65, 'oxycage_65', 'over 65', 'oxycage_65')"
   ]
  },
  {
   "cell_type": "markdown",
   "metadata": {},
   "source": [
    "There are some aspects of these CDFs that are expected. The first is that the maximum age increases with the ages represented. This makes sense because of the upper bounds of the age range. People cannot report having tried OxyContin non-medically for the first time at an age greater than the age they were when they took the survey. It might be worth noting that the three youngest age groups have a maximum that is within 1 year of the oldest respondents in the group, and the three older age groups have a larger gap between the maximum value and the oldest age represented by the group. This is consistent with the fact that people are more likely to try OxyContin non-medically for the first time in their 20s.\n",
    "\n",
    "The plot below shows that these differences increase with older age groups. Please note that the last data point is based on the minimum age of the last age group because it does not have an upper bound. The plot is merely illustrative of the magnitude of the differences."
   ]
  },
  {
   "cell_type": "code",
   "execution_count": null,
   "metadata": {},
   "outputs": [],
   "source": [
    "max_ages = np.array([19, 29, 34, 49, 64, 65])\n",
    "max_values = np.array([19, 28, 34, 45, 57, 60])\n",
    "\n",
    "plt.scatter(max_ages, max_ages - max_values)\n",
    "plt.ylabel('Difference in max \"oxycage\" and max age in age range')\n",
    "plt.xlabel('Max age in age range')"
   ]
  },
  {
   "cell_type": "markdown",
   "metadata": {},
   "source": [
    "Another aspect of the CDFs to point out is that the distributions for age ranges 20-29, 30-34, and 35-49 all appear to be roughly the same shape. This is also expected because these groups are young enough to have tried OxyContin for the first time in the IQR of ages that all respondents have tried OxyContin non-medically for the first time. The FDA approved OxyContin in 1995 ([source](https://www.fda.gov/drugs/drugsafety/informationbydrugclass/ucm338566.htm)). So, someone who was 34 years old in 2014 would have been about 15 in 1995."
   ]
  },
  {
   "cell_type": "markdown",
   "metadata": {},
   "source": [
    "Interestingly, all age groups have a minimum between 10 and 13, except for the oldest group. So, that indicates that some participants reported trying the drug before it was available. The wording of the question, according to the codebook, is \"How old were you the first time you used OxyContin that was not prescribed for you or that you took only for the experience or feeling it caused?\""
   ]
  },
  {
   "cell_type": "markdown",
   "metadata": {},
   "source": [
    "Another interesting point about the minimums of these age groups is that the youngest age group also has the smallest minimum, at 10. I think if I were to look at multiple years of the NSDUH survey, I would investigate if this minimum is consistently smaller than the minimums of the other age groups. If it is, and this is a statistically significant result, that might indicate that people are trying OxyContin at increasingly younger ages."
   ]
  },
  {
   "cell_type": "markdown",
   "metadata": {},
   "source": [
    "## Non-medical vs Medical Use by Respondents\n",
    "For respondents who have ever used oxy, make a scatter plot of days using it nonmedically vs days using it medically (subtract)"
   ]
  },
  {
   "cell_type": "markdown",
   "metadata": {},
   "source": [
    "I noted earlier that the variables `OXYYRTOT` (any OxyContin use in the past 12 months) and `OXDAYPYR` (non-medical OxyContin use in the past 12 months) follow similar patterns, but the maximum and median number of days that people used OxyContin non-medically is smaller than for any OxyContin use. I think that there could be a relationship between these two variables. Let's take a look at the scatter plot of `OXDAYPYR` (for respondents who used OxyContin in the past year) vs `OXYYRTOT` for respondents"
   ]
  },
  {
   "cell_type": "code",
   "execution_count": null,
   "metadata": {},
   "outputs": [],
   "source": [
    "subset = oxy_df_resample.dropna(subset=['oxyyrtot', 'oxdaypyr'])\n",
    "oxyyrtot = subset['oxyyrtot'].replace([0], np.nan)\n",
    "oxdaypyr = subset['oxdaypyr'].replace([0], np.nan)\n",
    "print(oxyyrtot.max())\n",
    "\n",
    "plt.scatter(oxyyrtot, oxdaypyr, alpha=0.25)"
   ]
  },
  {
   "cell_type": "code",
   "execution_count": null,
   "metadata": {},
   "outputs": [],
   "source": [
    "plt.scatter(oxyyrtot, oxyyrtot - oxdaypyr, alpha=0.25)"
   ]
  },
  {
   "cell_type": "markdown",
   "metadata": {},
   "source": [
    "This relationship looks surprisingly linear, which indicates that the people who answered a number of days for both questions tended to answer the same number of days. I was expecting to see that some people would have used OxyContin both medically and non-medically, so I'm surprised by this. I don't think I have sufficient data to further explore this question, but if I were to explore multiple years of NSDUH data in the future, I would revisit this question to see if this is consistent across years."
   ]
  }
 ],
 "metadata": {
  "kernelspec": {
   "display_name": "python3",
   "language": "python",
   "name": "python3"
  },
  "language_info": {
   "codemirror_mode": {
    "name": "ipython",
    "version": 3
   },
   "file_extension": ".py",
   "mimetype": "text/x-python",
   "name": "python",
   "nbconvert_exporter": "python",
   "pygments_lexer": "ipython3",
   "version": "3.6.7"
  }
 },
 "nbformat": 4,
 "nbformat_minor": 2
}
