{
 "cells": [
  {
   "cell_type": "markdown",
   "metadata": {},
   "source": [
    "# Exploring Trends in the NSDUH Data Set"
   ]
  },
  {
   "cell_type": "code",
   "execution_count": 191,
   "metadata": {},
   "outputs": [],
   "source": [
    "import pandas as pd\n",
    "import numpy as np\n",
    "import matplotlib.pyplot as plt\n",
    "import seaborn as sns\n",
    "sns.set(style='white')\n",
    "\n",
    "import thinkstats2 as ts\n",
    "import thinkplot"
   ]
  },
  {
   "cell_type": "markdown",
   "metadata": {},
   "source": [
    "For this project, I'm exploring 11 years of NSDUH data to look for trends in oxycodone use.\n",
    "\n",
    "The survey series can be found on the [SAMHDA website](https://www.datafiles.samhsa.gov/study-series/national-survey-drug-use-and-health-nsduh-nid13517).\n",
    "\n",
    "The codebooks can be found by clicking through the [NSDUH page on SAMHDA](https://www.datafiles.samhsa.gov/study-series/national-survey-drug-use-and-health-nsduh-nid13517)\n",
    "\n",
    "The terms of use for this data can be found on the [SAMHDA website](https://www.datafiles.samhsa.gov/info/terms-use-nid3422)"
   ]
  },
  {
   "cell_type": "code",
   "execution_count": 80,
   "metadata": {},
   "outputs": [],
   "source": [
    "def add_year_column(year, df):\n",
    "    \"\"\"Add a column 'year' to a dataframe for identification purposes.\n",
    "    \n",
    "    Args:\n",
    "        year (int): The year value of the column.\n",
    "        df (pandas dataframe): The dataframe to add the column to.\n",
    "    \"\"\"\n",
    "    year_arr = np.ones(df.shape[0], dtype=np.int16) * year\n",
    "    year_col = pd.Series(year_arr, df.index)\n",
    "    df['year'] = year_col"
   ]
  },
  {
   "cell_type": "code",
   "execution_count": 81,
   "metadata": {},
   "outputs": [],
   "source": [
    "# Load the data. Each survey year is stored as its own key in the hdf file.\n",
    "# See import_data.py for information on how the data was saved.\n",
    "nsduh2007 = pd.read_hdf('nsduh.hdf5', 'NSDUH_2007')\n",
    "nsduh2008 = pd.read_hdf('nsduh.hdf5', 'NSDUH_2008')\n",
    "nsduh2009 = pd.read_hdf('nsduh.hdf5', 'NSDUH_2009')\n",
    "nsduh2010 = pd.read_hdf('nsduh.hdf5', 'NSDUH_2010')\n",
    "nsduh2011 = pd.read_hdf('nsduh.hdf5', 'NSDUH_2011')\n",
    "nsduh2012 = pd.read_hdf('nsduh.hdf5', 'NSDUH_2012')\n",
    "nsduh2013 = pd.read_hdf('nsduh.hdf5', 'NSDUH_2013')\n",
    "nsduh2014 = pd.read_hdf('nsduh.hdf5', 'NSDUH_2014')\n",
    "nsduh2015 = pd.read_hdf('nsduh.hdf5', 'NSDUH_2015')\n",
    "nsduh2016 = pd.read_hdf('nsduh.hdf5', 'NSDUH_2016')\n",
    "nsduh2017 = pd.read_hdf('nsduh.hdf5', 'NSDUH_2017')\n",
    "\n",
    "nsduh_all_years = [nsduh2007,\n",
    "                   nsduh2008,\n",
    "                   nsduh2009,\n",
    "                   nsduh2010,\n",
    "                   nsduh2011,\n",
    "                   nsduh2012,\n",
    "                   nsduh2013,\n",
    "                   nsduh2014,\n",
    "                   nsduh2015,\n",
    "                   nsduh2016,\n",
    "                   nsduh2017]\n",
    "\n",
    "for year, df in zip(range(2007, 2018), nsduh_all_years):\n",
    "    add_year_column(year, df)"
   ]
  },
  {
   "cell_type": "code",
   "execution_count": 82,
   "metadata": {},
   "outputs": [
    {
     "data": {
      "text/plain": [
       "2008"
      ]
     },
     "execution_count": 82,
     "metadata": {},
     "output_type": "execute_result"
    }
   ],
   "source": [
    "nsduh2008['year'][0]"
   ]
  },
  {
   "cell_type": "markdown",
   "metadata": {},
   "source": [
    "## Perscription Opiods\n",
    "The most common opiods incvolved in perscription overdose death are Metadone, Oxycodone, and Hydrocodone [according to the CDC](https://www.cdc.gov/drugoverdose/opioids/prescribed.html). I'm going to specifically look at oxycontin because the NSDUH survey provides the most questions targetted at its use as a painkiller."
   ]
  },
  {
   "cell_type": "markdown",
   "metadata": {},
   "source": [
    "### Prepare the data"
   ]
  },
  {
   "cell_type": "code",
   "execution_count": 87,
   "metadata": {},
   "outputs": [
    {
     "data": {
      "text/html": [
       "<div>\n",
       "<style scoped>\n",
       "    .dataframe tbody tr th:only-of-type {\n",
       "        vertical-align: middle;\n",
       "    }\n",
       "\n",
       "    .dataframe tbody tr th {\n",
       "        vertical-align: top;\n",
       "    }\n",
       "\n",
       "    .dataframe thead th {\n",
       "        text-align: right;\n",
       "    }\n",
       "</style>\n",
       "<table border=\"1\" class=\"dataframe\">\n",
       "  <thead>\n",
       "    <tr style=\"text-align: right;\">\n",
       "      <th></th>\n",
       "      <th>oxycage</th>\n",
       "      <th>oxycmfu</th>\n",
       "    </tr>\n",
       "  </thead>\n",
       "  <tbody>\n",
       "    <tr>\n",
       "      <th>0</th>\n",
       "      <td>48</td>\n",
       "      <td>15</td>\n",
       "    </tr>\n",
       "    <tr>\n",
       "      <th>1</th>\n",
       "      <td>48</td>\n",
       "      <td>15</td>\n",
       "    </tr>\n",
       "    <tr>\n",
       "      <th>2</th>\n",
       "      <td>48</td>\n",
       "      <td>15</td>\n",
       "    </tr>\n",
       "    <tr>\n",
       "      <th>3</th>\n",
       "      <td>48</td>\n",
       "      <td>15</td>\n",
       "    </tr>\n",
       "    <tr>\n",
       "      <th>4</th>\n",
       "      <td>48</td>\n",
       "      <td>15</td>\n",
       "    </tr>\n",
       "  </tbody>\n",
       "</table>\n",
       "</div>"
      ],
      "text/plain": [
       "   oxycage  oxycmfu\n",
       "0       48       15\n",
       "1       48       15\n",
       "2       48       15\n",
       "3       48       15\n",
       "4       48       15"
      ]
     },
     "execution_count": 87,
     "metadata": {},
     "output_type": "execute_result"
    }
   ],
   "source": [
    "df = nsduh2007[['oxycage', 'oxycmfu']]\n",
    "df.head()"
   ]
  },
  {
   "cell_type": "markdown",
   "metadata": {},
   "source": [
    "For years 2007 to 2014, the questions pertaining to oxycontin use are:\n",
    "\n",
    "* 'oxycage': age when first used oxy nonmedically\n",
    "* 'oxycrec': time since last used oxy nonmediacally\n",
    "* 'oxyyrtot': total number of days used oxy in last 12 months\n",
    "* 'oxdaypyr': total number of days used oxy nonmedically in last 12 months\n",
    "\n",
    "For years 2015 to 2017, the questions pertaining to oxycontin use are:\n",
    "\n",
    "* 'oxcnnmage': used oxy in not directed by doctor in last 12 months\n",
    "\n",
    "First, I want to make a dataframe containing these categories for all years. Then, I'll go back and clean it up."
   ]
  },
  {
   "cell_type": "code",
   "execution_count": 197,
   "metadata": {},
   "outputs": [
    {
     "data": {
      "text/html": [
       "<div>\n",
       "<style scoped>\n",
       "    .dataframe tbody tr th:only-of-type {\n",
       "        vertical-align: middle;\n",
       "    }\n",
       "\n",
       "    .dataframe tbody tr th {\n",
       "        vertical-align: top;\n",
       "    }\n",
       "\n",
       "    .dataframe thead th {\n",
       "        text-align: right;\n",
       "    }\n",
       "</style>\n",
       "<table border=\"1\" class=\"dataframe\">\n",
       "  <thead>\n",
       "    <tr style=\"text-align: right;\">\n",
       "      <th></th>\n",
       "      <th>oxcnnmage</th>\n",
       "      <th>oxdaypyr</th>\n",
       "      <th>oxycage</th>\n",
       "      <th>oxycrec</th>\n",
       "      <th>oxyyrtot</th>\n",
       "      <th>year</th>\n",
       "    </tr>\n",
       "  </thead>\n",
       "  <tbody>\n",
       "    <tr>\n",
       "      <th>0</th>\n",
       "      <td>NaN</td>\n",
       "      <td>31.0</td>\n",
       "      <td>48.0</td>\n",
       "      <td>7.0</td>\n",
       "      <td>75.0</td>\n",
       "      <td>2007</td>\n",
       "    </tr>\n",
       "    <tr>\n",
       "      <th>1</th>\n",
       "      <td>NaN</td>\n",
       "      <td>31.0</td>\n",
       "      <td>48.0</td>\n",
       "      <td>7.0</td>\n",
       "      <td>75.0</td>\n",
       "      <td>2007</td>\n",
       "    </tr>\n",
       "    <tr>\n",
       "      <th>2</th>\n",
       "      <td>NaN</td>\n",
       "      <td>31.0</td>\n",
       "      <td>48.0</td>\n",
       "      <td>7.0</td>\n",
       "      <td>75.0</td>\n",
       "      <td>2007</td>\n",
       "    </tr>\n",
       "    <tr>\n",
       "      <th>3</th>\n",
       "      <td>NaN</td>\n",
       "      <td>31.0</td>\n",
       "      <td>48.0</td>\n",
       "      <td>7.0</td>\n",
       "      <td>75.0</td>\n",
       "      <td>2007</td>\n",
       "    </tr>\n",
       "    <tr>\n",
       "      <th>4</th>\n",
       "      <td>NaN</td>\n",
       "      <td>31.0</td>\n",
       "      <td>48.0</td>\n",
       "      <td>7.0</td>\n",
       "      <td>75.0</td>\n",
       "      <td>2007</td>\n",
       "    </tr>\n",
       "  </tbody>\n",
       "</table>\n",
       "</div>"
      ],
      "text/plain": [
       "   oxcnnmage  oxdaypyr  oxycage  oxycrec  oxyyrtot  year\n",
       "0        NaN      31.0     48.0      7.0      75.0  2007\n",
       "1        NaN      31.0     48.0      7.0      75.0  2007\n",
       "2        NaN      31.0     48.0      7.0      75.0  2007\n",
       "3        NaN      31.0     48.0      7.0      75.0  2007\n",
       "4        NaN      31.0     48.0      7.0      75.0  2007"
      ]
     },
     "execution_count": 197,
     "metadata": {},
     "output_type": "execute_result"
    }
   ],
   "source": [
    "opioids = []\n",
    "for nsduh in nsduh_all_years:\n",
    "    if nsduh['year'][0] < 2015:\n",
    "        columns = ['oxycage', 'oxycrec', 'oxyyrtot', 'oxdaypyr', 'year']\n",
    "        opioids.append(nsduh.dropna(subset=columns)[columns])\n",
    "    else:\n",
    "        columns = ['oxcnnmage', 'year']\n",
    "        opioids.append(nsduh.dropna(subset=columns)[columns])\n",
    "opioids[0].head()\n",
    "opioid_df = pd.concat(opioids, sort=True)\n",
    "opioid_df.head()"
   ]
  },
  {
   "cell_type": "code",
   "execution_count": 198,
   "metadata": {},
   "outputs": [],
   "source": [
    "def clean_opioid_df(df):\n",
    "    \"\"\"Replace unwanted data codes with NaNs.\n",
    "    Args:\n",
    "        df (pandas data frame): A dataframe containing nsduh opioid data.\n",
    "    \"\"\"\n",
    "    df['oxcnnmage'].replace([991, 993, 994, 997, 998], np.nan)\n",
    "    df['oxycage'].replace([981, 985, 991, 994, 997, 998], np.nan)\n",
    "    df['oxycrec'].replace([97, 98], np.nan)\n",
    "    df['oxyyrtot'].replace([981, 985, 994, 997, 998], np.nan)\n",
    "    df['oxyyrtot'].replace([981, 991, 993], 0)\n",
    "    df['oxdaypyr'].replace([985, 989, 994, 997, 998, 999], np.nan)\n",
    "    df['oxdaypyr'].replace([981, 991, 993], 0)\n",
    "    \n",
    "clean_opioid_df(opioid_df)    "
   ]
  },
  {
   "cell_type": "markdown",
   "metadata": {},
   "source": [
    "Let's look at the variables."
   ]
  },
  {
   "cell_type": "code",
   "execution_count": 199,
   "metadata": {},
   "outputs": [
    {
     "name": "stdout",
     "output_type": "stream",
     "text": [
      "count    170319.000000\n",
      "mean         45.848496\n",
      "std           4.161621\n",
      "min           0.000000\n",
      "25%          42.000000\n",
      "50%          48.000000\n",
      "75%          48.000000\n",
      "max          52.000000\n",
      "Name: oxcnnmage, dtype: float64 \n",
      "\n",
      "count    446802.000000\n",
      "mean         32.862548\n",
      "std           6.173941\n",
      "min           0.000000\n",
      "25%          28.000000\n",
      "50%          32.000000\n",
      "75%          37.000000\n",
      "max          48.000000\n",
      "Name: oxdaypyr, dtype: float64 \n",
      "\n",
      "count    446802.000000\n",
      "mean         49.081560\n",
      "std           6.996077\n",
      "min           0.000000\n",
      "25%          49.000000\n",
      "50%          50.000000\n",
      "75%          51.000000\n",
      "max          57.000000\n",
      "Name: oxycage, dtype: float64 \n",
      "\n",
      "count    446802.000000\n",
      "mean          6.887626\n",
      "std           1.168496\n",
      "min           0.000000\n",
      "25%           7.000000\n",
      "50%           7.000000\n",
      "75%           7.000000\n",
      "max          10.000000\n",
      "Name: oxycrec, dtype: float64 \n",
      "\n",
      "count    446802.000000\n",
      "mean         73.199059\n",
      "std           9.219310\n",
      "min           0.000000\n",
      "25%          68.000000\n",
      "50%          73.000000\n",
      "75%          77.000000\n",
      "max          90.000000\n",
      "Name: oxyyrtot, dtype: float64 \n",
      "\n",
      "count    617121.000000\n",
      "mean       2012.018956\n",
      "std           3.156926\n",
      "min        2007.000000\n",
      "25%        2009.000000\n",
      "50%        2012.000000\n",
      "75%        2015.000000\n",
      "max        2017.000000\n",
      "Name: year, dtype: float64 \n",
      "\n"
     ]
    }
   ],
   "source": [
    "for col in opioid_df.columns:\n",
    "    print(opioid_df[col].describe(), '\\n')"
   ]
  },
  {
   "cell_type": "markdown",
   "metadata": {},
   "source": [
    "### Age when first tried oxycontin nonmedically"
   ]
  },
  {
   "cell_type": "markdown",
   "metadata": {},
   "source": [
    "I'm interested in looking at when people typically try oxycontin nonmedically for the first time. The plots below are only representative of the people who had tried oxycontin in their lives."
   ]
  },
  {
   "cell_type": "markdown",
   "metadata": {},
   "source": [
    "#### Survey years 2007 to 2014"
   ]
  },
  {
   "cell_type": "code",
   "execution_count": 104,
   "metadata": {},
   "outputs": [
    {
     "data": {
      "text/plain": [
       "Text(0, 0.5, 'Count')"
      ]
     },
     "execution_count": 104,
     "metadata": {},
     "output_type": "execute_result"
    },
    {
     "data": {
      "image/png": "[encoded data removed]",
      "text/plain": [
       "<Figure size 432x288 with 1 Axes>"
      ]
     },
     "metadata": {
      "needs_background": "light"
     },
     "output_type": "display_data"
    }
   ],
   "source": [
    "hist_age = ts.Hist(opioid_df['oxycage'])\n",
    "thinkplot.hist(hist_age)\n",
    "plt.title(\"Age of trying oxycontin (surveys 2007 - 2014)\")\n",
    "plt.xlabel(\"Years\")\n",
    "plt.ylabel(\"Count\")"
   ]
  },
  {
   "cell_type": "markdown",
   "metadata": {},
   "source": [
    "It looks like the majority of people are middle aged when they try oxycontin nonmedically. I'm not surprised by this fact, based on the age I expect people to be when they are perscribed painkillers for injuries. It's interesting that there is a small section of the histogram centered around 10 years. I'm surprised to see this. My guess would be that the people who tried it when they were extremely young were given it by their parents. I'm less surprised to see some people trying it in their teens, but I might have expected the count to be higher for this age group."
   ]
  },
  {
   "cell_type": "markdown",
   "metadata": {},
   "source": [
    "Let's look at the PMF and CDF of the same information."
   ]
  },
  {
   "cell_type": "code",
   "execution_count": 175,
   "metadata": {},
   "outputs": [
    {
     "data": {
      "text/plain": [
       "Text(0, 0.5, 'PMF')"
      ]
     },
     "execution_count": 175,
     "metadata": {},
     "output_type": "execute_result"
    },
    {
     "data": {
      "image/png": "[encoded data removed]",
      "text/plain": [
       "<Figure size 432x288 with 1 Axes>"
      ]
     },
     "metadata": {
      "needs_background": "light"
     },
     "output_type": "display_data"
    }
   ],
   "source": [
    "pmf_age = ts.Pmf(opioid_df['oxycage'])\n",
    "thinkplot.Pmf(pmf_agcdf_age = ts.Cdf(opioid_df['oxycage'])\n",
    "thinkplot.Cdf(cdf_age)\n",
    "plt.title(\"Age of trying oxycontin nonmedically\")\n",
    "plt.xlabel(\"Years\")e)\n",
    "plt.title(\"Age of trying oxycontin nonmedically\")\n",
    "plt.xlabel(\"Years\")\n",
    "plt.ylabel(\"PMF\")"
   ]
  },
  {
   "cell_type": "code",
   "execution_count": 174,
   "metadata": {},
   "outputs": [
    {
     "data": {
      "text/plain": [
       "Text(0, 0.5, 'PMF')"
      ]
     },
     "execution_count": 174,
     "metadata": {},
     "output_type": "execute_result"
    },
    {
     "data": {
      "image/png": "[encoded data removed]",
      "text/plain": [
       "<Figure size 432x288 with 1 Axes>"
      ]
     },
     "metadata": {
      "needs_background": "light"
     },
     "output_type": "display_data"
    }
   ],
   "source": [
    "cdf_age = ts.Cdf(opioid_df['oxycage'])\n",
    "thinkplot.Cdf(cdf_age)\n",
    "plt.title(\"Age of trying oxycontin nonmedically\")\n",
    "plt.xlabel(\"Years\")\n",
    "plt.ylabel(\"PMF\")"
   ]
  },
  {
   "cell_type": "markdown",
   "metadata": {},
   "source": [
    "These plots confirm what I saw in the histogram. Someone who is over 50 is much more likely to have tried oxycontin nonmedically than younger people."
   ]
  },
  {
   "cell_type": "markdown",
   "metadata": {},
   "source": [
    "#### Survey years 2015 to 2017"
   ]
  },
  {
   "cell_type": "markdown",
   "metadata": {},
   "source": [
    "Let's take a look at the more recent surveys."
   ]
  },
  {
   "cell_type": "code",
   "execution_count": 113,
   "metadata": {},
   "outputs": [
    {
     "data": {
      "text/plain": [
       "Text(0.5, 0, 'year')"
      ]
     },
     "execution_count": 113,
     "metadata": {},
     "output_type": "execute_result"
    },
    {
     "data": {
      "image/png": "[encoded data removed]",
      "text/plain": [
       "<Figure size 432x288 with 1 Axes>"
      ]
     },
     "metadata": {
      "needs_background": "light"
     },
     "output_type": "display_data"
    }
   ],
   "source": [
    "hist_age = ts.Hist(opioid_df['oxcnnmage'])\n",
    "thinkplot.hist(hist_age)\n",
    "plt.title(\"Age of trying oxycontin (surveys 2015 - 2017)\")\n",
    "plt.ylabel('count')\n",
    "plt.xlabel('year')"
   ]
  },
  {
   "cell_type": "code",
   "execution_count": 114,
   "metadata": {},
   "outputs": [
    {
     "data": {
      "text/plain": [
       "Text(0.5, 0, 'year')"
      ]
     },
     "execution_count": 114,
     "metadata": {},
     "output_type": "execute_result"
    },
    {
     "data": {
      "image/png": "[encoded data removed]",
      "text/plain": [
       "<Figure size 432x288 with 1 Axes>"
      ]
     },
     "metadata": {
      "needs_background": "light"
     },
     "output_type": "display_data"
    }
   ],
   "source": [
    "cdf_age = ts.Cdf(opioid_df['oxcnnmage'])\n",
    "thinkplot.cdf(cdf_age)\n",
    "plt.title(\"Age of trying oxycontin nonmedically (surveys 2015 - 2017)\")\n",
    "plt.ylabel(\"CDF\")\n",
    "plt.xlabel(\"year\")"
   ]
  },
  {
   "cell_type": "markdown",
   "metadata": {},
   "source": [
    "This data, although much more sparse, seems to follow the same trends as the data from the older surveys. It looks like we're going to have to combine these columns in order to see the full picture."
   ]
  },
  {
   "cell_type": "markdown",
   "metadata": {},
   "source": [
    "#### All survey years\n",
    "\n",
    "In the 2007 through 2014 surveys, the 'oxycage' category contains the answers to the question *\"How long has it been since you last used OxyContin that was not prescribed for you or that you took only for the experience or feeling it caused?\"*\n",
    "\n",
    "In the 2015 through 2017 surveys, the 'oxcnnmage' category contains the answers to the question *\"How old were you when you first used OxyContin in a way a doctor did not direct you to use it?\"*\n",
    "\n",
    "I'm combining these answers into one column named 'agefirst' to get a fuller picture of the age at which respondants first tried oxycontin across all surveys."
   ]
  },
  {
   "cell_type": "code",
   "execution_count": 203,
   "metadata": {},
   "outputs": [
    {
     "data": {
      "text/html": [
       "<div>\n",
       "<style scoped>\n",
       "    .dataframe tbody tr th:only-of-type {\n",
       "        vertical-align: middle;\n",
       "    }\n",
       "\n",
       "    .dataframe tbody tr th {\n",
       "        vertical-align: top;\n",
       "    }\n",
       "\n",
       "    .dataframe thead th {\n",
       "        text-align: right;\n",
       "    }\n",
       "</style>\n",
       "<table border=\"1\" class=\"dataframe\">\n",
       "  <thead>\n",
       "    <tr style=\"text-align: right;\">\n",
       "      <th></th>\n",
       "      <th>oxcnnmage</th>\n",
       "      <th>oxdaypyr</th>\n",
       "      <th>oxycage</th>\n",
       "      <th>oxycrec</th>\n",
       "      <th>oxyyrtot</th>\n",
       "      <th>year</th>\n",
       "      <th>agefirst</th>\n",
       "    </tr>\n",
       "  </thead>\n",
       "  <tbody>\n",
       "    <tr>\n",
       "      <th>0</th>\n",
       "      <td>NaN</td>\n",
       "      <td>31.0</td>\n",
       "      <td>48.0</td>\n",
       "      <td>7.0</td>\n",
       "      <td>75.0</td>\n",
       "      <td>2007</td>\n",
       "      <td>48.0</td>\n",
       "    </tr>\n",
       "    <tr>\n",
       "      <th>1</th>\n",
       "      <td>NaN</td>\n",
       "      <td>31.0</td>\n",
       "      <td>48.0</td>\n",
       "      <td>7.0</td>\n",
       "      <td>75.0</td>\n",
       "      <td>2007</td>\n",
       "      <td>48.0</td>\n",
       "    </tr>\n",
       "    <tr>\n",
       "      <th>2</th>\n",
       "      <td>NaN</td>\n",
       "      <td>31.0</td>\n",
       "      <td>48.0</td>\n",
       "      <td>7.0</td>\n",
       "      <td>75.0</td>\n",
       "      <td>2007</td>\n",
       "      <td>48.0</td>\n",
       "    </tr>\n",
       "    <tr>\n",
       "      <th>3</th>\n",
       "      <td>NaN</td>\n",
       "      <td>31.0</td>\n",
       "      <td>48.0</td>\n",
       "      <td>7.0</td>\n",
       "      <td>75.0</td>\n",
       "      <td>2007</td>\n",
       "      <td>48.0</td>\n",
       "    </tr>\n",
       "    <tr>\n",
       "      <th>4</th>\n",
       "      <td>NaN</td>\n",
       "      <td>31.0</td>\n",
       "      <td>48.0</td>\n",
       "      <td>7.0</td>\n",
       "      <td>75.0</td>\n",
       "      <td>2007</td>\n",
       "      <td>48.0</td>\n",
       "    </tr>\n",
       "  </tbody>\n",
       "</table>\n",
       "</div>"
      ],
      "text/plain": [
       "   oxcnnmage  oxdaypyr  oxycage  oxycrec  oxyyrtot  year  agefirst\n",
       "0        NaN      31.0     48.0      7.0      75.0  2007      48.0\n",
       "1        NaN      31.0     48.0      7.0      75.0  2007      48.0\n",
       "2        NaN      31.0     48.0      7.0      75.0  2007      48.0\n",
       "3        NaN      31.0     48.0      7.0      75.0  2007      48.0\n",
       "4        NaN      31.0     48.0      7.0      75.0  2007      48.0"
      ]
     },
     "execution_count": 203,
     "metadata": {},
     "output_type": "execute_result"
    }
   ],
   "source": [
    "opioid_df['agefirst'] = opioid_df.apply(lambda r: (r['oxycage'] if r['oxycage'] != np.nan else r['oxcnnmage']), axis=1)\n",
    "opioid_df.head()"
   ]
  },
  {
   "cell_type": "code",
   "execution_count": 204,
   "metadata": {},
   "outputs": [
    {
     "data": {
      "text/plain": [
       "Text(0.5, 0, 'age (years)')"
      ]
     },
     "execution_count": 204,
     "metadata": {},
     "output_type": "execute_result"
    },
    {
     "data": {
      "image/png": "[encoded data removed]",
      "text/plain": [
       "<Figure size 432x288 with 1 Axes>"
      ]
     },
     "metadata": {},
     "output_type": "display_data"
    }
   ],
   "source": [
    "hist_age = ts.Hist(opioid_df['agefirst'])\n",
    "thinkplot.hist(hist_age)\n",
    "plt.title('Age of trying oxycontin for the first time (combined surveys)')\n",
    "plt.ylabel('count')\n",
    "plt.xlabel('age (years)')"
   ]
  },
  {
   "cell_type": "code",
   "execution_count": 209,
   "metadata": {},
   "outputs": [
    {
     "name": "stdout",
     "output_type": "stream",
     "text": [
      "Median age: 50.0 IQR: 2.0\n"
     ]
    },
    {
     "data": {
      "image/png": "[encoded data removed]",
      "text/plain": [
       "<Figure size 432x288 with 1 Axes>"
      ]
     },
     "metadata": {},
     "output_type": "display_data"
    }
   ],
   "source": [
    "cdf_age = ts.Cdf(opioid_df['agefirst'])\n",
    "thinkplot.cdf(cdf_age)\n",
    "plt.title('Age of trying oxycontin for the first time (combined surveys)')\n",
    "plt.ylabel('CDF')\n",
    "plt.xlabel('age (years)')\n",
    "\n",
    "print(\"Median age: {}\".format(cdf_age.Value(0.5)), \"IQR: {}\".format(cdf_age.Value(.75) - cdf_age.Value(.25)))"
   ]
  },
  {
   "cell_type": "markdown",
   "metadata": {},
   "source": [
    "This data looks fairly similar to the 2007-2014 data by itself, which is expected. It is surprising to see such a small IQR for this data. It appears that the survey respondants who tried oxycontin nonmedically the first time were very likely to be in their early 50s"
   ]
  },
  {
   "cell_type": "markdown",
   "metadata": {},
   "source": [
    "### Frequency of using oxycontin nonmedically"
   ]
  },
  {
   "cell_type": "markdown",
   "metadata": {},
   "source": [
    "I am also interested in the amount that survey respondants used oxycontin nonmedically. Let's look at the CDF of both the number of days respondants used oxycontin in the last 12 months and the histogram of the last time since they used oxycontin nonmedically. Please note that only the surveys from 2007-2014 include this question."
   ]
  },
  {
   "cell_type": "code",
   "execution_count": 211,
   "metadata": {
    "scrolled": true
   },
   "outputs": [
    {
     "data": {
      "text/html": [
       "<div>\n",
       "<style scoped>\n",
       "    .dataframe tbody tr th:only-of-type {\n",
       "        vertical-align: middle;\n",
       "    }\n",
       "\n",
       "    .dataframe tbody tr th {\n",
       "        vertical-align: top;\n",
       "    }\n",
       "\n",
       "    .dataframe thead th {\n",
       "        text-align: right;\n",
       "    }\n",
       "</style>\n",
       "<table border=\"1\" class=\"dataframe\">\n",
       "  <thead>\n",
       "    <tr style=\"text-align: right;\">\n",
       "      <th></th>\n",
       "      <th>oxcnnmage</th>\n",
       "      <th>oxdaypyr</th>\n",
       "      <th>oxycage</th>\n",
       "      <th>oxycrec</th>\n",
       "      <th>oxyyrtot</th>\n",
       "      <th>year</th>\n",
       "      <th>agefirst</th>\n",
       "    </tr>\n",
       "  </thead>\n",
       "  <tbody>\n",
       "    <tr>\n",
       "      <th>51</th>\n",
       "      <td>NaN</td>\n",
       "      <td>32.0</td>\n",
       "      <td>14.0</td>\n",
       "      <td>2.0</td>\n",
       "      <td>76.0</td>\n",
       "      <td>2007</td>\n",
       "      <td>14.0</td>\n",
       "    </tr>\n",
       "    <tr>\n",
       "      <th>63</th>\n",
       "      <td>NaN</td>\n",
       "      <td>32.0</td>\n",
       "      <td>12.0</td>\n",
       "      <td>2.0</td>\n",
       "      <td>76.0</td>\n",
       "      <td>2007</td>\n",
       "      <td>12.0</td>\n",
       "    </tr>\n",
       "    <tr>\n",
       "      <th>103</th>\n",
       "      <td>NaN</td>\n",
       "      <td>32.0</td>\n",
       "      <td>12.0</td>\n",
       "      <td>2.0</td>\n",
       "      <td>76.0</td>\n",
       "      <td>2007</td>\n",
       "      <td>12.0</td>\n",
       "    </tr>\n",
       "    <tr>\n",
       "      <th>212</th>\n",
       "      <td>NaN</td>\n",
       "      <td>32.0</td>\n",
       "      <td>19.0</td>\n",
       "      <td>2.0</td>\n",
       "      <td>76.0</td>\n",
       "      <td>2007</td>\n",
       "      <td>19.0</td>\n",
       "    </tr>\n",
       "    <tr>\n",
       "      <th>213</th>\n",
       "      <td>NaN</td>\n",
       "      <td>3.0</td>\n",
       "      <td>13.0</td>\n",
       "      <td>1.0</td>\n",
       "      <td>3.0</td>\n",
       "      <td>2007</td>\n",
       "      <td>13.0</td>\n",
       "    </tr>\n",
       "  </tbody>\n",
       "</table>\n",
       "</div>"
      ],
      "text/plain": [
       "     oxcnnmage  oxdaypyr  oxycage  oxycrec  oxyyrtot  year  agefirst\n",
       "51         NaN      32.0     14.0      2.0      76.0  2007      14.0\n",
       "63         NaN      32.0     12.0      2.0      76.0  2007      12.0\n",
       "103        NaN      32.0     12.0      2.0      76.0  2007      12.0\n",
       "212        NaN      32.0     19.0      2.0      76.0  2007      19.0\n",
       "213        NaN       3.0     13.0      1.0       3.0  2007      13.0"
      ]
     },
     "execution_count": 211,
     "metadata": {},
     "output_type": "execute_result"
    },
    {
     "data": {
      "image/png": "[encoded data removed]",
      "text/plain": [
       "<Figure size 432x288 with 1 Axes>"
      ]
     },
     "metadata": {},
     "output_type": "display_data"
    }
   ],
   "source": [
    "valid = opioid_df[(opioid_df['oxycrec'] == 1) | (opioid_df['oxycrec'] == 2) | (opioid_df['oxycrec'] == 3)]\n",
    "time_since_hist = ts.Hist(valid['oxycrec'])\n",
    "thinkplot.hist(time_since_hist)\n",
    "plt.ylabel('count')\n",
    "ticks = [1, 2, 3]\n",
    "labels = ['within past 30 days', 'between 30 days and 12 months', 'more than 12 months']\n",
    "plt.xticks(ticks, labels, rotation=45)\n",
    "valid.head()"
   ]
  },
  {
   "cell_type": "markdown",
   "metadata": {},
   "source": [
    "Note that earlier I replaced the codes for 'NEVER USED OXYCONTIN' and 'DID NOT USE OXYCONTIN IN THE PAST 12 MONTHS' for column 'oxyyrtot' with 0s."
   ]
  },
  {
   "cell_type": "code",
   "execution_count": 181,
   "metadata": {},
   "outputs": [
    {
     "data": {
      "text/plain": [
       "(711, 10)"
      ]
     },
     "execution_count": 181,
     "metadata": {},
     "output_type": "execute_result"
    },
    {
     "data": {
      "image/png": "[encoded data removed]",
      "text/plain": [
       "<Figure size 432x288 with 1 Axes>"
      ]
     },
     "metadata": {
      "needs_background": "light"
     },
     "output_type": "display_data"
    }
   ],
   "source": [
    "pmf_days_used = ts.Pmf(opioid_df['oxyyrtot'])\n",
    "thinkplot.pmf(pmf_days_used)\n",
    "plt.xlabel('Number of days')\n",
    "plt.ylabel('PMF')\n",
    "plt.title('Total days since last used oxycontin past 12 months')\n",
    "opioid_df[opioid_df['oxyyrtot'] == 0].shape"
   ]
  },
  {
   "cell_type": "code",
   "execution_count": 180,
   "metadata": {},
   "outputs": [
    {
     "data": {
      "text/plain": [
       "Text(0.5, 1.0, 'Total days used oxycontin past 12 months')"
      ]
     },
     "execution_count": 180,
     "metadata": {},
     "output_type": "execute_result"
    },
    {
     "data": {
      "image/png": "[encoded data removed]",
      "text/plain": [
       "<Figure size 432x288 with 1 Axes>"
      ]
     },
     "metadata": {
      "needs_background": "light"
     },
     "output_type": "display_data"
    }
   ],
   "source": [
    "cdf_days_used = ts.Cdf(opioid_df['oxyyrtot'])\n",
    "thinkplot.cdf(cdf_days_used)\n",
    "plt.xlabel('Number of days')\n",
    "plt.ylabel('CDF')\n",
    "plt.title('Total days used oxycontin past 12 months')"
   ]
  },
  {
   "cell_type": "markdown",
   "metadata": {},
   "source": [
    "I'm surprised by what I see here. I would have expected to see a lot of respondants reporting that they did not use oxycontin at all in the past year, or only a few times, but instead there is a large spike in frequency after 60 days. This data was for the number of days of any oxycontin use though. Let's see what the pmf and cdf of only nonmedical oxycontin use look like."
   ]
  },
  {
   "cell_type": "code",
   "execution_count": 185,
   "metadata": {},
   "outputs": [
    {
     "data": {
      "text/plain": [
       "Text(0.5, 1.0, 'Total days since last used oxycontin nonmedically past 12 months')"
      ]
     },
     "execution_count": 185,
     "metadata": {},
     "output_type": "execute_result"
    },
    {
     "data": {
      "image/png": "[encoded data removed]",
      "text/plain": [
       "<Figure size 432x288 with 1 Axes>"
      ]
     },
     "metadata": {
      "needs_background": "light"
     },
     "output_type": "display_data"
    }
   ],
   "source": [
    "pmf_days_used = ts.Pmf(opioid_df['oxdaypyr'])\n",
    "thinkplot.pmf(pmf_days_used)\n",
    "plt.xlabel('Number of days')\n",
    "plt.ylabel('PMF')\n",
    "plt.title('Total days since last used oxycontin nonmedically past 12 months')"
   ]
  },
  {
   "cell_type": "code",
   "execution_count": 186,
   "metadata": {},
   "outputs": [
    {
     "data": {
      "text/plain": [
       "Text(0.5, 1.0, 'Total days used oxycontin nonmedically past 12 months')"
      ]
     },
     "execution_count": 186,
     "metadata": {},
     "output_type": "execute_result"
    },
    {
     "data": {
      "image/png": "[encoded data removed]",
      "text/plain": [
       "<Figure size 432x288 with 1 Axes>"
      ]
     },
     "metadata": {
      "needs_background": "light"
     },
     "output_type": "display_data"
    }
   ],
   "source": [
    "cdf_days_used = ts.Cdf(opioid_df['oxdaypyr'])\n",
    "thinkplot.cdf(cdf_days_used)\n",
    "plt.xlabel('Number of days')\n",
    "plt.ylabel('CDF')\n",
    "plt.title('Total days used oxycontin nonmedically past 12 months')"
   ]
  },
  {
   "cell_type": "markdown",
   "metadata": {},
   "source": [
    "### Frequency of nonmedical oxycontin use by year"
   ]
  },
  {
   "cell_type": "markdown",
   "metadata": {},
   "source": [
    "I also want to investigate if there is any relationship between the survey year and the number of days people reported using opioids in the past year nonmedically."
   ]
  },
  {
   "cell_type": "code",
   "execution_count": 193,
   "metadata": {},
   "outputs": [
    {
     "data": {
      "text/plain": [
       "[<matplotlib.lines.Line2D at 0x7feef2201d30>]"
      ]
     },
     "execution_count": 193,
     "metadata": {},
     "output_type": "execute_result"
    },
    {
     "data": {
      "image/png": "[encoded data removed]",
      "text/plain": [
       "<Figure size 432x288 with 1 Axes>"
      ]
     },
     "metadata": {},
     "output_type": "display_data"
    }
   ],
   "source": [
    "subset = opioid_df.dropna(subset=['oxdaypyr'])\n",
    "plt.plot(subset['year'], subset['oxdaypyr'], 'o', markersize=1, alpha=0.4)"
   ]
  },
  {
   "cell_type": "markdown",
   "metadata": {},
   "source": [
    "The data is quantized by year, so it looks a little strange, but it's interesting to note that there appear to be more dense clusters around lower numbers of days and higher numbers of days in each year. I think a violin plot might be a better representation of this data."
   ]
  },
  {
   "cell_type": "code",
   "execution_count": 212,
   "metadata": {},
   "outputs": [
    {
     "data": {
      "text/plain": [
       "Text(0.5, 1.0, 'Total number of days in past 12 months used oxycontin nonmedically')"
      ]
     },
     "execution_count": 212,
     "metadata": {},
     "output_type": "execute_result"
    },
    {
     "data": {
      "image/png": "[encoded data removed]",
      "text/plain": [
       "<Figure size 432x288 with 1 Axes>"
      ]
     },
     "metadata": {},
     "output_type": "display_data"
    }
   ],
   "source": [
    "sns.violinplot(x='year', y='oxdaypyr', data=subset, whis=10)\n",
    "plt.xlabel('survey year')\n",
    "plt.ylabel('total number of days')\n",
    "plt.title('Total number of days in past 12 months used oxycontin nonmedically')"
   ]
  },
  {
   "cell_type": "markdown",
   "metadata": {},
   "source": [
    "It appears from these reprentations of the data that people tend to misuse oxycontin nonmedically for a large number of days. I would have expected to see some people report larger numbers of days than 50."
   ]
  }
 ],
 "metadata": {
  "kernelspec": {
   "display_name": "python3",
   "language": "python",
   "name": "python3"
  },
  "language_info": {
   "codemirror_mode": {
    "name": "ipython",
    "version": 3
   },
   "file_extension": ".py",
   "mimetype": "text/x-python",
   "name": "python",
   "nbconvert_exporter": "python",
   "pygments_lexer": "ipython3",
   "version": "3.6.7"
  }
 },
 "nbformat": 4,
 "nbformat_minor": 2
}
