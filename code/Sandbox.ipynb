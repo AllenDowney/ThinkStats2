{
 "metadata": {
  "name": ""
 },
 "nbformat": 3,
 "nbformat_minor": 0,
 "worksheets": [
  {
   "cells": [
    {
     "cell_type": "code",
     "collapsed": false,
     "input": [
      "from  numpy import *"
     ],
     "language": "python",
     "metadata": {},
     "outputs": [],
     "prompt_number": 1
    },
    {
     "cell_type": "code",
     "collapsed": false,
     "input": [
      "a = array([1,2,3,4])"
     ],
     "language": "python",
     "metadata": {},
     "outputs": [],
     "prompt_number": 2
    },
    {
     "cell_type": "code",
     "collapsed": false,
     "input": [
      "b = transpose(vstack([a, a]))\n",
      "b"
     ],
     "language": "python",
     "metadata": {},
     "outputs": [
      {
       "metadata": {},
       "output_type": "pyout",
       "prompt_number": 14,
       "text": [
        "array([[1, 1],\n",
        "       [2, 2],\n",
        "       [3, 3],\n",
        "       [4, 4]])"
       ]
      }
     ],
     "prompt_number": 14
    },
    {
     "cell_type": "code",
     "collapsed": false,
     "input": [
      "reshape(b, (1,8))"
     ],
     "language": "python",
     "metadata": {},
     "outputs": [
      {
       "metadata": {},
       "output_type": "pyout",
       "prompt_number": 15,
       "text": [
        "array([[1, 1, 2, 2, 3, 3, 4, 4]])"
       ]
      }
     ],
     "prompt_number": 15
    },
    {
     "cell_type": "code",
     "collapsed": false,
     "input": [
      "def interleave(a, b):\n",
      "    c = empty(a.shape[0] + b.shape[0])\n",
      "    print a.shape, b.shape, c.shape\n",
      "    c[::2] = a\n",
      "    c[1::2] = b\n",
      "    return c"
     ],
     "language": "python",
     "metadata": {},
     "outputs": [],
     "prompt_number": 32
    },
    {
     "cell_type": "code",
     "collapsed": false,
     "input": [
      "interleave(a, a)"
     ],
     "language": "python",
     "metadata": {},
     "outputs": [
      {
       "output_type": "stream",
       "stream": "stdout",
       "text": [
        "(4,) (4,) (8,)\n"
       ]
      },
      {
       "metadata": {},
       "output_type": "pyout",
       "prompt_number": 33,
       "text": [
        "array([ 1.,  1.,  2.,  2.,  3.,  3.,  4.,  4.])"
       ]
      }
     ],
     "prompt_number": 33
    },
    {
     "cell_type": "code",
     "collapsed": false,
     "input": [
      "roll(a, 1)"
     ],
     "language": "python",
     "metadata": {},
     "outputs": [
      {
       "metadata": {},
       "output_type": "pyout",
       "prompt_number": 34,
       "text": [
        "array([4, 1, 2, 3])"
       ]
      }
     ],
     "prompt_number": 34
    },
    {
     "cell_type": "code",
     "collapsed": false,
     "input": [
      "a[1:] - a[:-1]"
     ],
     "language": "python",
     "metadata": {},
     "outputs": [
      {
       "metadata": {},
       "output_type": "pyout",
       "prompt_number": 36,
       "text": [
        "array([1, 1, 1])"
       ]
      }
     ],
     "prompt_number": 36
    },
    {
     "cell_type": "code",
     "collapsed": false,
     "input": [
      "b = roll(a, 1)\n",
      "b[0] = 0\n",
      "a - b"
     ],
     "language": "python",
     "metadata": {},
     "outputs": [
      {
       "metadata": {},
       "output_type": "pyout",
       "prompt_number": 37,
       "text": [
        "array([1, 1, 1, 1])"
       ]
      }
     ],
     "prompt_number": 37
    },
    {
     "cell_type": "code",
     "collapsed": false,
     "input": [
      "import brfss\n",
      "import thinkstats2\n",
      "import numpy as np\n",
      "df = brfss.ReadBrfss(nrows=None)"
     ],
     "language": "python",
     "metadata": {},
     "outputs": [],
     "prompt_number": 41
    },
    {
     "cell_type": "code",
     "collapsed": false,
     "input": [
      "df = df.dropna(subset=['htm3', 'wtkg2'])\n",
      "cdf = thinkstats2.Cdf(df.htm3)\n",
      "print cdf[200] - cdf[145]"
     ],
     "language": "python",
     "metadata": {},
     "outputs": [
      {
       "output_type": "stream",
       "stream": "stdout",
       "text": [
        "0.994272822814\n"
       ]
      }
     ],
     "prompt_number": 139
    },
    {
     "cell_type": "code",
     "collapsed": false,
     "input": [
      "bins = np.arange(135, 210, 5)\n",
      "print(bins)\n",
      "indices = np.digitize(df.htm3, bins)\n",
      "groups = df.groupby(indices)\n",
      "groups"
     ],
     "language": "python",
     "metadata": {},
     "outputs": [
      {
       "output_type": "stream",
       "stream": "stdout",
       "text": [
        "[135 140 145 150 155 160 165 170 175 180 185 190 195 200 205]\n"
       ]
      },
      {
       "metadata": {},
       "output_type": "pyout",
       "prompt_number": 140,
       "text": [
        "<pandas.core.groupby.DataFrameGroupBy object at 0x496add0>"
       ]
      }
     ],
     "prompt_number": 140
    },
    {
     "cell_type": "code",
     "collapsed": false,
     "input": [
      "for i, group in groups:\n",
      "    print i, group.htm3.mean(), group.wtkg2.mean()"
     ],
     "language": "python",
     "metadata": {},
     "outputs": [
      {
       "output_type": "stream",
       "stream": "stdout",
       "text": [
        "0 120.124590164 62.885704918\n",
        "1 135.785087719 63.0217105263\n",
        "2 141.433962264 59.052851153\n",
        "3 146.337187789 60.5686540241\n",
        "4 151.528439682 64.5687589957\n",
        "5 156.350341994 67.8319274054\n",
        "6 161.674210452 71.5338478969\n",
        "7 166.569727467 75.4599640966\n",
        "8 171.409542325 80.0723382746\n",
        "9 176.54908086 86.2047739197\n",
        "10 181.575961428 92.1623611526\n",
        "11 186.324699905 97.9511067391\n",
        "12 191.785971223 104.072843011\n",
        "13 196.642656162 107.373590321\n",
        "14 201.738271605 108.304419753\n",
        "15 210.58778626 99.0778625954\n"
       ]
      }
     ],
     "prompt_number": 141
    },
    {
     "cell_type": "code",
     "collapsed": false,
     "input": [
      "for i, group in groups:\n",
      "    print i, len(group)"
     ],
     "language": "python",
     "metadata": {},
     "outputs": [
      {
       "output_type": "stream",
       "stream": "stdout",
       "text": [
        "0 305\n",
        "1 228\n",
        "2 477\n",
        "3 2162\n",
        "4 18759\n",
        "5 45761\n",
        "6 70610\n",
        "7 72138\n",
        "8 61725\n",
        "9 49938\n",
        "10 43555\n",
        "11 20077\n",
        "12 7784\n",
        "13 1777\n",
        "14 405\n",
        "15 131\n"
       ]
      }
     ],
     "prompt_number": 143
    },
    {
     "cell_type": "code",
     "collapsed": false,
     "input": [
      "cdfs = [thinkstats2.Cdf(group.wtkg2) for i, group in groups][1:-1]\n",
      "print len(cdfs)"
     ],
     "language": "python",
     "metadata": {},
     "outputs": [
      {
       "output_type": "stream",
       "stream": "stdout",
       "text": [
        "14\n"
       ]
      }
     ],
     "prompt_number": 144
    },
    {
     "cell_type": "code",
     "collapsed": false,
     "input": [
      "import thinkplot\n",
      "thinkplot.PrePlot(3)\n",
      "for percent in [75, 50, 25]:\n",
      "    ys = [cdf.Percentile(percent) for cdf in cdfs]\n",
      "    label = '%dth' % percent\n",
      "    thinkplot.Plot(heights, ys, label=label)\n",
      "thinkplot.Show()"
     ],
     "language": "python",
     "metadata": {},
     "outputs": [
      {
       "metadata": {},
       "output_type": "display_data",
       "png": "[encoded data removed]",
       "text": [
        "<matplotlib.figure.Figure at 0x496a710>"
       ]
      },
      {
       "metadata": {},
       "output_type": "display_data",
       "text": [
        "<matplotlib.figure.Figure at 0x47e5450>"
       ]
      }
     ],
     "prompt_number": 145
    },
    {
     "cell_type": "code",
     "collapsed": false,
     "input": [
      "import first\n",
      "live, firsts, others = first.MakeFrames()\n",
      "live = live.dropna(subset=['agepreg', 'totalwgt_lb'])"
     ],
     "language": "python",
     "metadata": {},
     "outputs": [],
     "prompt_number": 158
    },
    {
     "cell_type": "code",
     "collapsed": false,
     "input": [
      "live.agepreg"
     ],
     "language": "python",
     "metadata": {},
     "outputs": [
      {
       "metadata": {},
       "output_type": "pyout",
       "prompt_number": 159,
       "text": [
        "0     33.16\n",
        "1     39.25\n",
        "2     14.33\n",
        "3     17.83\n",
        "4     18.33\n",
        "5     27.00\n",
        "6     28.83\n",
        "7     30.16\n",
        "8     28.08\n",
        "9     32.33\n",
        "10    25.75\n",
        "11    23.00\n",
        "12    24.58\n",
        "15    28.33\n",
        "16    30.33\n",
        "...\n",
        "13566    32.66\n",
        "13569    18.00\n",
        "13570    24.41\n",
        "13571    27.83\n",
        "13572    33.16\n",
        "13573    22.25\n",
        "13574    24.41\n",
        "13576    31.66\n",
        "13578    24.00\n",
        "13579    25.91\n",
        "13581    30.66\n",
        "13584    26.91\n",
        "13588    17.91\n",
        "13591    21.58\n",
        "13592    21.58\n",
        "Name: agepreg, Length: 9038, dtype: float64"
       ]
      }
     ],
     "prompt_number": 159
    },
    {
     "cell_type": "code",
     "collapsed": false,
     "input": [
      "live.totalwgt_lb"
     ],
     "language": "python",
     "metadata": {},
     "outputs": [
      {
       "metadata": {},
       "output_type": "pyout",
       "prompt_number": 160,
       "text": [
        "0     8.8125\n",
        "1     7.8750\n",
        "2     9.1250\n",
        "3     7.0000\n",
        "4     6.1875\n",
        "5     8.5625\n",
        "6     9.5625\n",
        "7     8.3750\n",
        "8     7.5625\n",
        "9     6.6250\n",
        "10    7.8125\n",
        "11    7.0000\n",
        "12    4.0000\n",
        "15    7.6875\n",
        "16    7.5000\n",
        "...\n",
        "13566    7.5000\n",
        "13569    5.8125\n",
        "13570    6.6875\n",
        "13571    6.0000\n",
        "13572    5.8125\n",
        "13573    6.5625\n",
        "13574    6.1250\n",
        "13576    6.4375\n",
        "13578    6.0000\n",
        "13579    7.0000\n",
        "13581    6.3750\n",
        "13584    6.3750\n",
        "13588    6.1875\n",
        "13591    7.5000\n",
        "13592    7.5000\n",
        "Name: totalwgt_lb, Length: 9038, dtype: float64"
       ]
      }
     ],
     "prompt_number": 160
    },
    {
     "cell_type": "code",
     "collapsed": false,
     "input": [
      "thinkplot.Scatter(live.agepreg, live.totalwgt_lb)"
     ],
     "language": "python",
     "metadata": {},
     "outputs": [
      {
       "metadata": {},
       "output_type": "display_data",
       "png": "[encoded data removed]",
       "text": [
        "<matplotlib.figure.Figure at 0x4953f10>"
       ]
      }
     ],
     "prompt_number": 161
    },
    {
     "cell_type": "code",
     "collapsed": false,
     "input": [
      "thinkstats2.Corr(live.agepreg, live.totalwgt_lb)"
     ],
     "language": "python",
     "metadata": {},
     "outputs": [
      {
       "metadata": {},
       "output_type": "pyout",
       "prompt_number": 163,
       "text": [
        "0.068833970354109056"
       ]
      }
     ],
     "prompt_number": 163
    },
    {
     "cell_type": "code",
     "collapsed": false,
     "input": [
      "thinkstats2.SpearmanCorr(live.agepreg, live.totalwgt_lb)"
     ],
     "language": "python",
     "metadata": {},
     "outputs": [
      {
       "metadata": {},
       "output_type": "pyout",
       "prompt_number": 164,
       "text": [
        "0.09480324493300854"
       ]
      }
     ],
     "prompt_number": 164
    },
    {
     "cell_type": "code",
     "collapsed": false,
     "input": [],
     "language": "python",
     "metadata": {},
     "outputs": []
    }
   ],
   "metadata": {}
  }
 ]
}