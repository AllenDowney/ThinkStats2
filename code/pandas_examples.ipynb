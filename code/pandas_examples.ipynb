{
 "cells": [
  {
   "cell_type": "markdown",
   "metadata": {},
   "source": [
    "# Pandas Examples\n",
    "\n",
    "http://thinkstats2.com\n",
    "\n",
    "Copyright 2017 Allen B. Downey\n",
    "\n",
    "MIT License: https://opensource.org/licenses/MIT"
   ]
  },
  {
   "cell_type": "code",
   "execution_count": 1,
   "metadata": {
    "collapsed": false
   },
   "outputs": [],
   "source": [
    "from __future__ import print_function, division\n",
    "\n",
    "%matplotlib inline\n",
    "\n",
    "import numpy as np\n",
    "\n",
    "import nsfg\n",
    "import first\n",
    "import analytic\n",
    "\n",
    "import thinkstats2\n",
    "\n",
    "import seaborn"
   ]
  },
  {
   "cell_type": "markdown",
   "metadata": {},
   "source": [
    "Let's read data from the BRFSS:"
   ]
  },
  {
   "cell_type": "code",
   "execution_count": 2,
   "metadata": {
    "collapsed": false
   },
   "outputs": [],
   "source": [
    "import brfss\n",
    "df = brfss.ReadBrfss()"
   ]
  },
  {
   "cell_type": "code",
   "execution_count": 3,
   "metadata": {
    "collapsed": false
   },
   "outputs": [
    {
     "data": {
      "text/html": [
       "<div>\n",
       "<table border=\"1\" class=\"dataframe\">\n",
       "  <thead>\n",
       "    <tr style=\"text-align: right;\">\n",
       "      <th></th>\n",
       "      <th>age</th>\n",
       "      <th>sex</th>\n",
       "      <th>wtyrago</th>\n",
       "      <th>finalwt</th>\n",
       "      <th>wtkg2</th>\n",
       "      <th>htm3</th>\n",
       "    </tr>\n",
       "  </thead>\n",
       "  <tbody>\n",
       "    <tr>\n",
       "      <th>count</th>\n",
       "      <td>410856.000000</td>\n",
       "      <td>414509.000000</td>\n",
       "      <td>390399.000000</td>\n",
       "      <td>414509.000000</td>\n",
       "      <td>398484.000000</td>\n",
       "      <td>409129.000000</td>\n",
       "    </tr>\n",
       "    <tr>\n",
       "      <th>mean</th>\n",
       "      <td>54.862180</td>\n",
       "      <td>1.624368</td>\n",
       "      <td>79.721319</td>\n",
       "      <td>561.774700</td>\n",
       "      <td>78.992453</td>\n",
       "      <td>168.825190</td>\n",
       "    </tr>\n",
       "    <tr>\n",
       "      <th>std</th>\n",
       "      <td>16.737702</td>\n",
       "      <td>0.484286</td>\n",
       "      <td>20.565164</td>\n",
       "      <td>1076.538764</td>\n",
       "      <td>19.546157</td>\n",
       "      <td>10.352653</td>\n",
       "    </tr>\n",
       "    <tr>\n",
       "      <th>min</th>\n",
       "      <td>18.000000</td>\n",
       "      <td>1.000000</td>\n",
       "      <td>22.727273</td>\n",
       "      <td>1.695143</td>\n",
       "      <td>20.000000</td>\n",
       "      <td>61.000000</td>\n",
       "    </tr>\n",
       "    <tr>\n",
       "      <th>25%</th>\n",
       "      <td>43.000000</td>\n",
       "      <td>1.000000</td>\n",
       "      <td>64.545455</td>\n",
       "      <td>97.006804</td>\n",
       "      <td>64.550000</td>\n",
       "      <td>160.000000</td>\n",
       "    </tr>\n",
       "    <tr>\n",
       "      <th>50%</th>\n",
       "      <td>55.000000</td>\n",
       "      <td>2.000000</td>\n",
       "      <td>77.272727</td>\n",
       "      <td>234.010543</td>\n",
       "      <td>77.270000</td>\n",
       "      <td>168.000000</td>\n",
       "    </tr>\n",
       "    <tr>\n",
       "      <th>75%</th>\n",
       "      <td>67.000000</td>\n",
       "      <td>2.000000</td>\n",
       "      <td>90.909091</td>\n",
       "      <td>590.775576</td>\n",
       "      <td>90.910000</td>\n",
       "      <td>175.000000</td>\n",
       "    </tr>\n",
       "    <tr>\n",
       "      <th>max</th>\n",
       "      <td>99.000000</td>\n",
       "      <td>2.000000</td>\n",
       "      <td>342.272727</td>\n",
       "      <td>60995.111700</td>\n",
       "      <td>309.090000</td>\n",
       "      <td>236.000000</td>\n",
       "    </tr>\n",
       "  </tbody>\n",
       "</table>\n",
       "</div>"
      ],
      "text/plain": [
       "                 age            sex        wtyrago        finalwt  \\\n",
       "count  410856.000000  414509.000000  390399.000000  414509.000000   \n",
       "mean       54.862180       1.624368      79.721319     561.774700   \n",
       "std        16.737702       0.484286      20.565164    1076.538764   \n",
       "min        18.000000       1.000000      22.727273       1.695143   \n",
       "25%        43.000000       1.000000      64.545455      97.006804   \n",
       "50%        55.000000       2.000000      77.272727     234.010543   \n",
       "75%        67.000000       2.000000      90.909091     590.775576   \n",
       "max        99.000000       2.000000     342.272727   60995.111700   \n",
       "\n",
       "               wtkg2           htm3  \n",
       "count  398484.000000  409129.000000  \n",
       "mean       78.992453     168.825190  \n",
       "std        19.546157      10.352653  \n",
       "min        20.000000      61.000000  \n",
       "25%        64.550000     160.000000  \n",
       "50%        77.270000     168.000000  \n",
       "75%        90.910000     175.000000  \n",
       "max       309.090000     236.000000  "
      ]
     },
     "execution_count": 3,
     "metadata": {},
     "output_type": "execute_result"
    }
   ],
   "source": [
    "df.describe()"
   ]
  },
  {
   "cell_type": "markdown",
   "metadata": {},
   "source": [
    "If we group by sex, we get a `DataFrameGroupBy` object."
   ]
  },
  {
   "cell_type": "code",
   "execution_count": 4,
   "metadata": {
    "collapsed": false
   },
   "outputs": [
    {
     "data": {
      "text/plain": [
       "<pandas.core.groupby.DataFrameGroupBy object at 0x7f6c6c1cf2d0>"
      ]
     },
     "execution_count": 4,
     "metadata": {},
     "output_type": "execute_result"
    }
   ],
   "source": [
    "groupby = df.groupby('sex')\n",
    "groupby"
   ]
  },
  {
   "cell_type": "markdown",
   "metadata": {},
   "source": [
    "If we select a particular column from the `GroupBy`, we get a `SeriesGroupBy` object."
   ]
  },
  {
   "cell_type": "code",
   "execution_count": 5,
   "metadata": {
    "collapsed": false
   },
   "outputs": [
    {
     "data": {
      "text/plain": [
       "<pandas.core.groupby.SeriesGroupBy object at 0x7f6c3c88d590>"
      ]
     },
     "execution_count": 5,
     "metadata": {},
     "output_type": "execute_result"
    }
   ],
   "source": [
    "seriesgroupby = groupby.htm3\n",
    "seriesgroupby"
   ]
  },
  {
   "cell_type": "markdown",
   "metadata": {},
   "source": [
    "If you invoke a reduce method on a DataFrameGroupBy, you get a DataFrame:"
   ]
  },
  {
   "cell_type": "code",
   "execution_count": 6,
   "metadata": {
    "collapsed": false
   },
   "outputs": [
    {
     "data": {
      "text/html": [
       "<div>\n",
       "<table border=\"1\" class=\"dataframe\">\n",
       "  <thead>\n",
       "    <tr style=\"text-align: right;\">\n",
       "      <th></th>\n",
       "      <th>age</th>\n",
       "      <th>wtyrago</th>\n",
       "      <th>finalwt</th>\n",
       "      <th>wtkg2</th>\n",
       "      <th>htm3</th>\n",
       "    </tr>\n",
       "    <tr>\n",
       "      <th>sex</th>\n",
       "      <th></th>\n",
       "      <th></th>\n",
       "      <th></th>\n",
       "      <th></th>\n",
       "      <th></th>\n",
       "    </tr>\n",
       "  </thead>\n",
       "  <tbody>\n",
       "    <tr>\n",
       "      <th>1</th>\n",
       "      <td>54.114237</td>\n",
       "      <td>89.880639</td>\n",
       "      <td>727.426119</td>\n",
       "      <td>89.016966</td>\n",
       "      <td>178.066221</td>\n",
       "    </tr>\n",
       "    <tr>\n",
       "      <th>2</th>\n",
       "      <td>55.314401</td>\n",
       "      <td>73.278344</td>\n",
       "      <td>462.115407</td>\n",
       "      <td>72.684712</td>\n",
       "      <td>163.223475</td>\n",
       "    </tr>\n",
       "  </tbody>\n",
       "</table>\n",
       "</div>"
      ],
      "text/plain": [
       "           age    wtyrago     finalwt      wtkg2        htm3\n",
       "sex                                                         \n",
       "1    54.114237  89.880639  727.426119  89.016966  178.066221\n",
       "2    55.314401  73.278344  462.115407  72.684712  163.223475"
      ]
     },
     "execution_count": 6,
     "metadata": {},
     "output_type": "execute_result"
    }
   ],
   "source": [
    "groupby.mean()"
   ]
  },
  {
   "cell_type": "markdown",
   "metadata": {},
   "source": [
    "If you invoke a reduce method on a SeriesGroupBy, you get a Series:"
   ]
  },
  {
   "cell_type": "code",
   "execution_count": 7,
   "metadata": {
    "collapsed": false
   },
   "outputs": [
    {
     "data": {
      "text/plain": [
       "sex\n",
       "1    178.066221\n",
       "2    163.223475\n",
       "Name: htm3, dtype: float64"
      ]
     },
     "execution_count": 7,
     "metadata": {},
     "output_type": "execute_result"
    }
   ],
   "source": [
    "seriesgroupby.mean()"
   ]
  },
  {
   "cell_type": "markdown",
   "metadata": {},
   "source": [
    "You can use `aggregate` to apply a collection of reduce methods:"
   ]
  },
  {
   "cell_type": "code",
   "execution_count": 8,
   "metadata": {
    "collapsed": false
   },
   "outputs": [
    {
     "data": {
      "text/html": [
       "<div>\n",
       "<table border=\"1\" class=\"dataframe\">\n",
       "  <thead>\n",
       "    <tr>\n",
       "      <th></th>\n",
       "      <th colspan=\"2\" halign=\"left\">age</th>\n",
       "      <th colspan=\"2\" halign=\"left\">wtyrago</th>\n",
       "      <th colspan=\"2\" halign=\"left\">finalwt</th>\n",
       "      <th colspan=\"2\" halign=\"left\">wtkg2</th>\n",
       "      <th colspan=\"2\" halign=\"left\">htm3</th>\n",
       "    </tr>\n",
       "    <tr>\n",
       "      <th></th>\n",
       "      <th>mean</th>\n",
       "      <th>std</th>\n",
       "      <th>mean</th>\n",
       "      <th>std</th>\n",
       "      <th>mean</th>\n",
       "      <th>std</th>\n",
       "      <th>mean</th>\n",
       "      <th>std</th>\n",
       "      <th>mean</th>\n",
       "      <th>std</th>\n",
       "    </tr>\n",
       "    <tr>\n",
       "      <th>sex</th>\n",
       "      <th></th>\n",
       "      <th></th>\n",
       "      <th></th>\n",
       "      <th></th>\n",
       "      <th></th>\n",
       "      <th></th>\n",
       "      <th></th>\n",
       "      <th></th>\n",
       "      <th></th>\n",
       "      <th></th>\n",
       "    </tr>\n",
       "  </thead>\n",
       "  <tbody>\n",
       "    <tr>\n",
       "      <th>1</th>\n",
       "      <td>54.114237</td>\n",
       "      <td>16.383712</td>\n",
       "      <td>89.880639</td>\n",
       "      <td>19.260805</td>\n",
       "      <td>727.426119</td>\n",
       "      <td>1370.544678</td>\n",
       "      <td>89.016966</td>\n",
       "      <td>18.240528</td>\n",
       "      <td>178.066221</td>\n",
       "      <td>7.723563</td>\n",
       "    </tr>\n",
       "    <tr>\n",
       "      <th>2</th>\n",
       "      <td>55.314401</td>\n",
       "      <td>16.932158</td>\n",
       "      <td>73.278344</td>\n",
       "      <td>18.678964</td>\n",
       "      <td>462.115407</td>\n",
       "      <td>836.457063</td>\n",
       "      <td>72.684712</td>\n",
       "      <td>17.609006</td>\n",
       "      <td>163.223475</td>\n",
       "      <td>7.269156</td>\n",
       "    </tr>\n",
       "  </tbody>\n",
       "</table>\n",
       "</div>"
      ],
      "text/plain": [
       "           age               wtyrago                finalwt               \\\n",
       "          mean        std       mean        std        mean          std   \n",
       "sex                                                                        \n",
       "1    54.114237  16.383712  89.880639  19.260805  727.426119  1370.544678   \n",
       "2    55.314401  16.932158  73.278344  18.678964  462.115407   836.457063   \n",
       "\n",
       "         wtkg2                   htm3            \n",
       "          mean        std        mean       std  \n",
       "sex                                              \n",
       "1    89.016966  18.240528  178.066221  7.723563  \n",
       "2    72.684712  17.609006  163.223475  7.269156  "
      ]
     },
     "execution_count": 8,
     "metadata": {},
     "output_type": "execute_result"
    }
   ],
   "source": [
    "groupby.aggregate(['mean', 'std'])"
   ]
  },
  {
   "cell_type": "code",
   "execution_count": 9,
   "metadata": {
    "collapsed": false
   },
   "outputs": [
    {
     "data": {
      "text/html": [
       "<div>\n",
       "<table border=\"1\" class=\"dataframe\">\n",
       "  <thead>\n",
       "    <tr style=\"text-align: right;\">\n",
       "      <th></th>\n",
       "      <th>mean</th>\n",
       "      <th>std</th>\n",
       "    </tr>\n",
       "    <tr>\n",
       "      <th>sex</th>\n",
       "      <th></th>\n",
       "      <th></th>\n",
       "    </tr>\n",
       "  </thead>\n",
       "  <tbody>\n",
       "    <tr>\n",
       "      <th>1</th>\n",
       "      <td>178.066221</td>\n",
       "      <td>7.723563</td>\n",
       "    </tr>\n",
       "    <tr>\n",
       "      <th>2</th>\n",
       "      <td>163.223475</td>\n",
       "      <td>7.269156</td>\n",
       "    </tr>\n",
       "  </tbody>\n",
       "</table>\n",
       "</div>"
      ],
      "text/plain": [
       "           mean       std\n",
       "sex                      \n",
       "1    178.066221  7.723563\n",
       "2    163.223475  7.269156"
      ]
     },
     "execution_count": 9,
     "metadata": {},
     "output_type": "execute_result"
    }
   ],
   "source": [
    "seriesgroupby.aggregate(['mean', 'std'])"
   ]
  },
  {
   "cell_type": "markdown",
   "metadata": {},
   "source": [
    "If the reduce method you want is not available, you can make your own:"
   ]
  },
  {
   "cell_type": "code",
   "execution_count": 10,
   "metadata": {
    "collapsed": false
   },
   "outputs": [],
   "source": [
    "def trimmed_mean(series):\n",
    "    lower, upper = series.quantile([0.05, 0.95])\n",
    "    return series.clip(lower, upper).mean()"
   ]
  },
  {
   "cell_type": "markdown",
   "metadata": {},
   "source": [
    "Here's how it works when we apply it directly:"
   ]
  },
  {
   "cell_type": "code",
   "execution_count": 11,
   "metadata": {
    "collapsed": false
   },
   "outputs": [
    {
     "data": {
      "text/plain": [
       "168.65401132650092"
      ]
     },
     "execution_count": 11,
     "metadata": {},
     "output_type": "execute_result"
    }
   ],
   "source": [
    "trimmed_mean(df.htm3)"
   ]
  },
  {
   "cell_type": "markdown",
   "metadata": {},
   "source": [
    "And we can use `apply` to apply it to each group:"
   ]
  },
  {
   "cell_type": "code",
   "execution_count": 12,
   "metadata": {
    "collapsed": false
   },
   "outputs": [
    {
     "data": {
      "text/plain": [
       "sex\n",
       "1    178.109121\n",
       "2    163.210210\n",
       "Name: htm3, dtype: float64"
      ]
     },
     "execution_count": 12,
     "metadata": {},
     "output_type": "execute_result"
    }
   ],
   "source": [
    "seriesgroupby.apply(trimmed_mean)"
   ]
  },
  {
   "cell_type": "markdown",
   "metadata": {},
   "source": [
    "## The digitize-groupby combo"
   ]
  },
  {
   "cell_type": "markdown",
   "metadata": {},
   "source": [
    "Let's say we want to group people into deciles (bottom 10%, next 10%, and so on).\n",
    "\n",
    "We can start by defining the cumulative probabilities that mark the borders between deciles."
   ]
  },
  {
   "cell_type": "code",
   "execution_count": 13,
   "metadata": {
    "collapsed": false
   },
   "outputs": [
    {
     "data": {
      "text/plain": [
       "array([ 0. ,  0.1,  0.2,  0.3,  0.4,  0.5,  0.6,  0.7,  0.8,  0.9,  1. ])"
      ]
     },
     "execution_count": 13,
     "metadata": {},
     "output_type": "execute_result"
    }
   ],
   "source": [
    "ps = np.linspace(0, 1, 11)\n",
    "ps"
   ]
  },
  {
   "cell_type": "markdown",
   "metadata": {},
   "source": [
    "And then use `deciles` to find the values that correspond to those cumulative probabilities."
   ]
  },
  {
   "cell_type": "code",
   "execution_count": 14,
   "metadata": {
    "collapsed": false
   },
   "outputs": [
    {
     "data": {
      "text/plain": [
       "0.0     61.0\n",
       "0.1    157.0\n",
       "0.2    160.0\n",
       "0.3    163.0\n",
       "0.4    165.0\n",
       "0.5    168.0\n",
       "0.6    170.0\n",
       "0.7    175.0\n",
       "0.8    178.0\n",
       "0.9    183.0\n",
       "1.0    236.0\n",
       "Name: htm3, dtype: float64"
      ]
     },
     "execution_count": 14,
     "metadata": {},
     "output_type": "execute_result"
    }
   ],
   "source": [
    "series = df.htm3\n",
    "bins = series.quantile(ps)\n",
    "bins"
   ]
  },
  {
   "cell_type": "markdown",
   "metadata": {},
   "source": [
    "`digitize` takes a series and a sequence of bin boundaries, and computes the bin index for each element in the series."
   ]
  },
  {
   "cell_type": "code",
   "execution_count": 15,
   "metadata": {
    "collapsed": false
   },
   "outputs": [
    {
     "data": {
      "text/plain": [
       "array([2, 4, 5, ..., 9, 2, 9])"
      ]
     },
     "execution_count": 15,
     "metadata": {},
     "output_type": "execute_result"
    }
   ],
   "source": [
    "np.digitize(series, bins)"
   ]
  },
  {
   "cell_type": "markdown",
   "metadata": {},
   "source": [
    "**Exercise:** Collect the code snippets from the previous cells to write a function called `digitize` that takes a Series and a number of bins and return the results from `np.digitize`."
   ]
  },
  {
   "cell_type": "code",
   "execution_count": 16,
   "metadata": {
    "collapsed": true
   },
   "outputs": [],
   "source": [
    "def digitize(series, n=11):\n",
    "    ps = np.linspace(0, 1, n)\n",
    "    bins = series.quantile(ps)\n",
    "    return np.digitize(series, bins)"
   ]
  },
  {
   "cell_type": "markdown",
   "metadata": {},
   "source": [
    "Now, if your `digitize` function is working, we can assign the results to a new column in the DataFrame:"
   ]
  },
  {
   "cell_type": "code",
   "execution_count": 17,
   "metadata": {
    "collapsed": false
   },
   "outputs": [
    {
     "data": {
      "text/plain": [
       "count    414509.000000\n",
       "mean          5.897512\n",
       "std           2.924237\n",
       "min           1.000000\n",
       "25%           4.000000\n",
       "50%           6.000000\n",
       "75%           9.000000\n",
       "max          11.000000\n",
       "Name: height_decile, dtype: float64"
      ]
     },
     "execution_count": 17,
     "metadata": {},
     "output_type": "execute_result"
    }
   ],
   "source": [
    "df['height_decile'] = digitize(df.htm3)\n",
    "df.height_decile.describe()"
   ]
  },
  {
   "cell_type": "markdown",
   "metadata": {},
   "source": [
    "And then group by `height_decile`"
   ]
  },
  {
   "cell_type": "code",
   "execution_count": 18,
   "metadata": {
    "collapsed": false
   },
   "outputs": [],
   "source": [
    "groupby = df.groupby('height_decile')"
   ]
  },
  {
   "cell_type": "markdown",
   "metadata": {},
   "source": [
    "Now we can compute means for each variable in each group:"
   ]
  },
  {
   "cell_type": "code",
   "execution_count": 19,
   "metadata": {
    "collapsed": false
   },
   "outputs": [
    {
     "data": {
      "text/html": [
       "<div>\n",
       "<table border=\"1\" class=\"dataframe\">\n",
       "  <thead>\n",
       "    <tr style=\"text-align: right;\">\n",
       "      <th></th>\n",
       "      <th>age</th>\n",
       "      <th>sex</th>\n",
       "      <th>wtyrago</th>\n",
       "      <th>finalwt</th>\n",
       "      <th>wtkg2</th>\n",
       "      <th>htm3</th>\n",
       "    </tr>\n",
       "    <tr>\n",
       "      <th>height_decile</th>\n",
       "      <th></th>\n",
       "      <th></th>\n",
       "      <th></th>\n",
       "      <th></th>\n",
       "      <th></th>\n",
       "      <th></th>\n",
       "    </tr>\n",
       "  </thead>\n",
       "  <tbody>\n",
       "    <tr>\n",
       "      <th>1</th>\n",
       "      <td>59.343555</td>\n",
       "      <td>1.978576</td>\n",
       "      <td>65.732170</td>\n",
       "      <td>482.633403</td>\n",
       "      <td>65.071502</td>\n",
       "      <td>152.147807</td>\n",
       "    </tr>\n",
       "    <tr>\n",
       "      <th>2</th>\n",
       "      <td>57.708848</td>\n",
       "      <td>1.976869</td>\n",
       "      <td>68.925145</td>\n",
       "      <td>460.942597</td>\n",
       "      <td>68.415169</td>\n",
       "      <td>157.001891</td>\n",
       "    </tr>\n",
       "    <tr>\n",
       "      <th>3</th>\n",
       "      <td>56.693958</td>\n",
       "      <td>1.964062</td>\n",
       "      <td>71.014838</td>\n",
       "      <td>461.123901</td>\n",
       "      <td>70.420280</td>\n",
       "      <td>160.002595</td>\n",
       "    </tr>\n",
       "    <tr>\n",
       "      <th>4</th>\n",
       "      <td>55.411945</td>\n",
       "      <td>1.943195</td>\n",
       "      <td>72.962619</td>\n",
       "      <td>481.562164</td>\n",
       "      <td>72.417512</td>\n",
       "      <td>163.000728</td>\n",
       "    </tr>\n",
       "    <tr>\n",
       "      <th>5</th>\n",
       "      <td>55.010687</td>\n",
       "      <td>1.890204</td>\n",
       "      <td>74.834351</td>\n",
       "      <td>498.016131</td>\n",
       "      <td>74.251253</td>\n",
       "      <td>165.002383</td>\n",
       "    </tr>\n",
       "    <tr>\n",
       "      <th>6</th>\n",
       "      <td>54.469226</td>\n",
       "      <td>1.781678</td>\n",
       "      <td>77.115205</td>\n",
       "      <td>534.779185</td>\n",
       "      <td>76.563233</td>\n",
       "      <td>168.000509</td>\n",
       "    </tr>\n",
       "    <tr>\n",
       "      <th>7</th>\n",
       "      <td>53.708454</td>\n",
       "      <td>1.573876</td>\n",
       "      <td>80.716256</td>\n",
       "      <td>570.787161</td>\n",
       "      <td>80.072338</td>\n",
       "      <td>171.405279</td>\n",
       "    </tr>\n",
       "    <tr>\n",
       "      <th>8</th>\n",
       "      <td>53.354186</td>\n",
       "      <td>1.306171</td>\n",
       "      <td>85.399642</td>\n",
       "      <td>643.930094</td>\n",
       "      <td>84.663829</td>\n",
       "      <td>175.001213</td>\n",
       "    </tr>\n",
       "    <tr>\n",
       "      <th>9</th>\n",
       "      <td>53.838675</td>\n",
       "      <td>1.134095</td>\n",
       "      <td>89.774340</td>\n",
       "      <td>651.359825</td>\n",
       "      <td>88.932201</td>\n",
       "      <td>178.888785</td>\n",
       "    </tr>\n",
       "    <tr>\n",
       "      <th>10</th>\n",
       "      <td>51.531986</td>\n",
       "      <td>1.034134</td>\n",
       "      <td>98.338009</td>\n",
       "      <td>714.941775</td>\n",
       "      <td>97.387332</td>\n",
       "      <td>186.214057</td>\n",
       "    </tr>\n",
       "    <tr>\n",
       "      <th>11</th>\n",
       "      <td>55.246926</td>\n",
       "      <td>1.758967</td>\n",
       "      <td>71.630761</td>\n",
       "      <td>792.074824</td>\n",
       "      <td>71.236649</td>\n",
       "      <td>236.000000</td>\n",
       "    </tr>\n",
       "  </tbody>\n",
       "</table>\n",
       "</div>"
      ],
      "text/plain": [
       "                     age       sex    wtyrago     finalwt      wtkg2  \\\n",
       "height_decile                                                          \n",
       "1              59.343555  1.978576  65.732170  482.633403  65.071502   \n",
       "2              57.708848  1.976869  68.925145  460.942597  68.415169   \n",
       "3              56.693958  1.964062  71.014838  461.123901  70.420280   \n",
       "4              55.411945  1.943195  72.962619  481.562164  72.417512   \n",
       "5              55.010687  1.890204  74.834351  498.016131  74.251253   \n",
       "6              54.469226  1.781678  77.115205  534.779185  76.563233   \n",
       "7              53.708454  1.573876  80.716256  570.787161  80.072338   \n",
       "8              53.354186  1.306171  85.399642  643.930094  84.663829   \n",
       "9              53.838675  1.134095  89.774340  651.359825  88.932201   \n",
       "10             51.531986  1.034134  98.338009  714.941775  97.387332   \n",
       "11             55.246926  1.758967  71.630761  792.074824  71.236649   \n",
       "\n",
       "                     htm3  \n",
       "height_decile              \n",
       "1              152.147807  \n",
       "2              157.001891  \n",
       "3              160.002595  \n",
       "4              163.000728  \n",
       "5              165.002383  \n",
       "6              168.000509  \n",
       "7              171.405279  \n",
       "8              175.001213  \n",
       "9              178.888785  \n",
       "10             186.214057  \n",
       "11             236.000000  "
      ]
     },
     "execution_count": 19,
     "metadata": {},
     "output_type": "execute_result"
    }
   ],
   "source": [
    "groupby.mean()"
   ]
  },
  {
   "cell_type": "markdown",
   "metadata": {},
   "source": [
    "It looks like:\n",
    "\n",
    "1. The shortest people are older than the tallest people, on average.\n",
    "\n",
    "2. The shortest people are much more likely to be female (no surprise there).\n",
    "\n",
    "3. The shortest people are lighter than the tallest people (`wtkg2`), and they were lighter last year, too (`wtyrago`).\n",
    "\n",
    "4. Shorter people are more oversampled, so they have lower final weights.  This is at least partly, and maybe entirely, due to the relationship with sex.\n",
    "\n",
    "The fact that all of these variables are associates with height suggests that it will be important to control for age and sex for almost any analysis we want to do with this data.\n",
    "\n",
    "Nevertheless, we'll start with a simple analysis looking at weights within each height group."
   ]
  },
  {
   "cell_type": "code",
   "execution_count": 20,
   "metadata": {
    "collapsed": false
   },
   "outputs": [
    {
     "data": {
      "text/plain": [
       "<pandas.core.groupby.SeriesGroupBy object at 0x7f6c34e6a6d0>"
      ]
     },
     "execution_count": 20,
     "metadata": {},
     "output_type": "execute_result"
    }
   ],
   "source": [
    "weights = groupby.wtkg2\n",
    "weights"
   ]
  },
  {
   "cell_type": "markdown",
   "metadata": {},
   "source": [
    "If we apply `quantile` to a `SeriesGroupBy`, we get back a `Series` with a `MultiIndex`."
   ]
  },
  {
   "cell_type": "code",
   "execution_count": 21,
   "metadata": {
    "collapsed": false
   },
   "outputs": [
    {
     "data": {
      "text/plain": [
       "height_decile      \n",
       "1              0.25     54.55\n",
       "               0.50     62.73\n",
       "               0.75     72.73\n",
       "2              0.25     57.73\n",
       "               0.50     65.91\n",
       "               0.75     76.36\n",
       "3              0.25     59.09\n",
       "               0.50     68.18\n",
       "               0.75     78.64\n",
       "4              0.25     61.36\n",
       "               0.50     68.18\n",
       "               0.75     81.36\n",
       "5              0.25     63.18\n",
       "               0.50     71.36\n",
       "               0.75     81.82\n",
       "6              0.25     64.09\n",
       "               0.50     72.73\n",
       "               0.75     84.09\n",
       "7              0.25     68.18\n",
       "               0.50     77.27\n",
       "               0.75     88.64\n",
       "8              0.25     72.73\n",
       "               0.50     81.82\n",
       "               0.75     90.91\n",
       "9              0.25     77.27\n",
       "               0.50     86.36\n",
       "               0.75     97.27\n",
       "10             0.25     84.09\n",
       "               0.50     95.45\n",
       "               0.75    106.82\n",
       "11             0.25     59.09\n",
       "               0.50     69.09\n",
       "               0.75     80.00\n",
       "dtype: float64"
      ]
     },
     "execution_count": 21,
     "metadata": {},
     "output_type": "execute_result"
    }
   ],
   "source": [
    "quantiles = weights.quantile([0.25, 0.5, 0.75])\n",
    "quantiles"
   ]
  },
  {
   "cell_type": "code",
   "execution_count": 22,
   "metadata": {
    "collapsed": false
   },
   "outputs": [
    {
     "data": {
      "text/plain": [
       "pandas.indexes.multi.MultiIndex"
      ]
     },
     "execution_count": 22,
     "metadata": {},
     "output_type": "execute_result"
    }
   ],
   "source": [
    "type(quantiles.index)"
   ]
  },
  {
   "cell_type": "markdown",
   "metadata": {},
   "source": [
    "If you unstack a MultiIndex, the inner level of the MultIndex gets broken out into columns."
   ]
  },
  {
   "cell_type": "code",
   "execution_count": 23,
   "metadata": {
    "collapsed": false
   },
   "outputs": [
    {
     "data": {
      "text/html": [
       "<div>\n",
       "<table border=\"1\" class=\"dataframe\">\n",
       "  <thead>\n",
       "    <tr style=\"text-align: right;\">\n",
       "      <th></th>\n",
       "      <th>0.25</th>\n",
       "      <th>0.5</th>\n",
       "      <th>0.75</th>\n",
       "    </tr>\n",
       "    <tr>\n",
       "      <th>height_decile</th>\n",
       "      <th></th>\n",
       "      <th></th>\n",
       "      <th></th>\n",
       "    </tr>\n",
       "  </thead>\n",
       "  <tbody>\n",
       "    <tr>\n",
       "      <th>1</th>\n",
       "      <td>54.55</td>\n",
       "      <td>62.73</td>\n",
       "      <td>72.73</td>\n",
       "    </tr>\n",
       "    <tr>\n",
       "      <th>2</th>\n",
       "      <td>57.73</td>\n",
       "      <td>65.91</td>\n",
       "      <td>76.36</td>\n",
       "    </tr>\n",
       "    <tr>\n",
       "      <th>3</th>\n",
       "      <td>59.09</td>\n",
       "      <td>68.18</td>\n",
       "      <td>78.64</td>\n",
       "    </tr>\n",
       "    <tr>\n",
       "      <th>4</th>\n",
       "      <td>61.36</td>\n",
       "      <td>68.18</td>\n",
       "      <td>81.36</td>\n",
       "    </tr>\n",
       "    <tr>\n",
       "      <th>5</th>\n",
       "      <td>63.18</td>\n",
       "      <td>71.36</td>\n",
       "      <td>81.82</td>\n",
       "    </tr>\n",
       "    <tr>\n",
       "      <th>6</th>\n",
       "      <td>64.09</td>\n",
       "      <td>72.73</td>\n",
       "      <td>84.09</td>\n",
       "    </tr>\n",
       "    <tr>\n",
       "      <th>7</th>\n",
       "      <td>68.18</td>\n",
       "      <td>77.27</td>\n",
       "      <td>88.64</td>\n",
       "    </tr>\n",
       "    <tr>\n",
       "      <th>8</th>\n",
       "      <td>72.73</td>\n",
       "      <td>81.82</td>\n",
       "      <td>90.91</td>\n",
       "    </tr>\n",
       "    <tr>\n",
       "      <th>9</th>\n",
       "      <td>77.27</td>\n",
       "      <td>86.36</td>\n",
       "      <td>97.27</td>\n",
       "    </tr>\n",
       "    <tr>\n",
       "      <th>10</th>\n",
       "      <td>84.09</td>\n",
       "      <td>95.45</td>\n",
       "      <td>106.82</td>\n",
       "    </tr>\n",
       "    <tr>\n",
       "      <th>11</th>\n",
       "      <td>59.09</td>\n",
       "      <td>69.09</td>\n",
       "      <td>80.00</td>\n",
       "    </tr>\n",
       "  </tbody>\n",
       "</table>\n",
       "</div>"
      ],
      "text/plain": [
       "                0.25   0.50    0.75\n",
       "height_decile                      \n",
       "1              54.55  62.73   72.73\n",
       "2              57.73  65.91   76.36\n",
       "3              59.09  68.18   78.64\n",
       "4              61.36  68.18   81.36\n",
       "5              63.18  71.36   81.82\n",
       "6              64.09  72.73   84.09\n",
       "7              68.18  77.27   88.64\n",
       "8              72.73  81.82   90.91\n",
       "9              77.27  86.36   97.27\n",
       "10             84.09  95.45  106.82\n",
       "11             59.09  69.09   80.00"
      ]
     },
     "execution_count": 23,
     "metadata": {},
     "output_type": "execute_result"
    }
   ],
   "source": [
    "quantiles.unstack()"
   ]
  },
  {
   "cell_type": "markdown",
   "metadata": {},
   "source": [
    "Which makes it convenient to plot each of the columns as a line."
   ]
  },
  {
   "cell_type": "code",
   "execution_count": 24,
   "metadata": {
    "collapsed": false
   },
   "outputs": [
    {
     "data": {
      "text/plain": [
       "<matplotlib.axes._subplots.AxesSubplot at 0x7f6c34e43890>"
      ]
     },
     "execution_count": 24,
     "metadata": {},
     "output_type": "execute_result"
    },
    {
     "data": {
      "image/png": "[encoded data removed]",
      "text/plain": [
       "<matplotlib.figure.Figure at 0x7f6c34e430d0>"
      ]
     },
     "metadata": {},
     "output_type": "display_data"
    }
   ],
   "source": [
    "quantiles.unstack().plot()"
   ]
  },
  {
   "cell_type": "markdown",
   "metadata": {
    "collapsed": true
   },
   "source": [
    "The other view of this data we might like is the CDF of weight within each height group.\n",
    "\n",
    "We can use `apply` with the `Cdf` constructor from `thinkstats2`.  The results is a Series of Cdf objects."
   ]
  },
  {
   "cell_type": "code",
   "execution_count": 25,
   "metadata": {
    "collapsed": false
   },
   "outputs": [
    {
     "data": {
      "text/plain": [
       "height_decile\n",
       "1     [0.0, 0.0, 0.0, 0.0, 0.0, 0.0, 0.0, 0.0, 0.0, ...\n",
       "2     [0.0, 0.0, 0.0, 0.0, 0.0, 0.0, 0.0, 0.0, 0.0, ...\n",
       "3     [0.0, 0.0, 0.0, 0.0, 0.0, 0.0, 0.0, 0.0, 0.0, ...\n",
       "4     [0.0, 0.0, 0.0, 0.0, 0.0, 0.0, 0.0, 0.0, 0.0, ...\n",
       "5     [0.0, 0.0, 0.0, 0.0, 0.0, 0.0, 0.0, 0.0, 0.0, ...\n",
       "6     [0.0, 0.0, 0.0, 0.0, 0.0, 0.0, 0.0, 0.0, 0.0, ...\n",
       "7     [0.0, 0.0, 0.0, 0.0, 0.0, 0.0, 0.0, 0.0, 0.0, ...\n",
       "8     [0.0, 0.0, 0.0, 0.0, 0.0, 0.0, 0.0, 0.0, 0.0, ...\n",
       "9     [0.0, 0.0, 0.0, 0.0, 0.0, 0.0, 0.0, 0.0, 0.0, ...\n",
       "10    [0.0, 0.0, 0.0, 0.0, 0.0, 0.0, 0.0, 0.0, 0.0, ...\n",
       "11    [0.0, 0.0, 0.0, 0.0, 0.0, 0.0, 0.0, 0.0, 0.0, ...\n",
       "Name: wtkg2, dtype: object"
      ]
     },
     "execution_count": 25,
     "metadata": {},
     "output_type": "execute_result"
    }
   ],
   "source": [
    "from thinkstats2 import Cdf\n",
    "\n",
    "cdfs = weights.apply(Cdf)\n",
    "cdfs"
   ]
  },
  {
   "cell_type": "markdown",
   "metadata": {},
   "source": [
    "And now we can plot the CDFs"
   ]
  },
  {
   "cell_type": "code",
   "execution_count": 26,
   "metadata": {
    "collapsed": false
   },
   "outputs": [
    {
     "data": {
      "image/png": "[encoded data removed]",
      "text/plain": [
       "<matplotlib.figure.Figure at 0x7f6c3c5e3310>"
      ]
     },
     "metadata": {},
     "output_type": "display_data"
    }
   ],
   "source": [
    "import thinkplot\n",
    "\n",
    "thinkplot.Cdfs(cdfs[1:11:2])\n",
    "thinkplot.Config(xlabel='Weight (kg)', ylabel='Cdf')"
   ]
  },
  {
   "cell_type": "markdown",
   "metadata": {},
   "source": [
    "**Exercise:** Plot CDFs of weight for men and women separately, broken out by decile of height."
   ]
  },
  {
   "cell_type": "code",
   "execution_count": 27,
   "metadata": {
    "collapsed": false
   },
   "outputs": [],
   "source": [
    "groupby = df.groupby(['sex', 'height_decile'])"
   ]
  },
  {
   "cell_type": "code",
   "execution_count": 28,
   "metadata": {
    "collapsed": false
   },
   "outputs": [
    {
     "data": {
      "text/html": [
       "<div>\n",
       "<table border=\"1\" class=\"dataframe\">\n",
       "  <thead>\n",
       "    <tr style=\"text-align: right;\">\n",
       "      <th></th>\n",
       "      <th></th>\n",
       "      <th>age</th>\n",
       "      <th>wtyrago</th>\n",
       "      <th>finalwt</th>\n",
       "      <th>wtkg2</th>\n",
       "      <th>htm3</th>\n",
       "    </tr>\n",
       "    <tr>\n",
       "      <th>sex</th>\n",
       "      <th>height_decile</th>\n",
       "      <th></th>\n",
       "      <th></th>\n",
       "      <th></th>\n",
       "      <th></th>\n",
       "      <th></th>\n",
       "    </tr>\n",
       "  </thead>\n",
       "  <tbody>\n",
       "    <tr>\n",
       "      <th rowspan=\"11\" valign=\"top\">1</th>\n",
       "      <th>1</th>\n",
       "      <td>53.844743</td>\n",
       "      <td>71.977922</td>\n",
       "      <td>1191.234678</td>\n",
       "      <td>71.514913</td>\n",
       "      <td>150.233293</td>\n",
       "    </tr>\n",
       "    <tr>\n",
       "      <th>2</th>\n",
       "      <td>56.595658</td>\n",
       "      <td>71.746929</td>\n",
       "      <td>1003.079353</td>\n",
       "      <td>71.003320</td>\n",
       "      <td>157.025469</td>\n",
       "    </tr>\n",
       "    <tr>\n",
       "      <th>3</th>\n",
       "      <td>54.869454</td>\n",
       "      <td>72.944564</td>\n",
       "      <td>964.772919</td>\n",
       "      <td>72.326525</td>\n",
       "      <td>160.028037</td>\n",
       "    </tr>\n",
       "    <tr>\n",
       "      <th>4</th>\n",
       "      <td>56.042489</td>\n",
       "      <td>74.553472</td>\n",
       "      <td>879.420399</td>\n",
       "      <td>74.016273</td>\n",
       "      <td>163.005126</td>\n",
       "    </tr>\n",
       "    <tr>\n",
       "      <th>5</th>\n",
       "      <td>55.165862</td>\n",
       "      <td>76.385110</td>\n",
       "      <td>917.796857</td>\n",
       "      <td>75.760722</td>\n",
       "      <td>165.013377</td>\n",
       "    </tr>\n",
       "    <tr>\n",
       "      <th>6</th>\n",
       "      <td>56.300059</td>\n",
       "      <td>79.337985</td>\n",
       "      <td>814.286624</td>\n",
       "      <td>78.624502</td>\n",
       "      <td>168.001398</td>\n",
       "    </tr>\n",
       "    <tr>\n",
       "      <th>7</th>\n",
       "      <td>56.170706</td>\n",
       "      <td>82.956049</td>\n",
       "      <td>705.872453</td>\n",
       "      <td>82.235605</td>\n",
       "      <td>171.753016</td>\n",
       "    </tr>\n",
       "    <tr>\n",
       "      <th>8</th>\n",
       "      <td>55.213608</td>\n",
       "      <td>86.572882</td>\n",
       "      <td>706.591295</td>\n",
       "      <td>85.843598</td>\n",
       "      <td>175.001515</td>\n",
       "    </tr>\n",
       "    <tr>\n",
       "      <th>9</th>\n",
       "      <td>54.734034</td>\n",
       "      <td>90.392173</td>\n",
       "      <td>676.266016</td>\n",
       "      <td>89.530755</td>\n",
       "      <td>178.925710</td>\n",
       "    </tr>\n",
       "    <tr>\n",
       "      <th>10</th>\n",
       "      <td>51.677645</td>\n",
       "      <td>98.621484</td>\n",
       "      <td>721.615568</td>\n",
       "      <td>97.668112</td>\n",
       "      <td>186.240144</td>\n",
       "    </tr>\n",
       "    <tr>\n",
       "      <th>11</th>\n",
       "      <td>50.650927</td>\n",
       "      <td>79.295724</td>\n",
       "      <td>1195.072324</td>\n",
       "      <td>78.971384</td>\n",
       "      <td>236.000000</td>\n",
       "    </tr>\n",
       "    <tr>\n",
       "      <th rowspan=\"11\" valign=\"top\">2</th>\n",
       "      <th>1</th>\n",
       "      <td>59.464339</td>\n",
       "      <td>65.595065</td>\n",
       "      <td>467.120026</td>\n",
       "      <td>64.928121</td>\n",
       "      <td>152.189721</td>\n",
       "    </tr>\n",
       "    <tr>\n",
       "      <th>2</th>\n",
       "      <td>57.735134</td>\n",
       "      <td>68.857631</td>\n",
       "      <td>448.105460</td>\n",
       "      <td>68.351735</td>\n",
       "      <td>157.001333</td>\n",
       "    </tr>\n",
       "    <tr>\n",
       "      <th>3</th>\n",
       "      <td>56.762345</td>\n",
       "      <td>70.942543</td>\n",
       "      <td>442.349122</td>\n",
       "      <td>70.347362</td>\n",
       "      <td>160.001647</td>\n",
       "    </tr>\n",
       "    <tr>\n",
       "      <th>4</th>\n",
       "      <td>55.373809</td>\n",
       "      <td>72.864145</td>\n",
       "      <td>457.600597</td>\n",
       "      <td>72.317857</td>\n",
       "      <td>163.000463</td>\n",
       "    </tr>\n",
       "    <tr>\n",
       "      <th>5</th>\n",
       "      <td>54.991480</td>\n",
       "      <td>74.636768</td>\n",
       "      <td>446.241040</td>\n",
       "      <td>74.057330</td>\n",
       "      <td>165.001027</td>\n",
       "    </tr>\n",
       "    <tr>\n",
       "      <th>6</th>\n",
       "      <td>53.955434</td>\n",
       "      <td>76.467033</td>\n",
       "      <td>456.712813</td>\n",
       "      <td>75.963038</td>\n",
       "      <td>168.000260</td>\n",
       "    </tr>\n",
       "    <tr>\n",
       "      <th>7</th>\n",
       "      <td>51.872079</td>\n",
       "      <td>78.972655</td>\n",
       "      <td>470.481305</td>\n",
       "      <td>78.390760</td>\n",
       "      <td>171.147071</td>\n",
       "    </tr>\n",
       "    <tr>\n",
       "      <th>8</th>\n",
       "      <td>49.126449</td>\n",
       "      <td>82.582291</td>\n",
       "      <td>501.930594</td>\n",
       "      <td>81.844168</td>\n",
       "      <td>175.000528</td>\n",
       "    </tr>\n",
       "    <tr>\n",
       "      <th>9</th>\n",
       "      <td>48.030870</td>\n",
       "      <td>85.524509</td>\n",
       "      <td>490.531017</td>\n",
       "      <td>84.845692</td>\n",
       "      <td>178.650349</td>\n",
       "    </tr>\n",
       "    <tr>\n",
       "      <th>10</th>\n",
       "      <td>47.388489</td>\n",
       "      <td>89.769177</td>\n",
       "      <td>526.098271</td>\n",
       "      <td>89.063530</td>\n",
       "      <td>185.475904</td>\n",
       "    </tr>\n",
       "    <tr>\n",
       "      <th>11</th>\n",
       "      <td>56.722523</td>\n",
       "      <td>69.371896</td>\n",
       "      <td>664.090555</td>\n",
       "      <td>68.941935</td>\n",
       "      <td>NaN</td>\n",
       "    </tr>\n",
       "  </tbody>\n",
       "</table>\n",
       "</div>"
      ],
      "text/plain": [
       "                         age    wtyrago      finalwt      wtkg2        htm3\n",
       "sex height_decile                                                          \n",
       "1   1              53.844743  71.977922  1191.234678  71.514913  150.233293\n",
       "    2              56.595658  71.746929  1003.079353  71.003320  157.025469\n",
       "    3              54.869454  72.944564   964.772919  72.326525  160.028037\n",
       "    4              56.042489  74.553472   879.420399  74.016273  163.005126\n",
       "    5              55.165862  76.385110   917.796857  75.760722  165.013377\n",
       "    6              56.300059  79.337985   814.286624  78.624502  168.001398\n",
       "    7              56.170706  82.956049   705.872453  82.235605  171.753016\n",
       "    8              55.213608  86.572882   706.591295  85.843598  175.001515\n",
       "    9              54.734034  90.392173   676.266016  89.530755  178.925710\n",
       "    10             51.677645  98.621484   721.615568  97.668112  186.240144\n",
       "    11             50.650927  79.295724  1195.072324  78.971384  236.000000\n",
       "2   1              59.464339  65.595065   467.120026  64.928121  152.189721\n",
       "    2              57.735134  68.857631   448.105460  68.351735  157.001333\n",
       "    3              56.762345  70.942543   442.349122  70.347362  160.001647\n",
       "    4              55.373809  72.864145   457.600597  72.317857  163.000463\n",
       "    5              54.991480  74.636768   446.241040  74.057330  165.001027\n",
       "    6              53.955434  76.467033   456.712813  75.963038  168.000260\n",
       "    7              51.872079  78.972655   470.481305  78.390760  171.147071\n",
       "    8              49.126449  82.582291   501.930594  81.844168  175.000528\n",
       "    9              48.030870  85.524509   490.531017  84.845692  178.650349\n",
       "    10             47.388489  89.769177   526.098271  89.063530  185.475904\n",
       "    11             56.722523  69.371896   664.090555  68.941935         NaN"
      ]
     },
     "execution_count": 28,
     "metadata": {},
     "output_type": "execute_result"
    }
   ],
   "source": [
    "groupby.mean()"
   ]
  },
  {
   "cell_type": "code",
   "execution_count": 29,
   "metadata": {
    "collapsed": false
   },
   "outputs": [
    {
     "data": {
      "text/plain": [
       "sex  height_decile\n",
       "1    1                71.514913\n",
       "     2                71.003320\n",
       "     3                72.326525\n",
       "     4                74.016273\n",
       "     5                75.760722\n",
       "     6                78.624502\n",
       "     7                82.235605\n",
       "     8                85.843598\n",
       "     9                89.530755\n",
       "     10               97.668112\n",
       "     11               78.971384\n",
       "2    1                64.928121\n",
       "     2                68.351735\n",
       "     3                70.347362\n",
       "     4                72.317857\n",
       "     5                74.057330\n",
       "     6                75.963038\n",
       "     7                78.390760\n",
       "     8                81.844168\n",
       "     9                84.845692\n",
       "     10               89.063530\n",
       "     11               68.941935\n",
       "Name: wtkg2, dtype: float64"
      ]
     },
     "execution_count": 29,
     "metadata": {},
     "output_type": "execute_result"
    }
   ],
   "source": [
    "groupby.wtkg2.mean()"
   ]
  },
  {
   "cell_type": "code",
   "execution_count": 30,
   "metadata": {
    "collapsed": false
   },
   "outputs": [
    {
     "data": {
      "text/plain": [
       "sex  height_decile\n",
       "1    1                [0.0, 0.0, 0.0, 0.0, 0.0, 0.0, 0.0, 0.0, 0.0, ...\n",
       "     2                [0.0, 0.0, 0.0, 0.0, 0.0, 0.0, 0.0, 0.0, 0.0, ...\n",
       "     3                [0.0, 0.0, 0.0, 0.0, 0.0, 0.0, 0.0, 0.0, 0.0, ...\n",
       "     4                [0.0, 0.0, 0.0, 0.0, 0.0, 0.0, 0.0, 0.0, 0.0, ...\n",
       "     5                [0.0, 0.0, 0.0, 0.0, 0.0, 0.0, 0.0, 0.0, 0.0, ...\n",
       "     6                [0.0, 0.0, 0.0, 0.0, 0.0, 0.0, 0.0, 0.0, 0.0, ...\n",
       "     7                [0.0, 0.0, 0.0, 0.0, 0.0, 0.0, 0.0, 0.0, 0.0, ...\n",
       "     8                [0.0, 0.0, 0.0, 0.0, 0.0, 0.0, 0.0, 0.0, 0.0, ...\n",
       "     9                [0.0, 0.0, 0.0, 0.0, 0.0, 0.0, 0.0, 0.0, 0.0, ...\n",
       "     10               [0.0, 0.0, 0.0, 0.0, 0.0, 0.0, 0.0, 0.0, 0.0, ...\n",
       "     11               [0.0, 0.0, 0.0, 0.0, 0.0, 0.0, 0.0, 0.0, 0.0, ...\n",
       "2    1                [0.0, 0.0, 0.0, 0.0, 0.0, 0.0, 0.0, 0.0, 0.0, ...\n",
       "     2                [0.0, 0.0, 0.0, 0.0, 0.0, 0.0, 0.0, 0.0, 0.0, ...\n",
       "     3                [0.0, 0.0, 0.0, 0.0, 0.0, 0.0, 0.0, 0.0, 0.0, ...\n",
       "     4                [0.0, 0.0, 0.0, 0.0, 0.0, 0.0, 0.0, 0.0, 0.0, ...\n",
       "     5                [0.0, 0.0, 0.0, 0.0, 0.0, 0.0, 0.0, 0.0, 0.0, ...\n",
       "     6                [0.0, 0.0, 0.0, 0.0, 0.0, 0.0, 0.0, 0.0, 0.0, ...\n",
       "     7                [0.0, 0.0, 0.0, 0.0, 0.0, 0.0, 0.0, 0.0, 0.0, ...\n",
       "     8                [0.0, 0.0, 0.0, 0.0, 0.0, 0.0, 0.0, 0.0, 0.0, ...\n",
       "     9                [0.0, 0.0, 0.0, 0.0, 0.0, 0.0, 0.0, 0.0, 0.0, ...\n",
       "     10               [0.0, 0.0, 0.0, 0.0, 0.0, 0.0, 0.0, 0.0, 0.0, ...\n",
       "     11               [0.0, 0.0, 0.0, 0.0, 0.0, 0.0, 0.0, 0.0, 0.0, ...\n",
       "Name: wtkg2, dtype: object"
      ]
     },
     "execution_count": 30,
     "metadata": {},
     "output_type": "execute_result"
    }
   ],
   "source": [
    "cdfs = groupby.wtkg2.apply(Cdf)\n",
    "cdfs"
   ]
  },
  {
   "cell_type": "code",
   "execution_count": 31,
   "metadata": {
    "collapsed": false
   },
   "outputs": [
    {
     "data": {
      "text/html": [
       "<div>\n",
       "<table border=\"1\" class=\"dataframe\">\n",
       "  <thead>\n",
       "    <tr style=\"text-align: right;\">\n",
       "      <th>height_decile</th>\n",
       "      <th>1</th>\n",
       "      <th>2</th>\n",
       "      <th>3</th>\n",
       "      <th>4</th>\n",
       "      <th>5</th>\n",
       "      <th>6</th>\n",
       "      <th>7</th>\n",
       "      <th>8</th>\n",
       "      <th>9</th>\n",
       "      <th>10</th>\n",
       "      <th>11</th>\n",
       "    </tr>\n",
       "    <tr>\n",
       "      <th>sex</th>\n",
       "      <th></th>\n",
       "      <th></th>\n",
       "      <th></th>\n",
       "      <th></th>\n",
       "      <th></th>\n",
       "      <th></th>\n",
       "      <th></th>\n",
       "      <th></th>\n",
       "      <th></th>\n",
       "      <th></th>\n",
       "      <th></th>\n",
       "    </tr>\n",
       "  </thead>\n",
       "  <tbody>\n",
       "    <tr>\n",
       "      <th>1</th>\n",
       "      <td>[0.0, 0.0, 0.0, 0.0, 0.0, 0.0, 0.0, 0.0, 0.0, ...</td>\n",
       "      <td>[0.0, 0.0, 0.0, 0.0, 0.0, 0.0, 0.0, 0.0, 0.0, ...</td>\n",
       "      <td>[0.0, 0.0, 0.0, 0.0, 0.0, 0.0, 0.0, 0.0, 0.0, ...</td>\n",
       "      <td>[0.0, 0.0, 0.0, 0.0, 0.0, 0.0, 0.0, 0.0, 0.0, ...</td>\n",
       "      <td>[0.0, 0.0, 0.0, 0.0, 0.0, 0.0, 0.0, 0.0, 0.0, ...</td>\n",
       "      <td>[0.0, 0.0, 0.0, 0.0, 0.0, 0.0, 0.0, 0.0, 0.0, ...</td>\n",
       "      <td>[0.0, 0.0, 0.0, 0.0, 0.0, 0.0, 0.0, 0.0, 0.0, ...</td>\n",
       "      <td>[0.0, 0.0, 0.0, 0.0, 0.0, 0.0, 0.0, 0.0, 0.0, ...</td>\n",
       "      <td>[0.0, 0.0, 0.0, 0.0, 0.0, 0.0, 0.0, 0.0, 0.0, ...</td>\n",
       "      <td>[0.0, 0.0, 0.0, 0.0, 0.0, 0.0, 0.0, 0.0, 0.0, ...</td>\n",
       "      <td>[0.0, 0.0, 0.0, 0.0, 0.0, 0.0, 0.0, 0.0, 0.0, ...</td>\n",
       "    </tr>\n",
       "    <tr>\n",
       "      <th>2</th>\n",
       "      <td>[0.0, 0.0, 0.0, 0.0, 0.0, 0.0, 0.0, 0.0, 0.0, ...</td>\n",
       "      <td>[0.0, 0.0, 0.0, 0.0, 0.0, 0.0, 0.0, 0.0, 0.0, ...</td>\n",
       "      <td>[0.0, 0.0, 0.0, 0.0, 0.0, 0.0, 0.0, 0.0, 0.0, ...</td>\n",
       "      <td>[0.0, 0.0, 0.0, 0.0, 0.0, 0.0, 0.0, 0.0, 0.0, ...</td>\n",
       "      <td>[0.0, 0.0, 0.0, 0.0, 0.0, 0.0, 0.0, 0.0, 0.0, ...</td>\n",
       "      <td>[0.0, 0.0, 0.0, 0.0, 0.0, 0.0, 0.0, 0.0, 0.0, ...</td>\n",
       "      <td>[0.0, 0.0, 0.0, 0.0, 0.0, 0.0, 0.0, 0.0, 0.0, ...</td>\n",
       "      <td>[0.0, 0.0, 0.0, 0.0, 0.0, 0.0, 0.0, 0.0, 0.0, ...</td>\n",
       "      <td>[0.0, 0.0, 0.0, 0.0, 0.0, 0.0, 0.0, 0.0, 0.0, ...</td>\n",
       "      <td>[0.0, 0.0, 0.0, 0.0, 0.0, 0.0, 0.0, 0.0, 0.0, ...</td>\n",
       "      <td>[0.0, 0.0, 0.0, 0.0, 0.0, 0.0, 0.0, 0.0, 0.0, ...</td>\n",
       "    </tr>\n",
       "  </tbody>\n",
       "</table>\n",
       "</div>"
      ],
      "text/plain": [
       "height_decile                                                 1   \\\n",
       "sex                                                                \n",
       "1              [0.0, 0.0, 0.0, 0.0, 0.0, 0.0, 0.0, 0.0, 0.0, ...   \n",
       "2              [0.0, 0.0, 0.0, 0.0, 0.0, 0.0, 0.0, 0.0, 0.0, ...   \n",
       "\n",
       "height_decile                                                 2   \\\n",
       "sex                                                                \n",
       "1              [0.0, 0.0, 0.0, 0.0, 0.0, 0.0, 0.0, 0.0, 0.0, ...   \n",
       "2              [0.0, 0.0, 0.0, 0.0, 0.0, 0.0, 0.0, 0.0, 0.0, ...   \n",
       "\n",
       "height_decile                                                 3   \\\n",
       "sex                                                                \n",
       "1              [0.0, 0.0, 0.0, 0.0, 0.0, 0.0, 0.0, 0.0, 0.0, ...   \n",
       "2              [0.0, 0.0, 0.0, 0.0, 0.0, 0.0, 0.0, 0.0, 0.0, ...   \n",
       "\n",
       "height_decile                                                 4   \\\n",
       "sex                                                                \n",
       "1              [0.0, 0.0, 0.0, 0.0, 0.0, 0.0, 0.0, 0.0, 0.0, ...   \n",
       "2              [0.0, 0.0, 0.0, 0.0, 0.0, 0.0, 0.0, 0.0, 0.0, ...   \n",
       "\n",
       "height_decile                                                 5   \\\n",
       "sex                                                                \n",
       "1              [0.0, 0.0, 0.0, 0.0, 0.0, 0.0, 0.0, 0.0, 0.0, ...   \n",
       "2              [0.0, 0.0, 0.0, 0.0, 0.0, 0.0, 0.0, 0.0, 0.0, ...   \n",
       "\n",
       "height_decile                                                 6   \\\n",
       "sex                                                                \n",
       "1              [0.0, 0.0, 0.0, 0.0, 0.0, 0.0, 0.0, 0.0, 0.0, ...   \n",
       "2              [0.0, 0.0, 0.0, 0.0, 0.0, 0.0, 0.0, 0.0, 0.0, ...   \n",
       "\n",
       "height_decile                                                 7   \\\n",
       "sex                                                                \n",
       "1              [0.0, 0.0, 0.0, 0.0, 0.0, 0.0, 0.0, 0.0, 0.0, ...   \n",
       "2              [0.0, 0.0, 0.0, 0.0, 0.0, 0.0, 0.0, 0.0, 0.0, ...   \n",
       "\n",
       "height_decile                                                 8   \\\n",
       "sex                                                                \n",
       "1              [0.0, 0.0, 0.0, 0.0, 0.0, 0.0, 0.0, 0.0, 0.0, ...   \n",
       "2              [0.0, 0.0, 0.0, 0.0, 0.0, 0.0, 0.0, 0.0, 0.0, ...   \n",
       "\n",
       "height_decile                                                 9   \\\n",
       "sex                                                                \n",
       "1              [0.0, 0.0, 0.0, 0.0, 0.0, 0.0, 0.0, 0.0, 0.0, ...   \n",
       "2              [0.0, 0.0, 0.0, 0.0, 0.0, 0.0, 0.0, 0.0, 0.0, ...   \n",
       "\n",
       "height_decile                                                 10  \\\n",
       "sex                                                                \n",
       "1              [0.0, 0.0, 0.0, 0.0, 0.0, 0.0, 0.0, 0.0, 0.0, ...   \n",
       "2              [0.0, 0.0, 0.0, 0.0, 0.0, 0.0, 0.0, 0.0, 0.0, ...   \n",
       "\n",
       "height_decile                                                 11  \n",
       "sex                                                               \n",
       "1              [0.0, 0.0, 0.0, 0.0, 0.0, 0.0, 0.0, 0.0, 0.0, ...  \n",
       "2              [0.0, 0.0, 0.0, 0.0, 0.0, 0.0, 0.0, 0.0, 0.0, ...  "
      ]
     },
     "execution_count": 31,
     "metadata": {},
     "output_type": "execute_result"
    }
   ],
   "source": [
    "cdfs.unstack()"
   ]
  },
  {
   "cell_type": "code",
   "execution_count": 32,
   "metadata": {
    "collapsed": false
   },
   "outputs": [
    {
     "data": {
      "text/plain": [
       "height_decile\n",
       "1     [0.0, 0.0, 0.0, 0.0, 0.0, 0.0, 0.0, 0.0, 0.0, ...\n",
       "2     [0.0, 0.0, 0.0, 0.0, 0.0, 0.0, 0.0, 0.0, 0.0, ...\n",
       "3     [0.0, 0.0, 0.0, 0.0, 0.0, 0.0, 0.0, 0.0, 0.0, ...\n",
       "4     [0.0, 0.0, 0.0, 0.0, 0.0, 0.0, 0.0, 0.0, 0.0, ...\n",
       "5     [0.0, 0.0, 0.0, 0.0, 0.0, 0.0, 0.0, 0.0, 0.0, ...\n",
       "6     [0.0, 0.0, 0.0, 0.0, 0.0, 0.0, 0.0, 0.0, 0.0, ...\n",
       "7     [0.0, 0.0, 0.0, 0.0, 0.0, 0.0, 0.0, 0.0, 0.0, ...\n",
       "8     [0.0, 0.0, 0.0, 0.0, 0.0, 0.0, 0.0, 0.0, 0.0, ...\n",
       "9     [0.0, 0.0, 0.0, 0.0, 0.0, 0.0, 0.0, 0.0, 0.0, ...\n",
       "10    [0.0, 0.0, 0.0, 0.0, 0.0, 0.0, 0.0, 0.0, 0.0, ...\n",
       "11    [0.0, 0.0, 0.0, 0.0, 0.0, 0.0, 0.0, 0.0, 0.0, ...\n",
       "Name: 1, dtype: object"
      ]
     },
     "execution_count": 32,
     "metadata": {},
     "output_type": "execute_result"
    }
   ],
   "source": [
    "men = cdfs.unstack().loc[1]\n",
    "men"
   ]
  },
  {
   "cell_type": "code",
   "execution_count": 33,
   "metadata": {
    "collapsed": false
   },
   "outputs": [
    {
     "data": {
      "image/png": "[encoded data removed]",
      "text/plain": [
       "<matplotlib.figure.Figure at 0x7f6c3c5e3ad0>"
      ]
     },
     "metadata": {},
     "output_type": "display_data"
    }
   ],
   "source": [
    "thinkplot.Cdfs(men[1:11:2])"
   ]
  },
  {
   "cell_type": "code",
   "execution_count": 34,
   "metadata": {
    "collapsed": false
   },
   "outputs": [
    {
     "data": {
      "text/plain": [
       "height_decile\n",
       "1     [0.0, 0.0, 0.0, 0.0, 0.0, 0.0, 0.0, 0.0, 0.0, ...\n",
       "2     [0.0, 0.0, 0.0, 0.0, 0.0, 0.0, 0.0, 0.0, 0.0, ...\n",
       "3     [0.0, 0.0, 0.0, 0.0, 0.0, 0.0, 0.0, 0.0, 0.0, ...\n",
       "4     [0.0, 0.0, 0.0, 0.0, 0.0, 0.0, 0.0, 0.0, 0.0, ...\n",
       "5     [0.0, 0.0, 0.0, 0.0, 0.0, 0.0, 0.0, 0.0, 0.0, ...\n",
       "6     [0.0, 0.0, 0.0, 0.0, 0.0, 0.0, 0.0, 0.0, 0.0, ...\n",
       "7     [0.0, 0.0, 0.0, 0.0, 0.0, 0.0, 0.0, 0.0, 0.0, ...\n",
       "8     [0.0, 0.0, 0.0, 0.0, 0.0, 0.0, 0.0, 0.0, 0.0, ...\n",
       "9     [0.0, 0.0, 0.0, 0.0, 0.0, 0.0, 0.0, 0.0, 0.0, ...\n",
       "10    [0.0, 0.0, 0.0, 0.0, 0.0, 0.0, 0.0, 0.0, 0.0, ...\n",
       "11    [0.0, 0.0, 0.0, 0.0, 0.0, 0.0, 0.0, 0.0, 0.0, ...\n",
       "Name: 2, dtype: object"
      ]
     },
     "execution_count": 34,
     "metadata": {},
     "output_type": "execute_result"
    }
   ],
   "source": [
    "women = cdfs.unstack().loc[2]\n",
    "women"
   ]
  },
  {
   "cell_type": "code",
   "execution_count": 35,
   "metadata": {
    "collapsed": false
   },
   "outputs": [
    {
     "data": {
      "image/png": "[encoded data removed]",
      "text/plain": [
       "<matplotlib.figure.Figure at 0x7f6c38fc0210>"
      ]
     },
     "metadata": {},
     "output_type": "display_data"
    }
   ],
   "source": [
    "thinkplot.Cdfs(women[1:11:2])"
   ]
  },
  {
   "cell_type": "code",
   "execution_count": null,
   "metadata": {
    "collapsed": true
   },
   "outputs": [],
   "source": []
  }
 ],
 "metadata": {
  "kernelspec": {
   "display_name": "Python 2",
   "language": "python",
   "name": "python2"
  },
  "language_info": {
   "codemirror_mode": {
    "name": "ipython",
    "version": 2
   },
   "file_extension": ".py",
   "mimetype": "text/x-python",
   "name": "python",
   "nbconvert_exporter": "python",
   "pygments_lexer": "ipython2",
   "version": "2.7.11"
  }
 },
 "nbformat": 4,
 "nbformat_minor": 0
}
