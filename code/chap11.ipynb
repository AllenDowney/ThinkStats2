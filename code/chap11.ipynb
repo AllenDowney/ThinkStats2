{
 "metadata": {
  "name": ""
 },
 "nbformat": 3,
 "nbformat_minor": 0,
 "worksheets": [
  {
   "cells": [
    {
     "cell_type": "code",
     "collapsed": false,
     "input": [
      "import nsfg\n",
      "import first\n",
      "live, firsts, others = first.MakeFrames()"
     ],
     "language": "python",
     "metadata": {},
     "outputs": [],
     "prompt_number": 8
    },
    {
     "cell_type": "markdown",
     "metadata": {},
     "source": [
      "Print value counts for <tt>birthord</tt> and compare to results published in the [codebook](http://www.icpsr.umich.edu/nsfg6/Controller?displayPage=labelDetails&fileCode=PREG&section=A&subSec=8016&srtLabel=611933)"
     ]
    },
    {
     "cell_type": "code",
     "collapsed": false,
     "input": [
      "diff_weight = firsts.totalwgt_lb.mean() - others.totalwgt_lb.mean()\n",
      "diff_weight"
     ],
     "language": "python",
     "metadata": {},
     "outputs": [
      {
       "metadata": {},
       "output_type": "pyout",
       "prompt_number": 13,
       "text": [
        "-0.12476118453549034"
       ]
      }
     ],
     "prompt_number": 13
    },
    {
     "cell_type": "code",
     "collapsed": false,
     "input": [
      "diff_age = firsts.agepreg.mean() - others.agepreg.mean()\n",
      "diff_age"
     ],
     "language": "python",
     "metadata": {},
     "outputs": [
      {
       "metadata": {},
       "output_type": "pyout",
       "prompt_number": 14,
       "text": [
        "-3.5864347661501519"
       ]
      }
     ],
     "prompt_number": 14
    },
    {
     "cell_type": "code",
     "collapsed": false,
     "input": [
      "import statsmodels.formula.api as smf\n",
      "results = smf.ols('totalwgt_lb ~ agepreg', data=live).fit()\n",
      "slope = results.params['agepreg']\n",
      "slope"
     ],
     "language": "python",
     "metadata": {},
     "outputs": [
      {
       "metadata": {},
       "output_type": "pyout",
       "prompt_number": 15,
       "text": [
        "0.01745385147180277"
       ]
      }
     ],
     "prompt_number": 15
    },
    {
     "cell_type": "code",
     "collapsed": false,
     "input": [
      "slope * diff_age"
     ],
     "language": "python",
     "metadata": {},
     "outputs": [
      {
       "metadata": {},
       "output_type": "pyout",
       "prompt_number": 18,
       "text": [
        "-0.062597099721694457"
       ]
      }
     ],
     "prompt_number": 18
    },
    {
     "cell_type": "markdown",
     "metadata": {},
     "source": [
      "Print value counts for <tt>prglngth</tt> and compare to results published in the [codebook](http://www.icpsr.umich.edu/nsfg6/Controller?displayPage=labelDetails&fileCode=PREG&section=A&subSec=8016&srtLabel=611931)"
     ]
    },
    {
     "cell_type": "code",
     "collapsed": false,
     "input": [
      "import pandas\n",
      "live['isfirst'] = (live.birthord == 1)\n",
      "pandas.pivot_table(live, rows='isfirst', values=['agepreg', 'totalwgt_lb'])"
     ],
     "language": "python",
     "metadata": {},
     "outputs": [
      {
       "html": [
        "<div style=\"max-height:1000px;max-width:1500px;overflow:auto;\">\n",
        "<table border=\"1\" class=\"dataframe\">\n",
        "  <thead>\n",
        "    <tr style=\"text-align: right;\">\n",
        "      <th></th>\n",
        "      <th>agepreg</th>\n",
        "      <th>totalwgt_lb</th>\n",
        "    </tr>\n",
        "    <tr>\n",
        "      <th>isfirst</th>\n",
        "      <th></th>\n",
        "      <th></th>\n",
        "    </tr>\n",
        "  </thead>\n",
        "  <tbody>\n",
        "    <tr>\n",
        "      <th>False</th>\n",
        "      <td> 26.670849</td>\n",
        "      <td> 7.325856</td>\n",
        "    </tr>\n",
        "    <tr>\n",
        "      <th>True </th>\n",
        "      <td> 23.084414</td>\n",
        "      <td> 7.201094</td>\n",
        "    </tr>\n",
        "  </tbody>\n",
        "</table>\n",
        "<p>2 rows \u00d7 2 columns</p>\n",
        "</div>"
       ],
       "metadata": {},
       "output_type": "pyout",
       "prompt_number": 6,
       "text": [
        "           agepreg  totalwgt_lb\n",
        "isfirst                        \n",
        "False    26.670849     7.325856\n",
        "True     23.084414     7.201094\n",
        "\n",
        "[2 rows x 2 columns]"
       ]
      }
     ],
     "prompt_number": 6
    },
    {
     "cell_type": "markdown",
     "metadata": {},
     "source": [
      "Print value counts for <tt>agepreg</tt> and compare to results published in the [codebook](http://www.icpsr.umich.edu/nsfg6/Controller?displayPage=labelDetails&fileCode=PREG&section=A&subSec=8016&srtLabel=611935).\n",
      "\n",
      "Looking at this data, please remember my comments in the book about the obligation to approach data with consideration for the context and respect for the respondents."
     ]
    },
    {
     "cell_type": "code",
     "collapsed": false,
     "input": [],
     "language": "python",
     "metadata": {},
     "outputs": [],
     "prompt_number": 36
    },
    {
     "cell_type": "markdown",
     "metadata": {},
     "source": [
      "Compute the mean birthweight."
     ]
    },
    {
     "cell_type": "code",
     "collapsed": false,
     "input": [
      "df.totalwgt_lb.mean()"
     ],
     "language": "python",
     "metadata": {},
     "outputs": [
      {
       "metadata": {},
       "output_type": "pyout",
       "prompt_number": 37,
       "text": [
        "7.2656284576233681"
       ]
      }
     ],
     "prompt_number": 37
    },
    {
     "cell_type": "markdown",
     "metadata": {},
     "source": [
      "Create a new column named <tt>totalwgt_kg</tt> that contains birth weight in kilograms.  Compute its mean.  Remember that when you create a new column, you have to use dictionary syntax, not dot notation."
     ]
    },
    {
     "cell_type": "code",
     "collapsed": false,
     "input": [],
     "language": "python",
     "metadata": {},
     "outputs": [],
     "prompt_number": 37
    },
    {
     "cell_type": "markdown",
     "metadata": {},
     "source": [
      "Look through the codebook and find a variable, other than the ones mentioned in the book, that you find interesting.  Compute values counts, means, or other statistics."
     ]
    },
    {
     "cell_type": "code",
     "collapsed": false,
     "input": [],
     "language": "python",
     "metadata": {},
     "outputs": [],
     "prompt_number": 37
    },
    {
     "cell_type": "markdown",
     "metadata": {},
     "source": [
      "Create a boolean Series."
     ]
    },
    {
     "cell_type": "code",
     "collapsed": false,
     "input": [
      "df.outcome == 1"
     ],
     "language": "python",
     "metadata": {},
     "outputs": [
      {
       "metadata": {},
       "output_type": "pyout",
       "prompt_number": 38,
       "text": [
        "0      True\n",
        "1      True\n",
        "2      True\n",
        "3      True\n",
        "4      True\n",
        "5      True\n",
        "6      True\n",
        "7      True\n",
        "8      True\n",
        "9      True\n",
        "10     True\n",
        "11     True\n",
        "12     True\n",
        "13    False\n",
        "14    False\n",
        "...\n",
        "13578     True\n",
        "13579     True\n",
        "13580    False\n",
        "13581     True\n",
        "13582    False\n",
        "13583    False\n",
        "13584     True\n",
        "13585    False\n",
        "13586    False\n",
        "13587    False\n",
        "13588     True\n",
        "13589    False\n",
        "13590    False\n",
        "13591     True\n",
        "13592     True\n",
        "Name: outcome, Length: 13593, dtype: bool"
       ]
      }
     ],
     "prompt_number": 38
    },
    {
     "cell_type": "markdown",
     "metadata": {},
     "source": [
      "Use a boolean Series to select the records for the pregnancies that ended in live birth."
     ]
    },
    {
     "cell_type": "code",
     "collapsed": false,
     "input": [
      "live = df[df.outcome == 1]\n",
      "len(live)"
     ],
     "language": "python",
     "metadata": {},
     "outputs": [
      {
       "metadata": {},
       "output_type": "pyout",
       "prompt_number": 39,
       "text": [
        "9148"
       ]
      }
     ],
     "prompt_number": 39
    },
    {
     "cell_type": "markdown",
     "metadata": {},
     "source": [
      "Count the number of live births with <tt>birthwgt_lb</tt> between 0 and 5 pounds (including both).  The result should be 1125."
     ]
    },
    {
     "cell_type": "code",
     "collapsed": false,
     "input": [
      "len(live[(live.birthwgt_lb >= 0) & (live.birthwgt_lb <= 5)])"
     ],
     "language": "python",
     "metadata": {},
     "outputs": [
      {
       "metadata": {},
       "output_type": "pyout",
       "prompt_number": 40,
       "text": [
        "1125"
       ]
      }
     ],
     "prompt_number": 40
    },
    {
     "cell_type": "markdown",
     "metadata": {},
     "source": [
      "Count the number of live births with <tt>birthwgt_lb</tt> between 9 and 95 pounds (including both).  The result should be 798 "
     ]
    },
    {
     "cell_type": "code",
     "collapsed": false,
     "input": [],
     "language": "python",
     "metadata": {},
     "outputs": [],
     "prompt_number": 40
    },
    {
     "cell_type": "markdown",
     "metadata": {},
     "source": [
      "Use <tt>birthord</tt> to select the records for first babies and others.  How many are there of each?"
     ]
    },
    {
     "cell_type": "code",
     "collapsed": false,
     "input": [
      "firsts = df[df.birthord==1]\n",
      "others = df[df.birthord>1]\n",
      "len(firsts), len(others)"
     ],
     "language": "python",
     "metadata": {},
     "outputs": [
      {
       "metadata": {},
       "output_type": "pyout",
       "prompt_number": 41,
       "text": [
        "(4413, 4735)"
       ]
      }
     ],
     "prompt_number": 41
    },
    {
     "cell_type": "markdown",
     "metadata": {},
     "source": [
      "Compute the mean weight for first babies and others."
     ]
    },
    {
     "cell_type": "code",
     "collapsed": false,
     "input": [
      "firsts.totalwgt_lb.mean()"
     ],
     "language": "python",
     "metadata": {},
     "outputs": [
      {
       "metadata": {},
       "output_type": "pyout",
       "prompt_number": 42,
       "text": [
        "7.201094430437772"
       ]
      }
     ],
     "prompt_number": 42
    },
    {
     "cell_type": "code",
     "collapsed": false,
     "input": [
      "others.totalwgt_lb.mean()"
     ],
     "language": "python",
     "metadata": {},
     "outputs": [
      {
       "metadata": {},
       "output_type": "pyout",
       "prompt_number": 43,
       "text": [
        "7.3258556149732623"
       ]
      }
     ],
     "prompt_number": 43
    },
    {
     "cell_type": "markdown",
     "metadata": {},
     "source": [
      "Compute the mean <tt>prglngth</tt> for first babies and others.  Compute the difference in means, expressed in hours."
     ]
    },
    {
     "cell_type": "code",
     "collapsed": false,
     "input": [],
     "language": "python",
     "metadata": {},
     "outputs": [],
     "prompt_number": 43
    }
   ],
   "metadata": {}
  }
 ]
}