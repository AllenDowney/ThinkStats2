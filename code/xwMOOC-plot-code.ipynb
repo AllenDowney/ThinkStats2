{
 "cells": [
  {
   "cell_type": "markdown",
   "metadata": {},
   "source": [
    "### 1. 한글 설정\n",
    "도식화에 필요한 한글 설정"
   ]
  },
  {
   "cell_type": "code",
   "execution_count": 1,
   "metadata": {
    "collapsed": false
   },
   "outputs": [
    {
     "name": "stdout",
     "output_type": "stream",
     "text": [
      "[u'c:\\\\windows\\\\fonts\\\\helvetica___.ttf', u'c:\\\\windows\\\\fonts\\\\enorat10.ttf', u'c:\\\\windows\\\\fonts\\\\helveticamedextobl.ttf', u'c:\\\\windows\\\\fonts\\\\ftltlt.ttf', u'C:\\\\WINDOWS\\\\Fonts\\\\HYPORM.TTF', u'C:\\\\WINDOWS\\\\Fonts\\\\HYDNKB.TTF', u'c:\\\\windows\\\\fonts\\\\cambriab.ttf', u'c:\\\\windows\\\\fonts\\\\hmkma.ttf', u'C:\\\\WINDOWS\\\\Fonts\\\\HelveticaBlkObl.ttf', u'c:\\\\windows\\\\fonts\\\\hysnrl.ttf']\n"
     ]
    }
   ],
   "source": [
    "import matplotlib.font_manager\n",
    "\n",
    "myfnt =  matplotlib.font_manager.findSystemFonts(fontpaths=None, fontext='ttf')\n",
    "print myfnt[:10]  # 100개만 출력하기\n",
    "matplotlib.rc('font', family='HYSANB')  # 한글 폰트 설정"
   ]
  },
  {
   "cell_type": "markdown",
   "metadata": {},
   "source": [
    "###2. 기본환경 설정\n",
    "thinkstats, thinkplot, nsfg 가져오기"
   ]
  },
  {
   "cell_type": "code",
   "execution_count": 2,
   "metadata": {
    "collapsed": false
   },
   "outputs": [],
   "source": [
    "import thinkstats2\n",
    "import thinkplot\n",
    "import nsfg\n",
    "\n",
    "df = nsfg.ReadFemPreg()\n",
    "#preg = nsfg.ReadFemPreg()"
   ]
  },
  {
   "cell_type": "markdown",
   "metadata": {},
   "source": [
    "### 2장 그림 도식화"
   ]
  },
  {
   "cell_type": "markdown",
   "metadata": {},
   "source": [
    "#### 그림 2.1: 출생체중 파운드 히스토그램"
   ]
  },
  {
   "cell_type": "code",
   "execution_count": 3,
   "metadata": {
    "collapsed": false
   },
   "outputs": [],
   "source": [
    "hist = thinkstats2.Hist(df.birthwgt_lb, label = 'birthwgt_lb')\n",
    "thinkplot.Hist(hist)\n",
    "ko_xlab = unicode('값','utf-8')\n",
    "ko_ylab = unicode('빈도','utf-8')\n",
    "thinkplot.Show(xlabel=ko_xlab, ylabel=ko_ylab)"
   ]
  },
  {
   "cell_type": "markdown",
   "metadata": {},
   "source": [
    "#### 그림 2.2: 출생체중 온스 히스토그램"
   ]
  },
  {
   "cell_type": "code",
   "execution_count": 21,
   "metadata": {
    "collapsed": false
   },
   "outputs": [],
   "source": [
    "hist = thinkstats2.Hist(df.birthwgt_oz, label = 'birthwgt_oz')\n",
    "thinkplot.Hist(hist)\n",
    "ko_xlab = unicode('값','utf-8')\n",
    "ko_ylab = unicode('빈도','utf-8')\n",
    "thinkplot.Show(xlabel=ko_xlab, ylabel=ko_ylab)"
   ]
  },
  {
   "cell_type": "markdown",
   "metadata": {},
   "source": [
    "#### 그림 2.3: 임신 종료시점 산모연령 히스토그램"
   ]
  },
  {
   "cell_type": "code",
   "execution_count": 22,
   "metadata": {
    "collapsed": false
   },
   "outputs": [],
   "source": [
    "hist = thinkstats2.Hist(df.agepreg, label = 'agepreg')\n",
    "thinkplot.Hist(hist)\n",
    "ko_xlab = unicode('나이','utf-8')\n",
    "ko_ylab = unicode('빈도','utf-8')\n",
    "thinkplot.Show(xlabel=ko_xlab, ylabel=ko_ylab)"
   ]
  },
  {
   "cell_type": "markdown",
   "metadata": {},
   "source": [
    "#### 그림 2.4: 임신기간(주별) 히스토그램"
   ]
  },
  {
   "cell_type": "code",
   "execution_count": 30,
   "metadata": {
    "collapsed": false
   },
   "outputs": [],
   "source": [
    "preg = nsfg.ReadFemPreg()\n",
    "live = preg[preg.outcome == 1]\n",
    "hist = thinkstats2.Hist(live.prglngth, label = 'prglngth')\n",
    "thinkplot.Hist(hist)\n",
    "ko_xlab = unicode('파운드','utf-8')\n",
    "ko_ylab = unicode('빈도','utf-8')\n",
    "thinkplot.Show(xlabel=ko_xlab, ylabel=ko_ylab)"
   ]
  },
  {
   "cell_type": "markdown",
   "metadata": {},
   "source": [
    "#### 그림 2.5: 임신기간 히스토그램"
   ]
  },
  {
   "cell_type": "code",
   "execution_count": 52,
   "metadata": {
    "collapsed": false
   },
   "outputs": [],
   "source": [
    "first = live[live.birthord == 1]\n",
    "others = live[live.birthord != 1]\n",
    "\n",
    "first_hist = thinkstats2.Hist(first.prglngth)\n",
    "others_hist = thinkstats2.Hist(others.prglngth)\n",
    "\n",
    "width = 0.45\n",
    "thinkplot.PrePlot(2)\n",
    "thinkplot.Hist(first_hist, align='right', width=width, label=unicode('첫째','utf-8'))\n",
    "thinkplot.Hist(others_hist, align='left', width=width, label=unicode('첫째아님','utf-8'))\n",
    "ko_xlab = unicode('임신주차','utf-8')\n",
    "ko_ylab = unicode('빈도','utf-8')\n",
    "thinkplot.Show(xlabel=ko_xlab, ylabel=ko_ylab)"
   ]
  },
  {
   "cell_type": "markdown",
   "metadata": {},
   "source": [
    "### 3장 그림 도식화"
   ]
  },
  {
   "cell_type": "code",
   "execution_count": 10,
   "metadata": {
    "collapsed": false
   },
   "outputs": [
    {
     "data": {
      "text/plain": [
       "1.0"
      ]
     },
     "execution_count": 10,
     "metadata": {},
     "output_type": "execute_result"
    }
   ],
   "source": [
    "import thinkstats2\n",
    "pmf = thinkstats2.Pmf([1,2,2,3,5])\n",
    "pmf\n",
    "pmf.Prob(2)\n",
    "pmf.Normalize()\n",
    "pmf.Total()"
   ]
  },
  {
   "cell_type": "markdown",
   "metadata": {},
   "source": [
    "#### 그림 3.1: 막대 그래프와 계단 함수를 사용하여, 첫째 아기와 첫째가 아닌 아기에 대한 임신기간 PMF"
   ]
  },
  {
   "cell_type": "code",
   "execution_count": 22,
   "metadata": {
    "collapsed": false
   },
   "outputs": [],
   "source": [
    "width = 0.45\n",
    "preg = nsfg.ReadFemPreg() # 전체 임신 정보 가져오기\n",
    "live = preg[preg.outcome ==1] # 정상출산인 경우만 가져오기\n",
    "first = live[live.birthord == 1] # 첫째 아기 정보 가져오기\n",
    "others = live[live.birthord != 1] # 첫째 아닌 아기 정보 가져오기\n",
    "### PMF 생성하기\n",
    "first_pmf = thinkstats2.Pmf(first.prglngth)\n",
    "others_pmf = thinkstats2.Pmf(others.prglngth)\n",
    "### 그래프로 도식화하기\n",
    "thinkplot.PrePlot(2, cols=2)\n",
    "thinkplot.Hist(first_pmf, align='right', width=width, label=unicode('첫째','utf-8'))\n",
    "thinkplot.Hist(others_pmf, align='left', width=width, label=unicode('첫째아님','utf-8'))\n",
    "thinkplot.Config(xlabel=unicode('임신주차','utf-8'),\n",
    "                ylabel=unicode('확률','utf-8'),\n",
    "                axis=[27, 46, 0, 0.6],\n",
    "                legend=)\n",
    "thinkplot.PrePlot(2)\n",
    "thinkplot.SubPlot(2)\n",
    "thinkplot.Pmfs([first_pmf, others_pmf])\n",
    "thinkplot.Show(xlabel=unicode('임신주차','utf-8'),\n",
    "              axis=[27,46,0,0.6])"
   ]
  },
  {
   "cell_type": "markdown",
   "metadata": {},
   "source": [
    "#### 그림 3.2: 주별 백분율점(percentage point)으로 나타낸 차이"
   ]
  },
  {
   "cell_type": "code",
   "execution_count": null,
   "metadata": {
    "collapsed": false
   },
   "outputs": [],
   "source": [
    "weeks = range(35, 46)\n",
    "diffs = []\n",
    "for week in weeks:\n",
    "    p1 = first_pmf.Prob(week)\n",
    "    p2 = others_pmf.Prob(week)\n",
    "    diff = 100 * (p1 -p2)\n",
    "    diffs.append(diff)\n",
    "thinkplot.Bar(weeks, diffs)    \n",
    "thinkplot.Show(xlabel=unicode('임신주차','utf-8'), ylabel=unicode('백분율점','utf-8'))"
   ]
  },
  {
   "cell_type": "markdown",
   "metadata": {},
   "source": [
    "#### 학급크기 패러독스"
   ]
  },
  {
   "cell_type": "code",
   "execution_count": null,
   "metadata": {
    "collapsed": false
   },
   "outputs": [
    {
     "name": "stdout",
     "output_type": "stream",
     "text": [
      "('mean', 23.692307692307693)\n"
     ]
    }
   ],
   "source": [
    "import thinkstats2\n",
    "\n",
    "d = { 7: 8, 12: 8, 17: 14, 22: 4, 27: 6, 32: 12, 37: 8, 42: 3, 47: 2 }\n",
    "pmf = thinkstats2.Pmf(d, label=unicode('실제값','utf-8'))\n",
    "print('mean', pmf.Mean())\n",
    "\n",
    "def BiasPmf(pmf, label):\n",
    "    new_pmf = pmf.Copy(label=label)\n",
    "    for x, p in pmf.Items():\n",
    "        new_pmf.Mult(x, x)\n",
    "        new_pmf.Normalize()\n",
    "    return new_pmf\n",
    "\n",
    "biased_pmf = BiasPmf(pmf, label=unicode('관측값','utf-8'))"
   ]
  },
  {
   "cell_type": "markdown",
   "metadata": {},
   "source": [
    "#### 그림 3.3: 실제값과 학생이 관측한 값에 대한 학급크기 분포"
   ]
  },
  {
   "cell_type": "code",
   "execution_count": null,
   "metadata": {
    "collapsed": true
   },
   "outputs": [],
   "source": [
    "thinkplot.PrePlot(2)\n",
    "thinkplot.Pmfs([pmf, biased_pmf])\n",
    "thinkplot.Show(xlabel=unicode('학급크기','utf-8'), ylabel='PMF')"
   ]
  },
  {
   "cell_type": "markdown",
   "metadata": {},
   "source": [
    "### 4장 그림 도식화"
   ]
  },
  {
   "cell_type": "markdown",
   "metadata": {},
   "source": [
    "#### 그림 4.1: 출생체중 PMF. PMF의 한계를 그림이 보여주고 있다: 시작적으로 비교하기 어렵다."
   ]
  },
  {
   "cell_type": "code",
   "execution_count": 13,
   "metadata": {
    "collapsed": false
   },
   "outputs": [],
   "source": [
    "preg = nsfg.ReadFemPreg() # 전체 임신 정보 가져오기\n",
    "live = preg[preg.outcome ==1] # 정상출산인 경우만 가져오기\n",
    "first = live[live.birthord == 1] # 첫째 아기 정보 가져오기\n",
    "others = live[live.birthord != 1] # 첫째 아닌 아기 정보 가져오기\n",
    "### PMF 생성하기\n",
    "first_pmf = thinkstats2.Hist(first.birthwgt_lb)\n",
    "others_pmf = thinkstats2.Hist(others.birthwgt_lb)\n",
    "\n",
    "width = 0.45\n",
    "thinkplot.PrePlot(2)\n",
    "thinkplot.Hist(first_pmf, align='right', width=width, label=unicode('첫째','utf-8'))\n",
    "thinkplot.Hist(others_pmf, align='left', width=width, label=unicode('첫째아님','utf-8'))\n",
    "ko_xlab = unicode('임신주차','utf-8')\n",
    "ko_ylab = unicode('빈도','utf-8')\n",
    "thinkplot.Show(xlabel=ko_xlab, ylabel=ko_ylab)"
   ]
  },
  {
   "cell_type": "markdown",
   "metadata": {},
   "source": [
    "#### 4.2: CDF 예제."
   ]
  },
  {
   "cell_type": "code",
   "execution_count": 62,
   "metadata": {
    "collapsed": false
   },
   "outputs": [],
   "source": [
    "data = [1,2,2,3,5]\n",
    "thinkplot.Config(xlabel=unicode('x','utf-8'),\n",
    "                ylabel=unicode('CDF','utf-8'),\n",
    "                axis=[0, 6, 0, 1])\n",
    "cdf = thinkstats2.Cdf(data, label='prglngth')\n",
    "thinkplot.Cdf(cdf)\n",
    "thinkplot.Show(xlabel='x', ylabel='CDF')"
   ]
  },
  {
   "cell_type": "markdown",
   "metadata": {},
   "source": [
    "#### 그림 4.3: 임신기간 CDF"
   ]
  },
  {
   "cell_type": "code",
   "execution_count": 7,
   "metadata": {
    "collapsed": false
   },
   "outputs": [],
   "source": [
    "cdf = thinkstats2.Cdf(live.prglngth, label=unicode('임신기간','utf-8'))\n",
    "thinkplot.Cdf(cdf)\n",
    "thinkplot.Show(xlabel=unicode('임신주차','utf-8'), ylabel='CDF')"
   ]
  },
  {
   "cell_type": "markdown",
   "metadata": {},
   "source": [
    "#### 그림 4.4: 첫째 아기와 첫째가 아닌 아기에 대한 출산체중 CDF"
   ]
  },
  {
   "cell_type": "code",
   "execution_count": 12,
   "metadata": {
    "collapsed": false
   },
   "outputs": [],
   "source": [
    "first_cdf = thinkstats2.Cdf(first.totalwgt_lb, label=unicode('첫째','utf-8'))\n",
    "others_cdf = thinkstats2.Cdf(others.totalwgt_lb, label=unicode('첫째아님','utf-8'))\n",
    "\n",
    "thinkplot.PrePlot(2)\n",
    "thinkplot.Cdfs([first_cdf,others_cdf])\n",
    "thinkplot.Show(xlabel=unicode('출생체중(파운드)','utf-8'), ylabel='CDF')"
   ]
  },
  {
   "cell_type": "markdown",
   "metadata": {},
   "source": [
    "#### 그림 4.5: 출생체중 임의 표본에 대한 백분위 순위 CDF"
   ]
  },
  {
   "cell_type": "code",
   "execution_count": 21,
   "metadata": {
    "collapsed": false
   },
   "outputs": [],
   "source": [
    "import numpy as np\n",
    "\n",
    "weights = live.totalwgt_lb\n",
    "cdf = thinkstats2.Cdf(weights, label='totalwgt_lb')\n",
    "\n",
    "sample = np.random.choice(weights, 100, replace=True)\n",
    "ranks = [cdf.PercentileRank(x) for x in sample]\n",
    "\n",
    "rank_cdf = thinkstats2.Cdf(ranks, label=unicode('백분위 순위','utf-8'))\n",
    "thinkplot.Cdf(rank_cdf)\n",
    "thinkplot.Show(xlabel=unicode('백분위 순위','utf-8'), ylabel='CDF')"
   ]
  },
  {
   "cell_type": "markdown",
   "metadata": {},
   "source": [
    "### 5장 그림 도식화"
   ]
  },
  {
   "cell_type": "markdown",
   "metadata": {},
   "source": [
    "#### 그림 5.1: 다양한 모수를 갖는 지수분포 CDF"
   ]
  },
  {
   "cell_type": "code",
   "execution_count": 36,
   "metadata": {
    "collapsed": false
   },
   "outputs": [],
   "source": [
    "#%run analytic.py\n",
    "\n",
    "thinkplot.PrePlot(3)    \n",
    "xs, ps = thinkstats2.RenderExpoCdf(0.5, 0, 3.0, 50)\n",
    "label = r'$\\lambda=%g$' % 0.5\n",
    "thinkplot.Plot(xs, ps, label=label)\n",
    "\n",
    "xs, ps = thinkstats2.RenderExpoCdf(2.0, 0, 3.0, 50)\n",
    "label = r'$\\lambda=%g$' % 2.0\n",
    "thinkplot.Plot(xs, ps, label=label)\n",
    "\n",
    "xs, ps = thinkstats2.RenderExpoCdf(1.0, 0, 3.0, 50)\n",
    "label = r'$\\lambda=%g$' % 1.0\n",
    "thinkplot.Plot(xs, ps, label=label)\n",
    "\n",
    "thinkplot.Show()   "
   ]
  },
  {
   "cell_type": "markdown",
   "metadata": {},
   "source": [
    "#### 그림 5.2: 도착간격시간 CDF (좌측), log-y 척도로 된 CCDF (우측)"
   ]
  },
  {
   "cell_type": "code",
   "execution_count": 48,
   "metadata": {
    "collapsed": false
   },
   "outputs": [],
   "source": [
    "df = ReadBabyBoom()\n",
    "diffs = df.minutes.diff()\n",
    "cdf = thinkstats2.Cdf(diffs, label='actual')\n",
    "\n",
    "thinkplot.PrePlot(cols=2)\n",
    "thinkplot.Config(xlabel=unicode('분(min.)','utf-8'),\n",
    "                 ylabel='CDF',\n",
    "                 legend=False)\n",
    "thinkplot.Cdf(cdf)\n",
    "thinkplot.SubPlot(2)\n",
    "thinkplot.Config(xlabel=unicode('분(min.)','utf-8'),\n",
    "                 ylabel='CCDF',\n",
    "                 legend=False,\n",
    "                 yscale='log')\n",
    "thinkplot.Cdf(cdf, complement=True)\n",
    "thinkplot.Show()"
   ]
  },
  {
   "cell_type": "markdown",
   "metadata": {},
   "source": [
    "#### 그림 5.3: 모수 범위에 따른 정규분포 CDF"
   ]
  },
  {
   "cell_type": "code",
   "execution_count": 7,
   "metadata": {
    "collapsed": false
   },
   "outputs": [],
   "source": [
    "thinkplot.PrePlot(3)    \n",
    "mus = [1.0, 2.0, 3.0]\n",
    "sigmas = [0.5, 0.4, 0.3]\n",
    "\n",
    "xs, ps = thinkstats2.RenderNormalCdf(mu=mus[0], sigma=sigmas[0], low=-1.0, high=4.0)\n",
    "label = r'$\\mu=%g$, $\\sigma=%g$' % (mus[0], sigmas[0])\n",
    "thinkplot.Plot(xs, ps, label=label)\n",
    "\n",
    "xs, ps = thinkstats2.RenderNormalCdf(mu=mus[1], sigma=sigmas[1], low=-1.0, high=4.0)\n",
    "label = r'$\\mu=%g$, $\\sigma=%g$' % (mus[1], sigmas[1])\n",
    "thinkplot.Plot(xs, ps, label=label)\n",
    "\n",
    "xs, ps = thinkstats2.RenderNormalCdf(mu=mus[2], sigma=sigmas[2], low=-1.0, high=4.0)\n",
    "label = r'$\\mu=%g$, $\\sigma=%g$' % (mus[2], sigmas[2])\n",
    "thinkplot.Plot(xs, ps, label=label)\n",
    "\n",
    "thinkplot.Show(xlabel='x', ylabel='CDF', title=unicode('가우스 CDF','utf-8'))"
   ]
  },
  {
   "cell_type": "markdown",
   "metadata": {
    "collapsed": true
   },
   "source": [
    "#### 그림 5.4: 정규모형과 출생체중 CDF"
   ]
  },
  {
   "cell_type": "code",
   "execution_count": 64,
   "metadata": {
    "collapsed": false
   },
   "outputs": [
    {
     "name": "stdout",
     "output_type": "stream",
     "text": [
      "('Mean, Var', 7.2808831000225789, 1.5452125703544892)\n",
      "('Sigma', 1.2430657948614343)\n"
     ]
    }
   ],
   "source": [
    "thinkplot.PrePlot(1)\n",
    "# estimate parameters: trimming outliers yields a better fit\n",
    "preg = nsfg.ReadFemPreg()\n",
    "weights = preg.totalwgt_lb.dropna()\n",
    "\n",
    "mu, var = thinkstats2.TrimmedMeanVar(weights, p=0.01)\n",
    "print('Mean, Var', mu, var)\n",
    "\n",
    "sigma = math.sqrt(var)\n",
    "print('Sigma', sigma)\n",
    "xs, ps = thinkstats2.RenderNormalCdf(mu, sigma, low=0, high=12.5)\n",
    "\n",
    "thinkplot.Plot(xs, ps, label=unicode('모형','utf-8'), color='0.8')\n",
    "\n",
    "# plot the data\n",
    "cdf = thinkstats2.Cdf(weights, label='data')\n",
    "\n",
    "thinkplot.Cdf(cdf, label=unicode('데이터','utf-8')) \n",
    "thinkplot.Show(xlabel=unicode('출생체중(파운드)','utf-8'), ylabel='CDF', title=unicode('출생체중','utf-8')) \n"
   ]
  },
  {
   "cell_type": "markdown",
   "metadata": {},
   "source": [
    "#### 그림 5.5: 정규분포에서 나온 임의 표본에 대한 정규확률그림."
   ]
  },
  {
   "cell_type": "code",
   "execution_count": 41,
   "metadata": {
    "collapsed": false
   },
   "outputs": [],
   "source": [
    "n=1000\n",
    "mus = [0, 1, 5]\n",
    "sigmas = [1, 1, 2]\n",
    "\n",
    "sample = np.random.normal(mus[0], sigmas[0], n)\n",
    "xs, ys = thinkstats2.NormalProbability(sample)\n",
    "label = '$\\mu=%d$, $\\sigma=%d$' % (mus[0], sigmas[0])\n",
    "thinkplot.Plot(xs, ys, label=label)\n",
    "\n",
    "sample = np.random.normal(mus[1], sigmas[1], n)\n",
    "xs, ys = thinkstats2.NormalProbability(sample)\n",
    "label = '$\\mu=%d$, $\\sigma=%d$' % (mus[1], sigmas[1])\n",
    "thinkplot.Plot(xs, ys, label=label)\n",
    "\n",
    "sample = np.random.normal(mus[2], sigmas[2], n)\n",
    "xs, ys = thinkstats2.NormalProbability(sample)\n",
    "label = '$\\mu=%d$, $\\sigma=%d$' % (mus[2], sigmas[2])\n",
    "thinkplot.Plot(xs, ys, label=label)\n",
    "\n",
    "thinkplot.Show(legend=True)"
   ]
  },
  {
   "cell_type": "markdown",
   "metadata": {},
   "source": [
    "#### 그림 5.6: 출생체중에 대한 정규확률그림"
   ]
  },
  {
   "cell_type": "code",
   "execution_count": 70,
   "metadata": {
    "collapsed": false
   },
   "outputs": [],
   "source": [
    "preg = nsfg.ReadFemPreg()\n",
    "full_term = preg[preg.prglngth >= 37]\n",
    "\n",
    "weights = preg.totalwgt_lb.dropna()\n",
    "term_weights = full_term.totalwgt_lb.dropna()\n",
    "\n",
    "mean, var = thinkstats2.TrimmedMeanVar(weights, p=0.01)\n",
    "std = math.sqrt(var)\n",
    "\n",
    "xs = [-4, 4]\n",
    "fxs, fys = thinkstats2.FitLine(xs, mean, std)\n",
    "thinkplot.Plot(fxs, fys, linewidth=4, color='0.8')\n",
    "\n",
    "thinkplot.PrePlot(2) \n",
    "xs, ys = thinkstats2.NormalProbability(weights)\n",
    "thinkplot.Plot(xs, ys, label=unicode('모두생존(all live)','utf-8'))\n",
    "\n",
    "xs, ys = thinkstats2.NormalProbability(term_weights)\n",
    "thinkplot.Plot(xs, ys, label=unicode('만삭(full-term)','utf-8'))\n",
    "\n",
    "thinkplot.Show(xlabel=unicode('평균으로부터 표준편차','utf-8'), ylabel=unicode('출생체중(파운드)','utf-8'), title=unicode('정규확률그림','utf-8'))\n"
   ]
  },
  {
   "cell_type": "markdown",
   "metadata": {},
   "source": [
    "#### 그림 5.7: 선형척도(좌측)와 로그척도(우측)로 본 성인체중에 대한 CDF"
   ]
  },
  {
   "cell_type": "code",
   "execution_count": 13,
   "metadata": {
    "collapsed": false
   },
   "outputs": [
    {
     "name": "stdout",
     "output_type": "stream",
     "text": [
      "n, mean, std 954 80.5273931624 19.4196558731\n",
      "n, mean, std 954 1.89373164202 0.102604423971\n"
     ]
    }
   ],
   "source": [
    "df = ReadBrfss(nrows=1000)\n",
    "\n",
    "weights = df.wtkg2.dropna()\n",
    "log_weights = np.log10(weights)\n",
    "\n",
    "# plot weights on linear and log scales\n",
    "thinkplot.PrePlot(cols=2)\n",
    "MakeNormalModel(weights)\n",
    "thinkplot.Config(xlabel=unicode('성인체중 (kg)','utf-8'), ylabel='CDF')\n",
    "\n",
    "thinkplot.SubPlot(2)\n",
    "MakeNormalModel(log_weights)\n",
    "thinkplot.Config(xlabel=unicode('성인체중 (log10 kg)','utf-8'))\n",
    "\n",
    "thinkplot.Show()"
   ]
  },
  {
   "cell_type": "markdown",
   "metadata": {
    "collapsed": false
   },
   "source": [
    "#### 그림 5.8: 선형척도(좌측)와 로그척도(우측)로 본 성인체중에 대한 정규확률그림"
   ]
  },
  {
   "cell_type": "code",
   "execution_count": 10,
   "metadata": {
    "collapsed": false
   },
   "outputs": [],
   "source": [
    "# make normal probability plots on linear and log scales\n",
    "thinkplot.PrePlot(cols=2)\n",
    "MakeNormalPlot(weights)\n",
    "thinkplot.Config(xlabel='z', ylabel=unicode('체중 (kg)','utf-8'))\n",
    "\n",
    "thinkplot.SubPlot(2)\n",
    "MakeNormalPlot(log_weights)\n",
    "thinkplot.Config(xlabel='z', ylabel=unicode('체중 (log10 kg)','utf-8'))\n",
    "\n",
    "thinkplot.Show()"
   ]
  },
  {
   "cell_type": "markdown",
   "metadata": {},
   "source": [
    "#### 그림 5.9: 다른 모수를 갖는 파레토 분포 CDF"
   ]
  },
  {
   "cell_type": "code",
   "execution_count": 16,
   "metadata": {
    "collapsed": true
   },
   "outputs": [],
   "source": [
    "thinkplot.PrePlot(3)\n",
    "xmin = 0.5\n",
    "alpha = [2.0, 1.0, 0.5]\n",
    "\n",
    "xs, ps = thinkstats2.RenderParetoCdf(xmin, alpha[0], 0, 10.0, n=100) \n",
    "thinkplot.Plot(xs, ps, label=r'$\\alpha=%g$' % alpha[0])\n",
    "\n",
    "xs, ps = thinkstats2.RenderParetoCdf(xmin, alpha[1], 0, 10.0, n=100) \n",
    "thinkplot.Plot(xs, ps, label=r'$\\alpha=%g$' % alpha[1])\n",
    "\n",
    "xs, ps = thinkstats2.RenderParetoCdf(xmin, alpha[2], 0, 10.0, n=100) \n",
    "thinkplot.Plot(xs, ps, label=r'$\\alpha=%g$' % alpha[2])\n",
    "\n",
    "thinkplot.Show(title=unicode('파레토 CDF','utf-8'), xlabel='x', ylabel='CDF')"
   ]
  },
  {
   "cell_type": "markdown",
   "metadata": {},
   "source": [
    "#### 그림 5.10: 로그-로그 척도로 도시 인구 CCDFs"
   ]
  },
  {
   "cell_type": "code",
   "execution_count": 21,
   "metadata": {
    "collapsed": false
   },
   "outputs": [],
   "source": [
    "# % run populations.py\n",
    "pops = ReadData()\n",
    "log_pops = np.log10(pops)\n",
    "cdf = thinkstats2.Cdf(pops, label='data')\n",
    "cdf_log = thinkstats2.Cdf(log_pops, label='data')\n",
    "\n",
    "# pareto plot\n",
    "xs, ys = thinkstats2.RenderParetoCdf(xmin=5000, alpha=1.4, low=0, high=1e7)\n",
    "thinkplot.Plot(np.log10(xs), 1-ys, label='model', color='0.8')\n",
    "\n",
    "thinkplot.Cdf(cdf_log, complement=True) \n",
    "thinkplot.Config(xlabel=unicode('log10 인구','utf-8'),\n",
    "                     ylabel='CCDF',\n",
    "                     yscale='log')\n",
    "thinkplot.Show()\n"
   ]
  },
  {
   "cell_type": "markdown",
   "metadata": {},
   "source": [
    "#### 그림 5.11: 로그-로그 척도(좌측)로 본 도시인구 CDF, 로그변환 인구(우축)의 정규확률그림"
   ]
  },
  {
   "cell_type": "code",
   "execution_count": null,
   "metadata": {
    "collapsed": true
   },
   "outputs": [],
   "source": [
    "thinkplot.PrePlot(cols=2)\n",
    "\n",
    "mu, sigma = log_pops.mean(), log_pops.std()\n",
    "xs, ps = thinkstats2.RenderNormalCdf(mu, sigma, low=0, high=8)\n",
    "#thinkplot.Plot(xs, ps, label=unicode('모형','utf-8'), color='0.8')\n",
    "thinkplot.Plot(xs, ps, label='model', color='0.8')\n",
    "\n",
    "thinkplot.Cdf(cdf_log) \n",
    "thinkplot.Config(xlabel=unicode('log10 인구','utf-8'),\n",
    "                     ylabel='CDF')\n",
    "\n",
    "thinkplot.SubPlot(2)\n",
    "thinkstats2.NormalProbabilityPlot(log_pops, label='data')\n",
    "thinkplot.Config(xlabel='z',\n",
    "                     ylabel=unicode('log10 인구','utf-8'),\n",
    "                     xlim=[-5, 5])\n",
    "thinkplot.Show()"
   ]
  },
  {
   "cell_type": "markdown",
   "metadata": {},
   "source": [
    "### 6장 그림 도식화"
   ]
  },
  {
   "cell_type": "markdown",
   "metadata": {},
   "source": [
    "#### 그림 6.1: 미국 성인 여성 신장을 모형화하는 정규 PDF, 그리고 표본 $n=500$으로 핵밀도 추정."
   ]
  },
  {
   "cell_type": "code",
   "execution_count": 15,
   "metadata": {
    "collapsed": false
   },
   "outputs": [
    {
     "name": "stdout",
     "output_type": "stream",
     "text": [
      "0.0333001249896\n"
     ]
    }
   ],
   "source": [
    "# % run density.py\n",
    "import math\n",
    "import random\n",
    "\n",
    "n=1000\n",
    "mean, var = 163, 52.8\n",
    "std = math.sqrt(var)\n",
    "\n",
    "# make a PDF and compute a density, FWIW\n",
    "pdf = thinkstats2.NormalPdf(mean, std)\n",
    "print(pdf.Density(mean + std))\n",
    "\n",
    "# make a PMF and plot it\n",
    "thinkplot.PrePlot(2)\n",
    "thinkplot.Pdf(pdf, label=unicode('정규분포','utf-8'))\n",
    "\n",
    "# make a sample, make an estimated PDF, and plot it\n",
    "sample = [random.gauss(mean, std) for _ in range(n)]\n",
    "sample_pdf = thinkstats2.EstimatedPdf(sample)\n",
    "thinkplot.Pdf(sample_pdf, label=unicode('표본 KDE','utf-8'))\n",
    "\n",
    "thinkplot.Show(xlabel=unicode('신장(cm)','utf-8'), ylabel=unicode('밀도(density)','utf-8'))"
   ]
  },
  {
   "cell_type": "markdown",
   "metadata": {
    "collapsed": true
   },
   "source": [
    "#### 그림 6.3: NSFG에서 나온 출생체중 데이터의 추정 PDF"
   ]
  },
  {
   "cell_type": "code",
   "execution_count": 27,
   "metadata": {
    "collapsed": false
   },
   "outputs": [
    {
     "name": "stdout",
     "output_type": "stream",
     "text": [
      "출생체중\n",
      "mean 7.26562845762\n",
      "std 1.40829344557\n",
      "median 7.375\n",
      "skewness -0.589506268758\n",
      "pearson skewness -0.233000289547\n"
     ]
    }
   ],
   "source": [
    "def VertLine(x, y):\n",
    "    thinkplot.Plot([x, x], [0, y], color='0.6', linewidth=1)\n",
    "\n",
    "live, firsts, others = first.MakeFrames()\n",
    "data = live.totalwgt_lb.dropna()\n",
    "print(unicode('출생체중','utf-8'))\n",
    "mean, median = Summarize(data)\n",
    "\n",
    "y = 0.35\n",
    "VertLine(mean, y)\n",
    "thinkplot.Text(mean-0.5, 0.1*y, unicode('평균','utf-8'), horizontalalignment='right')\n",
    "VertLine(median, y)\n",
    "thinkplot.Text(median+2, 0.1*y, unicode('중위수','utf-8'), horizontalalignment='right')\n",
    "pdf = thinkstats2.EstimatedPdf(data)\n",
    "thinkplot.Pdf(pdf, label=unicode('출생체중','utf-8'))\n",
    "\n",
    "thinkplot.Show(xlabel=unicode('파운드','utf-8'), ylabel='PDF')"
   ]
  },
  {
   "cell_type": "markdown",
   "metadata": {},
   "source": [
    "#### 그림 6.4: BRFSS에서 나온 성인체중 데이터의 추정 PDF"
   ]
  },
  {
   "cell_type": "code",
   "execution_count": 35,
   "metadata": {
    "collapsed": false
   },
   "outputs": [
    {
     "name": "stdout",
     "output_type": "stream",
     "text": [
      "mean 78.9924529969\n",
      "std 19.5461569131\n",
      "median 77.27\n",
      "skewness 1.05484001211\n",
      "pearson skewness 0.264367338162\n"
     ]
    }
   ],
   "source": [
    "df = brfss.ReadBrfss(nrows=None)\n",
    "data = df.wtkg2.dropna()\n",
    "mean, median = Summarize(data)\n",
    "y = 0.02499\n",
    "VertLine(mean, y)\n",
    "thinkplot.Text(mean+15, 0.1*y, unicode('평균','utf-8'), horizontalalignment='right')\n",
    "VertLine(median, y)\n",
    "thinkplot.Text(median-1.5, 0.1*y, unicode('중위수','utf-8'), horizontalalignment='right')\n",
    "pdf = thinkstats2.EstimatedPdf(data)\n",
    "thinkplot.Pdf(pdf, label=unicode('성인체중','utf-8'))\n",
    "\n",
    "thinkplot.Show(xlabel=unicode('킬로그램','utf-8'), ylabel='PDF', xlim=[0,200])"
   ]
  },
  {
   "cell_type": "markdown",
   "metadata": {},
   "source": [
    "### 7장 그림 도식화"
   ]
  },
  {
   "cell_type": "markdown",
   "metadata": {},
   "source": [
    "#### 그림 7.1: 지터되지 않은(좌측), 지터된(우측) 산점도로 BRFSS에서 응답자 신장과 체중을 도식화."
   ]
  },
  {
   "cell_type": "code",
   "execution_count": 69,
   "metadata": {
    "collapsed": false
   },
   "outputs": [],
   "source": [
    "#% run scatter.py\n",
    "\n",
    "df = brfss.ReadBrfss(nrows=None)\n",
    "df = df.dropna(subset=['htm3', 'wtkg2'])\n",
    "\n",
    "def GetHeightWeight(df, hjitter=0.0, wjitter=0.0):\n",
    "    \"\"\"Get sequences of height and weight.\n",
    "\n",
    "    df: DataFrame with htm3 and wtkg2\n",
    "    hjitter: float magnitude of random noise added to heights\n",
    "    wjitter: float magnitude of random noise added to weights\n",
    "\n",
    "    returns: tuple of sequences (heights, weights)\n",
    "    \"\"\"\n",
    "    heights = df.htm3\n",
    "    if hjitter:\n",
    "        heights = thinkstats2.Jitter(heights, hjitter)\n",
    "\n",
    "    weights = df.wtkg2\n",
    "    if wjitter:\n",
    "        weights = thinkstats2.Jitter(weights, wjitter)\n",
    "\n",
    "    return heights, weights\n",
    "\n",
    "sample = thinkstats2.SampleRows(df, 5000)\n",
    "\n",
    "# simple scatter plot\n",
    "thinkplot.PrePlot(cols=2)\n",
    "heights, weights = GetHeightWeight(sample)\n",
    "ScatterPlot(heights, weights)\n",
    "thinkplot.Config(xlabel=unicode('신장(cm)','utf-8'), ylabel=unicode('체중(kg)','utf-8'))\n",
    "\n",
    "# scatter plot with jitter\n",
    "thinkplot.SubPlot(2)\n",
    "heights, weights = GetHeightWeight(sample, hjitter=1.3, wjitter=0.5)\n",
    "ScatterPlot(heights, weights)\n",
    "\n",
    "thinkplot.Show(xlabel=unicode('신장(cm)','utf-8'), ylabel=unicode('체중(kg)','utf-8'))"
   ]
  },
  {
   "cell_type": "markdown",
   "metadata": {},
   "source": [
    "#### 그림 7.2: 육각함 플롯 (hexbin plot, 우측)과 투명함(좌측)과 지터링을 갖는 산점도."
   ]
  },
  {
   "cell_type": "code",
   "execution_count": 51,
   "metadata": {
    "collapsed": true
   },
   "outputs": [],
   "source": [
    "thinkplot.PrePlot(cols=2)\n",
    "ScatterPlot(heights, weights, alpha=0.005)\n",
    "thinkplot.Config(xlabel=unicode('신장(cm)','utf-8'), ylabel=unicode('체중(kg)','utf-8'))\n",
    "\n",
    "# hexbin plot\n",
    "thinkplot.SubPlot(2)\n",
    "heights, weights = GetHeightWeight(df, hjitter=1.3, wjitter=0.5)\n",
    "HexBin(heights, weights)\n",
    "\n",
    "thinkplot.Show(xlabel=unicode('신장(cm)','utf-8'), ylabel=unicode('체중(kg)','utf-8'))"
   ]
  },
  {
   "cell_type": "markdown",
   "metadata": {},
   "source": [
    "#### 그림 7.3: 신장 구간 범위에 대한 체중 백분위수"
   ]
  },
  {
   "cell_type": "code",
   "execution_count": 68,
   "metadata": {
    "collapsed": false
   },
   "outputs": [
    {
     "name": "stdout",
     "output_type": "stream",
     "text": [
      "('Fraction between 140 and 200 cm', 0.99696588451666368)\n"
     ]
    }
   ],
   "source": [
    "def BinnedPercentiles(df):\n",
    "    \"\"\"Bin the data by height and plot percentiles of weight for eachbin.\n",
    "\n",
    "    df: DataFrame\n",
    "    \"\"\"\n",
    "    cdf = thinkstats2.Cdf(df.htm3)\n",
    "    print('Fraction between 140 and 200 cm', cdf[200] - cdf[140])\n",
    "\n",
    "    bins = np.arange(135, 210, 5)\n",
    "    indices = np.digitize(df.htm3, bins)\n",
    "    groups = df.groupby(indices)\n",
    "\n",
    "    heights = [group.htm3.mean() for i, group in groups][1:-1]\n",
    "    cdfs = [thinkstats2.Cdf(group.wtkg2) for i, group in groups][1:-1]\n",
    "\n",
    "    thinkplot.PrePlot(3)\n",
    "    for percent in [75, 50, 25]:\n",
    "        weights = [cdf.Percentile(percent) for cdf in cdfs]\n",
    "        label = '%dth' % percent\n",
    "        thinkplot.Config(label=label, xlabel=unicode('신장(cm)','utf-8'), ylabel=unicode('체중(kg)','utf-8'))\n",
    "        thinkplot.Plot(heights, weights)\n",
    "\n",
    "    thinkplot.Show()\n",
    "BinnedPercentiles(df)    "
   ]
  },
  {
   "cell_type": "markdown",
   "metadata": {},
   "source": [
    "### 8장 그림 도식화"
   ]
  },
  {
   "cell_type": "markdown",
   "metadata": {},
   "source": [
    "#### 그림 8.1: 신뢰구간과 $\\xbar$ 표집분포"
   ]
  },
  {
   "cell_type": "code",
   "execution_count": 73,
   "metadata": {
    "collapsed": false
   },
   "outputs": [
    {
     "name": "stdout",
     "output_type": "stream",
     "text": [
      "('standard error', 2.5003982062365284)\n",
      "('confidence interval', (85.60961212055426, 93.907881432502421))\n"
     ]
    }
   ],
   "source": [
    "# %run estimation.py\n",
    "def SimulateSample(mu=90, sigma=7.5, n=9, m=1000):\n",
    "    \"\"\"Plots the sampling distribution of the sample mean.\n",
    "\n",
    "    mu: hypothetical population mean\n",
    "    sigma: hypothetical population standard deviation\n",
    "    n: sample size\n",
    "    m: number of iterations\n",
    "    \"\"\"\n",
    "    def VertLine(x, y=1):\n",
    "        thinkplot.Plot([x, x], [0, y], color='0.8', linewidth=3)\n",
    "\n",
    "    means = []\n",
    "    for _ in range(m):\n",
    "        xs = np.random.normal(mu, sigma, n)\n",
    "        xbar = np.mean(xs)\n",
    "        means.append(xbar)\n",
    "\n",
    "    stderr = RMSE(means, mu)\n",
    "    print('standard error', stderr)\n",
    "\n",
    "    cdf = thinkstats2.Cdf(means)\n",
    "    ci = cdf.Percentile(5), cdf.Percentile(95)\n",
    "    print('confidence interval', ci)\n",
    "    VertLine(ci[0])\n",
    "    VertLine(ci[1])\n",
    "\n",
    "    # plot the CDF\n",
    "    thinkplot.Cdf(cdf)\n",
    "    thinkplot.Show(xlabel=unicode('표본평균','utf-8'),\n",
    "                   ylabel='CDF',\n",
    "                   title=unicode('표집분포','utf-8'))\n",
    "\n",
    "SimulateSample(mu=90, sigma=7.5, n=9, m=1000)"
   ]
  },
  {
   "cell_type": "markdown",
   "metadata": {},
   "source": [
    "### 9장 그림 도식화"
   ]
  },
  {
   "cell_type": "markdown",
   "metadata": {},
   "source": [
    "#### 그림 9.1: 귀무가설 아래 평균임신기간 차이 CDF."
   ]
  },
  {
   "cell_type": "code",
   "execution_count": 78,
   "metadata": {
    "collapsed": false
   },
   "outputs": [
    {
     "name": "stdout",
     "output_type": "stream",
     "text": [
      "\n",
      "means permute two-sided\n",
      "p-value = 0.184\n",
      "actual = 0.0780372667775\n",
      "ts max = 0.162969779936\n",
      "\n",
      "means permute one-sided\n",
      "p-value = 0.081\n",
      "actual = 0.0780372667775\n",
      "ts max = 0.151149275528\n",
      "\n",
      "std permute one-sided\n",
      "p-value = 0.081\n",
      "actual = 0.17600895914\n",
      "ts max = 0.368641810394\n"
     ]
    }
   ],
   "source": [
    "#% run hypothesis.py\n",
    "def RunTests(data, iters=1000):\n",
    "    \"\"\"Runs several tests on the given data.\n",
    "\n",
    "    data: pair of sequences\n",
    "    iters: number of iterations to run\n",
    "    \"\"\"\n",
    "\n",
    "    # test the difference in means\n",
    "    ht = DiffMeansPermute(data)\n",
    "    p_value = ht.PValue(iters=iters)\n",
    "    print('\\nmeans permute two-sided')\n",
    "    PrintTest(p_value, ht)\n",
    "\n",
    "    ht.PlotCdf()\n",
    "    thinkplot.Show(title=unicode('순열검정','utf-8'),\n",
    "                   xlabel=unicode('평균 차이(주)','utf-8'),\n",
    "                   ylabel='CDF',\n",
    "                   legend=False,\n",
    "                  xlim=[0,0.25]) \n",
    "    \n",
    "    # test the difference in means one-sided\n",
    "    ht = DiffMeansOneSided(data)\n",
    "    p_value = ht.PValue(iters=iters)\n",
    "    print('\\nmeans permute one-sided')\n",
    "    PrintTest(p_value, ht)\n",
    "\n",
    "    # test the difference in std\n",
    "    ht = DiffStdPermute(data)\n",
    "    p_value = ht.PValue(iters=iters)\n",
    "    print('\\nstd permute one-sided')\n",
    "    PrintTest(p_value, ht)\n",
    "\n",
    "live, firsts, others = first.MakeFrames()\n",
    "data = firsts.prglngth.values, others.prglngth.values\n",
    "RunTests(data)"
   ]
  },
  {
   "cell_type": "markdown",
   "metadata": {},
   "source": [
    "### 10장 그림 도식화"
   ]
  },
  {
   "cell_type": "markdown",
   "metadata": {},
   "source": [
    "#### 그림 10.1: 선형적합한 산모연령과 출생체중 산점도."
   ]
  },
  {
   "cell_type": "code",
   "execution_count": 91,
   "metadata": {
    "collapsed": false
   },
   "outputs": [],
   "source": [
    "import first\n",
    "\n",
    "live, _, _ = first.MakeFrames()\n",
    "live = live.dropna(subset=['agepreg', 'totalwgt_lb'])\n",
    "\n",
    "def PlotFit(live):\n",
    "    \"\"\"Plots a scatter plot and fitted curve.\n",
    "\n",
    "    live: DataFrame\n",
    "    \"\"\"\n",
    "    ages = live.agepreg\n",
    "    weights = live.totalwgt_lb\n",
    "    inter, slope = thinkstats2.LeastSquares(ages, weights)\n",
    "    fit_xs, fit_ys = thinkstats2.FitLine(ages, inter, slope)\n",
    "\n",
    "    thinkplot.Scatter(ages, weights, color='gray', alpha=0.1)\n",
    "    thinkplot.Plot(fit_xs, fit_ys, color='white', linewidth=3)\n",
    "    thinkplot.Plot(fit_xs, fit_ys, color='blue', linewidth=2)\n",
    "\n",
    "    thinkplot.Show(xlabel=unicode('연령(년)','utf-8'),\n",
    "                   ylabel=unicode('출생체중(파운드)','utf-8'),\n",
    "                   axis=[10, 45, 0, 15],\n",
    "                   legend=False)\n",
    "\n",
    "PlotFit(live)    "
   ]
  },
  {
   "cell_type": "markdown",
   "metadata": {},
   "source": [
    "#### 그림 10.2: 선형적합 잔차."
   ]
  },
  {
   "cell_type": "code",
   "execution_count": 93,
   "metadata": {
    "collapsed": true
   },
   "outputs": [],
   "source": [
    "def PlotResiduals(live):\n",
    "    \"\"\"Plots percentiles of the residuals.\n",
    "\n",
    "    live: DataFrame\n",
    "    \"\"\"\n",
    "    ages = live.agepreg\n",
    "    weights = live.totalwgt_lb\n",
    "    inter, slope = thinkstats2.LeastSquares(ages, weights)\n",
    "    live['residual'] = thinkstats2.Residuals(ages, weights, inter, slope)\n",
    "\n",
    "    bins = np.arange(10, 48, 3)\n",
    "    indices = np.digitize(live.agepreg, bins)\n",
    "    groups = live.groupby(indices)\n",
    "\n",
    "    ages = [group.agepreg.mean() for _, group in groups][1:-1]\n",
    "    cdfs = [thinkstats2.Cdf(group.residual) for _, group in groups][1:-1]\n",
    "\n",
    "    thinkplot.PrePlot(3)\n",
    "    for percent in [75, 50, 25]:\n",
    "        weights = [cdf.Percentile(percent) for cdf in cdfs]\n",
    "        label = '%dth' % percent\n",
    "        thinkplot.Plot(ages, weights, label=label)\n",
    "\n",
    "    thinkplot.Show(xlabel=unicode('연령(년)','utf-8'),\n",
    "                   ylabel=unicode('잔차(파운드)','utf-8'),\n",
    "                   xlim=[10, 45],\n",
    "                  legend=True)\n",
    "\n",
    "PlotResiduals(live)"
   ]
  },
  {
   "cell_type": "markdown",
   "metadata": {},
   "source": [
    "#### 그림 10.3: {\\tt inter} 와 {\\tt slope} 표집오차 때문에, 적합선에 변동성을 나타내는 신뢰구간 50\\% 와 90\\%."
   ]
  },
  {
   "cell_type": "code",
   "execution_count": 87,
   "metadata": {
    "collapsed": false
   },
   "outputs": [
    {
     "name": "stdout",
     "output_type": "stream",
     "text": [
      "('rho', 0.068833970354109097)\n",
      "('R2', 0.0047381154747102583)\n",
      "('R', 0.06883397035410828)\n",
      "('Std(ys)', 1.4082155338406197)\n",
      "('Std(res)', 1.4048754287857832)\n"
     ]
    }
   ],
   "source": [
    "#% run linear.py\n",
    "\n",
    "def PlotSamplingDistributions(live):\n",
    "    \"\"\"Plots confidence intervals for the fitted curve and sampling dists.\n",
    "\n",
    "    live: DataFrame\n",
    "    \"\"\"\n",
    "    ages = live.agepreg\n",
    "    weights = live.totalwgt_lb\n",
    "    inter, slope = thinkstats2.LeastSquares(ages, weights)\n",
    "    res = thinkstats2.Residuals(ages, weights, inter, slope)\n",
    "    r2 = thinkstats2.CoefDetermination(weights, res)\n",
    "\n",
    "    print('rho', thinkstats2.Corr(ages, weights))\n",
    "    print('R2', r2)\n",
    "    print('R', math.sqrt(r2))\n",
    "    print('Std(ys)', thinkstats2.Std(weights))\n",
    "    print('Std(res)', thinkstats2.Std(res))\n",
    "\n",
    "    # plot the confidence intervals\n",
    "    inters, slopes = SamplingDistributions(live, iters=1001)\n",
    "    PlotConfidenceIntervals(ages, inters, slopes, percent=90, \n",
    "                            alpha=0.3, label='90% CI')\n",
    "    thinkplot.Text(42, 7.53, '90%')\n",
    "    PlotConfidenceIntervals(ages, inters, slopes, percent=50,\n",
    "                            alpha=0.5, label='50% CI')\n",
    "    thinkplot.Text(42, 7.59, '50%')\n",
    "\n",
    "    thinkplot.Show(xlabel=unicode('연령(년)','utf-8'),\n",
    "                   ylabel=unicode('출생체중(파운드)','utf-8'),\n",
    "                   legend=False)\n",
    "\n",
    "\n",
    "PlotSamplingDistributions(live)    "
   ]
  },
  {
   "cell_type": "markdown",
   "metadata": {},
   "source": [
    "#### 그림 10.4: 귀무가설아래 생성된 기울기 분포와 추정 기울기에 대한 표집 분포. 수직선은 0과 관측 기울기는 0.017 파운드/년."
   ]
  },
  {
   "cell_type": "code",
   "execution_count": 97,
   "metadata": {
    "collapsed": false
   },
   "outputs": [
    {
     "name": "stdout",
     "output_type": "stream",
     "text": [
      "('rho', 0.068833970354109097)\n",
      "('R2', 0.0047381154747102583)\n",
      "('R', 0.06883397035410828)\n",
      "('Std(ys)', 1.4082155338406197)\n",
      "('Std(res)', 1.4048754287857832)\n",
      "('p-value, sampling distribution', 0.0)\n",
      "('p-value, slope test', 0.0)\n",
      "('inter', 6.8303969733110526, 6.8325929641272127)\n",
      "mean, SE, CI 6.83259296413 0.0682861998607 (6.7235206576425064, 6.9474354009715631)\n",
      "('slope', 0.017453851471802756, 0.017384231559079047)\n",
      "mean, SE, CI 0.0173842315591 0.00269887819312 (0.01300062593419769, 0.021834069492635864)\n"
     ]
    }
   ],
   "source": [
    "def PlotSamplingDistributions(live):\n",
    "    \"\"\"Plots confidence intervals for the fitted curve and sampling dists.\n",
    "\n",
    "    live: DataFrame\n",
    "    \"\"\"\n",
    "    ages = live.agepreg\n",
    "    weights = live.totalwgt_lb\n",
    "    inter, slope = thinkstats2.LeastSquares(ages, weights)\n",
    "    res = thinkstats2.Residuals(ages, weights, inter, slope)\n",
    "    r2 = thinkstats2.CoefDetermination(weights, res)\n",
    "\n",
    "    print('rho', thinkstats2.Corr(ages, weights))\n",
    "    print('R2', r2)\n",
    "    print('R', math.sqrt(r2))\n",
    "    print('Std(ys)', thinkstats2.Std(weights))\n",
    "    print('Std(res)', thinkstats2.Std(res))\n",
    "    \n",
    "    inters, slopes = SamplingDistributions(live, iters=1001)\n",
    "\n",
    "    # plot the sampling distribution of slope under null hypothesis\n",
    "    # and alternate hypothesis\n",
    "    sampling_cdf = thinkstats2.Cdf(slopes)\n",
    "    print('p-value, sampling distribution', sampling_cdf[0])\n",
    "\n",
    "    ht = SlopeTest((ages, weights))\n",
    "    pvalue = ht.PValue()\n",
    "    print('p-value, slope test', pvalue)\n",
    "\n",
    "    print('inter', inter, thinkstats2.Mean(inters))\n",
    "    Summarize(inters, inter)\n",
    "    print('slope', slope, thinkstats2.Mean(slopes))\n",
    "    Summarize(slopes, slope)\n",
    "\n",
    "    thinkplot.PrePlot(2)\n",
    "    thinkplot.Plot([0, 0], [0, 1], color='0.8')\n",
    "    ht.PlotCdf(label=unicode('귀무가설','utf-8'))\n",
    "    thinkplot.Cdf(sampling_cdf, label=unicode('표집분포','utf-8'))\n",
    "    thinkplot.Show(xlabel=unicode('기울기(파운드/년)','utf-8'),\n",
    "                   ylabel='CDF',\n",
    "                   xlim=[-0.03, 0.03],\n",
    "                   loc='upper left')\n",
    "\n",
    "PlotSamplingDistributions(live)    "
   ]
  },
  {
   "cell_type": "markdown",
   "metadata": {},
   "source": [
    "### 12장 그림 도식화"
   ]
  },
  {
   "cell_type": "markdown",
   "metadata": {},
   "source": [
    "#### 그림 12.1: 고급, 중급, 저급 품질 대마초에 대한 그램당 일별 시계열 그림."
   ]
  },
  {
   "cell_type": "code",
   "execution_count": 103,
   "metadata": {
    "collapsed": false
   },
   "outputs": [],
   "source": [
    "# % run timeseries.py\n",
    "\n",
    "def ReadData():\n",
    "    \"\"\"Reads data about cannabis transactions.\n",
    "\n",
    "    http://zmjones.com/static/data/mj-clean.csv    (더이상 제공하고 있지 않음)\n",
    "    https://raw.githubusercontent.com/AllenDowney/ThinkStats2/master/code/mj-clean.csv\n",
    "\n",
    "    returns: DataFrame\n",
    "    \"\"\"\n",
    "    transactions = pandas.read_csv('mj-clean.csv', parse_dates=[5])\n",
    "    return transactions\n",
    "\n",
    "transactions = ReadData()\n",
    "dailies = GroupByQualityAndDay(transactions)\n",
    "\n",
    "def PlotDailies(dailies):\n",
    "    \"\"\"Makes a plot with daily prices for different qualities.\n",
    "\n",
    "    dailies: map from name to DataFrame\n",
    "    \"\"\"\n",
    "    kor_name = ['고급', '중급', '저급']\n",
    "    thinkplot.PrePlot(rows=3)\n",
    "    for i, (name, daily) in enumerate(dailies.items()):\n",
    "        thinkplot.SubPlot(i+1)\n",
    "        title = unicode('그램당 가격($)','utf-8') if i == 0 else ''\n",
    "        thinkplot.Config(ylim=[0, 20], title=title)\n",
    "        thinkplot.Scatter(daily.ppg, s=10, label= unicode(kor_name[i],'utf-8'))\n",
    "        if i == 2: \n",
    "            pyplot.xticks(rotation=30)\n",
    "        else:\n",
    "            thinkplot.Config(xticks=[])\n",
    "\n",
    "    thinkplot.Show(\n",
    "                   formats=FORMATS)\n",
    "\n",
    "PlotDailies(dailies)  "
   ]
  },
  {
   "cell_type": "markdown",
   "metadata": {},
   "source": [
    "#### 그림 12.2: 고급 대마초에 대한 그램당 일별가격 시계열과 선형 최소자승적합."
   ]
  },
  {
   "cell_type": "code",
   "execution_count": 106,
   "metadata": {
    "collapsed": true
   },
   "outputs": [],
   "source": [
    "name = 'high'\n",
    "daily = dailies[name]\n",
    "\n",
    "def PlotLinearModel(daily, name):\n",
    "    \"\"\"Plots a linear fit to a sequence of prices, and the residuals.\n",
    "    \n",
    "    daily: DataFrame of daily prices\n",
    "    name: string\n",
    "    \"\"\"\n",
    "    model, results = RunLinearModel(daily)\n",
    "    PlotFittedValues(model, results, label=unicode('고급','utf-8'))\n",
    "    thinkplot.Show(\n",
    "                   title=unicode('적합된 값','utf-8') ,\n",
    "                   xlabel=unicode('연도','utf-8'),\n",
    "                   xlim=[-0.1, 3.8],\n",
    "                   ylabel=unicode('그램당 가격($)','utf-8'),\n",
    "                   formats=FORMATS)\n",
    "\n",
    "\n",
    "PlotLinearModel(daily, name)"
   ]
  },
  {
   "cell_type": "markdown",
   "metadata": {},
   "source": [
    "#### 그림 12.3: 일별가격과 이동평균(좌측), 지수가중이동평균(exponentially-weighted moving average, EWMA, 우측)."
   ]
  },
  {
   "cell_type": "code",
   "execution_count": 109,
   "metadata": {
    "collapsed": true
   },
   "outputs": [],
   "source": [
    "def PlotRollingMean(daily, name):\n",
    "    \"\"\"Plots rolling mean and EWMA.\n",
    "\n",
    "    daily: DataFrame of daily prices\n",
    "    \"\"\"\n",
    "    dates = pandas.date_range(daily.index.min(), daily.index.max())\n",
    "    reindexed = daily.reindex(dates)\n",
    "\n",
    "    thinkplot.PrePlot(cols=2)\n",
    "    thinkplot.Scatter(reindexed.ppg, s=15, alpha=0.1, label=unicode('고급','utf-8'))\n",
    "    roll_mean = pandas.rolling_mean(reindexed.ppg, 30)\n",
    "    thinkplot.Plot(roll_mean, label=unicode('이동평균','utf-8'))\n",
    "    pyplot.xticks(rotation=30)\n",
    "    thinkplot.Config(ylabel=unicode('그램당 가격($)','utf-8'))\n",
    "\n",
    "    thinkplot.SubPlot(2)\n",
    "    thinkplot.Scatter(reindexed.ppg, s=15, alpha=0.1, label=unicode('고급','utf-8'))\n",
    "    ewma = pandas.ewma(reindexed.ppg, span=30)\n",
    "    thinkplot.Plot(ewma, label='EWMA')\n",
    "    pyplot.xticks(rotation=30)\n",
    "    thinkplot.Show(\n",
    "                   formats=FORMATS)\n",
    "\n",
    "PlotRollingMean(daily, name)    "
   ]
  },
  {
   "cell_type": "markdown",
   "metadata": {},
   "source": [
    "#### 그림 12.4: 결측값을 채운 일별가격."
   ]
  },
  {
   "cell_type": "code",
   "execution_count": 111,
   "metadata": {
    "collapsed": true
   },
   "outputs": [],
   "source": [
    "def PlotFilled(daily, name):\n",
    "    \"\"\"Plots the EWMA and filled data.\n",
    "\n",
    "    daily: DataFrame of daily prices\n",
    "    \"\"\"\n",
    "    filled = FillMissing(daily, span=30)\n",
    "    thinkplot.Scatter(filled.ppg, s=15, alpha=0.3, label=unicode('고급','utf-8'))\n",
    "    thinkplot.Plot(filled.ewma, label='EWMA', alpha=0.4)\n",
    "    pyplot.xticks(rotation=30)\n",
    "    thinkplot.Show(\n",
    "                   ylabel=unicode('그램당 가격($)','utf-8'),\n",
    "                   formats=FORMATS)\n",
    "\n",
    "PlotFilled(daily, name)    "
   ]
  },
  {
   "cell_type": "markdown",
   "metadata": {},
   "source": [
    "#### 그림 12.5: 일별가격에 대한 자기상관 함수(좌측), 모의시험으로 주별 계절성을 갖는 일별가격에 대한 자기상관 함수(우측)."
   ]
  },
  {
   "cell_type": "code",
   "execution_count": 113,
   "metadata": {
    "collapsed": false
   },
   "outputs": [],
   "source": [
    "def MakeAcfPlot(dailies):\n",
    "    \"\"\"Makes a figure showing autocorrelation functions.\n",
    "\n",
    "    dailies: map from category name to DataFrame of daily prices    \n",
    "    \"\"\"\n",
    "    axis = [0, 41, -0.2, 0.2]\n",
    "\n",
    "    thinkplot.PrePlot(cols=2)\n",
    "    PlotAutoCorrelation(dailies, add_weekly=False)\n",
    "    thinkplot.Config(axis=axis, \n",
    "                     loc='lower right',\n",
    "                     ylabel=unicode('상관','utf-8'),\n",
    "                     xlabel=unicode('시차(일별)','utf-8'))\n",
    "\n",
    "    thinkplot.SubPlot(2)\n",
    "    PlotAutoCorrelation(dailies, add_weekly=True)\n",
    "    thinkplot.Show(\n",
    "                   axis=axis,\n",
    "                   loc='lower right',\n",
    "                   xlabel=unicode('시차(일별)','utf-8'),\n",
    "                   formats=FORMATS)\n",
    "\n",
    "MakeAcfPlot(dailies)"
   ]
  },
  {
   "cell_type": "markdown",
   "metadata": {},
   "source": [
    "#### 그림 12.6: 선형적합에 기초한 예측, 표집오차와 예측 오차에 기인한 변동성을 나타냄."
   ]
  },
  {
   "cell_type": "code",
   "execution_count": 115,
   "metadata": {
    "collapsed": true
   },
   "outputs": [],
   "source": [
    "years = np.linspace(0, 5, 101)\n",
    "thinkplot.Scatter(daily.years, daily.ppg, alpha=0.1, label=unicode('고급','utf-8'))\n",
    "PlotPredictions(daily, years)\n",
    "xlim = years[0]-0.1, years[-1]+0.1\n",
    "thinkplot.Show(\n",
    "                   title=unicode('예측','utf-8'),\n",
    "                   xlabel=unicode('년도','utf-8'),\n",
    "                   xlim=xlim,\n",
    "                   ylabel=unicode('그램당 가격($)','utf-8'),\n",
    "                   formats=FORMATS)\n"
   ]
  },
  {
   "cell_type": "markdown",
   "metadata": {},
   "source": [
    "#### 그림 12.7: 선형적합에 기초한 예측, 관측점 간격에 기인한 변동성을 나타냄."
   ]
  },
  {
   "cell_type": "code",
   "execution_count": 117,
   "metadata": {
    "collapsed": true
   },
   "outputs": [],
   "source": [
    "name = 'medium'\n",
    "daily = dailies[name]\n",
    "\n",
    "thinkplot.Scatter(daily.years, daily.ppg, alpha=0.1, label=unicode('중급','utf-8'))\n",
    "PlotIntervals(daily, years)\n",
    "PlotPredictions(daily, years)\n",
    "xlim = years[0]-0.1, years[-1]+0.1\n",
    "thinkplot.Show(\n",
    "                   title=unicode('예측','utf-8'),\n",
    "                   xlabel=unicode('년도','utf-8'),\n",
    "                   xlim=xlim,\n",
    "                   ylabel=unicode('그램당 가격($)','utf-8'),\n",
    "                   formats=FORMATS)\n"
   ]
  },
  {
   "cell_type": "markdown",
   "metadata": {},
   "source": [
    "### 13장 그림 도식화"
   ]
  },
  {
   "cell_type": "markdown",
   "metadata": {},
   "source": [
    "#### 그림 13. 1: 임신기간에 대한 CDF와 생존함수(위쪽), 위험함수(아래쪽)."
   ]
  },
  {
   "cell_type": "code",
   "execution_count": 122,
   "metadata": {
    "collapsed": false
   },
   "outputs": [
    {
     "name": "stdout",
     "output_type": "stream",
     "text": [
      "('Number of complete pregnancies', 11189)\n",
      "('Number of ongoing pregnancies', 352)\n",
      "0.13978014121\n",
      "0.86021985879\n",
      "0.496894409938\n"
     ]
    }
   ],
   "source": [
    "# %run survival.py\n",
    "def PlotPregnancyData(preg):\n",
    "    \"\"\"Plots survival and hazard curves based on pregnancy lengths.\n",
    "    \n",
    "    preg:\n",
    "    \"\"\"\n",
    "    complete = preg.query('outcome in [1, 3, 4]').prglngth\n",
    "    print('Number of complete pregnancies', len(complete))\n",
    "    ongoing = preg[preg.outcome == 6].prglngth\n",
    "    print('Number of ongoing pregnancies', len(ongoing))\n",
    "\n",
    "    PlotSurvival(complete)\n",
    "    thinkplot.Show(\n",
    "                   xlabel=unicode('시간(주)','utf-8'),\n",
    "                   formats=FORMATS,\n",
    "                   legend=True,\n",
    "                   loc='upper left')\n",
    "\n",
    "PlotPregnancyData(preg)    "
   ]
  },
  {
   "cell_type": "markdown",
   "metadata": {},
   "source": [
    "#### 그림 13.2: 초혼 연령에 대한 위험함수(위쪽)와 생존함수(아래쪽)"
   ]
  },
  {
   "cell_type": "code",
   "execution_count": 124,
   "metadata": {
    "collapsed": true
   },
   "outputs": [],
   "source": [
    "def ReadFemResp2002():\n",
    "    \"\"\"Reads respondent data from NSFG Cycle 6.\n",
    "\n",
    "    returns: DataFrame\n",
    "    \"\"\"\n",
    "    usecols = ['cmmarrhx', 'cmdivorcx', 'cmbirth', 'cmintvw', \n",
    "               'evrmarry', 'finalwgt']\n",
    "    resp = ReadFemResp(usecols=usecols)\n",
    "    CleanData(resp)\n",
    "    return resp\n",
    "\n",
    "resp6 = ReadFemResp2002()\n",
    "\n",
    "def PlotMarriageData(resp):\n",
    "    \"\"\"Plots hazard and survival functions.\n",
    "\n",
    "    resp: DataFrame of respondents\n",
    "    \"\"\"\n",
    "    hf, sf = EstimateSurvival(resp)\n",
    "\n",
    "    thinkplot.PrePlot(rows=2)\n",
    "    thinkplot.Plot(hf)\n",
    "    thinkplot.Config(legend=False)\n",
    "\n",
    "    thinkplot.SubPlot(2)\n",
    "    thinkplot.Plot(sf)\n",
    "    thinkplot.Show(\n",
    "                   xlabel=unicode('연령(년)','utf-8'),\n",
    "                   ylabel=unicode('미혼 확률','utf-8'),\n",
    "                   ylim=[0, 1],\n",
    "                   legend=False,\n",
    "                   formats=FORMATS)\n",
    "\n",
    "PlotMarriageData(resp6)"
   ]
  },
  {
   "cell_type": "markdown",
   "metadata": {},
   "source": [
    "#### 그림 13.3: 초혼연령에 대한 생존함수와 가중 재표집에 근거한 90% 신뢰구간."
   ]
  },
  {
   "cell_type": "code",
   "execution_count": 128,
   "metadata": {
    "collapsed": false
   },
   "outputs": [],
   "source": [
    "def ResampleSurvival(resp, iters=101):\n",
    "    \"\"\"Resamples respondents and estimates the survival function.\n",
    "\n",
    "    resp: DataFrame of respondents\n",
    "    iters: number of resamples\n",
    "    \"\"\" \n",
    "    _, sf = EstimateSurvival(resp)\n",
    "    thinkplot.Plot(sf)\n",
    "\n",
    "    low, high = resp.agemarry.min(), resp.agemarry.max()\n",
    "    ts = np.arange(low, high, 1/12.0)\n",
    "\n",
    "    ss_seq = []\n",
    "    for _ in range(iters):\n",
    "        sample = thinkstats2.ResampleRowsWeighted(resp)\n",
    "        _, sf = EstimateSurvival(sample)\n",
    "        ss_seq.append(sf.Probs(ts))\n",
    "\n",
    "    low, high = thinkstats2.PercentileRows(ss_seq, [5, 95])\n",
    "    thinkplot.FillBetween(ts, low, high, color='gray', label='90% CI')\n",
    "    thinkplot.Show(\n",
    "                   xlabel=unicode('연령(년)','utf-8'),\n",
    "                   ylabel=unicode('미혼 확률','utf-8'),\n",
    "                   xlim=[12, 46],\n",
    "                   ylim=[0, 1],\n",
    "                   formats=FORMATS)\n",
    "\n",
    "ResampleSurvival(resp6, iters=101)    "
   ]
  },
  {
   "cell_type": "markdown",
   "metadata": {},
   "source": [
    "#### 그림 13.4: 서로 다른 십년동안 출생한 응답자에 대한 생존함수."
   ]
  },
  {
   "cell_type": "code",
   "execution_count": 10,
   "metadata": {
    "collapsed": false
   },
   "outputs": [],
   "source": [
    "def ReadFemResp2002():\n",
    "    \"\"\"Reads respondent data from NSFG Cycle 6.\n",
    "\n",
    "    returns: DataFrame\n",
    "    \"\"\"\n",
    "    usecols = ['cmmarrhx', 'cmdivorcx', 'cmbirth', 'cmintvw', \n",
    "               'evrmarry', 'finalwgt']\n",
    "    resp = ReadFemResp(usecols=usecols)\n",
    "    CleanData(resp)\n",
    "    return resp\n",
    "\n",
    "# read Cycles 5 and 7\n",
    "resp5 = ReadFemResp1995()\n",
    "resp6 = ReadFemResp2002()\n",
    "resp7 = ReadFemResp2010()\n",
    "\n",
    "# plot resampled survival functions by decade\n",
    "resps = [resp5, resp6, resp7]\n",
    "PlotResampledByDecade(resps)\n",
    "thinkplot.Show(\n",
    "                   xlabel=unicode('연령(년)','utf-8'),\n",
    "                   ylabel=unicode('미혼 확률','utf-8'),\n",
    "                   xlim=[13, 45],\n",
    "                   ylim=[0, 1],\n",
    "                   formats=FORMATS)\n",
    "\n"
   ]
  },
  {
   "cell_type": "markdown",
   "metadata": {},
   "source": [
    "#### 그림 13.5: 서로 다른 십년동안 출생한 응답자에 대한 생존함수와 후세 코호트에 대한 예측"
   ]
  },
  {
   "cell_type": "code",
   "execution_count": 9,
   "metadata": {
    "collapsed": true
   },
   "outputs": [],
   "source": [
    "thinkstats2.RandomSeed(17)\n",
    "# plot resampled survival functions by decade, with predictions\n",
    "PlotResampledByDecade(resps, predict_flag=True, omit=[5])\n",
    "thinkplot.Show(\n",
    "                   xlabel=unicode('연령(년)','utf-8'),\n",
    "                   ylabel=unicode('미혼 확률','utf-8'),\n",
    "                   xlim=[13, 45],\n",
    "                   ylim=[0, 1],\n",
    "                   formats=FORMATS,\n",
    "                   legend=True)\n"
   ]
  },
  {
   "cell_type": "markdown",
   "metadata": {},
   "source": [
    "#### 그림 13.6: 임신기간에 대한 예상 잔존여명(좌측), 초혼까지 시간(년, 우측)."
   ]
  },
  {
   "cell_type": "code",
   "execution_count": 14,
   "metadata": {
    "collapsed": false
   },
   "outputs": [
    {
     "name": "stdout",
     "output_type": "stream",
     "text": [
      "Number of complete pregnancies 11189\n",
      "Number of ongoing pregnancies 352\n",
      "0.13978014121\n",
      "0.86021985879\n",
      "0.496894409938\n",
      "Writing survival1.pdf\n",
      "Writing survival1.eps\n",
      "Writing survival1.png\n",
      "Writing survival2.pdf\n",
      "Writing survival2.eps\n",
      "Writing survival2.png\n"
     ]
    }
   ],
   "source": [
    "preg = nsfg.ReadFemPreg()\n",
    "sf1 = PlotPregnancyData(preg)\n",
    "sf2 = PlotMarriageData(resp6)\n",
    "\n",
    "def PlotRemainingLifetime(sf1, sf2):\n",
    "    \"\"\"Plots remaining lifetimes for pregnancy and age at first marriage.\n",
    "\n",
    "    sf1: SurvivalFunction for pregnancy length\n",
    "    sf2: SurvivalFunction for age at first marriage\n",
    "    \"\"\"\n",
    "    thinkplot.PrePlot(cols=2)\n",
    "    rem_life1 = sf1.RemainingLifetime()\n",
    "    thinkplot.Plot(rem_life1)\n",
    "    thinkplot.Config(title=unicode('임신기간','utf-8'),\n",
    "                     xlabel=unicode('주(weeks)','utf-8'),\n",
    "                     ylabel=unicode('평균 잔여 주(weeks)','utf-8'))\n",
    "\n",
    "    thinkplot.SubPlot(2)\n",
    "    func = lambda pmf: pmf.Percentile(50)\n",
    "    rem_life2 = sf2.RemainingLifetime(filler=np.inf, func=func)\n",
    "    thinkplot.Plot(rem_life2)\n",
    "    thinkplot.Config(title=unicode('초혼 연령','utf-8'),\n",
    "                     ylim=[0, 15],\n",
    "                     xlim=[11, 31],\n",
    "                     xlabel=unicode('연령(년)','utf-8'),\n",
    "                     ylabel=unicode('중위수 잔존 년','utf-8'))\n",
    "\n",
    "    thinkplot.Show(\n",
    "                   formats=FORMATS)\n",
    "\n",
    "PlotRemainingLifetime(sf1, sf2)"
   ]
  },
  {
   "cell_type": "markdown",
   "metadata": {},
   "source": [
    "### 14장 그림 도식화"
   ]
  },
  {
   "cell_type": "markdown",
   "metadata": {},
   "source": [
    "#### 그림 14.1: 지수분포값의 합에 대한 분포(윗줄), 로그정규분포값의 합에 대한 분포(아랫줄)."
   ]
  },
  {
   "cell_type": "code",
   "execution_count": 18,
   "metadata": {
    "collapsed": false
   },
   "outputs": [],
   "source": [
    "#%run normal.py\n",
    "def MakeCltPlots():\n",
    "    \"\"\"Makes plot showing distributions of sums converging to normal.\n",
    "    \"\"\"\n",
    "    thinkplot.PrePlot(num=3, rows=2, cols=3)\n",
    "    samples = MakeExpoSamples()\n",
    "    NormalPlotSamples(samples, plot=1, ylabel=unicode('지수분포값의 합','utf-8'))\n",
    "\n",
    "    thinkplot.PrePlot(num=3)\n",
    "    samples = MakeLognormalSamples()\n",
    "    NormalPlotSamples(samples, plot=4, ylabel=unicode('로그정규분포값의 합','utf-8'))\n",
    "    thinkplot.Show(legend=False)\n",
    "\n",
    "MakeCltPlots()    \n"
   ]
  },
  {
   "cell_type": "markdown",
   "metadata": {},
   "source": [
    "#### 그림 14.2: 파레토분포값의 합에 대한 분포(윗줄), 상관된 지수분포값의 합에 대한 분포(아랫줄)."
   ]
  },
  {
   "cell_type": "code",
   "execution_count": 19,
   "metadata": {
    "collapsed": true
   },
   "outputs": [],
   "source": [
    "def MakeCltPlots():\n",
    "    \"\"\"Makes plot showing distributions of sums converging to normal.\n",
    "    \"\"\"\n",
    "    thinkplot.PrePlot(num=3, rows=2, cols=3)\n",
    "    samples = MakeParetoSamples()\n",
    "    NormalPlotSamples(samples, plot=1, ylabel=unicode('파레토분포값의 합','utf-8'))\n",
    "\n",
    "    thinkplot.PrePlot(num=3)\n",
    "    samples = MakeCorrelatedSamples()\n",
    "    NormalPlotSamples(samples, plot=4, ylabel=unicode('상관된 지수분포값의 합','utf-8'))\n",
    "    thinkplot.Show(legend=False)\n",
    "\n",
    "MakeCltPlots()    "
   ]
  },
  {
   "cell_type": "markdown",
   "metadata": {},
   "source": [
    "#### 그림 14.3: 상관되지 않은 정규변수에 대한 상관계수에 대한 표집분포."
   ]
  },
  {
   "cell_type": "code",
   "execution_count": 25,
   "metadata": {
    "collapsed": false
   },
   "outputs": [],
   "source": [
    "import first\n",
    "\n",
    "def TestCorrelation(live):\n",
    "    \"\"\"Tests correlation analytically.\n",
    "\n",
    "    live: DataFrame for live births\n",
    "\n",
    "    \"\"\"\n",
    "    n, r, cdf = ResampleCorrelations(live)\n",
    "\n",
    "    model = StudentCdf(n)\n",
    "    thinkplot.Plot(model.xs, model.ps, color='gray',\n",
    "                   alpha=0.3, label=unicode('스튜던트 t','utf-8'))\n",
    "    thinkplot.Cdf(cdf, label=unicode('표본','utf-8'))\n",
    "\n",
    "    thinkplot.Show(\n",
    "                   xlabel=unicode('상관','utf-8'),\n",
    "                   ylabel='CDF',\n",
    "                   loc='upper left')\n",
    "\n",
    "live, firsts, others = first.MakeFrames()\n",
    "\n",
    "TestCorrelation(live)    "
   ]
  },
  {
   "cell_type": "markdown",
   "metadata": {},
   "source": [
    "#### 그림 14.4: 치우침없는 6각 주사위에 대한 카이제곱 통계량에 대한 표집분포."
   ]
  },
  {
   "cell_type": "code",
   "execution_count": 28,
   "metadata": {
    "collapsed": true
   },
   "outputs": [],
   "source": [
    "def TestChiSquared():\n",
    "    \"\"\"Performs a chi-squared test analytically.\n",
    "    \"\"\"\n",
    "    data = [8, 9, 19, 5, 8, 11]\n",
    "    dt = hypothesis.DiceChiTest(data)\n",
    "    p_value = dt.PValue(iters=1000)\n",
    "    n, chi2, cdf = len(data), dt.actual, dt.test_cdf\n",
    "\n",
    "    model = ChiSquaredCdf(n)\n",
    "    thinkplot.Plot(model.xs, model.ps, color='gray',\n",
    "                   alpha=0.3, label=unicode('카이제곱','utf-8'))\n",
    "    thinkplot.Cdf(cdf, label=unicode('표본','utf-8'))\n",
    "\n",
    "    thinkplot.Show(\n",
    "                   xlabel=unicode('카이제곱 통계량','utf-8'),\n",
    "                   ylabel='CDF',\n",
    "                   loc='lower right')\n",
    "\n",
    "TestChiSquared()    "
   ]
  },
  {
   "cell_type": "markdown",
   "metadata": {},
   "source": [
    "### 기타... 못한 것..."
   ]
  },
  {
   "cell_type": "code",
   "execution_count": 30,
   "metadata": {
    "collapsed": false
   },
   "outputs": [
    {
     "ename": "SyntaxError",
     "evalue": "invalid syntax (<ipython-input-30-a277e01b850f>, line 37)",
     "output_type": "error",
     "traceback": [
      "\u001b[1;36m  File \u001b[1;32m\"<ipython-input-30-a277e01b850f>\"\u001b[1;36m, line \u001b[1;32m37\u001b[0m\n\u001b[1;33m    MakeFigures(live, firsts, others):\u001b[0m\n\u001b[1;37m                                     ^\u001b[0m\n\u001b[1;31mSyntaxError\u001b[0m\u001b[1;31m:\u001b[0m invalid syntax\n"
     ]
    }
   ],
   "source": [
    "import first\n",
    "\n",
    "live, firsts, others = first.MakeFrames()\n",
    "\n",
    "def MakeFigures(live, firsts, others):\n",
    "    \"\"\"Creates several figures for the book.\n",
    "\n",
    "    live: DataFrame\n",
    "    firsts: DataFrame\n",
    "    others: DataFrame\n",
    "    \"\"\"\n",
    "\n",
    "    first_wgt = firsts.totalwgt_lb\n",
    "    first_wgt_dropna = first_wgt.dropna()\n",
    "    print('Firsts', len(first_wgt), len(first_wgt_dropna))\n",
    "    #assert len(first_wgt_dropna) == 4381\n",
    " \n",
    "    other_wgt = others.totalwgt_lb\n",
    "    other_wgt_dropna = other_wgt.dropna()\n",
    "    print('Others', len(other_wgt), len(other_wgt_dropna))\n",
    "    #assert len(other_wgt_dropna) == 4706\n",
    "\n",
    "    first_pmf = thinkstats2.Pmf(first_wgt_dropna, label='first')\n",
    "    other_pmf = thinkstats2.Pmf(other_wgt_dropna, label='other')\n",
    "\n",
    "    width = 0.4 / 16\n",
    "\n",
    "    # plot PMFs of birth weights for first babies and others\n",
    "    thinkplot.PrePlot(2)\n",
    "    thinkplot.Hist(first_pmf, align='right', width=width)\n",
    "    thinkplot.Hist(other_pmf, align='left', width=width)\n",
    "    thinkplot.Show(\n",
    "                   title='Birth weight',\n",
    "                   xlabel='weight (pounds)',\n",
    "                   ylabel='PMF')\n",
    "\n",
    "MakeFigures(live, firsts, others):    \n"
   ]
  },
  {
   "cell_type": "code",
   "execution_count": 14,
   "metadata": {
    "collapsed": false
   },
   "outputs": [],
   "source": [
    "import first\n",
    "\n",
    "live, firsts, others = first.MakeFrames()\n",
    "\n",
    "\n",
    "first_hist = thinkstats2.Pmf(firsts.totalwgt_lb)\n",
    "others_hist = thinkstats2.Pmf(others.totalwgt_lb)\n",
    "\n",
    "width = 0.05\n",
    "thinkplot.PrePlot(2)\n",
    "thinkplot.Hist(first_hist, align='right', width=width, label=unicode('첫째','utf-8'))\n",
    "thinkplot.Hist(others_hist, align='left', width=width, label=unicode('첫째아님','utf-8'))\n",
    "ko_xlab = unicode('체중(파운드)','utf-8')\n",
    "ko_ylab = unicode('확률','utf-8')\n",
    "thinkplot.Show(xlabel=ko_xlab, ylabel=ko_ylab, title=unicode('출생체중 PMF','utf-8'))    "
   ]
  },
  {
   "cell_type": "code",
   "execution_count": null,
   "metadata": {
    "collapsed": false
   },
   "outputs": [],
   "source": []
  }
 ],
 "metadata": {
  "kernelspec": {
   "display_name": "Python 2",
   "language": "python",
   "name": "python2"
  },
  "language_info": {
   "codemirror_mode": {
    "name": "ipython",
    "version": 2
   },
   "file_extension": ".py",
   "mimetype": "text/x-python",
   "name": "python",
   "nbconvert_exporter": "python",
   "pygments_lexer": "ipython2",
   "version": "2.7.8"
  }
 },
 "nbformat": 4,
 "nbformat_minor": 0
}
