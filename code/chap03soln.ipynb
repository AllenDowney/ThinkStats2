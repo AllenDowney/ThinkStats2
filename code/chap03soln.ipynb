{
 "metadata": {
  "name": "",
  "signature": "sha256:0e565d9740003f120aaae1860024f04e4dc88b53f54f3e43eddc5e4e4e5a5f8c"
 },
 "nbformat": 3,
 "nbformat_minor": 0,
 "worksheets": [
  {
   "cells": [
    {
     "cell_type": "markdown",
     "metadata": {},
     "source": [
      "Read the female respondent file."
     ]
    },
    {
     "cell_type": "code",
     "collapsed": false,
     "input": [
      "import chap01soln\n",
      "resp = chap01soln.ReadFemResp()"
     ],
     "language": "python",
     "metadata": {},
     "outputs": [],
     "prompt_number": 1
    },
    {
     "cell_type": "markdown",
     "metadata": {},
     "source": [
      "Make a PMF of <tt>numkdhh</tt>, the number of children under 18 in the respondent's household."
     ]
    },
    {
     "cell_type": "code",
     "collapsed": false,
     "input": [
      "import thinkstats2\n",
      "pmf = thinkstats2.Pmf(resp.numkdhh)"
     ],
     "language": "python",
     "metadata": {},
     "outputs": [],
     "prompt_number": 4
    },
    {
     "cell_type": "markdown",
     "metadata": {},
     "source": [
      "Display the PMF."
     ]
    },
    {
     "cell_type": "code",
     "collapsed": false,
     "input": [
      "import thinkplot\n",
      "thinkplot.Pmf(pmf, label='numkdhh')\n",
      "thinkplot.Show()"
     ],
     "language": "python",
     "metadata": {},
     "outputs": [
      {
       "metadata": {},
       "output_type": "display_data",
       "png": "[encoded data removed]",
       "text": [
        "<matplotlib.figure.Figure at 0xb9caf50>"
       ]
      }
     ],
     "prompt_number": 5
    },
    {
     "cell_type": "markdown",
     "metadata": {},
     "source": [
      "Define <tt>BiasPmf</tt>."
     ]
    },
    {
     "cell_type": "code",
     "collapsed": false,
     "input": [
      "def BiasPmf(pmf, label=''):\n",
      "    \"\"\"Returns the Pmf with oversampling proportional to value.\n",
      "\n",
      "    If pmf is the distribution of true values, the result is the\n",
      "    distribution that would be seen if values are oversampled in\n",
      "    proportion to their values; for example, if you ask students\n",
      "    how big their classes are, large classes are oversampled in\n",
      "    proportion to their size.\n",
      "\n",
      "    Args:\n",
      "      pmf: Pmf object.\n",
      "      label: string label for the new Pmf.\n",
      "\n",
      "     Returns:\n",
      "       Pmf object\n",
      "    \"\"\"\n",
      "    new_pmf = pmf.Copy(label=label)\n",
      "\n",
      "    for x, p in pmf.Items():\n",
      "        new_pmf.Mult(x, x)\n",
      "        \n",
      "    new_pmf.Normalize()\n",
      "    return new_pmf"
     ],
     "language": "python",
     "metadata": {},
     "outputs": [],
     "prompt_number": 6
    },
    {
     "cell_type": "markdown",
     "metadata": {},
     "source": [
      "Make a the biased Pmf of children in the household, as observed if you surveyed the children instead of the respondents."
     ]
    },
    {
     "cell_type": "code",
     "collapsed": false,
     "input": [
      "biased = BiasPmf(pmf, label='biased')"
     ],
     "language": "python",
     "metadata": {},
     "outputs": [],
     "prompt_number": 8
    },
    {
     "cell_type": "markdown",
     "metadata": {},
     "source": [
      "Display the actual Pmf and the biased Pmf on the same axes."
     ]
    },
    {
     "cell_type": "code",
     "collapsed": false,
     "input": [
      "thinkplot.PrePlot(2)\n",
      "thinkplot.Pmfs([pmf, biased])\n",
      "thinkplot.Show()"
     ],
     "language": "python",
     "metadata": {},
     "outputs": [
      {
       "metadata": {},
       "output_type": "display_data",
       "png": "[encoded data removed]",
       "text": [
        "<matplotlib.figure.Figure at 0x5140890>"
       ]
      }
     ],
     "prompt_number": 10
    },
    {
     "cell_type": "markdown",
     "metadata": {},
     "source": [
      "Compute the means of the two Pmfs."
     ]
    },
    {
     "cell_type": "code",
     "collapsed": false,
     "input": [
      "pmf.Mean()"
     ],
     "language": "python",
     "metadata": {},
     "outputs": [
      {
       "metadata": {},
       "output_type": "pyout",
       "prompt_number": 11,
       "text": [
        "1.0242051550438309"
       ]
      }
     ],
     "prompt_number": 11
    },
    {
     "cell_type": "code",
     "collapsed": false,
     "input": [
      "biased.Mean()"
     ],
     "language": "python",
     "metadata": {},
     "outputs": [
      {
       "metadata": {},
       "output_type": "pyout",
       "prompt_number": 12,
       "text": [
        "2.4036791006642821"
       ]
      }
     ],
     "prompt_number": 12
    },
    {
     "cell_type": "code",
     "collapsed": false,
     "input": [],
     "language": "python",
     "metadata": {},
     "outputs": []
    }
   ],
   "metadata": {}
  }
 ]
}