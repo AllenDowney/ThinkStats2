{
 "cells": [
  {
   "cell_type": "markdown",
   "metadata": {},
   "source": [
    "통계적 사고 (2판) 연습문제 ([thinkstats2.com](thinkstats2.com), [think-stat.xwmooc.org](http://think-stat.xwmooc.org))<br>\n",
    "Allen Downey / 이광춘(xwMOOC)"
   ]
  },
  {
   "cell_type": "code",
   "execution_count": 2,
   "metadata": {
    "collapsed": false
   },
   "outputs": [],
   "source": [
    "from __future__ import print_function, division\n",
    "\n",
    "import first\n",
    "import hypothesis\n",
    "import scatter\n",
    "import thinkstats2\n",
    "\n",
    "import numpy as np"
   ]
  },
  {
   "cell_type": "markdown",
   "metadata": {},
   "source": [
    "## 연습문제 9.1\n",
    "\n",
    "표본크기가 증가함에 따라, 가설검정력은 증가하는데, 효과가 실제하면 좀더 양성임을 의미한다. 반대로, 표본크기가 줄어들면, 검정력은 설사 효과가 실제한다고 하더라도 덜 양성일 것 같다.\n",
    "이런 작동방식을 조사하는데, NSFG 데이터에서 다른 일부 데이터를 갖는 검정을 실시한다. `thinkstats2.SampleRows`을 사용해서, 데이터프레임에 임의로 행일부를 선택한다.\n",
    "\n",
    "표본크기가 감소함에 따라 검정 p-값에는 무슨 일이 일어나는가? 양의 검정을 산출하는 최소 표본크기는 얼마인가?"
   ]
  },
  {
   "cell_type": "code",
   "execution_count": 8,
   "metadata": {
    "collapsed": false
   },
   "outputs": [
    {
     "name": "stdout",
     "output_type": "stream",
     "text": [
      "9148\t0.16\t0.00\t0.00\t0.00\n",
      "4574\t0.10\t0.01\t0.00\t0.00\n",
      "2287\t0.25\t0.06\t0.00\t0.00\n",
      "1143\t0.24\t0.03\t0.39\t0.03\n",
      "571\t0.81\t0.00\t0.04\t0.04\n",
      "285\t0.57\t0.41\t0.48\t0.83\n",
      "142\t0.45\t0.08\t0.60\t0.04\n"
     ]
    }
   ],
   "source": [
    "def RunTests(live, iters=1000):\n",
    "    \"\"\"Runs the tests from Chapter 9 with a subset of the data.\n",
    "\n",
    "    live: DataFrame\n",
    "    iters: how many iterations to run\n",
    "    \"\"\"\n",
    "    n = len(live)\n",
    "    firsts = live[live.birthord == 1]\n",
    "    others = live[live.birthord != 1]\n",
    "\n",
    "    # compare pregnancy lengths\n",
    "    data = firsts.prglngth.values, others.prglngth.values\n",
    "    ht = hypothesis.DiffMeansPermute(data)\n",
    "    p1 = ht.PValue(iters=iters)\n",
    "\n",
    "    data = (firsts.totalwgt_lb.dropna().values,\n",
    "            others.totalwgt_lb.dropna().values)\n",
    "    ht = hypothesis.DiffMeansPermute(data)\n",
    "    p2 = ht.PValue(iters=iters)\n",
    "\n",
    "    # test correlation\n",
    "    live2 = live.dropna(subset=['agepreg', 'totalwgt_lb'])\n",
    "    data = live2.agepreg.values, live2.totalwgt_lb.values\n",
    "    ht = hypothesis.CorrelationPermute(data)\n",
    "    p3 = ht.PValue(iters=iters)\n",
    "\n",
    "    # compare pregnancy lengths (chi-squared)\n",
    "    data = firsts.prglngth.values, others.prglngth.values\n",
    "    ht = hypothesis.PregLengthTest(data)\n",
    "    p4 = ht.PValue(iters=iters)\n",
    "\n",
    "    print('%d\\t%0.2f\\t%0.2f\\t%0.2f\\t%0.2f' % (n, p1, p2, p3, p4))\n",
    "    \n",
    "thinkstats2.RandomSeed(18)\n",
    "\n",
    "live, firsts, others = first.MakeFrames()\n",
    "\n",
    "n = len(live)\n",
    "for _ in range(7):\n",
    "    sample = thinkstats2.SampleRows(live, n)\n",
    "    RunTests(sample)\n",
    "    n //= 2"
   ]
  },
  {
   "cell_type": "markdown",
   "metadata": {},
   "source": [
    "test1: 평균 임신기간 차이\n",
    "test2: 평균 출생체중 차이\n",
    "test3: 산모 연령과 출생체중 상관관계\n",
    "test4: 임신기간 카이제곱 검정\n",
    "\n",
    "n       test1   test2   test2   test4  \n",
    "9148 &rarr;\t0.16 &rarr;\t0.00 &rarr;\t0.00 &rarr;\t0.00  \n",
    "4574&rarr;\t0.10&rarr;\t0.01&rarr;\t0.00&rarr;\t0.00  \n",
    "2287&rarr;\t0.25&rarr;\t0.06&rarr;\t0.00&rarr;\t0.00  \n",
    "1143&rarr;\t0.24&rarr;\t0.03&rarr;\t0.39&rarr;\t0.03  \n",
    "571&rarr;\t0.81&rarr;\t0.00&rarr;\t0.04&rarr;\t0.04  \n",
    "285&rarr;\t0.57&rarr;\t0.41&rarr;\t0.48&rarr;\t0.83  \n",
    "142&rarr;\t0.45&rarr;\t0.08&rarr;\t0.60&rarr;\t0.04\n",
    "\n",
    "결론: 예상했듯이, 데이터를 제거함에 따라 더큰 표본크기를 갖는 양의 검정은 음이 된다. 하지만, 작은 표본크기에서 조차도 일부 양의 값을 갖는 등 패턴은 일정치 않다."
   ]
  },
  {
   "cell_type": "markdown",
   "metadata": {},
   "source": [
    "## 연습문제 9.2  \n",
    "9.3절처럼, 순열로 귀무가설을 모의시험했다; 즉, 관측된 값을 마치 전체 모집단을 대표하는 것처럼 다루었고, 무작위로 모집단의 구성원을 두 집단에 배정했다.\n",
    "대안은 표본을 사용해서 모집단 분포를 추정하고 나서, 분포로부터 임의 표본을 추출하는 것이다. 이런 과정을 재표집(resampling)이라고 부른다. 재표집을 구현하는 몇가지 방식이 있지만, 가장 단순한 것중 하나가 9.10 처럼 관측된 값에서 복원방식으로 표본을 추출하는 것이다.\n",
    "\n",
    "DiffMeansPermute에서 상속받고, 순열보다 재표집을 구현하는 RunModel을 치환(override)하는 클래스 DiffMeansResample을 작성하시오.\n",
    "\n",
    "이 모형을 사용해서 임신기간과 출생체중 사이 차이를 검정하시오. 이 모형이 결과에 얼마나 영향을 주는가?"
   ]
  },
  {
   "cell_type": "code",
   "execution_count": 9,
   "metadata": {
    "collapsed": false
   },
   "outputs": [
    {
     "name": "stdout",
     "output_type": "stream",
     "text": [
      "\n",
      "means permute preglength\n",
      "p-value = 0.1675\n",
      "actual = 0.0780372667775\n",
      "ts max = 0.225502935911\n",
      "\n",
      "means permute birthweight\n",
      "p-value = 0.0\n",
      "actual = 0.124761184535\n",
      "ts max = 0.116868397475\n"
     ]
    }
   ],
   "source": [
    "class DiffMeansResample(hypothesis.DiffMeansPermute):\n",
    "    \"\"\"Tests a difference in means using resampling.\"\"\"\n",
    "    \n",
    "    def RunModel(self):\n",
    "        \"\"\"Run the model of the null hypothesis.\n",
    "\n",
    "        returns: simulated data\n",
    "        \"\"\"\n",
    "        group1 = np.random.choice(self.pool, self.n, replace=True)\n",
    "        group2 = np.random.choice(self.pool, self.m, replace=True)\n",
    "        return group1, group2\n",
    "  \n",
    "\n",
    "def RunResampleTest(firsts, others):\n",
    "    \"\"\"Tests differences in means by resampling.\n",
    "\n",
    "    firsts: DataFrame\n",
    "    others: DataFrame\n",
    "    \"\"\"\n",
    "    data = firsts.prglngth.values, others.prglngth.values\n",
    "    ht = DiffMeansResample(data)\n",
    "    p_value = ht.PValue(iters=10000)\n",
    "    print('\\nmeans permute preglength')\n",
    "    print('p-value =', p_value)\n",
    "    print('actual =', ht.actual)\n",
    "    print('ts max =', ht.MaxTestStat())\n",
    "\n",
    "    data = (firsts.totalwgt_lb.dropna().values,\n",
    "            others.totalwgt_lb.dropna().values)\n",
    "    ht = hypothesis.DiffMeansPermute(data)\n",
    "    p_value = ht.PValue(iters=10000)\n",
    "    print('\\nmeans permute birthweight')\n",
    "    print('p-value =', p_value)\n",
    "    print('actual =', ht.actual)\n",
    "    print('ts max =', ht.MaxTestStat())\n",
    "\n",
    "RunResampleTest(firsts, others)        "
   ]
  },
  {
   "cell_type": "markdown",
   "metadata": {},
   "source": [
    "순열대신에 재표추출을 사용하는 것은 결과에 거의 영향이 없다.\n",
    "\n",
    "두 모형은 약간 다른 가정에 기반하고 있고, 상기 예제에서 이것 혹은 저것을 선택할 강력한 사유는 없다.  하지만, 일반적으로 p-값은 귀무가설 선택에 달려있다; 서로 다른 모형은 매우 다른 결과를 이끌어낼 수 있다."
   ]
  },
  {
   "cell_type": "code",
   "execution_count": null,
   "metadata": {
    "collapsed": true
   },
   "outputs": [],
   "source": []
  }
 ],
 "metadata": {
  "kernelspec": {
   "display_name": "Python 2",
   "language": "python",
   "name": "python2"
  },
  "language_info": {
   "codemirror_mode": {
    "name": "ipython",
    "version": 2
   },
   "file_extension": ".py",
   "mimetype": "text/x-python",
   "name": "python",
   "nbconvert_exporter": "python",
   "pygments_lexer": "ipython2",
   "version": "2.7.10"
  }
 },
 "nbformat": 4,
 "nbformat_minor": 0
}
