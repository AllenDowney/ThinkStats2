{
 "metadata": {
  "name": "",
  "signature": "sha256:7a21e81362d97dc0910f8e22c0269ccaddcd921433a6c3cd8cd81adce63c2925"
 },
 "nbformat": 3,
 "nbformat_minor": 0,
 "worksheets": [
  {
   "cells": [
    {
     "cell_type": "code",
     "collapsed": false,
     "input": [
      "import first\n",
      "live, firsts, others = first.MakeFrames()\n",
      "df = live[live.prglngth>30]"
     ],
     "language": "python",
     "metadata": {},
     "outputs": [],
     "prompt_number": 1
    },
    {
     "cell_type": "markdown",
     "metadata": {},
     "source": [
      "The following are the only variables I found that have a statistically significant effect on pregnancy length."
     ]
    },
    {
     "cell_type": "code",
     "collapsed": false,
     "input": [
      "import statsmodels.formula.api as smf\n",
      "model = smf.ols('prglngth ~ birthord==1 + race==2 + nbrnaliv>1', data=df)\n",
      "results = model.fit()\n",
      "results.summary()"
     ],
     "language": "python",
     "metadata": {},
     "outputs": [
      {
       "html": [
        "<table class=\"simpletable\">\n",
        "<caption>OLS Regression Results</caption>\n",
        "<tr>\n",
        "  <th>Dep. Variable:</th>        <td>prglngth</td>     <th>  R-squared:         </th> <td>   0.011</td> \n",
        "</tr>\n",
        "<tr>\n",
        "  <th>Model:</th>                   <td>OLS</td>       <th>  Adj. R-squared:    </th> <td>   0.011</td> \n",
        "</tr>\n",
        "<tr>\n",
        "  <th>Method:</th>             <td>Least Squares</td>  <th>  F-statistic:       </th> <td>   34.28</td> \n",
        "</tr>\n",
        "<tr>\n",
        "  <th>Date:</th>             <td>Mon, 18 Aug 2014</td> <th>  Prob (F-statistic):</th> <td>5.09e-22</td> \n",
        "</tr>\n",
        "<tr>\n",
        "  <th>Time:</th>                 <td>15:52:29</td>     <th>  Log-Likelihood:    </th> <td> -18247.</td> \n",
        "</tr>\n",
        "<tr>\n",
        "  <th>No. Observations:</th>      <td>  8884</td>      <th>  AIC:               </th> <td>3.650e+04</td>\n",
        "</tr>\n",
        "<tr>\n",
        "  <th>Df Residuals:</th>          <td>  8880</td>      <th>  BIC:               </th> <td>3.653e+04</td>\n",
        "</tr>\n",
        "<tr>\n",
        "  <th>Df Model:</th>              <td>     3</td>      <th>                     </th>     <td> </td>    \n",
        "</tr>\n",
        "</table>\n",
        "<table class=\"simpletable\">\n",
        "<tr>\n",
        "            <td></td>               <th>coef</th>     <th>std err</th>      <th>t</th>      <th>P>|t|</th> <th>[95.0% Conf. Int.]</th> \n",
        "</tr>\n",
        "<tr>\n",
        "  <th>Intercept</th>             <td>   38.7617</td> <td>    0.039</td> <td> 1006.410</td> <td> 0.000</td> <td>   38.686    38.837</td>\n",
        "</tr>\n",
        "<tr>\n",
        "  <th>birthord == 1[T.True]</th> <td>    0.1015</td> <td>    0.040</td> <td>    2.528</td> <td> 0.011</td> <td>    0.023     0.180</td>\n",
        "</tr>\n",
        "<tr>\n",
        "  <th>race == 2[T.True]</th>     <td>    0.1390</td> <td>    0.042</td> <td>    3.311</td> <td> 0.001</td> <td>    0.057     0.221</td>\n",
        "</tr>\n",
        "<tr>\n",
        "  <th>nbrnaliv > 1[T.True]</th>  <td>   -1.4944</td> <td>    0.164</td> <td>   -9.086</td> <td> 0.000</td> <td>   -1.817    -1.172</td>\n",
        "</tr>\n",
        "</table>\n",
        "<table class=\"simpletable\">\n",
        "<tr>\n",
        "  <th>Omnibus:</th>       <td>1587.470</td> <th>  Durbin-Watson:     </th> <td>   1.619</td>\n",
        "</tr>\n",
        "<tr>\n",
        "  <th>Prob(Omnibus):</th>  <td> 0.000</td>  <th>  Jarque-Bera (JB):  </th> <td>6160.751</td>\n",
        "</tr>\n",
        "<tr>\n",
        "  <th>Skew:</th>           <td>-0.852</td>  <th>  Prob(JB):          </th> <td>    0.00</td>\n",
        "</tr>\n",
        "<tr>\n",
        "  <th>Kurtosis:</th>       <td> 6.707</td>  <th>  Cond. No.          </th> <td>    10.9</td>\n",
        "</tr>\n",
        "</table>"
       ],
       "metadata": {},
       "output_type": "pyout",
       "prompt_number": 2,
       "text": [
        "<class 'statsmodels.iolib.summary.Summary'>\n",
        "\"\"\"\n",
        "                            OLS Regression Results                            \n",
        "==============================================================================\n",
        "Dep. Variable:               prglngth   R-squared:                       0.011\n",
        "Model:                            OLS   Adj. R-squared:                  0.011\n",
        "Method:                 Least Squares   F-statistic:                     34.28\n",
        "Date:                Mon, 18 Aug 2014   Prob (F-statistic):           5.09e-22\n",
        "Time:                        15:52:29   Log-Likelihood:                -18247.\n",
        "No. Observations:                8884   AIC:                         3.650e+04\n",
        "Df Residuals:                    8880   BIC:                         3.653e+04\n",
        "Df Model:                           3                                         \n",
        "=========================================================================================\n",
        "                            coef    std err          t      P>|t|      [95.0% Conf. Int.]\n",
        "-----------------------------------------------------------------------------------------\n",
        "Intercept                38.7617      0.039   1006.410      0.000        38.686    38.837\n",
        "birthord == 1[T.True]     0.1015      0.040      2.528      0.011         0.023     0.180\n",
        "race == 2[T.True]         0.1390      0.042      3.311      0.001         0.057     0.221\n",
        "nbrnaliv > 1[T.True]     -1.4944      0.164     -9.086      0.000        -1.817    -1.172\n",
        "==============================================================================\n",
        "Omnibus:                     1587.470   Durbin-Watson:                   1.619\n",
        "Prob(Omnibus):                  0.000   Jarque-Bera (JB):             6160.751\n",
        "Skew:                          -0.852   Prob(JB):                         0.00\n",
        "Kurtosis:                       6.707   Cond. No.                         10.9\n",
        "==============================================================================\n",
        "\"\"\""
       ]
      }
     ],
     "prompt_number": 2
    },
    {
     "cell_type": "markdown",
     "metadata": {},
     "source": [
      "Let's go mining for variables that predict sex ratio."
     ]
    },
    {
     "cell_type": "code",
     "collapsed": false,
     "input": [
      "import regression\n",
      "join = regression.JoinFemResp(live)"
     ],
     "language": "python",
     "metadata": {},
     "outputs": [],
     "prompt_number": 3
    },
    {
     "cell_type": "code",
     "collapsed": false,
     "input": [
      "def GoMining(df):\n",
      "    \"\"\"Searches for variables that predict birth weight.\n",
      "\n",
      "    df: DataFrame of pregnancy records\n",
      "\n",
      "    returns: list of (rsquared, variable name) pairs\n",
      "    \"\"\"\n",
      "    df['boy'] = (df.babysex==1).astype(int)\n",
      "    variables = []\n",
      "    for name in df.columns:\n",
      "        try:\n",
      "            if df[name].var() < 1e-7:\n",
      "                continue\n",
      "\n",
      "            formula='boy ~ agepreg + ' + name\n",
      "            model = smf.logit(formula, data=df)\n",
      "            nobs = len(model.endog)\n",
      "            if nobs < len(df)/2:\n",
      "                continue\n",
      "\n",
      "            results = model.fit()\n",
      "        except:\n",
      "            continue\n",
      "\n",
      "        variables.append((results.prsquared, name))\n",
      "\n",
      "    return variables\n",
      "\n",
      "variables = GoMining(join)"
     ],
     "language": "python",
     "metadata": {},
     "outputs": [
      {
       "output_type": "stream",
       "stream": "stdout",
       "text": [
        "Optimization terminated successfully.\n",
        "         Current function value: 0.693023\n",
        "         Iterations 3\n",
        "Optimization terminated successfully.\n",
        "         Current function value: 0.692956\n",
        "         Iterations 3\n",
        "Optimization terminated successfully."
       ]
      },
      {
       "output_type": "stream",
       "stream": "stdout",
       "text": [
        "\n",
        "         Current function value: 0.692848\n",
        "         Iterations 3\n",
        "Optimization terminated successfully.\n",
        "         Current function value: 0.693006\n",
        "         Iterations 3\n",
        "Optimization terminated successfully.\n",
        "         Current function value: 0.692949\n",
        "         Iterations 4\n",
        "Optimization terminated successfully."
       ]
      },
      {
       "output_type": "stream",
       "stream": "stdout",
       "text": [
        "\n",
        "         Current function value: 0.692731\n",
        "         Iterations 6\n",
        "Optimization terminated successfully.\n",
        "         Current function value: 0.693028\n",
        "         Iterations 3\n",
        "Optimization terminated successfully.\n",
        "         Current function value: 0.693006\n",
        "         Iterations 3\n",
        "Optimization terminated successfully."
       ]
      },
      {
       "output_type": "stream",
       "stream": "stdout",
       "text": [
        "\n",
        "         Current function value: 0.692984\n",
        "         Iterations 4\n",
        "Optimization terminated successfully.\n",
        "         Current function value: 0.693021\n",
        "         Iterations 4\n",
        "Optimization terminated successfully.\n",
        "         Current function value: 0.692769\n",
        "         Iterations 5\n",
        "Optimization terminated successfully."
       ]
      },
      {
       "output_type": "stream",
       "stream": "stdout",
       "text": [
        "\n",
        "         Current function value: 0.687615\n",
        "         Iterations 4\n",
        "Optimization terminated successfully.\n",
        "         Current function value: 0.693032\n",
        "         Iterations 3\n",
        "Optimization terminated successfully."
       ]
      },
      {
       "output_type": "stream",
       "stream": "stdout",
       "text": [
        "\n",
        "         Current function value: 0.692949\n",
        "         Iterations 4\n",
        "Optimization terminated successfully.\n",
        "         Current function value: 0.693046\n",
        "         Iterations 3\n",
        "Optimization terminated successfully.\n",
        "         Current function value: 0.692955\n",
        "         Iterations 3\n",
        "Optimization terminated successfully."
       ]
      },
      {
       "output_type": "stream",
       "stream": "stdout",
       "text": [
        "\n",
        "         Current function value: 0.692978\n",
        "         Iterations 3\n",
        "Optimization terminated successfully.\n",
        "         Current function value: 0.692904\n",
        "         Iterations 3\n",
        "Optimization terminated successfully."
       ]
      },
      {
       "output_type": "stream",
       "stream": "stdout",
       "text": [
        "\n",
        "         Current function value: 0.693076\n",
        "         Iterations 3\n",
        "Optimization terminated successfully.\n",
        "         Current function value: 0.693096\n",
        "         Iterations 3\n",
        "Optimization terminated successfully.\n",
        "         Current function value: 0.692561\n",
        "         Iterations 6\n",
        "Optimization terminated successfully."
       ]
      },
      {
       "output_type": "stream",
       "stream": "stdout",
       "text": [
        "\n",
        "         Current function value: 0.693021\n",
        "         Iterations 3\n",
        "Optimization terminated successfully.\n",
        "         Current function value: 0.693027\n",
        "         Iterations 3\n",
        "Optimization terminated successfully.\n",
        "         Current function value: 0.693030\n",
        "         Iterations 3\n",
        "Optimization terminated successfully.\n",
        "         Current function value: 0.692822\n",
        "         Iterations 4\n",
        "Optimization terminated successfully."
       ]
      },
      {
       "output_type": "stream",
       "stream": "stdout",
       "text": [
        "\n",
        "         Current function value: 0.692908\n",
        "         Iterations 4\n",
        "Optimization terminated successfully.\n",
        "         Current function value: 0.692553\n",
        "         Iterations 3\n",
        "Optimization terminated successfully.\n",
        "         Current function value: 0.692954\n",
        "         Iterations 3\n",
        "Optimization terminated successfully."
       ]
      },
      {
       "output_type": "stream",
       "stream": "stdout",
       "text": [
        "\n",
        "         Current function value: 0.692961\n",
        "         Iterations 3\n",
        "Optimization terminated successfully.\n",
        "         Current function value: 0.693003\n",
        "         Iterations 3\n",
        "Optimization terminated successfully.\n",
        "         Current function value: 0.693044\n",
        "         Iterations 3\n",
        "Optimization terminated successfully."
       ]
      },
      {
       "output_type": "stream",
       "stream": "stdout",
       "text": [
        "\n",
        "         Current function value: 0.692998\n",
        "         Iterations 3\n",
        "Optimization terminated successfully.\n",
        "         Current function value: 0.693043\n",
        "         Iterations 3\n",
        "Optimization terminated successfully.\n",
        "         Current function value: 0.692684\n",
        "         Iterations 3\n",
        "Optimization terminated successfully.\n",
        "         Current function value: 0.692572\n",
        "         Iterations 3\n",
        "Optimization terminated successfully."
       ]
      },
      {
       "output_type": "stream",
       "stream": "stdout",
       "text": [
        "\n",
        "         Current function value: 0.693021\n",
        "         Iterations 3\n",
        "Optimization terminated successfully.\n",
        "         Current function value: 0.693061\n",
        "         Iterations 3\n",
        "Optimization terminated successfully."
       ]
      },
      {
       "output_type": "stream",
       "stream": "stdout",
       "text": [
        "\n",
        "         Current function value: 0.692921\n",
        "         Iterations 3\n",
        "Optimization terminated successfully.\n",
        "         Current function value: 0.692903\n",
        "         Iterations 3\n",
        "Optimization terminated successfully.\n",
        "         Current function value: 0.693019\n",
        "         Iterations 3\n",
        "Optimization terminated successfully.\n",
        "         Current function value: 0.692863\n",
        "         Iterations 3\n",
        "Optimization terminated successfully."
       ]
      },
      {
       "output_type": "stream",
       "stream": "stdout",
       "text": [
        "\n",
        "         Current function value: 0.693030\n",
        "         Iterations 3\n",
        "Optimization terminated successfully.\n",
        "         Current function value: 0.692860\n",
        "         Iterations 3\n",
        "Optimization terminated successfully.\n",
        "         Current function value: 0.692854\n",
        "         Iterations 4\n",
        "Optimization terminated successfully.\n",
        "         Current function value: 0.692455\n",
        "         Iterations 3\n",
        "Optimization terminated successfully."
       ]
      },
      {
       "output_type": "stream",
       "stream": "stdout",
       "text": [
        "\n",
        "         Current function value: 0.692582\n",
        "         Iterations 3\n",
        "Optimization terminated successfully.\n",
        "         Current function value: 0.692490\n",
        "         Iterations 3\n",
        "Optimization terminated successfully.\n",
        "         Current function value: 0.692760\n",
        "         Iterations 3\n",
        "Optimization terminated successfully."
       ]
      },
      {
       "output_type": "stream",
       "stream": "stdout",
       "text": [
        "\n",
        "         Current function value: 0.692274\n",
        "         Iterations 4\n",
        "Optimization terminated successfully.\n",
        "         Current function value: 0.692925\n",
        "         Iterations 3\n",
        "Optimization terminated successfully.\n",
        "         Current function value: 0.693026\n",
        "         Iterations 3\n",
        "Optimization terminated successfully."
       ]
      },
      {
       "output_type": "stream",
       "stream": "stdout",
       "text": [
        "\n",
        "         Current function value: 0.692966\n",
        "         Iterations 3\n",
        "Optimization terminated successfully.\n",
        "         Current function value: 0.693027\n",
        "         Iterations 3\n",
        "Optimization terminated successfully.\n",
        "         Current function value: 0.692969\n",
        "         Iterations 3\n",
        "Optimization terminated successfully.\n",
        "         Current function value: 0.692863\n",
        "         Iterations 3\n",
        "Optimization terminated successfully."
       ]
      },
      {
       "output_type": "stream",
       "stream": "stdout",
       "text": [
        "\n",
        "         Current function value: 0.692870\n",
        "         Iterations 3\n",
        "Optimization terminated successfully.\n",
        "         Current function value: 0.692870\n",
        "         Iterations 3\n",
        "Optimization terminated successfully.\n",
        "         Current function value: 0.692833\n",
        "         Iterations 3\n",
        "Optimization terminated successfully.\n",
        "         Current function value: 0.692938\n",
        "         Iterations 3\n",
        "Optimization terminated successfully."
       ]
      },
      {
       "output_type": "stream",
       "stream": "stdout",
       "text": [
        "\n",
        "         Current function value: 0.693011\n",
        "         Iterations 3\n",
        "Optimization terminated successfully.\n",
        "         Current function value: 0.692995\n",
        "         Iterations 3\n",
        "Optimization terminated successfully.\n",
        "         Current function value: 0.693020\n",
        "         Iterations 3\n",
        "Optimization terminated successfully.\n",
        "         Current function value: 0.692998\n",
        "         Iterations 3\n",
        "Optimization terminated successfully."
       ]
      },
      {
       "output_type": "stream",
       "stream": "stdout",
       "text": [
        "\n",
        "         Current function value: 0.693030\n",
        "         Iterations 3\n",
        "Optimization terminated successfully.\n",
        "         Current function value: 0.693017\n",
        "         Iterations 3\n",
        "Optimization terminated successfully.\n",
        "         Current function value: 0.692890\n",
        "         Iterations 3\n",
        "Optimization terminated successfully.\n",
        "         Current function value: 0.693018\n",
        "         Iterations 3\n",
        "Optimization terminated successfully."
       ]
      },
      {
       "output_type": "stream",
       "stream": "stdout",
       "text": [
        "\n",
        "         Current function value: 0.693012\n",
        "         Iterations 3\n",
        "Optimization terminated successfully.\n",
        "         Current function value: 0.693013\n",
        "         Iterations 3\n",
        "Optimization terminated successfully.\n",
        "         Current function value: 0.692972\n",
        "         Iterations 3\n",
        "Optimization terminated successfully.\n",
        "         Current function value: 0.693028\n",
        "         Iterations 3\n",
        "Optimization terminated successfully."
       ]
      },
      {
       "output_type": "stream",
       "stream": "stdout",
       "text": [
        "\n",
        "         Current function value: 0.692907\n",
        "         Iterations 3\n",
        "Optimization terminated successfully.\n",
        "         Current function value: 0.693006\n",
        "         Iterations 3\n",
        "Optimization terminated successfully.\n",
        "         Current function value: 0.692609\n",
        "         Iterations 3\n",
        "Optimization terminated successfully."
       ]
      },
      {
       "output_type": "stream",
       "stream": "stdout",
       "text": [
        "\n",
        "         Current function value: 0.693015\n",
        "         Iterations 3\n",
        "Optimization terminated successfully.\n",
        "         Current function value: 0.692859\n",
        "         Iterations 5\n",
        "Optimization terminated successfully.\n",
        "         Current function value: 0.692660\n",
        "         Iterations 5\n",
        "Optimization terminated successfully."
       ]
      },
      {
       "output_type": "stream",
       "stream": "stdout",
       "text": [
        "\n",
        "         Current function value: 0.692904\n",
        "         Iterations 5\n",
        "Optimization terminated successfully.\n",
        "         Current function value: 0.692714\n",
        "         Iterations 5\n",
        "Optimization terminated successfully.\n",
        "         Current function value: 0.693014\n",
        "         Iterations 3\n",
        "Optimization terminated successfully."
       ]
      },
      {
       "output_type": "stream",
       "stream": "stdout",
       "text": [
        "\n",
        "         Current function value: 0.692923\n",
        "         Iterations 4\n",
        "Optimization terminated successfully.\n",
        "         Current function value: 0.693011\n",
        "         Iterations 3\n",
        "Optimization terminated successfully.\n",
        "         Current function value: 0.692965\n",
        "         Iterations 3\n",
        "Optimization terminated successfully.\n",
        "         Current function value: 0.693023\n",
        "         Iterations 3\n",
        "Optimization terminated successfully."
       ]
      },
      {
       "output_type": "stream",
       "stream": "stdout",
       "text": [
        "\n",
        "         Current function value: 0.692934\n",
        "         Iterations 4\n",
        "Warning: Maximum number of iterations has been exceeded.\n",
        "         Current function value: 0.692798\n",
        "         Iterations: 35\n",
        "Optimization terminated successfully."
       ]
      },
      {
       "output_type": "stream",
       "stream": "stdout",
       "text": [
        "\n",
        "         Current function value: 0.692665\n",
        "         Iterations 6\n",
        "Optimization terminated successfully.\n",
        "         Current function value: 0.693030\n",
        "         Iterations 3\n",
        "Optimization terminated successfully.\n",
        "         Current function value: 0.692930\n",
        "         Iterations 4\n",
        "Optimization terminated successfully."
       ]
      },
      {
       "output_type": "stream",
       "stream": "stdout",
       "text": [
        "\n",
        "         Current function value: 0.692999\n",
        "         Iterations 3\n",
        "Optimization terminated successfully.\n",
        "         Current function value: 0.693017\n",
        "         Iterations 4\n",
        "Optimization terminated successfully.\n",
        "         Current function value: 0.692999\n",
        "         Iterations 3\n",
        "Optimization terminated successfully."
       ]
      },
      {
       "output_type": "stream",
       "stream": "stdout",
       "text": [
        "\n",
        "         Current function value: 0.693027\n",
        "         Iterations 3\n",
        "Optimization terminated successfully.\n",
        "         Current function value: 0.693013\n",
        "         Iterations 4\n",
        "Optimization terminated successfully.\n",
        "         Current function value: 0.693030\n",
        "         Iterations 3\n",
        "Optimization terminated successfully."
       ]
      },
      {
       "output_type": "stream",
       "stream": "stdout",
       "text": [
        "\n",
        "         Current function value: 0.692956\n",
        "         Iterations 4\n",
        "Optimization terminated successfully.\n",
        "         Current function value: 0.693016\n",
        "         Iterations 4\n",
        "Optimization terminated successfully.\n",
        "         Current function value: 0.692816\n",
        "         Iterations 4\n",
        "Optimization terminated successfully."
       ]
      },
      {
       "output_type": "stream",
       "stream": "stdout",
       "text": [
        "\n",
        "         Current function value: 0.693030\n",
        "         Iterations 3\n",
        "Optimization terminated successfully.\n",
        "         Current function value: 0.693030\n",
        "         Iterations 3\n",
        "Optimization terminated successfully.\n",
        "         Current function value: 0.693026\n",
        "         Iterations 3\n",
        "Optimization terminated successfully.\n",
        "         Current function value: 0.693021\n",
        "         Iterations 3\n",
        "Optimization terminated successfully."
       ]
      },
      {
       "output_type": "stream",
       "stream": "stdout",
       "text": [
        "\n",
        "         Current function value: 0.693015\n",
        "         Iterations 3\n",
        "Optimization terminated successfully.\n",
        "         Current function value: 0.693000\n",
        "         Iterations 3\n",
        "Optimization terminated successfully.\n",
        "         Current function value: 0.693025\n",
        "         Iterations 3\n",
        "Optimization terminated successfully."
       ]
      },
      {
       "output_type": "stream",
       "stream": "stdout",
       "text": [
        "\n",
        "         Current function value: 0.693019\n",
        "         Iterations 3\n",
        "Optimization terminated successfully.\n",
        "         Current function value: 0.687464\n",
        "         Iterations 4\n",
        "Optimization terminated successfully.\n",
        "         Current function value: 0.693023\n",
        "         Iterations 3\n",
        "Optimization terminated successfully."
       ]
      },
      {
       "output_type": "stream",
       "stream": "stdout",
       "text": [
        "\n",
        "         Current function value: 0.693009\n",
        "         Iterations 3\n",
        "Optimization terminated successfully.\n",
        "         Current function value: 0.692945\n",
        "         Iterations 5\n",
        "Optimization terminated successfully.\n",
        "         Current function value: 0.692913\n",
        "         Iterations 3\n",
        "Optimization terminated successfully."
       ]
      },
      {
       "output_type": "stream",
       "stream": "stdout",
       "text": [
        "\n",
        "         Current function value: 0.693023\n",
        "         Iterations 3\n",
        "Optimization terminated successfully.\n",
        "         Current function value: 0.693028\n",
        "         Iterations 3\n",
        "Optimization terminated successfully.\n",
        "         Current function value: 0.692885\n",
        "         Iterations 3\n",
        "Optimization terminated successfully.\n",
        "         Current function value: 0.692870\n",
        "         Iterations 3\n",
        "Optimization terminated successfully."
       ]
      },
      {
       "output_type": "stream",
       "stream": "stdout",
       "text": [
        "\n",
        "         Current function value: 0.692863\n",
        "         Iterations 3\n",
        "Optimization terminated successfully.\n",
        "         Current function value: 0.692870\n",
        "         Iterations 3\n",
        "Optimization terminated successfully.\n",
        "         Current function value: 0.692938\n",
        "         Iterations 3\n",
        "Optimization terminated successfully."
       ]
      },
      {
       "output_type": "stream",
       "stream": "stdout",
       "text": [
        "\n",
        "         Current function value: 0.692833\n",
        "         Iterations 3\n",
        "Optimization terminated successfully.\n",
        "         Current function value: 0.692831\n",
        "         Iterations 3\n",
        "Optimization terminated successfully.\n",
        "         Current function value: 0.692999\n",
        "         Iterations 3\n",
        "Optimization terminated successfully."
       ]
      },
      {
       "output_type": "stream",
       "stream": "stdout",
       "text": [
        "\n",
        "         Current function value: 0.693022\n",
        "         Iterations 3\n",
        "Optimization terminated successfully.\n",
        "         Current function value: 0.692999\n",
        "         Iterations 3\n",
        "Optimization terminated successfully.\n",
        "         Current function value: 0.693011\n",
        "         Iterations 4\n",
        "Optimization terminated successfully.\n",
        "         Current function value: 0.692988\n",
        "         Iterations 3\n",
        "Optimization terminated successfully."
       ]
      },
      {
       "output_type": "stream",
       "stream": "stdout",
       "text": [
        "\n",
        "         Current function value: 0.692957\n",
        "         Iterations 3\n",
        "Optimization terminated successfully.\n",
        "         Current function value: 0.692933\n",
        "         Iterations 4\n",
        "Optimization terminated successfully.\n",
        "         Current function value: 0.692987\n",
        "         Iterations 3\n",
        "Optimization terminated successfully."
       ]
      },
      {
       "output_type": "stream",
       "stream": "stdout",
       "text": [
        "\n",
        "         Current function value: 0.693023\n",
        "         Iterations 3\n",
        "Optimization terminated successfully.\n",
        "         Current function value: 0.692975\n",
        "         Iterations 3\n",
        "Optimization terminated successfully.\n",
        "         Current function value: 0.693011\n",
        "         Iterations 3\n",
        "Optimization terminated successfully.\n",
        "         Current function value: 0.692912\n",
        "         Iterations 3\n",
        "Optimization terminated successfully."
       ]
      },
      {
       "output_type": "stream",
       "stream": "stdout",
       "text": [
        "\n",
        "         Current function value: 0.692554\n",
        "         Iterations 3\n",
        "Optimization terminated successfully.\n",
        "         Current function value: 0.692939\n",
        "         Iterations 4\n",
        "Optimization terminated successfully.\n",
        "         Current function value: 0.692994\n",
        "         Iterations 3\n",
        "Optimization terminated successfully."
       ]
      },
      {
       "output_type": "stream",
       "stream": "stdout",
       "text": [
        "\n",
        "         Current function value: 0.693033\n",
        "         Iterations 3\n",
        "Optimization terminated successfully.\n",
        "         Current function value: 0.692954\n",
        "         Iterations 3\n",
        "Optimization terminated successfully.\n",
        "         Current function value: 0.693051\n",
        "         Iterations 3\n",
        "Optimization terminated successfully."
       ]
      },
      {
       "output_type": "stream",
       "stream": "stdout",
       "text": [
        "\n",
        "         Current function value: 0.693026\n",
        "         Iterations 3\n",
        "Optimization terminated successfully.\n",
        "         Current function value: 0.693031\n",
        "         Iterations 3\n",
        "Optimization terminated successfully.\n",
        "         Current function value: 0.692869\n",
        "         Iterations 3\n",
        "Optimization terminated successfully."
       ]
      },
      {
       "output_type": "stream",
       "stream": "stdout",
       "text": [
        "\n",
        "         Current function value: 0.693049\n",
        "         Iterations 3\n",
        "Optimization terminated successfully.\n",
        "         Current function value: 0.692910\n",
        "         Iterations 4\n",
        "Optimization terminated successfully.\n",
        "         Current function value: 0.693030\n",
        "         Iterations 3\n",
        "Optimization terminated successfully.\n",
        "         Current function value: 0.693003\n",
        "         Iterations 3\n",
        "Optimization terminated successfully."
       ]
      },
      {
       "output_type": "stream",
       "stream": "stdout",
       "text": [
        "\n",
        "         Current function value: 0.693018\n",
        "         Iterations 3\n",
        "Optimization terminated successfully.\n",
        "         Current function value: 0.692973\n",
        "         Iterations 4\n",
        "Optimization terminated successfully.\n",
        "         Current function value: 0.692297\n",
        "         Iterations 6\n",
        "Optimization terminated successfully."
       ]
      },
      {
       "output_type": "stream",
       "stream": "stdout",
       "text": [
        "\n",
        "         Current function value: 0.692978\n",
        "         Iterations 5\n",
        "Optimization terminated successfully.\n",
        "         Current function value: 0.692854\n",
        "         Iterations 4\n",
        "Optimization terminated successfully.\n",
        "         Current function value: 0.693021\n",
        "         Iterations 3\n",
        "Optimization terminated successfully."
       ]
      },
      {
       "output_type": "stream",
       "stream": "stdout",
       "text": [
        "\n",
        "         Current function value: 0.693027\n",
        "         Iterations 3\n",
        "Optimization terminated successfully.\n",
        "         Current function value: 0.693030\n",
        "         Iterations 3\n",
        "Optimization terminated successfully.\n",
        "         Current function value: 0.692924\n",
        "         Iterations 4\n",
        "Optimization terminated successfully."
       ]
      },
      {
       "output_type": "stream",
       "stream": "stdout",
       "text": [
        "\n",
        "         Current function value: 0.693027\n",
        "         Iterations 3\n",
        "Optimization terminated successfully.\n",
        "         Current function value: 0.692890\n",
        "         Iterations 3\n",
        "Optimization terminated successfully.\n",
        "         Current function value: 0.693017\n",
        "         Iterations 3\n",
        "Optimization terminated successfully."
       ]
      },
      {
       "output_type": "stream",
       "stream": "stdout",
       "text": [
        "\n",
        "         Current function value: 0.693006\n",
        "         Iterations 4\n",
        "Optimization terminated successfully.\n",
        "         Current function value: 0.693025\n",
        "         Iterations 3\n",
        "Optimization terminated successfully."
       ]
      },
      {
       "output_type": "stream",
       "stream": "stdout",
       "text": [
        "\n",
        "         Current function value: 0.692962\n",
        "         Iterations 3\n",
        "Optimization terminated successfully.\n",
        "         Current function value: 0.693027\n",
        "         Iterations 3\n",
        "Optimization terminated successfully."
       ]
      },
      {
       "output_type": "stream",
       "stream": "stdout",
       "text": [
        "\n",
        "         Current function value: 0.692780\n",
        "         Iterations 3\n",
        "Optimization terminated successfully.\n",
        "         Current function value: 0.693030\n",
        "         Iterations 4\n",
        "Optimization terminated successfully.\n",
        "         Current function value: 0.693100\n",
        "         Iterations 4\n",
        "Optimization terminated successfully."
       ]
      },
      {
       "output_type": "stream",
       "stream": "stdout",
       "text": [
        "\n",
        "         Current function value: 0.692985\n",
        "         Iterations 4\n",
        "Optimization terminated successfully.\n",
        "         Current function value: 0.693053\n",
        "         Iterations 3\n",
        "Optimization terminated successfully.\n",
        "         Current function value: 0.693040\n",
        "         Iterations 3\n",
        "Optimization terminated successfully.\n",
        "         Current function value: 0.692913\n",
        "         Iterations 3\n",
        "Optimization terminated successfully."
       ]
      },
      {
       "output_type": "stream",
       "stream": "stdout",
       "text": [
        "\n",
        "         Current function value: 0.693015\n",
        "         Iterations 3\n",
        "Optimization terminated successfully.\n",
        "         Current function value: 0.693036\n",
        "         Iterations 3\n",
        "Optimization terminated successfully.\n",
        "         Current function value: 0.693037\n",
        "         Iterations 3\n",
        "Optimization terminated successfully."
       ]
      },
      {
       "output_type": "stream",
       "stream": "stdout",
       "text": [
        "\n",
        "         Current function value: 0.693057\n",
        "         Iterations 3\n",
        "Optimization terminated successfully.\n",
        "         Current function value: 0.693056\n",
        "         Iterations 3\n",
        "Optimization terminated successfully."
       ]
      },
      {
       "output_type": "stream",
       "stream": "stdout",
       "text": [
        "\n",
        "         Current function value: 0.692973\n",
        "         Iterations 4\n",
        "Optimization terminated successfully.\n",
        "         Current function value: 0.692816\n",
        "         Iterations 4\n",
        "Optimization terminated successfully.\n",
        "         Current function value: 0.693072\n",
        "         Iterations 3\n",
        "Optimization terminated successfully."
       ]
      },
      {
       "output_type": "stream",
       "stream": "stdout",
       "text": [
        "\n",
        "         Current function value: 0.693052\n",
        "         Iterations 4\n",
        "Optimization terminated successfully.\n",
        "         Current function value: 0.693017\n",
        "         Iterations 3\n",
        "Optimization terminated successfully.\n",
        "         Current function value: 0.693022\n",
        "         Iterations 3\n",
        "Optimization terminated successfully."
       ]
      },
      {
       "output_type": "stream",
       "stream": "stdout",
       "text": [
        "\n",
        "         Current function value: 0.693001\n",
        "         Iterations 3\n",
        "Optimization terminated successfully."
       ]
      },
      {
       "output_type": "stream",
       "stream": "stdout",
       "text": [
        "\n",
        "         Current function value: 0.692921\n",
        "         Iterations 3\n",
        "Optimization terminated successfully.\n",
        "         Current function value: 0.693029\n",
        "         Iterations 3\n",
        "Optimization terminated successfully.\n",
        "         Current function value: 0.692892\n",
        "         Iterations 3\n",
        "Optimization terminated successfully."
       ]
      },
      {
       "output_type": "stream",
       "stream": "stdout",
       "text": [
        "\n",
        "         Current function value: 0.693034\n",
        "         Iterations 3\n",
        "Optimization terminated successfully.\n",
        "         Current function value: 0.692853\n",
        "         Iterations 3\n",
        "Optimization terminated successfully.\n",
        "         Current function value: 0.692988\n",
        "         Iterations 4\n",
        "Optimization terminated successfully."
       ]
      },
      {
       "output_type": "stream",
       "stream": "stdout",
       "text": [
        "\n",
        "         Current function value: 0.692994\n",
        "         Iterations 3\n",
        "Optimization terminated successfully.\n",
        "         Current function value: 0.693030\n",
        "         Iterations 3\n",
        "Optimization terminated successfully."
       ]
      },
      {
       "output_type": "stream",
       "stream": "stdout",
       "text": [
        "\n",
        "         Current function value: 0.693022\n",
        "         Iterations 3\n",
        "Optimization terminated successfully.\n",
        "         Current function value: 0.693030\n",
        "         Iterations 3\n",
        "Optimization terminated successfully.\n",
        "         Current function value: 0.693029\n",
        "         Iterations 3\n",
        "Optimization terminated successfully."
       ]
      },
      {
       "output_type": "stream",
       "stream": "stdout",
       "text": [
        "\n",
        "         Current function value: 0.693028\n",
        "         Iterations 3\n",
        "Optimization terminated successfully.\n",
        "         Current function value: 0.692954\n",
        "         Iterations 3\n",
        "Optimization terminated successfully.\n",
        "         Current function value: 0.692747\n",
        "         Iterations 4\n",
        "Optimization terminated successfully."
       ]
      },
      {
       "output_type": "stream",
       "stream": "stdout",
       "text": [
        "\n",
        "         Current function value: 0.692850\n",
        "         Iterations 5\n",
        "Optimization terminated successfully.\n",
        "         Current function value: 0.693004\n",
        "         Iterations 3\n",
        "Optimization terminated successfully.\n",
        "         Current function value: 0.693085\n",
        "         Iterations 3\n",
        "Optimization terminated successfully.\n",
        "         Current function value: 0.693019\n",
        "         Iterations 3\n",
        "Optimization terminated successfully."
       ]
      },
      {
       "output_type": "stream",
       "stream": "stdout",
       "text": [
        "\n",
        "         Current function value: 0.692994\n",
        "         Iterations 3\n",
        "Optimization terminated successfully."
       ]
      },
      {
       "output_type": "stream",
       "stream": "stdout",
       "text": [
        "\n",
        "         Current function value: 0.692962\n",
        "         Iterations 4\n",
        "Optimization terminated successfully.\n",
        "         Current function value: 0.693029\n",
        "         Iterations 3\n",
        "Optimization terminated successfully.\n",
        "         Current function value: 0.693028\n",
        "         Iterations 3\n",
        "Optimization terminated successfully."
       ]
      },
      {
       "output_type": "stream",
       "stream": "stdout",
       "text": [
        "\n",
        "         Current function value: 0.693017\n",
        "         Iterations 3\n",
        "Optimization terminated successfully.\n",
        "         Current function value: 0.692943\n",
        "         Iterations 3\n",
        "Optimization terminated successfully.\n",
        "         Current function value: 0.693074\n",
        "         Iterations 4\n",
        "Optimization terminated successfully."
       ]
      },
      {
       "output_type": "stream",
       "stream": "stdout",
       "text": [
        "\n",
        "         Current function value: 0.692942\n",
        "         Iterations 3\n",
        "Optimization terminated successfully.\n",
        "         Current function value: 0.692952\n",
        "         Iterations 3\n",
        "Optimization terminated successfully.\n",
        "         Current function value: 0.693001\n",
        "         Iterations 3\n",
        "Optimization terminated successfully.\n",
        "         Current function value: 0.692887\n",
        "         Iterations 4\n",
        "Optimization terminated successfully."
       ]
      },
      {
       "output_type": "stream",
       "stream": "stdout",
       "text": [
        "\n",
        "         Current function value: 0.692876\n",
        "         Iterations 3\n",
        "Optimization terminated successfully.\n",
        "         Current function value: 0.693027\n",
        "         Iterations 3\n",
        "Optimization terminated successfully.\n",
        "         Current function value: 0.692770\n",
        "         Iterations 3\n",
        "Optimization terminated successfully."
       ]
      },
      {
       "output_type": "stream",
       "stream": "stdout",
       "text": [
        "\n",
        "         Current function value: 0.692786\n",
        "         Iterations 3\n",
        "Optimization terminated successfully."
       ]
      },
      {
       "output_type": "stream",
       "stream": "stdout",
       "text": [
        "\n",
        "         Current function value: 0.692890\n",
        "         Iterations 3\n",
        "Optimization terminated successfully.\n",
        "         Current function value: 0.692827\n",
        "         Iterations 3\n",
        "Optimization terminated successfully.\n",
        "         Current function value: 0.693030\n",
        "         Iterations 3\n",
        "Optimization terminated successfully."
       ]
      },
      {
       "output_type": "stream",
       "stream": "stdout",
       "text": [
        "\n",
        "         Current function value: 0.692997\n",
        "         Iterations 3\n",
        "Optimization terminated successfully.\n",
        "         Current function value: 0.693134\n",
        "         Iterations 3\n",
        "Optimization terminated successfully."
       ]
      },
      {
       "output_type": "stream",
       "stream": "stdout",
       "text": [
        "\n",
        "         Current function value: 0.693131\n",
        "         Iterations 3\n",
        "Optimization terminated successfully.\n",
        "         Current function value: 0.692976\n",
        "         Iterations 3\n",
        "Optimization terminated successfully.\n",
        "         Current function value: 0.692915\n",
        "         Iterations 3\n",
        "Optimization terminated successfully."
       ]
      },
      {
       "output_type": "stream",
       "stream": "stdout",
       "text": [
        "\n",
        "         Current function value: 0.693025\n",
        "         Iterations 3\n",
        "Optimization terminated successfully.\n",
        "         Current function value: 0.693014\n",
        "         Iterations 3\n",
        "Optimization terminated successfully.\n",
        "         Current function value: 0.692846\n",
        "         Iterations 3\n",
        "Optimization terminated successfully.\n",
        "         Current function value: 0.693023\n",
        "         Iterations 3\n",
        "Optimization terminated successfully."
       ]
      },
      {
       "output_type": "stream",
       "stream": "stdout",
       "text": [
        "\n",
        "         Current function value: 0.693003\n",
        "         Iterations 3\n",
        "Optimization terminated successfully.\n",
        "         Current function value: 0.692928\n",
        "         Iterations 3\n",
        "Optimization terminated successfully.\n",
        "         Current function value: 0.692956\n",
        "         Iterations 3\n",
        "Optimization terminated successfully.\n",
        "         Current function value: 0.692874\n",
        "         Iterations 3\n",
        "Optimization terminated successfully."
       ]
      },
      {
       "output_type": "stream",
       "stream": "stdout",
       "text": [
        "\n",
        "         Current function value: 0.692877\n",
        "         Iterations 4\n",
        "Optimization terminated successfully.\n",
        "         Current function value: 0.693004\n",
        "         Iterations 3\n",
        "Optimization terminated successfully.\n",
        "         Current function value: 0.693016\n",
        "         Iterations 3\n",
        "Optimization terminated successfully."
       ]
      },
      {
       "output_type": "stream",
       "stream": "stdout",
       "text": [
        "\n",
        "         Current function value: 0.693028\n",
        "         Iterations 3\n",
        "Optimization terminated successfully.\n",
        "         Current function value: 0.693029\n",
        "         Iterations 3\n",
        "Optimization terminated successfully.\n",
        "         Current function value: 0.693029\n",
        "         Iterations 3\n",
        "Optimization terminated successfully.\n",
        "         Current function value: 0.693022\n",
        "         Iterations 3\n",
        "Optimization terminated successfully."
       ]
      },
      {
       "output_type": "stream",
       "stream": "stdout",
       "text": [
        "\n",
        "         Current function value: 0.693022\n",
        "         Iterations 3\n",
        "Optimization terminated successfully.\n",
        "         Current function value: 0.693029\n",
        "         Iterations 3\n",
        "Optimization terminated successfully.\n",
        "         Current function value: 0.693009\n",
        "         Iterations 3\n",
        "Optimization terminated successfully.\n",
        "         Current function value: 0.693017\n",
        "         Iterations 3\n",
        "Optimization terminated successfully."
       ]
      },
      {
       "output_type": "stream",
       "stream": "stdout",
       "text": [
        "\n",
        "         Current function value: 0.692993\n",
        "         Iterations 3\n",
        "Optimization terminated successfully.\n",
        "         Current function value: 0.693023\n",
        "         Iterations 3\n",
        "Optimization terminated successfully.\n",
        "         Current function value: 0.693035\n",
        "         Iterations 3\n",
        "Optimization terminated successfully."
       ]
      },
      {
       "output_type": "stream",
       "stream": "stdout",
       "text": [
        "\n",
        "         Current function value: 0.693015\n",
        "         Iterations 3\n",
        "Optimization terminated successfully."
       ]
      },
      {
       "output_type": "stream",
       "stream": "stdout",
       "text": [
        "\n",
        "         Current function value: 0.693027\n",
        "         Iterations 3\n",
        "Optimization terminated successfully.\n",
        "         Current function value: 0.692713\n",
        "         Iterations 4\n",
        "Optimization terminated successfully.\n",
        "         Current function value: 0.692650\n",
        "         Iterations 3\n",
        "Optimization terminated successfully."
       ]
      },
      {
       "output_type": "stream",
       "stream": "stdout",
       "text": [
        "\n",
        "         Current function value: 0.693038\n",
        "         Iterations 3\n",
        "Optimization terminated successfully.\n",
        "         Current function value: 0.692868\n",
        "         Iterations 3\n",
        "Optimization terminated successfully.\n",
        "         Current function value: 0.692862\n",
        "         Iterations 3\n",
        "Optimization terminated successfully."
       ]
      },
      {
       "output_type": "stream",
       "stream": "stdout",
       "text": [
        "\n",
        "         Current function value: 0.692957\n",
        "         Iterations 3\n",
        "Optimization terminated successfully.\n",
        "         Current function value: 0.693018\n",
        "         Iterations 3\n",
        "Optimization terminated successfully.\n",
        "         Current function value: 0.692677\n",
        "         Iterations 4\n",
        "Optimization terminated successfully."
       ]
      },
      {
       "output_type": "stream",
       "stream": "stdout",
       "text": [
        "\n",
        "         Current function value: 0.693072\n",
        "         Iterations 3\n",
        "Optimization terminated successfully.\n",
        "         Current function value: 0.692725\n",
        "         Iterations 3\n",
        "Optimization terminated successfully."
       ]
      },
      {
       "output_type": "stream",
       "stream": "stdout",
       "text": [
        "\n",
        "         Current function value: 0.693027\n",
        "         Iterations 3\n",
        "Optimization terminated successfully.\n",
        "         Current function value: 0.693019\n",
        "         Iterations 3\n",
        "Optimization terminated successfully.\n",
        "         Current function value: 0.693029\n",
        "         Iterations 3\n",
        "Optimization terminated successfully.\n",
        "         Current function value: 0.692964\n",
        "         Iterations 3\n",
        "Optimization terminated successfully."
       ]
      },
      {
       "output_type": "stream",
       "stream": "stdout",
       "text": [
        "\n",
        "         Current function value: 0.692961\n",
        "         Iterations 3\n",
        "Optimization terminated successfully.\n",
        "         Current function value: 0.692833\n",
        "         Iterations 3\n",
        "Optimization terminated successfully.\n",
        "         Current function value: 0.692929\n",
        "         Iterations 3\n",
        "Optimization terminated successfully.\n",
        "         Current function value: 0.692942\n",
        "         Iterations 3\n",
        "Optimization terminated successfully."
       ]
      },
      {
       "output_type": "stream",
       "stream": "stdout",
       "text": [
        "\n",
        "         Current function value: 0.692895\n",
        "         Iterations 3\n",
        "Optimization terminated successfully.\n",
        "         Current function value: 0.692910\n",
        "         Iterations 3\n",
        "Optimization terminated successfully.\n",
        "         Current function value: 0.692972\n",
        "         Iterations 3\n",
        "Optimization terminated successfully."
       ]
      },
      {
       "output_type": "stream",
       "stream": "stdout",
       "text": [
        "\n",
        "         Current function value: 0.692963\n",
        "         Iterations 3\n",
        "Optimization terminated successfully.\n",
        "         Current function value: 0.693009\n",
        "         Iterations 3\n",
        "Optimization terminated successfully.\n",
        "         Current function value: 0.693021\n",
        "         Iterations 3\n",
        "Optimization terminated successfully."
       ]
      },
      {
       "output_type": "stream",
       "stream": "stdout",
       "text": [
        "\n",
        "         Current function value: 0.693027\n",
        "         Iterations 3\n",
        "Optimization terminated successfully.\n",
        "         Current function value: 0.693011\n",
        "         Iterations 3\n",
        "Optimization terminated successfully.\n",
        "         Current function value: 0.693021\n",
        "         Iterations 3\n",
        "Optimization terminated successfully.\n",
        "         Current function value: 0.693027\n",
        "         Iterations 3\n",
        "Optimization terminated successfully."
       ]
      },
      {
       "output_type": "stream",
       "stream": "stdout",
       "text": [
        "\n",
        "         Current function value: 0.693026\n",
        "         Iterations 3\n",
        "Optimization terminated successfully.\n",
        "         Current function value: 0.693029\n",
        "         Iterations 3\n",
        "Optimization terminated successfully.\n",
        "         Current function value: 0.693027\n",
        "         Iterations 3\n",
        "Optimization terminated successfully.\n",
        "         Current function value: 0.693029\n",
        "         Iterations 3\n",
        "Optimization terminated successfully."
       ]
      },
      {
       "output_type": "stream",
       "stream": "stdout",
       "text": [
        "\n",
        "         Current function value: 0.693023\n",
        "         Iterations 3\n",
        "Optimization terminated successfully.\n",
        "         Current function value: 0.693022\n",
        "         Iterations 3\n",
        "Optimization terminated successfully.\n",
        "         Current function value: 0.693005\n",
        "         Iterations 3\n",
        "Optimization terminated successfully."
       ]
      },
      {
       "output_type": "stream",
       "stream": "stdout",
       "text": [
        "\n",
        "         Current function value: 0.693024\n",
        "         Iterations 3\n",
        "Optimization terminated successfully.\n",
        "         Current function value: 0.693006\n",
        "         Iterations 3\n",
        "Optimization terminated successfully.\n",
        "         Current function value: 0.693004\n",
        "         Iterations 3\n",
        "Optimization terminated successfully.\n",
        "         Current function value: 0.692967\n",
        "         Iterations 3\n",
        "Optimization terminated successfully."
       ]
      },
      {
       "output_type": "stream",
       "stream": "stdout",
       "text": [
        "\n",
        "         Current function value: 0.692897\n",
        "         Iterations 3\n",
        "Optimization terminated successfully.\n",
        "         Current function value: 0.693025\n",
        "         Iterations 3\n",
        "Optimization terminated successfully.\n",
        "         Current function value: 0.693026\n",
        "         Iterations 3\n",
        "Optimization terminated successfully.\n",
        "         Current function value: 0.693017\n",
        "         Iterations 3\n",
        "Optimization terminated successfully."
       ]
      },
      {
       "output_type": "stream",
       "stream": "stdout",
       "text": [
        "\n",
        "         Current function value: 0.693006\n",
        "         Iterations 3\n",
        "Optimization terminated successfully.\n",
        "         Current function value: 0.693029\n",
        "         Iterations 3\n",
        "Optimization terminated successfully.\n",
        "         Current function value: 0.693016\n",
        "         Iterations 3\n",
        "Optimization terminated successfully.\n",
        "         Current function value: 0.693028\n",
        "         Iterations 3\n",
        "Optimization terminated successfully."
       ]
      },
      {
       "output_type": "stream",
       "stream": "stdout",
       "text": [
        "\n",
        "         Current function value: 0.693029\n",
        "         Iterations 3\n",
        "Optimization terminated successfully.\n",
        "         Current function value: 0.693017\n",
        "         Iterations 3\n",
        "Optimization terminated successfully.\n",
        "         Current function value: 0.693029\n",
        "         Iterations 3\n",
        "Optimization terminated successfully."
       ]
      },
      {
       "output_type": "stream",
       "stream": "stdout",
       "text": [
        "\n",
        "         Current function value: 0.693030\n",
        "         Iterations 3\n",
        "Optimization terminated successfully.\n",
        "         Current function value: 0.692983\n",
        "         Iterations 3\n",
        "Optimization terminated successfully.\n",
        "         Current function value: 0.692967\n",
        "         Iterations 3\n",
        "Optimization terminated successfully.\n",
        "         Current function value: 0.693011\n",
        "         Iterations 3\n",
        "Optimization terminated successfully."
       ]
      },
      {
       "output_type": "stream",
       "stream": "stdout",
       "text": [
        "\n",
        "         Current function value: 0.693027\n",
        "         Iterations 3\n",
        "Optimization terminated successfully.\n",
        "         Current function value: 0.693022\n",
        "         Iterations 3\n",
        "Optimization terminated successfully.\n",
        "         Current function value: 0.693006\n",
        "         Iterations 3\n",
        "Optimization terminated successfully.\n",
        "         Current function value: 0.693025\n",
        "         Iterations 3\n",
        "Optimization terminated successfully."
       ]
      },
      {
       "output_type": "stream",
       "stream": "stdout",
       "text": [
        "\n",
        "         Current function value: 0.693029\n",
        "         Iterations 3\n",
        "Optimization terminated successfully.\n",
        "         Current function value: 0.693027\n",
        "         Iterations 3\n",
        "Optimization terminated successfully.\n",
        "         Current function value: 0.693028\n",
        "         Iterations 3\n",
        "Optimization terminated successfully.\n",
        "         Current function value: 0.692981"
       ]
      },
      {
       "output_type": "stream",
       "stream": "stdout",
       "text": [
        "\n",
        "         Iterations 3\n",
        "Optimization terminated successfully.\n",
        "         Current function value: 0.693044\n",
        "         Iterations 3\n",
        "Optimization terminated successfully.\n",
        "         Current function value: 0.693045\n",
        "         Iterations 3\n",
        "Optimization terminated successfully.\n",
        "         Current function value: 0.693082\n",
        "         Iterations 3\n",
        "Optimization terminated successfully."
       ]
      },
      {
       "output_type": "stream",
       "stream": "stdout",
       "text": [
        "\n",
        "         Current function value: 0.693051\n",
        "         Iterations 3\n",
        "Optimization terminated successfully.\n",
        "         Current function value: 0.693003\n",
        "         Iterations 3\n",
        "Optimization terminated successfully."
       ]
      },
      {
       "output_type": "stream",
       "stream": "stdout",
       "text": [
        "\n",
        "         Current function value: 0.693008\n",
        "         Iterations 4\n",
        "Optimization terminated successfully.\n",
        "         Current function value: 0.693006\n",
        "         Iterations 3\n",
        "Optimization terminated successfully.\n",
        "         Current function value: 0.693023\n",
        "         Iterations 3\n",
        "Optimization terminated successfully."
       ]
      },
      {
       "output_type": "stream",
       "stream": "stdout",
       "text": [
        "\n",
        "         Current function value: 0.692867\n",
        "         Iterations 3\n",
        "Optimization terminated successfully."
       ]
      },
      {
       "output_type": "stream",
       "stream": "stdout",
       "text": [
        "\n",
        "         Current function value: 0.693024\n",
        "         Iterations 3\n",
        "Optimization terminated successfully.\n",
        "         Current function value: 0.693025\n",
        "         Iterations 3\n",
        "Optimization terminated successfully."
       ]
      },
      {
       "output_type": "stream",
       "stream": "stdout",
       "text": [
        "\n",
        "         Current function value: 0.692980\n",
        "         Iterations 3\n",
        "Optimization terminated successfully.\n",
        "         Current function value: 0.693023\n",
        "         Iterations 3\n",
        "Optimization terminated successfully."
       ]
      },
      {
       "output_type": "stream",
       "stream": "stdout",
       "text": [
        "\n",
        "         Current function value: 0.693000\n",
        "         Iterations 3\n",
        "Optimization terminated successfully.\n",
        "         Current function value: 0.693029\n",
        "         Iterations 3\n",
        "Optimization terminated successfully."
       ]
      },
      {
       "output_type": "stream",
       "stream": "stdout",
       "text": [
        "\n",
        "         Current function value: 0.693027\n",
        "         Iterations 3\n",
        "Optimization terminated successfully.\n",
        "         Current function value: 0.693019\n",
        "         Iterations 3\n",
        "Optimization terminated successfully."
       ]
      },
      {
       "output_type": "stream",
       "stream": "stdout",
       "text": [
        "\n",
        "         Current function value: 0.693024\n",
        "         Iterations 3\n",
        "Optimization terminated successfully.\n",
        "         Current function value: 0.693018\n",
        "         Iterations 3\n",
        "Optimization terminated successfully."
       ]
      },
      {
       "output_type": "stream",
       "stream": "stdout",
       "text": [
        "\n",
        "         Current function value: 0.693028\n",
        "         Iterations 3\n",
        "Optimization terminated successfully.\n",
        "         Current function value: 0.693022\n",
        "         Iterations 3\n",
        "Optimization terminated successfully."
       ]
      },
      {
       "output_type": "stream",
       "stream": "stdout",
       "text": [
        "\n",
        "         Current function value: 0.693026\n",
        "         Iterations 3\n",
        "Optimization terminated successfully.\n",
        "         Current function value: 0.692997\n",
        "         Iterations 3\n",
        "Optimization terminated successfully."
       ]
      },
      {
       "output_type": "stream",
       "stream": "stdout",
       "text": [
        "\n",
        "         Current function value: 0.693009\n",
        "         Iterations 3\n",
        "Optimization terminated successfully.\n",
        "         Current function value: 0.693005\n",
        "         Iterations 3\n",
        "Optimization terminated successfully."
       ]
      },
      {
       "output_type": "stream",
       "stream": "stdout",
       "text": [
        "\n",
        "         Current function value: 0.692988\n",
        "         Iterations 3\n",
        "Optimization terminated successfully.\n",
        "         Current function value: 0.693025\n",
        "         Iterations 3\n",
        "Optimization terminated successfully."
       ]
      },
      {
       "output_type": "stream",
       "stream": "stdout",
       "text": [
        "\n",
        "         Current function value: 0.693023\n",
        "         Iterations 3\n",
        "Optimization terminated successfully.\n",
        "         Current function value: 0.693011\n",
        "         Iterations 3\n",
        "Optimization terminated successfully."
       ]
      },
      {
       "output_type": "stream",
       "stream": "stdout",
       "text": [
        "\n",
        "         Current function value: 0.692998\n",
        "         Iterations 3\n",
        "Optimization terminated successfully.\n",
        "         Current function value: 0.693024\n",
        "         Iterations 3\n",
        "Optimization terminated successfully."
       ]
      },
      {
       "output_type": "stream",
       "stream": "stdout",
       "text": [
        "\n",
        "         Current function value: 0.692992\n",
        "         Iterations 3\n",
        "Optimization terminated successfully.\n",
        "         Current function value: 0.693027\n",
        "         Iterations 3\n",
        "Optimization terminated successfully."
       ]
      },
      {
       "output_type": "stream",
       "stream": "stdout",
       "text": [
        "\n",
        "         Current function value: 0.692995\n",
        "         Iterations 3\n",
        "Optimization terminated successfully.\n",
        "         Current function value: 0.693009\n",
        "         Iterations 3\n",
        "Optimization terminated successfully."
       ]
      },
      {
       "output_type": "stream",
       "stream": "stdout",
       "text": [
        "\n",
        "         Current function value: 0.692956\n",
        "         Iterations 3\n",
        "Optimization terminated successfully.\n",
        "         Current function value: 0.693005\n",
        "         Iterations 3\n",
        "Optimization terminated successfully."
       ]
      },
      {
       "output_type": "stream",
       "stream": "stdout",
       "text": [
        "\n",
        "         Current function value: 0.692779\n",
        "         Iterations 4\n",
        "Optimization terminated successfully.\n",
        "         Current function value: 0.692991\n",
        "         Iterations 3\n",
        "Optimization terminated successfully."
       ]
      },
      {
       "output_type": "stream",
       "stream": "stdout",
       "text": [
        "\n",
        "         Current function value: 0.692644\n",
        "         Iterations 4\n",
        "Optimization terminated successfully.\n",
        "         Current function value: 0.693020\n",
        "         Iterations 3\n",
        "Optimization terminated successfully."
       ]
      },
      {
       "output_type": "stream",
       "stream": "stdout",
       "text": [
        "\n",
        "         Current function value: 0.692625\n",
        "         Iterations 4\n",
        "Optimization terminated successfully.\n",
        "         Current function value: 0.693024\n",
        "         Iterations 3\n",
        "Optimization terminated successfully."
       ]
      },
      {
       "output_type": "stream",
       "stream": "stdout",
       "text": [
        "\n",
        "         Current function value: 0.692858\n",
        "         Iterations 3\n",
        "Optimization terminated successfully.\n",
        "         Current function value: 0.693025\n",
        "         Iterations 3\n",
        "Optimization terminated successfully."
       ]
      },
      {
       "output_type": "stream",
       "stream": "stdout",
       "text": [
        "\n",
        "         Current function value: 0.692820\n",
        "         Iterations 3\n",
        "Optimization terminated successfully.\n",
        "         Current function value: 0.693021\n",
        "         Iterations 3\n",
        "Optimization terminated successfully."
       ]
      },
      {
       "output_type": "stream",
       "stream": "stdout",
       "text": [
        "\n",
        "         Current function value: 0.692864\n",
        "         Iterations 3\n",
        "Optimization terminated successfully.\n",
        "         Current function value: 0.693010\n",
        "         Iterations 3\n",
        "Optimization terminated successfully."
       ]
      },
      {
       "output_type": "stream",
       "stream": "stdout",
       "text": [
        "\n",
        "         Current function value: 0.692903\n",
        "         Iterations 3\n",
        "Optimization terminated successfully.\n",
        "         Current function value: 0.693014\n",
        "         Iterations 3\n",
        "Optimization terminated successfully."
       ]
      },
      {
       "output_type": "stream",
       "stream": "stdout",
       "text": [
        "\n",
        "         Current function value: 0.692912\n",
        "         Iterations 3\n",
        "Optimization terminated successfully.\n",
        "         Current function value: 0.693022\n",
        "         Iterations 3\n",
        "Optimization terminated successfully."
       ]
      },
      {
       "output_type": "stream",
       "stream": "stdout",
       "text": [
        "\n",
        "         Current function value: 0.692889\n",
        "         Iterations 3\n",
        "Optimization terminated successfully.\n",
        "         Current function value: 0.693010\n",
        "         Iterations 3\n",
        "Optimization terminated successfully."
       ]
      },
      {
       "output_type": "stream",
       "stream": "stdout",
       "text": [
        "\n",
        "         Current function value: 0.692978\n",
        "         Iterations 3\n",
        "Optimization terminated successfully.\n",
        "         Current function value: 0.692986\n",
        "         Iterations 3\n",
        "Optimization terminated successfully."
       ]
      },
      {
       "output_type": "stream",
       "stream": "stdout",
       "text": [
        "\n",
        "         Current function value: 0.692828\n",
        "         Iterations 3\n",
        "Optimization terminated successfully.\n",
        "         Current function value: 0.692990\n",
        "         Iterations 3\n",
        "Optimization terminated successfully."
       ]
      },
      {
       "output_type": "stream",
       "stream": "stdout",
       "text": [
        "\n",
        "         Current function value: 0.692838\n",
        "         Iterations 3\n",
        "Optimization terminated successfully.\n",
        "         Current function value: 0.692986\n",
        "         Iterations 3\n",
        "Optimization terminated successfully."
       ]
      },
      {
       "output_type": "stream",
       "stream": "stdout",
       "text": [
        "\n",
        "         Current function value: 0.692987\n",
        "         Iterations 3\n",
        "Optimization terminated successfully.\n",
        "         Current function value: 0.693003\n",
        "         Iterations 3\n",
        "Optimization terminated successfully."
       ]
      },
      {
       "output_type": "stream",
       "stream": "stdout",
       "text": [
        "\n",
        "         Current function value: 0.692940\n",
        "         Iterations 3\n",
        "Optimization terminated successfully.\n",
        "         Current function value: 0.692985\n",
        "         Iterations 3\n",
        "Optimization terminated successfully."
       ]
      },
      {
       "output_type": "stream",
       "stream": "stdout",
       "text": [
        "\n",
        "         Current function value: 0.692955\n",
        "         Iterations 3\n",
        "Optimization terminated successfully.\n",
        "         Current function value: 0.693019\n",
        "         Iterations 3\n",
        "Optimization terminated successfully."
       ]
      },
      {
       "output_type": "stream",
       "stream": "stdout",
       "text": [
        "\n",
        "         Current function value: 0.692862\n",
        "         Iterations 3\n",
        "Optimization terminated successfully.\n",
        "         Current function value: 0.693021\n",
        "         Iterations 3\n",
        "Optimization terminated successfully."
       ]
      },
      {
       "output_type": "stream",
       "stream": "stdout",
       "text": [
        "\n",
        "         Current function value: 0.692913\n",
        "         Iterations 3\n",
        "Optimization terminated successfully.\n",
        "         Current function value: 0.693017\n",
        "         Iterations 3\n",
        "Optimization terminated successfully."
       ]
      },
      {
       "output_type": "stream",
       "stream": "stdout",
       "text": [
        "\n",
        "         Current function value: 0.692825\n",
        "         Iterations 3\n",
        "Optimization terminated successfully.\n",
        "         Current function value: 0.693001\n",
        "         Iterations 3\n",
        "Optimization terminated successfully."
       ]
      },
      {
       "output_type": "stream",
       "stream": "stdout",
       "text": [
        "\n",
        "         Current function value: 0.692742\n",
        "         Iterations 4\n",
        "Optimization terminated successfully.\n",
        "         Current function value: 0.692993\n",
        "         Iterations 3\n",
        "Optimization terminated successfully."
       ]
      },
      {
       "output_type": "stream",
       "stream": "stdout",
       "text": [
        "\n",
        "         Current function value: 0.692570\n",
        "         Iterations 4\n",
        "Optimization terminated successfully.\n",
        "         Current function value: 0.692999\n",
        "         Iterations 3\n",
        "Optimization terminated successfully."
       ]
      },
      {
       "output_type": "stream",
       "stream": "stdout",
       "text": [
        "\n",
        "         Current function value: 0.692668\n",
        "         Iterations 4\n",
        "Optimization terminated successfully.\n",
        "         Current function value: 0.693004\n",
        "         Iterations 3\n",
        "Optimization terminated successfully."
       ]
      },
      {
       "output_type": "stream",
       "stream": "stdout",
       "text": [
        "\n",
        "         Current function value: 0.692766\n",
        "         Iterations 4\n",
        "Optimization terminated successfully.\n",
        "         Current function value: 0.693029\n",
        "         Iterations 3\n",
        "Optimization terminated successfully."
       ]
      },
      {
       "output_type": "stream",
       "stream": "stdout",
       "text": [
        "\n",
        "         Current function value: 0.692791\n",
        "         Iterations 4\n",
        "Optimization terminated successfully.\n",
        "         Current function value: 0.693033\n",
        "         Iterations 3\n",
        "Optimization terminated successfully."
       ]
      },
      {
       "output_type": "stream",
       "stream": "stdout",
       "text": [
        "\n",
        "         Current function value: 0.692730\n",
        "         Iterations 4\n",
        "Optimization terminated successfully.\n",
        "         Current function value: 0.693033\n",
        "         Iterations 3\n",
        "Optimization terminated successfully."
       ]
      },
      {
       "output_type": "stream",
       "stream": "stdout",
       "text": [
        "\n",
        "         Current function value: 0.692658\n",
        "         Iterations 4\n",
        "Optimization terminated successfully.\n",
        "         Current function value: 0.692996\n",
        "         Iterations 3\n",
        "Optimization terminated successfully."
       ]
      },
      {
       "output_type": "stream",
       "stream": "stdout",
       "text": [
        "\n",
        "         Current function value: 0.692704\n",
        "         Iterations 4\n",
        "Optimization terminated successfully.\n",
        "         Current function value: 0.693046\n",
        "         Iterations 3\n",
        "Optimization terminated successfully."
       ]
      },
      {
       "output_type": "stream",
       "stream": "stdout",
       "text": [
        "\n",
        "         Current function value: 0.692603\n",
        "         Iterations 4\n",
        "Optimization terminated successfully.\n",
        "         Current function value: 0.693058\n",
        "         Iterations 3\n",
        "Optimization terminated successfully."
       ]
      },
      {
       "output_type": "stream",
       "stream": "stdout",
       "text": [
        "\n",
        "         Current function value: 0.692822\n",
        "         Iterations 4\n",
        "Optimization terminated successfully.\n",
        "         Current function value: 0.693085\n",
        "         Iterations 3\n",
        "Optimization terminated successfully."
       ]
      },
      {
       "output_type": "stream",
       "stream": "stdout",
       "text": [
        "\n",
        "         Current function value: 0.692743\n",
        "         Iterations 4\n",
        "Optimization terminated successfully.\n",
        "         Current function value: 0.693078\n",
        "         Iterations 3\n",
        "Optimization terminated successfully."
       ]
      },
      {
       "output_type": "stream",
       "stream": "stdout",
       "text": [
        "\n",
        "         Current function value: 0.693027\n",
        "         Iterations 3\n",
        "Optimization terminated successfully.\n",
        "         Current function value: 0.693014\n",
        "         Iterations 3\n",
        "Optimization terminated successfully."
       ]
      },
      {
       "output_type": "stream",
       "stream": "stdout",
       "text": [
        "\n",
        "         Current function value: 0.692815\n",
        "         Iterations 4\n",
        "Optimization terminated successfully."
       ]
      },
      {
       "output_type": "stream",
       "stream": "stdout",
       "text": [
        "\n",
        "         Current function value: 0.693011\n",
        "         Iterations 3\n",
        "Optimization terminated successfully.\n",
        "         Current function value: 0.693025\n",
        "         Iterations 3\n",
        "Optimization terminated successfully."
       ]
      },
      {
       "output_type": "stream",
       "stream": "stdout",
       "text": [
        "\n",
        "         Current function value: 0.692964\n",
        "         Iterations 3\n",
        "Optimization terminated successfully.\n",
        "         Current function value: 0.692889\n",
        "         Iterations 3\n",
        "Optimization terminated successfully.\n",
        "         Current function value: 0.692805\n",
        "         Iterations 3\n",
        "Optimization terminated successfully."
       ]
      },
      {
       "output_type": "stream",
       "stream": "stdout",
       "text": [
        "\n",
        "         Current function value: 0.693029\n",
        "         Iterations 3\n",
        "Optimization terminated successfully.\n",
        "         Current function value: 0.693075\n",
        "         Iterations 3\n",
        "Optimization terminated successfully.\n",
        "         Current function value: 0.692964\n",
        "         Iterations 3\n",
        "Optimization terminated successfully.\n",
        "         Current function value: 0.692980\n",
        "         Iterations 3\n",
        "Optimization terminated successfully."
       ]
      },
      {
       "output_type": "stream",
       "stream": "stdout",
       "text": [
        "\n",
        "         Current function value: 0.693018\n",
        "         Iterations 3\n",
        "Optimization terminated successfully.\n",
        "         Current function value: 0.692984\n",
        "         Iterations 3\n",
        "Optimization terminated successfully.\n",
        "         Current function value: 0.693021\n",
        "         Iterations 3\n",
        "Optimization terminated successfully."
       ]
      },
      {
       "output_type": "stream",
       "stream": "stdout",
       "text": [
        "\n",
        "         Current function value: 0.692994\n",
        "         Iterations 3\n",
        "Optimization terminated successfully.\n",
        "         Current function value: 0.692952\n",
        "         Iterations 3\n",
        "Optimization terminated successfully.\n",
        "         Current function value: 0.692689\n",
        "         Iterations 4\n",
        "Optimization terminated successfully."
       ]
      },
      {
       "output_type": "stream",
       "stream": "stdout",
       "text": [
        "\n",
        "         Current function value: 0.692830\n",
        "         Iterations 3\n",
        "Optimization terminated successfully.\n",
        "         Current function value: 0.692937\n",
        "         Iterations 3\n",
        "Optimization terminated successfully.\n",
        "         Current function value: 0.692766\n",
        "         Iterations 3\n",
        "Optimization terminated successfully."
       ]
      },
      {
       "output_type": "stream",
       "stream": "stdout",
       "text": [
        "\n",
        "         Current function value: 0.692742\n",
        "         Iterations 3\n",
        "Optimization terminated successfully."
       ]
      },
      {
       "output_type": "stream",
       "stream": "stdout",
       "text": [
        "\n",
        "         Current function value: 0.692705\n",
        "         Iterations 3\n",
        "Optimization terminated successfully.\n",
        "         Current function value: 0.692849\n",
        "         Iterations 3\n",
        "Optimization terminated successfully."
       ]
      },
      {
       "output_type": "stream",
       "stream": "stdout",
       "text": [
        "\n",
        "         Current function value: 0.692937\n",
        "         Iterations 3\n",
        "Optimization terminated successfully.\n",
        "         Current function value: 0.692906\n",
        "         Iterations 3\n",
        "Optimization terminated successfully."
       ]
      },
      {
       "output_type": "stream",
       "stream": "stdout",
       "text": [
        "\n",
        "         Current function value: 0.692849\n",
        "         Iterations 3\n",
        "Optimization terminated successfully."
       ]
      },
      {
       "output_type": "stream",
       "stream": "stdout",
       "text": [
        "\n",
        "         Current function value: 0.693027\n",
        "         Iterations 3\n",
        "Optimization terminated successfully.\n",
        "         Current function value: 0.692699\n",
        "         Iterations 4\n",
        "Optimization terminated successfully."
       ]
      },
      {
       "output_type": "stream",
       "stream": "stdout",
       "text": [
        "\n",
        "         Current function value: 0.692958\n",
        "         Iterations 3\n",
        "Optimization terminated successfully.\n",
        "         Current function value: 0.692901\n",
        "         Iterations 3\n",
        "Optimization terminated successfully."
       ]
      },
      {
       "output_type": "stream",
       "stream": "stdout",
       "text": [
        "\n",
        "         Current function value: 0.693023\n",
        "         Iterations 3\n",
        "Optimization terminated successfully.\n",
        "         Current function value: 0.693015\n",
        "         Iterations 3\n",
        "Optimization terminated successfully.\n",
        "         Current function value: 0.693018\n",
        "         Iterations 3\n",
        "Optimization terminated successfully."
       ]
      },
      {
       "output_type": "stream",
       "stream": "stdout",
       "text": [
        "\n",
        "         Current function value: 0.693030\n",
        "         Iterations 3\n",
        "Optimization terminated successfully.\n",
        "         Current function value: 0.693014\n",
        "         Iterations 3\n",
        "Optimization terminated successfully.\n",
        "         Current function value: 0.693002\n",
        "         Iterations 3\n",
        "Optimization terminated successfully.\n",
        "         Current function value: 0.692994\n",
        "         Iterations 3\n",
        "Optimization terminated successfully."
       ]
      },
      {
       "output_type": "stream",
       "stream": "stdout",
       "text": [
        "\n",
        "         Current function value: 0.693021\n",
        "         Iterations 3\n",
        "Optimization terminated successfully.\n",
        "         Current function value: 0.693027\n",
        "         Iterations 3\n",
        "Optimization terminated successfully.\n",
        "         Current function value: 0.693011\n",
        "         Iterations 3\n",
        "Optimization terminated successfully.\n",
        "         Current function value: 0.693006\n",
        "         Iterations 3\n",
        "Optimization terminated successfully."
       ]
      },
      {
       "output_type": "stream",
       "stream": "stdout",
       "text": [
        "\n",
        "         Current function value: 0.692975\n",
        "         Iterations 3\n",
        "Optimization terminated successfully.\n",
        "         Current function value: 0.693019\n",
        "         Iterations 3\n",
        "Optimization terminated successfully."
       ]
      },
      {
       "output_type": "stream",
       "stream": "stdout",
       "text": [
        "\n",
        "         Current function value: 0.692952\n",
        "         Iterations 3\n",
        "Optimization terminated successfully.\n",
        "         Current function value: 0.692885\n",
        "         Iterations 3\n",
        "Optimization terminated successfully.\n",
        "         Current function value: 0.692974\n",
        "         Iterations 4\n",
        "Optimization terminated successfully."
       ]
      },
      {
       "output_type": "stream",
       "stream": "stdout",
       "text": [
        "\n",
        "         Current function value: 0.692828\n",
        "         Iterations 3\n",
        "Optimization terminated successfully.\n",
        "         Current function value: 0.692609\n",
        "         Iterations 3\n",
        "Optimization terminated successfully.\n",
        "         Current function value: 0.693014\n",
        "         Iterations 3\n",
        "Optimization terminated successfully."
       ]
      },
      {
       "output_type": "stream",
       "stream": "stdout",
       "text": [
        "\n",
        "         Current function value: 0.692905\n",
        "         Iterations 4\n",
        "Optimization terminated successfully.\n",
        "         Current function value: 0.693029\n",
        "         Iterations 3\n",
        "Optimization terminated successfully.\n",
        "         Current function value: 0.693070\n",
        "         Iterations 3\n",
        "Optimization terminated successfully."
       ]
      },
      {
       "output_type": "stream",
       "stream": "stdout",
       "text": [
        "\n",
        "         Current function value: 0.692937\n",
        "         Iterations 3\n",
        "Optimization terminated successfully.\n",
        "         Current function value: 0.692866\n",
        "         Iterations 3\n",
        "Optimization terminated successfully.\n",
        "         Current function value: 0.693029\n",
        "         Iterations 3\n",
        "Optimization terminated successfully.\n",
        "         Current function value: 0.693020\n",
        "         Iterations 3\n",
        "Optimization terminated successfully."
       ]
      },
      {
       "output_type": "stream",
       "stream": "stdout",
       "text": [
        "\n",
        "         Current function value: 0.693024\n",
        "         Iterations 3\n",
        "Optimization terminated successfully.\n",
        "         Current function value: 0.693024\n",
        "         Iterations 3\n",
        "Optimization terminated successfully.\n",
        "         Current function value: 0.692937\n",
        "         Iterations 3\n",
        "Optimization terminated successfully.\n",
        "         Current function value: 0.693027\n",
        "         Iterations 3\n",
        "Optimization terminated successfully."
       ]
      },
      {
       "output_type": "stream",
       "stream": "stdout",
       "text": [
        "\n",
        "         Current function value: 0.692986\n",
        "         Iterations 3\n",
        "Optimization terminated successfully.\n",
        "         Current function value: 0.692976\n",
        "         Iterations 3\n",
        "Optimization terminated successfully.\n",
        "         Current function value: 0.693028\n",
        "         Iterations 3\n",
        "Optimization terminated successfully."
       ]
      },
      {
       "output_type": "stream",
       "stream": "stdout",
       "text": [
        "\n",
        "         Current function value: 0.693030\n",
        "         Iterations 3\n",
        "Optimization terminated successfully.\n",
        "         Current function value: 0.693002\n",
        "         Iterations 3\n",
        "Optimization terminated successfully.\n",
        "         Current function value: 0.693025\n",
        "         Iterations 3\n",
        "Optimization terminated successfully."
       ]
      },
      {
       "output_type": "stream",
       "stream": "stdout",
       "text": [
        "\n",
        "         Current function value: 0.693028\n",
        "         Iterations 3\n",
        "Optimization terminated successfully.\n",
        "         Current function value: 0.692603\n",
        "         Iterations 4\n",
        "Optimization terminated successfully.\n",
        "         Current function value: 0.692978\n",
        "         Iterations 3\n",
        "Optimization terminated successfully."
       ]
      },
      {
       "output_type": "stream",
       "stream": "stdout",
       "text": [
        "\n",
        "         Current function value: 0.692847\n",
        "         Iterations 4\n",
        "Optimization terminated successfully.\n",
        "         Current function value: 0.693003\n",
        "         Iterations 4\n",
        "Optimization terminated successfully.\n",
        "         Current function value: 0.693115\n",
        "         Iterations 3\n",
        "Optimization terminated successfully.\n",
        "         Current function value: 0.693046\n",
        "         Iterations 3\n",
        "Optimization terminated successfully."
       ]
      },
      {
       "output_type": "stream",
       "stream": "stdout",
       "text": [
        "\n",
        "         Current function value: 0.692929\n",
        "         Iterations 3\n",
        "Optimization terminated successfully.\n",
        "         Current function value: 0.693030\n",
        "         Iterations 3\n",
        "Optimization terminated successfully.\n",
        "         Current function value: 0.693006\n",
        "         Iterations 3\n",
        "Optimization terminated successfully.\n",
        "         Current function value: 0.693023\n",
        "         Iterations 3\n",
        "Optimization terminated successfully."
       ]
      },
      {
       "output_type": "stream",
       "stream": "stdout",
       "text": [
        "\n",
        "         Current function value: 0.692872\n",
        "         Iterations 3\n",
        "Optimization terminated successfully.\n",
        "         Current function value: 0.692887\n",
        "         Iterations 3\n",
        "Optimization terminated successfully.\n",
        "         Current function value: 0.692849\n",
        "         Iterations 4\n",
        "Optimization terminated successfully."
       ]
      },
      {
       "output_type": "stream",
       "stream": "stdout",
       "text": [
        "\n",
        "         Current function value: 0.693017\n",
        "         Iterations 3\n",
        "Optimization terminated successfully.\n",
        "         Current function value: 0.693001\n",
        "         Iterations 3\n",
        "Optimization terminated successfully.\n",
        "         Current function value: 0.693014\n",
        "         Iterations 3\n",
        "Optimization terminated successfully.\n",
        "         Current function value: 0.693019\n",
        "         Iterations 3\n",
        "Optimization terminated successfully."
       ]
      },
      {
       "output_type": "stream",
       "stream": "stdout",
       "text": [
        "\n",
        "         Current function value: 0.692944\n",
        "         Iterations 3\n",
        "Optimization terminated successfully.\n",
        "         Current function value: 0.692965\n",
        "         Iterations 3\n",
        "Optimization terminated successfully."
       ]
      },
      {
       "output_type": "stream",
       "stream": "stdout",
       "text": [
        "\n",
        "         Current function value: 0.692991\n",
        "         Iterations 3\n",
        "Optimization terminated successfully.\n",
        "         Current function value: 0.693030\n",
        "         Iterations 3\n",
        "Optimization terminated successfully.\n",
        "         Current function value: 0.693029\n",
        "         Iterations 3\n",
        "Optimization terminated successfully.\n",
        "         Current function value: 0.693026\n",
        "         Iterations 3\n",
        "Optimization terminated successfully."
       ]
      },
      {
       "output_type": "stream",
       "stream": "stdout",
       "text": [
        "\n",
        "         Current function value: 0.693004\n",
        "         Iterations 3\n",
        "Optimization terminated successfully.\n",
        "         Current function value: 0.692938\n",
        "         Iterations 3\n",
        "Optimization terminated successfully.\n",
        "         Current function value: 0.693030\n",
        "         Iterations 3\n",
        "Optimization terminated successfully.\n",
        "         Current function value: 0.692946\n",
        "         Iterations 3\n",
        "Optimization terminated successfully."
       ]
      },
      {
       "output_type": "stream",
       "stream": "stdout",
       "text": [
        "\n",
        "         Current function value: 0.693012\n",
        "         Iterations 3\n",
        "Optimization terminated successfully.\n",
        "         Current function value: 0.692990\n",
        "         Iterations 3\n",
        "Optimization terminated successfully.\n",
        "         Current function value: 0.692966\n",
        "         Iterations 3\n",
        "Optimization terminated successfully.\n",
        "         Current function value: 0.692924\n",
        "         Iterations 3\n",
        "Optimization terminated successfully."
       ]
      },
      {
       "output_type": "stream",
       "stream": "stdout",
       "text": [
        "\n",
        "         Current function value: 0.693002\n",
        "         Iterations 3\n",
        "Optimization terminated successfully.\n",
        "         Current function value: 0.693026\n",
        "         Iterations 3\n",
        "Optimization terminated successfully.\n",
        "         Current function value: 0.693020\n",
        "         Iterations 3\n",
        "Optimization terminated successfully."
       ]
      },
      {
       "output_type": "stream",
       "stream": "stdout",
       "text": [
        "\n",
        "         Current function value: 0.693000\n",
        "         Iterations 3\n",
        "Optimization terminated successfully.\n",
        "         Current function value: 0.693011\n",
        "         Iterations 3\n",
        "Optimization terminated successfully.\n",
        "         Current function value: 0.693030\n",
        "         Iterations 3\n",
        "Optimization terminated successfully.\n",
        "         Current function value: 0.693009\n",
        "         Iterations 3\n",
        "Optimization terminated successfully."
       ]
      },
      {
       "output_type": "stream",
       "stream": "stdout",
       "text": [
        "\n",
        "         Current function value: 0.693013\n",
        "         Iterations 3\n",
        "Optimization terminated successfully.\n",
        "         Current function value: 0.692870\n",
        "         Iterations 3\n",
        "Optimization terminated successfully.\n",
        "         Current function value: 0.692833\n",
        "         Iterations 3\n",
        "Optimization terminated successfully.\n",
        "         Current function value: 0.693011\n",
        "         Iterations 3\n",
        "Optimization terminated successfully."
       ]
      },
      {
       "output_type": "stream",
       "stream": "stdout",
       "text": [
        "\n",
        "         Current function value: 0.692995\n",
        "         Iterations 3\n",
        "Optimization terminated successfully.\n",
        "         Current function value: 0.692998\n",
        "         Iterations 3\n",
        "Optimization terminated successfully.\n",
        "         Current function value: 0.693020\n",
        "         Iterations 3\n",
        "Optimization terminated successfully.\n",
        "         Current function value: 0.693030\n",
        "         Iterations 3\n",
        "Optimization terminated successfully."
       ]
      },
      {
       "output_type": "stream",
       "stream": "stdout",
       "text": [
        "\n",
        "         Current function value: 0.693030\n",
        "         Iterations 3\n",
        "Optimization terminated successfully.\n",
        "         Current function value: 0.693016\n",
        "         Iterations 3\n",
        "Optimization terminated successfully.\n",
        "         Current function value: 0.693030\n",
        "         Iterations 3\n",
        "Optimization terminated successfully.\n",
        "         Current function value: 0.693030\n",
        "         Iterations 3\n",
        "Optimization terminated successfully."
       ]
      },
      {
       "output_type": "stream",
       "stream": "stdout",
       "text": [
        "\n",
        "         Current function value: 0.692633\n",
        "         Iterations 4\n",
        "Optimization terminated successfully.\n",
        "         Current function value: 0.692970\n",
        "         Iterations 3\n",
        "Optimization terminated successfully.\n",
        "         Current function value: 0.693013\n",
        "         Iterations 4\n",
        "Optimization terminated successfully."
       ]
      },
      {
       "output_type": "stream",
       "stream": "stdout",
       "text": [
        "\n",
        "         Current function value: 0.693030\n",
        "         Iterations 3\n",
        "Optimization terminated successfully.\n",
        "         Current function value: 0.692830\n",
        "         Iterations 5\n",
        "Optimization terminated successfully.\n",
        "         Current function value: 0.692771\n",
        "         Iterations 4\n",
        "Optimization terminated successfully."
       ]
      },
      {
       "output_type": "stream",
       "stream": "stdout",
       "text": [
        "\n",
        "         Current function value: 0.692982\n",
        "         Iterations 4\n",
        "Optimization terminated successfully.\n",
        "         Current function value: 0.693017\n",
        "         Iterations 3\n",
        "Optimization terminated successfully.\n",
        "         Current function value: 0.692890\n",
        "         Iterations 3\n",
        "Optimization terminated successfully.\n",
        "         Current function value: 0.692899\n",
        "         Iterations 3\n",
        "Optimization terminated successfully."
       ]
      },
      {
       "output_type": "stream",
       "stream": "stdout",
       "text": [
        "\n",
        "         Current function value: 0.692759\n",
        "         Iterations 4\n",
        "Optimization terminated successfully.\n",
        "         Current function value: 0.693015\n",
        "         Iterations 3\n",
        "Optimization terminated successfully.\n",
        "         Current function value: 0.693024\n",
        "         Iterations 3\n",
        "Optimization terminated successfully.\n",
        "         Current function value: 0.693018\n",
        "         Iterations 3\n",
        "Optimization terminated successfully."
       ]
      },
      {
       "output_type": "stream",
       "stream": "stdout",
       "text": [
        "\n",
        "         Current function value: 0.692681\n",
        "         Iterations 3\n",
        "Optimization terminated successfully.\n",
        "         Current function value: 0.692936\n",
        "         Iterations 3\n",
        "Optimization terminated successfully.\n",
        "         Current function value: 0.692599\n",
        "         Iterations 3\n",
        "Optimization terminated successfully.\n",
        "         Current function value: 0.692779\n",
        "         Iterations 3\n",
        "Optimization terminated successfully."
       ]
      },
      {
       "output_type": "stream",
       "stream": "stdout",
       "text": [
        "\n",
        "         Current function value: 0.692852\n",
        "         Iterations 3\n",
        "Optimization terminated successfully.\n",
        "         Current function value: 0.692753\n",
        "         Iterations 3\n",
        "Optimization terminated successfully.\n",
        "         Current function value: 0.692701\n",
        "         Iterations 3\n",
        "Optimization terminated successfully."
       ]
      },
      {
       "output_type": "stream",
       "stream": "stdout",
       "text": [
        "\n",
        "         Current function value: 0.693011\n",
        "         Iterations 3\n",
        "Optimization terminated successfully.\n",
        "         Current function value: 0.692968\n",
        "         Iterations 3\n",
        "Optimization terminated successfully.\n",
        "         Current function value: 0.692871\n",
        "         Iterations 3\n",
        "Optimization terminated successfully."
       ]
      },
      {
       "output_type": "stream",
       "stream": "stdout",
       "text": [
        "\n",
        "         Current function value: 0.692836\n",
        "         Iterations 3\n",
        "Optimization terminated successfully.\n",
        "         Current function value: 0.692834\n",
        "         Iterations 3\n",
        "Optimization terminated successfully.\n",
        "         Current function value: 0.692727\n",
        "         Iterations 3\n",
        "Optimization terminated successfully."
       ]
      },
      {
       "output_type": "stream",
       "stream": "stdout",
       "text": [
        "\n",
        "         Current function value: 0.693001\n",
        "         Iterations 3\n",
        "Optimization terminated successfully.\n",
        "         Current function value: 0.692996\n",
        "         Iterations 3\n",
        "Optimization terminated successfully.\n",
        "         Current function value: 0.692884\n",
        "         Iterations 3\n",
        "Optimization terminated successfully."
       ]
      },
      {
       "output_type": "stream",
       "stream": "stdout",
       "text": [
        "\n",
        "         Current function value: 0.693011\n",
        "         Iterations 3\n",
        "Optimization terminated successfully.\n",
        "         Current function value: 0.692847\n",
        "         Iterations 3\n",
        "Optimization terminated successfully.\n",
        "         Current function value: 0.692483\n",
        "         Iterations 3\n",
        "Optimization terminated successfully."
       ]
      },
      {
       "output_type": "stream",
       "stream": "stdout",
       "text": [
        "\n",
        "         Current function value: 0.693020\n",
        "         Iterations 3\n",
        "Optimization terminated successfully.\n",
        "         Current function value: 0.692861\n",
        "         Iterations 3\n",
        "Optimization terminated successfully.\n",
        "         Current function value: 0.692538\n",
        "         Iterations 3\n",
        "Optimization terminated successfully."
       ]
      },
      {
       "output_type": "stream",
       "stream": "stdout",
       "text": [
        "\n",
        "         Current function value: 0.693023\n",
        "         Iterations 3\n",
        "Optimization terminated successfully.\n",
        "         Current function value: 0.692911\n",
        "         Iterations 3\n",
        "Optimization terminated successfully.\n",
        "         Current function value: 0.692673\n",
        "         Iterations 3\n",
        "Optimization terminated successfully."
       ]
      },
      {
       "output_type": "stream",
       "stream": "stdout",
       "text": [
        "\n",
        "         Current function value: 0.692829\n",
        "         Iterations 3\n",
        "Optimization terminated successfully.\n",
        "         Current function value: 0.692929\n",
        "         Iterations 3\n",
        "Optimization terminated successfully.\n",
        "         Current function value: 0.692757\n",
        "         Iterations 3\n",
        "Optimization terminated successfully.\n",
        "         Current function value: 0.692921\n",
        "         Iterations 3\n",
        "Optimization terminated successfully."
       ]
      },
      {
       "output_type": "stream",
       "stream": "stdout",
       "text": [
        "\n",
        "         Current function value: 0.692908\n",
        "         Iterations 3\n",
        "Optimization terminated successfully.\n",
        "         Current function value: 0.692956\n",
        "         Iterations 4\n",
        "Optimization terminated successfully.\n",
        "         Current function value: 0.692956\n",
        "         Iterations 4\n",
        "Optimization terminated successfully."
       ]
      },
      {
       "output_type": "stream",
       "stream": "stdout",
       "text": [
        "\n",
        "         Current function value: 0.692956\n",
        "         Iterations 4\n",
        "Optimization terminated successfully.\n",
        "         Current function value: 0.692956\n",
        "         Iterations 4\n",
        "Optimization terminated successfully.\n",
        "         Current function value: 0.692956\n",
        "         Iterations 4\n",
        "Warning: Maximum number of iterations has been exceeded."
       ]
      },
      {
       "output_type": "stream",
       "stream": "stdout",
       "text": [
        "\n",
        "         Current function value: 0.692957\n",
        "         Iterations: 35\n",
        "Optimization terminated successfully.\n",
        "         Current function value: 0.693024\n",
        "         Iterations 4\n",
        "Optimization terminated successfully.\n",
        "         Current function value: 0.693021\n",
        "         Iterations 4\n",
        "Optimization terminated successfully."
       ]
      },
      {
       "output_type": "stream",
       "stream": "stdout",
       "text": [
        "\n",
        "         Current function value: 0.692975\n",
        "         Iterations 4\n",
        "Optimization terminated successfully.\n",
        "         Current function value: 0.693028\n",
        "         Iterations 3\n",
        "Optimization terminated successfully.\n",
        "         Current function value: 0.693025\n",
        "         Iterations 3\n",
        "Optimization terminated successfully."
       ]
      },
      {
       "output_type": "stream",
       "stream": "stdout",
       "text": [
        "\n",
        "         Current function value: 0.692889\n",
        "         Iterations 4\n",
        "Optimization terminated successfully.\n",
        "         Current function value: 0.693018\n",
        "         Iterations 4\n",
        "Optimization terminated successfully.\n",
        "         Current function value: 0.693000\n",
        "         Iterations 4\n",
        "Optimization terminated successfully."
       ]
      },
      {
       "output_type": "stream",
       "stream": "stdout",
       "text": [
        "\n",
        "         Current function value: 0.693021\n",
        "         Iterations 3\n",
        "Optimization terminated successfully.\n",
        "         Current function value: 0.693030\n",
        "         Iterations 3\n",
        "Optimization terminated successfully.\n",
        "         Current function value: 0.692987\n",
        "         Iterations 4\n",
        "Optimization terminated successfully."
       ]
      },
      {
       "output_type": "stream",
       "stream": "stdout",
       "text": [
        "\n",
        "         Current function value: 0.692983\n",
        "         Iterations 4\n",
        "Optimization terminated successfully.\n",
        "         Current function value: 0.693015\n",
        "         Iterations 3\n",
        "Optimization terminated successfully.\n",
        "         Current function value: 0.692900\n",
        "         Iterations 4\n",
        "Optimization terminated successfully."
       ]
      },
      {
       "output_type": "stream",
       "stream": "stdout",
       "text": [
        "\n",
        "         Current function value: 0.693030\n",
        "         Iterations 3\n",
        "Optimization terminated successfully.\n",
        "         Current function value: 0.692898\n",
        "         Iterations 4\n",
        "Optimization terminated successfully.\n",
        "         Current function value: 0.692972\n",
        "         Iterations 4\n",
        "Optimization terminated successfully."
       ]
      },
      {
       "output_type": "stream",
       "stream": "stdout",
       "text": [
        "\n",
        "         Current function value: 0.693000\n",
        "         Iterations 4\n",
        "Optimization terminated successfully.\n",
        "         Current function value: 0.693013\n",
        "         Iterations 4\n",
        "Optimization terminated successfully.\n",
        "         Current function value: 0.693013\n",
        "         Iterations 4\n",
        "Optimization terminated successfully."
       ]
      },
      {
       "output_type": "stream",
       "stream": "stdout",
       "text": [
        "\n",
        "         Current function value: 0.692916\n",
        "         Iterations 4\n",
        "Optimization terminated successfully.\n",
        "         Current function value: 0.692917\n",
        "         Iterations 4\n",
        "Optimization terminated successfully.\n",
        "         Current function value: 0.692904\n",
        "         Iterations 4\n",
        "Optimization terminated successfully."
       ]
      },
      {
       "output_type": "stream",
       "stream": "stdout",
       "text": [
        "\n",
        "         Current function value: 0.693026\n",
        "         Iterations 3\n",
        "Optimization terminated successfully.\n",
        "         Current function value: 0.693022\n",
        "         Iterations 3\n",
        "Optimization terminated successfully.\n",
        "         Current function value: 0.692956\n",
        "         Iterations 4\n",
        "Optimization terminated successfully."
       ]
      },
      {
       "output_type": "stream",
       "stream": "stdout",
       "text": [
        "\n",
        "         Current function value: 0.693023\n",
        "         Iterations 3\n",
        "Optimization terminated successfully.\n",
        "         Current function value: 0.692855\n",
        "         Iterations 4\n",
        "Optimization terminated successfully.\n",
        "         Current function value: 0.692972\n",
        "         Iterations 4\n",
        "Optimization terminated successfully."
       ]
      },
      {
       "output_type": "stream",
       "stream": "stdout",
       "text": [
        "\n",
        "         Current function value: 0.693000\n",
        "         Iterations 4\n",
        "Optimization terminated successfully.\n",
        "         Current function value: 0.693013\n",
        "         Iterations 4\n",
        "Optimization terminated successfully.\n",
        "         Current function value: 0.693013\n",
        "         Iterations 4\n",
        "Optimization terminated successfully."
       ]
      },
      {
       "output_type": "stream",
       "stream": "stdout",
       "text": [
        "\n",
        "         Current function value: 0.692806\n",
        "         Iterations 4\n",
        "Optimization terminated successfully.\n",
        "         Current function value: 0.693030\n",
        "         Iterations 3\n",
        "Optimization terminated successfully.\n",
        "         Current function value: 0.692987\n",
        "         Iterations 4\n",
        "Optimization terminated successfully."
       ]
      },
      {
       "output_type": "stream",
       "stream": "stdout",
       "text": [
        "\n",
        "         Current function value: 0.692962\n",
        "         Iterations 4\n",
        "Optimization terminated successfully.\n",
        "         Current function value: 0.693016\n",
        "         Iterations 3\n",
        "Optimization terminated successfully.\n",
        "         Current function value: 0.692900\n",
        "         Iterations 4\n",
        "Optimization terminated successfully."
       ]
      },
      {
       "output_type": "stream",
       "stream": "stdout",
       "text": [
        "\n",
        "         Current function value: 0.693030\n",
        "         Iterations 3\n",
        "Optimization terminated successfully.\n",
        "         Current function value: 0.692898\n",
        "         Iterations 4\n",
        "Optimization terminated successfully.\n",
        "         Current function value: 0.692972\n",
        "         Iterations 4\n",
        "Optimization terminated successfully."
       ]
      },
      {
       "output_type": "stream",
       "stream": "stdout",
       "text": [
        "\n",
        "         Current function value: 0.693000\n",
        "         Iterations 4\n",
        "Optimization terminated successfully.\n",
        "         Current function value: 0.693013\n",
        "         Iterations 4\n",
        "Optimization terminated successfully.\n",
        "         Current function value: 0.693013\n",
        "         Iterations 4\n",
        "Optimization terminated successfully."
       ]
      },
      {
       "output_type": "stream",
       "stream": "stdout",
       "text": [
        "\n",
        "         Current function value: 0.692973\n",
        "         Iterations 4\n",
        "Optimization terminated successfully.\n",
        "         Current function value: 0.692931\n",
        "         Iterations 4\n",
        "Optimization terminated successfully.\n",
        "         Current function value: 0.692879\n",
        "         Iterations 4\n",
        "Optimization terminated successfully."
       ]
      },
      {
       "output_type": "stream",
       "stream": "stdout",
       "text": [
        "\n",
        "         Current function value: 0.692983\n",
        "         Iterations 4\n",
        "Optimization terminated successfully.\n",
        "         Current function value: 0.693028\n",
        "         Iterations 3\n",
        "Optimization terminated successfully.\n",
        "         Current function value: 0.692904\n",
        "         Iterations 4\n",
        "Optimization terminated successfully.\n",
        "         Current function value: 0.693028\n",
        "         Iterations 3\n",
        "Optimization terminated successfully."
       ]
      },
      {
       "output_type": "stream",
       "stream": "stdout",
       "text": [
        "\n",
        "         Current function value: 0.692898\n",
        "         Iterations 4\n",
        "Optimization terminated successfully.\n",
        "         Current function value: 0.692972\n",
        "         Iterations 4\n",
        "Optimization terminated successfully.\n",
        "         Current function value: 0.693000\n",
        "         Iterations 4\n",
        "Optimization terminated successfully."
       ]
      },
      {
       "output_type": "stream",
       "stream": "stdout",
       "text": [
        "\n",
        "         Current function value: 0.693013\n",
        "         Iterations 4\n",
        "Optimization terminated successfully.\n",
        "         Current function value: 0.693013\n",
        "         Iterations 4\n",
        "Optimization terminated successfully.\n",
        "         Current function value: 0.693008\n",
        "         Iterations 3\n",
        "Optimization terminated successfully."
       ]
      },
      {
       "output_type": "stream",
       "stream": "stdout",
       "text": [
        "\n",
        "         Current function value: 0.693026\n",
        "         Iterations 3\n",
        "Optimization terminated successfully.\n",
        "         Current function value: 0.693030\n",
        "         Iterations 3\n",
        "Optimization terminated successfully.\n",
        "         Current function value: 0.693023\n",
        "         Iterations 3\n",
        "Optimization terminated successfully.\n",
        "         Current function value: 0.693030\n",
        "         Iterations 3\n",
        "Optimization terminated successfully."
       ]
      },
      {
       "output_type": "stream",
       "stream": "stdout",
       "text": [
        "\n",
        "         Current function value: 0.692960\n",
        "         Iterations 3\n",
        "Optimization terminated successfully.\n",
        "         Current function value: 0.693025\n",
        "         Iterations 3\n",
        "Optimization terminated successfully.\n",
        "         Current function value: 0.693019\n",
        "         Iterations 3\n",
        "Optimization terminated successfully.\n",
        "         Current function value: 0.693023\n",
        "         Iterations 3\n",
        "Optimization terminated successfully."
       ]
      },
      {
       "output_type": "stream",
       "stream": "stdout",
       "text": [
        "\n",
        "         Current function value: 0.693002\n",
        "         Iterations 4\n",
        "Optimization terminated successfully.\n",
        "         Current function value: 0.692946\n",
        "         Iterations 5\n",
        "Optimization terminated successfully.\n",
        "         Current function value: 0.693021\n",
        "         Iterations 3\n",
        "Optimization terminated successfully."
       ]
      },
      {
       "output_type": "stream",
       "stream": "stdout",
       "text": [
        "\n",
        "         Current function value: 0.693029\n",
        "         Iterations 3\n",
        "Optimization terminated successfully.\n",
        "         Current function value: 0.693030\n",
        "         Iterations 3\n",
        "Optimization terminated successfully.\n",
        "         Current function value: 0.693029\n",
        "         Iterations 3\n",
        "Optimization terminated successfully.\n",
        "         Current function value: 0.693015\n",
        "         Iterations 3\n",
        "Optimization terminated successfully."
       ]
      },
      {
       "output_type": "stream",
       "stream": "stdout",
       "text": [
        "\n",
        "         Current function value: 0.692975\n",
        "         Iterations 3\n",
        "Optimization terminated successfully.\n",
        "         Current function value: 0.693028\n",
        "         Iterations 3\n",
        "Optimization terminated successfully.\n",
        "         Current function value: 0.693019\n",
        "         Iterations 3\n",
        "Optimization terminated successfully.\n",
        "         Current function value: 0.693023\n",
        "         Iterations 3\n",
        "Optimization terminated successfully."
       ]
      },
      {
       "output_type": "stream",
       "stream": "stdout",
       "text": [
        "\n",
        "         Current function value: 0.693002\n",
        "         Iterations 4\n",
        "Optimization terminated successfully.\n",
        "         Current function value: 0.692946\n",
        "         Iterations 5\n",
        "Optimization terminated successfully.\n",
        "         Current function value: 0.692998\n",
        "         Iterations 3\n",
        "Optimization terminated successfully."
       ]
      },
      {
       "output_type": "stream",
       "stream": "stdout",
       "text": [
        "\n",
        "         Current function value: 0.693008\n",
        "         Iterations 3\n",
        "Optimization terminated successfully.\n",
        "         Current function value: 0.693030\n",
        "         Iterations 3\n",
        "Optimization terminated successfully.\n",
        "         Current function value: 0.693027\n",
        "         Iterations 3\n",
        "Optimization terminated successfully.\n",
        "         Current function value: 0.693020\n",
        "         Iterations 3\n",
        "Optimization terminated successfully."
       ]
      },
      {
       "output_type": "stream",
       "stream": "stdout",
       "text": [
        "\n",
        "         Current function value: 0.692975\n",
        "         Iterations 3\n",
        "Optimization terminated successfully.\n",
        "         Current function value: 0.693026\n",
        "         Iterations 3\n",
        "Optimization terminated successfully.\n",
        "         Current function value: 0.693015\n",
        "         Iterations 3\n",
        "Optimization terminated successfully."
       ]
      },
      {
       "output_type": "stream",
       "stream": "stdout",
       "text": [
        "\n",
        "         Current function value: 0.693016\n",
        "         Iterations 4\n",
        "Optimization terminated successfully.\n",
        "         Current function value: 0.693002\n",
        "         Iterations 4\n",
        "Optimization terminated successfully.\n",
        "         Current function value: 0.692946\n",
        "         Iterations 5\n",
        "Optimization terminated successfully."
       ]
      },
      {
       "output_type": "stream",
       "stream": "stdout",
       "text": [
        "\n",
        "         Current function value: 0.692956\n",
        "         Iterations 4\n",
        "Optimization terminated successfully.\n",
        "         Current function value: 0.692956\n",
        "         Iterations 4\n",
        "Optimization terminated successfully.\n",
        "         Current function value: 0.692958\n",
        "         Iterations 4\n",
        "Optimization terminated successfully."
       ]
      },
      {
       "output_type": "stream",
       "stream": "stdout",
       "text": [
        "\n",
        "         Current function value: 0.693012\n",
        "         Iterations 3\n",
        "Optimization terminated successfully.\n",
        "         Current function value: 0.692956\n",
        "         Iterations 4\n",
        "Optimization terminated successfully.\n",
        "         Current function value: 0.692938\n",
        "         Iterations 3\n",
        "Optimization terminated successfully."
       ]
      },
      {
       "output_type": "stream",
       "stream": "stdout",
       "text": [
        "\n",
        "         Current function value: 0.692918\n",
        "         Iterations 3\n",
        "Optimization terminated successfully.\n",
        "         Current function value: 0.692923\n",
        "         Iterations 3\n",
        "Optimization terminated successfully."
       ]
      },
      {
       "output_type": "stream",
       "stream": "stdout",
       "text": [
        "\n",
        "         Current function value: 0.693017\n",
        "         Iterations 3\n",
        "Optimization terminated successfully.\n",
        "         Current function value: 0.693055\n",
        "         Iterations 3\n",
        "Optimization terminated successfully.\n",
        "         Current function value: 0.692796\n",
        "         Iterations 3\n",
        "Optimization terminated successfully."
       ]
      },
      {
       "output_type": "stream",
       "stream": "stdout",
       "text": [
        "\n",
        "         Current function value: 0.693021\n",
        "         Iterations 3\n",
        "Optimization terminated successfully.\n",
        "         Current function value: 0.692997\n",
        "         Iterations 3\n",
        "Optimization terminated successfully.\n",
        "         Current function value: 0.692802\n",
        "         Iterations 3\n",
        "Optimization terminated successfully.\n",
        "         Current function value: 0.693013\n",
        "         Iterations 3\n",
        "Optimization terminated successfully."
       ]
      },
      {
       "output_type": "stream",
       "stream": "stdout",
       "text": [
        "\n",
        "         Current function value: 0.692952\n",
        "         Iterations 3\n",
        "Optimization terminated successfully.\n",
        "         Current function value: 0.692872\n",
        "         Iterations 3\n",
        "Optimization terminated successfully.\n",
        "         Current function value: 0.693018\n",
        "         Iterations 3\n",
        "Optimization terminated successfully.\n",
        "         Current function value: 0.693070\n",
        "         Iterations 3\n",
        "Optimization terminated successfully."
       ]
      },
      {
       "output_type": "stream",
       "stream": "stdout",
       "text": [
        "\n",
        "         Current function value: 0.692726\n",
        "         Iterations 3\n",
        "Optimization terminated successfully."
       ]
      },
      {
       "output_type": "stream",
       "stream": "stdout",
       "text": [
        "\n",
        "         Current function value: 0.692873\n",
        "         Iterations 3\n",
        "Optimization terminated successfully.\n",
        "         Current function value: 0.692933\n",
        "         Iterations 3\n",
        "Optimization terminated successfully.\n",
        "         Current function value: 0.692728\n",
        "         Iterations 3\n",
        "Optimization terminated successfully.\n",
        "         Current function value: 0.692775\n",
        "         Iterations 3\n",
        "Optimization terminated successfully."
       ]
      },
      {
       "output_type": "stream",
       "stream": "stdout",
       "text": [
        "\n",
        "         Current function value: 0.693017\n",
        "         Iterations 4\n",
        "Optimization terminated successfully.\n",
        "         Current function value: 0.692894\n",
        "         Iterations 3\n",
        "Optimization terminated successfully.\n",
        "         Current function value: 0.692739\n",
        "         Iterations 4\n",
        "Optimization terminated successfully."
       ]
      },
      {
       "output_type": "stream",
       "stream": "stdout",
       "text": [
        "\n",
        "         Current function value: 0.692755\n",
        "         Iterations 4\n",
        "Optimization terminated successfully.\n",
        "         Current function value: 0.692855\n",
        "         Iterations 4\n",
        "Optimization terminated successfully.\n",
        "         Current function value: 0.692971\n",
        "         Iterations 3\n",
        "Optimization terminated successfully."
       ]
      },
      {
       "output_type": "stream",
       "stream": "stdout",
       "text": [
        "\n",
        "         Current function value: 0.692788\n",
        "         Iterations 3\n",
        "Optimization terminated successfully.\n",
        "         Current function value: 0.693025\n",
        "         Iterations 3\n",
        "Optimization terminated successfully.\n",
        "         Current function value: 0.693006\n",
        "         Iterations 4\n",
        "Optimization terminated successfully."
       ]
      },
      {
       "output_type": "stream",
       "stream": "stdout",
       "text": [
        "\n",
        "         Current function value: 0.693000\n",
        "         Iterations 4\n",
        "Optimization terminated successfully.\n",
        "         Current function value: 0.693028\n",
        "         Iterations 3\n",
        "Optimization terminated successfully.\n",
        "         Current function value: 0.693026\n",
        "         Iterations 3\n",
        "Optimization terminated successfully."
       ]
      },
      {
       "output_type": "stream",
       "stream": "stdout",
       "text": [
        "\n",
        "         Current function value: 0.693012\n",
        "         Iterations 3\n",
        "Optimization terminated successfully.\n",
        "         Current function value: 0.692995\n",
        "         Iterations 3\n",
        "Optimization terminated successfully.\n",
        "         Current function value: 0.692992\n",
        "         Iterations 4\n",
        "Optimization terminated successfully.\n",
        "         Current function value: 0.693030\n",
        "         Iterations 3\n",
        "Optimization terminated successfully."
       ]
      },
      {
       "output_type": "stream",
       "stream": "stdout",
       "text": [
        "\n",
        "         Current function value: 0.693026\n",
        "         Iterations 3\n",
        "Optimization terminated successfully.\n",
        "         Current function value: 0.693024\n",
        "         Iterations 3\n",
        "Optimization terminated successfully.\n",
        "         Current function value: 0.693013\n",
        "         Iterations 4\n",
        "Warning: Maximum number of iterations has been exceeded."
       ]
      },
      {
       "output_type": "stream",
       "stream": "stdout",
       "text": [
        "\n",
        "         Current function value: 0.692882\n",
        "         Iterations: 35\n",
        "Optimization terminated successfully.\n",
        "         Current function value: 0.692882\n",
        "         Iterations 4\n",
        "Optimization terminated successfully.\n",
        "         Current function value: 0.693022\n",
        "         Iterations 3\n",
        "Optimization terminated successfully.\n",
        "         Current function value: 0.693025\n",
        "         Iterations 3\n"
       ]
      },
      {
       "output_type": "stream",
       "stream": "stdout",
       "text": [
        "Optimization terminated successfully.\n",
        "         Current function value: 0.693030\n",
        "         Iterations 3\n",
        "Optimization terminated successfully.\n",
        "         Current function value: 0.693016\n",
        "         Iterations 3\n",
        "Optimization terminated successfully.\n",
        "         Current function value: 0.693012\n",
        "         Iterations 3\n",
        "Optimization terminated successfully.\n",
        "         Current function value: 0.692757\n",
        "         Iterations 4\n",
        "Optimization terminated successfully."
       ]
      },
      {
       "output_type": "stream",
       "stream": "stdout",
       "text": [
        "\n",
        "         Current function value: 0.692886\n",
        "         Iterations 3\n",
        "Optimization terminated successfully.\n",
        "         Current function value: 0.693009\n",
        "         Iterations 3\n",
        "Optimization terminated successfully.\n",
        "         Current function value: 0.692842\n",
        "         Iterations 4\n",
        "Optimization terminated successfully."
       ]
      },
      {
       "output_type": "stream",
       "stream": "stdout",
       "text": [
        "\n",
        "         Current function value: 0.692821\n",
        "         Iterations 4\n",
        "Optimization terminated successfully.\n",
        "         Current function value: 0.693024\n",
        "         Iterations 3\n",
        "Optimization terminated successfully.\n",
        "         Current function value: 0.692711\n",
        "         Iterations 4\n",
        "Optimization terminated successfully."
       ]
      },
      {
       "output_type": "stream",
       "stream": "stdout",
       "text": [
        "\n",
        "         Current function value: 0.692898\n",
        "         Iterations 4\n",
        "Optimization terminated successfully.\n",
        "         Current function value: 0.692881\n",
        "         Iterations 3\n",
        "Optimization terminated successfully.\n",
        "         Current function value: 0.692846\n",
        "         Iterations 3\n",
        "Optimization terminated successfully."
       ]
      },
      {
       "output_type": "stream",
       "stream": "stdout",
       "text": [
        "\n",
        "         Current function value: 0.692786\n",
        "         Iterations 3\n",
        "Optimization terminated successfully.\n",
        "         Current function value: 0.692716\n",
        "         Iterations 4\n",
        "Optimization terminated successfully.\n",
        "         Current function value: 0.692974\n",
        "         Iterations 4\n",
        "Optimization terminated successfully."
       ]
      },
      {
       "output_type": "stream",
       "stream": "stdout",
       "text": [
        "\n",
        "         Current function value: 0.692783\n",
        "         Iterations 4\n",
        "Optimization terminated successfully.\n",
        "         Current function value: 0.692773\n",
        "         Iterations 4\n",
        "Optimization terminated successfully.\n",
        "         Current function value: 0.693027\n",
        "         Iterations 3\n",
        "Optimization terminated successfully."
       ]
      },
      {
       "output_type": "stream",
       "stream": "stdout",
       "text": [
        "\n",
        "         Current function value: 0.693026\n",
        "         Iterations 3\n",
        "Optimization terminated successfully.\n",
        "         Current function value: 0.693014\n",
        "         Iterations 3\n",
        "Optimization terminated successfully.\n",
        "         Current function value: 0.693017\n",
        "         Iterations 3\n",
        "Optimization terminated successfully.\n",
        "         Current function value: 0.692982\n",
        "         Iterations 3\n",
        "Optimization terminated successfully."
       ]
      },
      {
       "output_type": "stream",
       "stream": "stdout",
       "text": [
        "\n",
        "         Current function value: 0.692952\n",
        "         Iterations 3\n",
        "Optimization terminated successfully.\n",
        "         Current function value: 0.692870\n",
        "         Iterations 3\n",
        "Optimization terminated successfully.\n",
        "         Current function value: 0.692958\n",
        "         Iterations 3\n",
        "Optimization terminated successfully.\n",
        "         Current function value: 0.693002\n",
        "         Iterations 3\n",
        "Optimization terminated successfully."
       ]
      },
      {
       "output_type": "stream",
       "stream": "stdout",
       "text": [
        "\n",
        "         Current function value: 0.692963\n",
        "         Iterations 3\n",
        "Optimization terminated successfully.\n",
        "         Current function value: 0.693028\n",
        "         Iterations 3\n",
        "Optimization terminated successfully."
       ]
      },
      {
       "output_type": "stream",
       "stream": "stdout",
       "text": [
        "\n",
        "         Current function value: 0.692970\n",
        "         Iterations 3\n",
        "Optimization terminated successfully.\n",
        "         Current function value: 0.693002\n",
        "         Iterations 3\n",
        "Optimization terminated successfully.\n",
        "         Current function value: 0.693046\n",
        "         Iterations 3\n",
        "Optimization terminated successfully.\n",
        "         Current function value: 0.693004\n",
        "         Iterations 3\n",
        "Optimization terminated successfully."
       ]
      },
      {
       "output_type": "stream",
       "stream": "stdout",
       "text": [
        "\n",
        "         Current function value: 0.693023\n",
        "         Iterations 3\n",
        "Optimization terminated successfully.\n",
        "         Current function value: 0.693025\n",
        "         Iterations 3\n",
        "Optimization terminated successfully.\n",
        "         Current function value: 0.693029\n",
        "         Iterations 3\n",
        "Optimization terminated successfully.\n",
        "         Current function value: 0.692982\n",
        "         Iterations 3\n",
        "Optimization terminated successfully."
       ]
      },
      {
       "output_type": "stream",
       "stream": "stdout",
       "text": [
        "\n",
        "         Current function value: 0.693030\n",
        "         Iterations 3\n",
        "Optimization terminated successfully.\n",
        "         Current function value: 0.692975\n",
        "         Iterations 3\n",
        "Optimization terminated successfully.\n",
        "         Current function value: 0.692298\n",
        "         Iterations 5\n",
        "Warning: Maximum number of iterations has been exceeded."
       ]
      },
      {
       "output_type": "stream",
       "stream": "stdout",
       "text": [
        "\n",
        "         Current function value: 0.692722\n",
        "         Iterations: 35\n",
        "Optimization terminated successfully.\n",
        "         Current function value: 0.693019\n",
        "         Iterations 3\n",
        "Optimization terminated successfully.\n",
        "         Current function value: 0.693017\n",
        "         Iterations 3\n",
        "Optimization terminated successfully.\n",
        "         Current function value: 0.693030\n",
        "         Iterations 3\n",
        "Optimization terminated successfully."
       ]
      },
      {
       "output_type": "stream",
       "stream": "stdout",
       "text": [
        "\n",
        "         Current function value: 0.692786\n",
        "         Iterations 3\n",
        "Optimization terminated successfully.\n",
        "         Current function value: 0.693006\n",
        "         Iterations 3\n",
        "Optimization terminated successfully.\n",
        "         Current function value: 0.692675\n",
        "         Iterations 3\n",
        "Optimization terminated successfully."
       ]
      },
      {
       "output_type": "stream",
       "stream": "stdout",
       "text": [
        "\n",
        "         Current function value: 0.692960\n",
        "         Iterations 3\n",
        "Optimization terminated successfully.\n",
        "         Current function value: 0.692794\n",
        "         Iterations 3\n",
        "Optimization terminated successfully.\n",
        "         Current function value: 0.693029\n",
        "         Iterations 3\n",
        "Optimization terminated successfully."
       ]
      },
      {
       "output_type": "stream",
       "stream": "stdout",
       "text": [
        "\n",
        "         Current function value: 0.692901\n",
        "         Iterations 3\n",
        "Optimization terminated successfully.\n",
        "         Current function value: 0.693038\n",
        "         Iterations 3\n",
        "Optimization terminated successfully."
       ]
      },
      {
       "output_type": "stream",
       "stream": "stdout",
       "text": [
        "\n",
        "         Current function value: 0.693029\n",
        "         Iterations 3\n",
        "Optimization terminated successfully.\n",
        "         Current function value: 0.692888\n",
        "         Iterations 3\n",
        "Optimization terminated successfully.\n",
        "         Current function value: 0.692824\n",
        "         Iterations 3\n",
        "Optimization terminated successfully."
       ]
      },
      {
       "output_type": "stream",
       "stream": "stdout",
       "text": [
        "\n",
        "         Current function value: 0.693020\n",
        "         Iterations 3\n",
        "Optimization terminated successfully.\n",
        "         Current function value: 0.692999\n",
        "         Iterations 3\n",
        "Optimization terminated successfully.\n",
        "         Current function value: 0.692882\n",
        "         Iterations 3\n",
        "Optimization terminated successfully."
       ]
      },
      {
       "output_type": "stream",
       "stream": "stdout",
       "text": [
        "\n",
        "         Current function value: 0.693020\n",
        "         Iterations 3\n",
        "Optimization terminated successfully.\n",
        "         Current function value: 0.692999\n",
        "         Iterations 3\n",
        "Optimization terminated successfully.\n",
        "         Current function value: 0.692882\n",
        "         Iterations 3\n",
        "Optimization terminated successfully."
       ]
      },
      {
       "output_type": "stream",
       "stream": "stdout",
       "text": [
        "\n",
        "         Current function value: 0.693026\n",
        "         Iterations 3\n",
        "Optimization terminated successfully.\n",
        "         Current function value: 0.692896\n",
        "         Iterations 3\n",
        "Optimization terminated successfully.\n",
        "         Current function value: 0.692816\n",
        "         Iterations 3\n",
        "Optimization terminated successfully."
       ]
      },
      {
       "output_type": "stream",
       "stream": "stdout",
       "text": [
        "\n",
        "         Current function value: 0.693022\n",
        "         Iterations 3\n",
        "Optimization terminated successfully.\n",
        "         Current function value: 0.693001\n",
        "         Iterations 4\n",
        "Optimization terminated successfully.\n",
        "         Current function value: 0.692935\n",
        "         Iterations 4\n",
        "Optimization terminated successfully.\n",
        "         Current function value: 0.692812\n",
        "         Iterations 4\n",
        "Optimization terminated successfully."
       ]
      },
      {
       "output_type": "stream",
       "stream": "stdout",
       "text": [
        "\n",
        "         Current function value: 0.693027\n",
        "         Iterations 3\n",
        "Optimization terminated successfully.\n",
        "         Current function value: 0.692896\n",
        "         Iterations 4\n",
        "Optimization terminated successfully.\n",
        "         Current function value: 0.692945\n",
        "         Iterations 4\n",
        "Optimization terminated successfully."
       ]
      },
      {
       "output_type": "stream",
       "stream": "stdout",
       "text": [
        "\n",
        "         Current function value: 0.692921\n",
        "         Iterations 4\n",
        "Optimization terminated successfully.\n",
        "         Current function value: 0.692921\n",
        "         Iterations 4\n",
        "Optimization terminated successfully.\n",
        "         Current function value: 0.693030\n",
        "         Iterations 3\n",
        "Optimization terminated successfully."
       ]
      },
      {
       "output_type": "stream",
       "stream": "stdout",
       "text": [
        "\n",
        "         Current function value: 0.693030\n",
        "         Iterations 3\n",
        "Optimization terminated successfully.\n",
        "         Current function value: 0.693003\n",
        "         Iterations 4\n",
        "Optimization terminated successfully.\n",
        "         Current function value: 0.693019\n",
        "         Iterations 3\n",
        "Optimization terminated successfully."
       ]
      },
      {
       "output_type": "stream",
       "stream": "stdout",
       "text": [
        "\n",
        "         Current function value: 0.693019\n",
        "         Iterations 3\n",
        "Optimization terminated successfully.\n",
        "         Current function value: 0.693019\n",
        "         Iterations 3\n",
        "Optimization terminated successfully.\n",
        "         Current function value: 0.693017\n",
        "         Iterations 3\n",
        "Optimization terminated successfully.\n",
        "         Current function value: 0.693030\n",
        "         Iterations 3\n",
        "Optimization terminated successfully."
       ]
      },
      {
       "output_type": "stream",
       "stream": "stdout",
       "text": [
        "\n",
        "         Current function value: 0.693029\n",
        "         Iterations 3\n",
        "Optimization terminated successfully.\n",
        "         Current function value: 0.693030\n",
        "         Iterations 3\n",
        "Optimization terminated successfully.\n",
        "         Current function value: 0.693030\n",
        "         Iterations 3\n",
        "Optimization terminated successfully.\n",
        "         Current function value: 0.693030\n",
        "         Iterations 3\n",
        "Optimization terminated successfully."
       ]
      },
      {
       "output_type": "stream",
       "stream": "stdout",
       "text": [
        "\n",
        "         Current function value: 0.693018\n",
        "         Iterations 3\n",
        "Optimization terminated successfully.\n",
        "         Current function value: 0.693029\n",
        "         Iterations 3\n",
        "Optimization terminated successfully.\n",
        "         Current function value: 0.693027\n",
        "         Iterations 3\n",
        "Optimization terminated successfully.\n",
        "         Current function value: 0.693027\n",
        "         Iterations 3\n",
        "Optimization terminated successfully."
       ]
      },
      {
       "output_type": "stream",
       "stream": "stdout",
       "text": [
        "\n",
        "         Current function value: 0.693020\n",
        "         Iterations 3\n",
        "Optimization terminated successfully.\n",
        "         Current function value: 0.693020\n",
        "         Iterations 3\n",
        "Optimization terminated successfully.\n",
        "         Current function value: 0.693030\n",
        "         Iterations 3\n",
        "Optimization terminated successfully.\n",
        "         Current function value: 0.692975\n",
        "         Iterations 3\n",
        "Optimization terminated successfully."
       ]
      },
      {
       "output_type": "stream",
       "stream": "stdout",
       "text": [
        "\n",
        "         Current function value: 0.692948\n",
        "         Iterations 4\n",
        "Optimization terminated successfully.\n",
        "         Current function value: 0.693012\n",
        "         Iterations 4\n",
        "Optimization terminated successfully.\n",
        "         Current function value: 0.693012\n",
        "         Iterations 4\n",
        "Optimization terminated successfully."
       ]
      },
      {
       "output_type": "stream",
       "stream": "stdout",
       "text": [
        "\n",
        "         Current function value: 0.692817\n",
        "         Iterations 5\n",
        "Optimization terminated successfully.\n",
        "         Current function value: 0.693029\n",
        "         Iterations 3\n",
        "Optimization terminated successfully.\n",
        "         Current function value: 0.692915\n",
        "         Iterations 4\n",
        "Optimization terminated successfully."
       ]
      },
      {
       "output_type": "stream",
       "stream": "stdout",
       "text": [
        "\n",
        "         Current function value: 0.692863\n",
        "         Iterations 5\n",
        "Optimization terminated successfully.\n",
        "         Current function value: 0.692939\n",
        "         Iterations 4\n",
        "Optimization terminated successfully.\n",
        "         Current function value: 0.693002\n",
        "         Iterations 4\n",
        "Optimization terminated successfully."
       ]
      },
      {
       "output_type": "stream",
       "stream": "stdout",
       "text": [
        "\n",
        "         Current function value: 0.693002\n",
        "         Iterations 4\n",
        "Optimization terminated successfully.\n",
        "         Current function value: 0.692940\n",
        "         Iterations 4\n",
        "Optimization terminated successfully.\n",
        "         Current function value: 0.693022\n",
        "         Iterations 3\n",
        "Optimization terminated successfully."
       ]
      },
      {
       "output_type": "stream",
       "stream": "stdout",
       "text": [
        "\n",
        "         Current function value: 0.692998\n",
        "         Iterations 3\n",
        "Optimization terminated successfully.\n",
        "         Current function value: 0.692888\n",
        "         Iterations 4\n",
        "Optimization terminated successfully.\n",
        "         Current function value: 0.693021\n",
        "         Iterations 3\n",
        "Optimization terminated successfully."
       ]
      },
      {
       "output_type": "stream",
       "stream": "stdout",
       "text": [
        "\n",
        "         Current function value: 0.693002\n",
        "         Iterations 4\n",
        "Optimization terminated successfully.\n",
        "         Current function value: 0.693003\n",
        "         Iterations 4\n",
        "Optimization terminated successfully.\n",
        "         Current function value: 0.692973\n",
        "         Iterations 4\n",
        "Optimization terminated successfully."
       ]
      },
      {
       "output_type": "stream",
       "stream": "stdout",
       "text": [
        "\n",
        "         Current function value: 0.693024\n",
        "         Iterations 3\n",
        "Optimization terminated successfully.\n",
        "         Current function value: 0.693018\n",
        "         Iterations 4\n",
        "Optimization terminated successfully.\n",
        "         Current function value: 0.693022\n",
        "         Iterations 3\n",
        "Optimization terminated successfully."
       ]
      },
      {
       "output_type": "stream",
       "stream": "stdout",
       "text": [
        "\n",
        "         Current function value: 0.692998\n",
        "         Iterations 3\n",
        "Optimization terminated successfully.\n",
        "         Current function value: 0.692888\n",
        "         Iterations 4\n",
        "Optimization terminated successfully.\n",
        "         Current function value: 0.693021\n",
        "         Iterations 3\n",
        "Optimization terminated successfully."
       ]
      },
      {
       "output_type": "stream",
       "stream": "stdout",
       "text": [
        "\n",
        "         Current function value: 0.693002\n",
        "         Iterations 4\n",
        "Optimization terminated successfully.\n",
        "         Current function value: 0.693003\n",
        "         Iterations 4\n",
        "Optimization terminated successfully.\n",
        "         Current function value: 0.692973\n",
        "         Iterations 4\n",
        "Optimization terminated successfully."
       ]
      },
      {
       "output_type": "stream",
       "stream": "stdout",
       "text": [
        "\n",
        "         Current function value: 0.693024\n",
        "         Iterations 3\n",
        "Optimization terminated successfully.\n",
        "         Current function value: 0.693018\n",
        "         Iterations 4\n",
        "Optimization terminated successfully.\n",
        "         Current function value: 0.693001\n",
        "         Iterations 4\n",
        "Optimization terminated successfully."
       ]
      },
      {
       "output_type": "stream",
       "stream": "stdout",
       "text": [
        "\n",
        "         Current function value: 0.693020\n",
        "         Iterations 4\n",
        "Optimization terminated successfully.\n",
        "         Current function value: 0.692962\n",
        "         Iterations 4\n",
        "Optimization terminated successfully.\n",
        "         Current function value: 0.692847\n",
        "         Iterations 5\n",
        "Optimization terminated successfully."
       ]
      },
      {
       "output_type": "stream",
       "stream": "stdout",
       "text": [
        "\n",
        "         Current function value: 0.692953\n",
        "         Iterations 4\n",
        "Optimization terminated successfully.\n",
        "         Current function value: 0.692978\n",
        "         Iterations 4\n",
        "Optimization terminated successfully.\n",
        "         Current function value: 0.692973\n",
        "         Iterations 4\n",
        "Optimization terminated successfully."
       ]
      },
      {
       "output_type": "stream",
       "stream": "stdout",
       "text": [
        "\n",
        "         Current function value: 0.692987\n",
        "         Iterations 4\n",
        "Optimization terminated successfully.\n",
        "         Current function value: 0.693009\n",
        "         Iterations 3\n",
        "Optimization terminated successfully."
       ]
      },
      {
       "output_type": "stream",
       "stream": "stdout",
       "text": [
        "\n",
        "         Current function value: 0.692993\n",
        "         Iterations 4\n",
        "Optimization terminated successfully.\n",
        "         Current function value: 0.693027\n",
        "         Iterations 3\n",
        "Warning: Maximum number of iterations has been exceeded."
       ]
      },
      {
       "output_type": "stream",
       "stream": "stdout",
       "text": [
        "\n",
        "         Current function value: 0.692956\n",
        "         Iterations: 35\n",
        "Optimization terminated successfully.\n",
        "         Current function value: 0.693019\n",
        "         Iterations 3\n",
        "Optimization terminated successfully.\n",
        "         Current function value: 0.692823\n",
        "         Iterations 3\n",
        "Optimization terminated successfully.\n"
       ]
      },
      {
       "output_type": "stream",
       "stream": "stdout",
       "text": [
        "         Current function value: 0.693007\n",
        "         Iterations 3\n",
        "Optimization terminated successfully.\n",
        "         Current function value: 0.693011\n",
        "         Iterations 3\n",
        "Optimization terminated successfully.\n",
        "         Current function value: 0.693001\n",
        "         Iterations 3\n",
        "Optimization terminated successfully.\n",
        "         Current function value: 0.692840\n",
        "         Iterations 4\n",
        "Optimization terminated successfully."
       ]
      },
      {
       "output_type": "stream",
       "stream": "stdout",
       "text": [
        "\n",
        "         Current function value: 0.692718\n",
        "         Iterations 4\n",
        "Optimization terminated successfully.\n",
        "         Current function value: 0.692504\n",
        "         Iterations 4\n",
        "Optimization terminated successfully."
       ]
      },
      {
       "output_type": "stream",
       "stream": "stdout",
       "text": [
        "\n",
        "         Current function value: 0.692809\n",
        "         Iterations 4\n",
        "Optimization terminated successfully.\n",
        "         Current function value: 0.693028\n",
        "         Iterations 3\n",
        "Optimization terminated successfully.\n",
        "         Current function value: 0.693026\n",
        "         Iterations 4\n",
        "Optimization terminated successfully."
       ]
      },
      {
       "output_type": "stream",
       "stream": "stdout",
       "text": [
        "\n",
        "         Current function value: 0.693005\n",
        "         Iterations 4\n",
        "Optimization terminated successfully.\n",
        "         Current function value: 0.693024\n",
        "         Iterations 4\n",
        "Optimization terminated successfully.\n",
        "         Current function value: 0.693026\n",
        "         Iterations 4\n",
        "Optimization terminated successfully."
       ]
      },
      {
       "output_type": "stream",
       "stream": "stdout",
       "text": [
        "\n",
        "         Current function value: 0.693026\n",
        "         Iterations 4\n",
        "Optimization terminated successfully.\n",
        "         Current function value: 0.693026\n",
        "         Iterations 4\n",
        "Optimization terminated successfully.\n",
        "         Current function value: 0.693026\n",
        "         Iterations 4\n",
        "Optimization terminated successfully."
       ]
      },
      {
       "output_type": "stream",
       "stream": "stdout",
       "text": [
        "\n",
        "         Current function value: 0.693026\n",
        "         Iterations 4\n",
        "Optimization terminated successfully.\n",
        "         Current function value: 0.693026\n",
        "         Iterations 4\n",
        "Optimization terminated successfully.\n",
        "         Current function value: 0.693026\n",
        "         Iterations 4\n",
        "Optimization terminated successfully."
       ]
      },
      {
       "output_type": "stream",
       "stream": "stdout",
       "text": [
        "\n",
        "         Current function value: 0.693026\n",
        "         Iterations 4\n",
        "Optimization terminated successfully.\n",
        "         Current function value: 0.693026\n",
        "         Iterations 4\n",
        "Optimization terminated successfully.\n",
        "         Current function value: 0.692697\n",
        "         Iterations 5\n",
        "Optimization terminated successfully."
       ]
      },
      {
       "output_type": "stream",
       "stream": "stdout",
       "text": [
        "\n",
        "         Current function value: 0.693009\n",
        "         Iterations 3\n",
        "Optimization terminated successfully.\n",
        "         Current function value: 0.693012\n",
        "         Iterations 3\n",
        "Optimization terminated successfully.\n",
        "         Current function value: 0.693006\n",
        "         Iterations 3\n",
        "Optimization terminated successfully.\n",
        "         Current function value: 0.692907\n",
        "         Iterations 3\n",
        "Optimization terminated successfully."
       ]
      },
      {
       "output_type": "stream",
       "stream": "stdout",
       "text": [
        "\n",
        "         Current function value: 0.693028\n",
        "         Iterations 3\n",
        "Optimization terminated successfully.\n",
        "         Current function value: 0.693016\n",
        "         Iterations 4\n",
        "Optimization terminated successfully.\n",
        "         Current function value: 0.693026\n",
        "         Iterations 3\n",
        "Optimization terminated successfully."
       ]
      },
      {
       "output_type": "stream",
       "stream": "stdout",
       "text": [
        "\n",
        "         Current function value: 0.693030\n",
        "         Iterations 3\n",
        "Optimization terminated successfully.\n",
        "         Current function value: 0.692972\n",
        "         Iterations 3\n",
        "Optimization terminated successfully.\n",
        "         Current function value: 0.692948\n",
        "         Iterations 3\n",
        "Optimization terminated successfully.\n",
        "         Current function value: 0.693014\n",
        "         Iterations 3\n",
        "Optimization terminated successfully."
       ]
      },
      {
       "output_type": "stream",
       "stream": "stdout",
       "text": [
        "\n",
        "         Current function value: 0.693030\n",
        "         Iterations 3\n",
        "Optimization terminated successfully.\n",
        "         Current function value: 0.693030\n",
        "         Iterations 3\n",
        "Optimization terminated successfully.\n",
        "         Current function value: 0.692816\n",
        "         Iterations 4\n",
        "Optimization terminated successfully."
       ]
      },
      {
       "output_type": "stream",
       "stream": "stdout",
       "text": [
        "\n",
        "         Current function value: 0.693021\n",
        "         Iterations 3\n",
        "Optimization terminated successfully.\n",
        "         Current function value: 0.693015\n",
        "         Iterations 3\n",
        "Optimization terminated successfully.\n",
        "         Current function value: 0.693000\n",
        "         Iterations 3\n",
        "Optimization terminated successfully.\n",
        "         Current function value: 0.693026\n",
        "         Iterations 3\n",
        "Optimization terminated successfully."
       ]
      },
      {
       "output_type": "stream",
       "stream": "stdout",
       "text": [
        "\n",
        "         Current function value: 0.693019\n",
        "         Iterations 3\n",
        "Optimization terminated successfully.\n",
        "         Current function value: 0.693016\n",
        "         Iterations 3\n",
        "Optimization terminated successfully.\n",
        "         Current function value: 0.693016\n",
        "         Iterations 3\n",
        "Optimization terminated successfully.\n",
        "         Current function value: 0.692979\n",
        "         Iterations 3\n"
       ]
      },
      {
       "output_type": "stream",
       "stream": "stderr",
       "text": [
        "/home/downey/anaconda/lib/python2.7/site-packages/numpy/core/_methods.py:79: RuntimeWarning: Degrees of freedom <= 0 for slice\n",
        "  warnings.warn(\"Degrees of freedom <= 0 for slice\", RuntimeWarning)\n"
       ]
      }
     ],
     "prompt_number": 5
    },
    {
     "cell_type": "markdown",
     "metadata": {},
     "source": [
      "Here are the 30 variables that yield the highest pseudo-$R^2$ value."
     ]
    },
    {
     "cell_type": "code",
     "collapsed": false,
     "input": [
      "regression.MiningReport(variables)"
     ],
     "language": "python",
     "metadata": {},
     "outputs": [
      {
       "output_type": "stream",
       "stream": "stdout",
       "text": [
        "totalwgt_lb 0.00804663447664\n",
        "birthwgt_lb 0.00783469107423 BD-3 BIRTHWEIGHT IN POUNDS - 1ST BABY FROM THIS PREGNANCY\n",
        "lbw1 0.00110496535201 LOW BIRTHWEIGHT - BABY 1\n",
        "nplaced 0.00107176328366 # OF R'S BIO CHILDREN SHE PLACED FOR ADOPTION (BASED ON BPA)\n",
        "constat3 0.00107097717817 3RD PRIORITY CODE FOR CURRENT CONTRACEPTIVE STATUS\n",
        "fmarout5 0.00084452858083 FORMAL MARITAL STATUS AT PREGNANCY OUTCOME\n",
        "frsteatd 0.000816585752415 AGE (IN MOS) WHEN 1ST SUPPLEMENTED - 1ST FROM THIS PREG\n",
        "rmarout6 0.000793145080913 INFORMAL MARITAL STATUS AT PREGNANCY OUTCOME - 6 CATEGORIES\n",
        "infever 0.000772731734124 EVER USED INFERTILITY SERVICES OF ANY KIND\n",
        "splstwk1 0.000727710547487 IF-1 H/P DOING WHAT LAST WEEK (EMPLOYMENT STATUS) 1ST MENTION\n",
        "nummult41 0.000703107395067 NUMBER OF METHODS REPORTED IN (MAY 2002)\n",
        "nummult34 0.000688515665856 NUMBER OF METHODS REPORTED IN (OCT 2001)\n",
        "outcom02 0.00067518482234 OUTCOME OF PREGNANCY - 2ND\n",
        "pmarpreg 0.000661046520124 WHETHER PREGNANCY ENDED BEFORE R'S 1ST MARRIAGE (PREMARITALLY)\n",
        "brnout_r 0.000621690333737 IB-8 R BORN OUTSIDE OF US\n",
        "brnout 0.000621690333737 IB-8 R BORN OUTSIDE OF US\n",
        "nummult17 0.000600411677943 NUMBER OF METHODS REPORTED IN (MAY 2000)\n",
        "educmom 0.000587560821584 MOTHER'S (OR MOTHER-FIGURE'S) EDUCATION\n",
        "marout03 0.000573537821728 FORMAL MARITAL STATUS WHEN PREGNANCY ENDED - 3RD\n",
        "numfirsm1 0.00057283427147 TOTAL NUMBER OF RESPONSES IN EB-1 FIRSMETH - PRESCRIPTION METHODS\n",
        "nummult43 0.000569081526666 NUMBER OF METHODS REPORTED IN (JUL 2002)\n",
        "nummult16 0.000568970901225 NUMBER OF METHODS REPORTED IN (APR 2000)\n",
        "nummult39 0.000554509562327 NUMBER OF METHODS REPORTED IN (MAR 2002)\n",
        "agepreg_i 0.000547750841445 AGEPREG IMPUTATION FLAG\n",
        "nummult35 0.000547536020922 NUMBER OF METHODS REPORTED IN (NOV 2001)\n",
        "lbw1_i 0.000540448123631 LBW1 IMPUTATION FLAG\n",
        "coh1dur 0.000535508320214 DURATION (IN MONTHS) OF R'S FIRST COHABITATION\n",
        "births5 0.000517297177993 NUMBER OF LIVE BIRTHS IN LAST 5 YEARS\n",
        "p1yhsage 0.000514263746852 CI-6 PARTNER'S AGE AT 1ST SEX-1ST REPORTED PARTNER IN LAST 12 MOS\n",
        "abort12 0.000505840942107 FA-3B RECEIVED ABORTION LAST 12 MONTHS\n"
       ]
      }
     ],
     "prompt_number": 6
    },
    {
     "cell_type": "markdown",
     "metadata": {},
     "source": [
      "Eliminating variables that are not known during pregnancy and others that are fishy for various reasons, here's the best model I could find:"
     ]
    },
    {
     "cell_type": "code",
     "collapsed": false,
     "input": [
      "formula='boy ~ agepreg + fmarout5==5 + infever==1'\n",
      "model = smf.logit(formula, data=join)\n",
      "results = model.fit()\n",
      "results.summary() "
     ],
     "language": "python",
     "metadata": {},
     "outputs": [
      {
       "output_type": "stream",
       "stream": "stdout",
       "text": [
        "Optimization terminated successfully.\n",
        "         Current function value: 0.691983\n",
        "         Iterations 4\n"
       ]
      },
      {
       "html": [
        "<table class=\"simpletable\">\n",
        "<caption>Logit Regression Results</caption>\n",
        "<tr>\n",
        "  <th>Dep. Variable:</th>        <td>boy</td>       <th>  No. Observations:  </th>  <td>  9148</td>  \n",
        "</tr>\n",
        "<tr>\n",
        "  <th>Model:</th>               <td>Logit</td>      <th>  Df Residuals:      </th>  <td>  9144</td>  \n",
        "</tr>\n",
        "<tr>\n",
        "  <th>Method:</th>               <td>MLE</td>       <th>  Df Model:          </th>  <td>     3</td>  \n",
        "</tr>\n",
        "<tr>\n",
        "  <th>Date:</th>          <td>Mon, 18 Aug 2014</td> <th>  Pseudo R-squ.:     </th> <td>0.001525</td> \n",
        "</tr>\n",
        "<tr>\n",
        "  <th>Time:</th>              <td>15:53:47</td>     <th>  Log-Likelihood:    </th> <td> -6330.3</td> \n",
        "</tr>\n",
        "<tr>\n",
        "  <th>converged:</th>           <td>True</td>       <th>  LL-Null:           </th> <td> -6339.9</td> \n",
        "</tr>\n",
        "<tr>\n",
        "  <th> </th>                      <td> </td>        <th>  LLR p-value:       </th> <td>0.0002326</td>\n",
        "</tr>\n",
        "</table>\n",
        "<table class=\"simpletable\">\n",
        "<tr>\n",
        "            <td></td>               <th>coef</th>     <th>std err</th>      <th>z</th>      <th>P>|z|</th> <th>[95.0% Conf. Int.]</th> \n",
        "</tr>\n",
        "<tr>\n",
        "  <th>Intercept</th>             <td>   -0.1863</td> <td>    0.116</td> <td>   -1.606</td> <td> 0.108</td> <td>   -0.414     0.041</td>\n",
        "</tr>\n",
        "<tr>\n",
        "  <th>fmarout5 == 5[T.True]</th> <td>    0.1493</td> <td>    0.048</td> <td>    3.087</td> <td> 0.002</td> <td>    0.054     0.244</td>\n",
        "</tr>\n",
        "<tr>\n",
        "  <th>infever == 1[T.True]</th>  <td>    0.2096</td> <td>    0.063</td> <td>    3.304</td> <td> 0.001</td> <td>    0.085     0.334</td>\n",
        "</tr>\n",
        "<tr>\n",
        "  <th>agepreg</th>               <td>    0.0053</td> <td>    0.004</td> <td>    1.252</td> <td> 0.211</td> <td>   -0.003     0.014</td>\n",
        "</tr>\n",
        "</table>"
       ],
       "metadata": {},
       "output_type": "pyout",
       "prompt_number": 7,
       "text": [
        "<class 'statsmodels.iolib.summary.Summary'>\n",
        "\"\"\"\n",
        "                           Logit Regression Results                           \n",
        "==============================================================================\n",
        "Dep. Variable:                    boy   No. Observations:                 9148\n",
        "Model:                          Logit   Df Residuals:                     9144\n",
        "Method:                           MLE   Df Model:                            3\n",
        "Date:                Mon, 18 Aug 2014   Pseudo R-squ.:                0.001525\n",
        "Time:                        15:53:47   Log-Likelihood:                -6330.3\n",
        "converged:                       True   LL-Null:                       -6339.9\n",
        "                                        LLR p-value:                 0.0002326\n",
        "=========================================================================================\n",
        "                            coef    std err          z      P>|z|      [95.0% Conf. Int.]\n",
        "-----------------------------------------------------------------------------------------\n",
        "Intercept                -0.1863      0.116     -1.606      0.108        -0.414     0.041\n",
        "fmarout5 == 5[T.True]     0.1493      0.048      3.087      0.002         0.054     0.244\n",
        "infever == 1[T.True]      0.2096      0.063      3.304      0.001         0.085     0.334\n",
        "agepreg                   0.0053      0.004      1.252      0.211        -0.003     0.014\n",
        "=========================================================================================\n",
        "\"\"\""
       ]
      }
     ],
     "prompt_number": 7
    },
    {
     "cell_type": "markdown",
     "metadata": {},
     "source": [
      "Now let's build a model to predict the respondent's parity (number of babies born alive).  I used a nonlinear model of age.  The age3 term is probably overkill, but I thought I would show that it might not be a crazy choice.  It doesn't have much effect on the predictions."
     ]
    },
    {
     "cell_type": "code",
     "collapsed": false,
     "input": [
      "join.numbabes.replace([97], np.nan, inplace=True)\n",
      "join['age2'] = join.age_r**2\n",
      "join['age3'] = join.age_r**3"
     ],
     "language": "python",
     "metadata": {},
     "outputs": [],
     "prompt_number": 8
    },
    {
     "cell_type": "code",
     "collapsed": false,
     "input": [
      "formula='numbabes ~ age_r + age2 + age3 + C(race) + totincr + educat'\n",
      "model = smf.poisson(formula, data=join)\n",
      "results = model.fit()\n",
      "results.summary() "
     ],
     "language": "python",
     "metadata": {},
     "outputs": [
      {
       "output_type": "stream",
       "stream": "stdout",
       "text": [
        "Optimization terminated successfully.\n",
        "         Current function value: 1.677637\n",
        "         Iterations 7\n"
       ]
      },
      {
       "html": [
        "<table class=\"simpletable\">\n",
        "<caption>Poisson Regression Results</caption>\n",
        "<tr>\n",
        "  <th>Dep. Variable:</th>     <td>numbabes</td>     <th>  No. Observations:  </th>   <td>  9148</td>  \n",
        "</tr>\n",
        "<tr>\n",
        "  <th>Model:</th>              <td>Poisson</td>     <th>  Df Residuals:      </th>   <td>  9140</td>  \n",
        "</tr>\n",
        "<tr>\n",
        "  <th>Method:</th>               <td>MLE</td>       <th>  Df Model:          </th>   <td>     7</td>  \n",
        "</tr>\n",
        "<tr>\n",
        "  <th>Date:</th>          <td>Mon, 18 Aug 2014</td> <th>  Pseudo R-squ.:     </th>   <td>0.03665</td> \n",
        "</tr>\n",
        "<tr>\n",
        "  <th>Time:</th>              <td>15:53:52</td>     <th>  Log-Likelihood:    </th>  <td> -15347.</td> \n",
        "</tr>\n",
        "<tr>\n",
        "  <th>converged:</th>           <td>True</td>       <th>  LL-Null:           </th>  <td> -15931.</td> \n",
        "</tr>\n",
        "<tr>\n",
        "  <th> </th>                      <td> </td>        <th>  LLR p-value:       </th> <td>6.721e-248</td>\n",
        "</tr>\n",
        "</table>\n",
        "<table class=\"simpletable\">\n",
        "<tr>\n",
        "        <td></td>          <th>coef</th>     <th>std err</th>      <th>z</th>      <th>P>|z|</th> <th>[95.0% Conf. Int.]</th> \n",
        "</tr>\n",
        "<tr>\n",
        "  <th>Intercept</th>    <td>   -3.2731</td> <td>    0.719</td> <td>   -4.551</td> <td> 0.000</td> <td>   -4.683    -1.863</td>\n",
        "</tr>\n",
        "<tr>\n",
        "  <th>C(race)[T.2]</th> <td>   -0.1403</td> <td>    0.014</td> <td>   -9.683</td> <td> 0.000</td> <td>   -0.169    -0.112</td>\n",
        "</tr>\n",
        "<tr>\n",
        "  <th>C(race)[T.3]</th> <td>   -0.0959</td> <td>    0.024</td> <td>   -3.957</td> <td> 0.000</td> <td>   -0.143    -0.048</td>\n",
        "</tr>\n",
        "<tr>\n",
        "  <th>age_r</th>        <td>    0.3744</td> <td>    0.069</td> <td>    5.433</td> <td> 0.000</td> <td>    0.239     0.510</td>\n",
        "</tr>\n",
        "<tr>\n",
        "  <th>age2</th>         <td>   -0.0090</td> <td>    0.002</td> <td>   -4.158</td> <td> 0.000</td> <td>   -0.013    -0.005</td>\n",
        "</tr>\n",
        "<tr>\n",
        "  <th>age3</th>         <td>  7.12e-05</td> <td>  2.2e-05</td> <td>    3.237</td> <td> 0.001</td> <td> 2.81e-05     0.000</td>\n",
        "</tr>\n",
        "<tr>\n",
        "  <th>totincr</th>      <td>   -0.0185</td> <td>    0.002</td> <td>   -9.858</td> <td> 0.000</td> <td>   -0.022    -0.015</td>\n",
        "</tr>\n",
        "<tr>\n",
        "  <th>educat</th>       <td>   -0.0463</td> <td>    0.003</td> <td>  -15.988</td> <td> 0.000</td> <td>   -0.052    -0.041</td>\n",
        "</tr>\n",
        "</table>"
       ],
       "metadata": {},
       "output_type": "pyout",
       "prompt_number": 9,
       "text": [
        "<class 'statsmodels.iolib.summary.Summary'>\n",
        "\"\"\"\n",
        "                          Poisson Regression Results                          \n",
        "==============================================================================\n",
        "Dep. Variable:               numbabes   No. Observations:                 9148\n",
        "Model:                        Poisson   Df Residuals:                     9140\n",
        "Method:                           MLE   Df Model:                            7\n",
        "Date:                Mon, 18 Aug 2014   Pseudo R-squ.:                 0.03665\n",
        "Time:                        15:53:52   Log-Likelihood:                -15347.\n",
        "converged:                       True   LL-Null:                       -15931.\n",
        "                                        LLR p-value:                6.721e-248\n",
        "================================================================================\n",
        "                   coef    std err          z      P>|z|      [95.0% Conf. Int.]\n",
        "--------------------------------------------------------------------------------\n",
        "Intercept       -3.2731      0.719     -4.551      0.000        -4.683    -1.863\n",
        "C(race)[T.2]    -0.1403      0.014     -9.683      0.000        -0.169    -0.112\n",
        "C(race)[T.3]    -0.0959      0.024     -3.957      0.000        -0.143    -0.048\n",
        "age_r            0.3744      0.069      5.433      0.000         0.239     0.510\n",
        "age2            -0.0090      0.002     -4.158      0.000        -0.013    -0.005\n",
        "age3           7.12e-05    2.2e-05      3.237      0.001      2.81e-05     0.000\n",
        "totincr         -0.0185      0.002     -9.858      0.000        -0.022    -0.015\n",
        "educat          -0.0463      0.003    -15.988      0.000        -0.052    -0.041\n",
        "================================================================================\n",
        "\"\"\""
       ]
      }
     ],
     "prompt_number": 9
    },
    {
     "cell_type": "markdown",
     "metadata": {},
     "source": [
      "Now we can predict the number of children for a woman who is 35 years old, black, and a college\n",
      "graduate whose annual household income exceeds $75,000"
     ]
    },
    {
     "cell_type": "code",
     "collapsed": false,
     "input": [
      "import pandas\n",
      "columns = ['age_r', 'age2', 'age3', 'race', 'totincr', 'educat']\n",
      "new = pandas.DataFrame([[35, 35**2, 35**3, 1, 14, 16]], columns=columns)\n",
      "results.predict(new)"
     ],
     "language": "python",
     "metadata": {},
     "outputs": [
      {
       "metadata": {},
       "output_type": "pyout",
       "prompt_number": 10,
       "text": [
        "array([ 2.47393019])"
       ]
      }
     ],
     "prompt_number": 10
    },
    {
     "cell_type": "markdown",
     "metadata": {},
     "source": [
      "To predict marital status, here is the best model I found:"
     ]
    },
    {
     "cell_type": "code",
     "collapsed": false,
     "input": [
      "formula='rmarital ~ age_r + age2 + C(race) + totincr + educat'\n",
      "model = smf.mnlogit(formula, data=join)\n",
      "results = model.fit()\n",
      "results.summary() "
     ],
     "language": "python",
     "metadata": {},
     "outputs": [
      {
       "output_type": "stream",
       "stream": "stdout",
       "text": [
        "Optimization terminated successfully.\n",
        "         Current function value: 1.092083\n",
        "         Iterations 8\n"
       ]
      },
      {
       "html": [
        "<table class=\"simpletable\">\n",
        "<caption>MNLogit Regression Results</caption>\n",
        "<tr>\n",
        "  <th>Dep. Variable:</th>     <td>rmarital</td>     <th>  No. Observations:  </th>  <td>  9148</td> \n",
        "</tr>\n",
        "<tr>\n",
        "  <th>Model:</th>              <td>MNLogit</td>     <th>  Df Residuals:      </th>  <td>  9113</td> \n",
        "</tr>\n",
        "<tr>\n",
        "  <th>Method:</th>               <td>MLE</td>       <th>  Df Model:          </th>  <td>    30</td> \n",
        "</tr>\n",
        "<tr>\n",
        "  <th>Date:</th>          <td>Mon, 18 Aug 2014</td> <th>  Pseudo R-squ.:     </th>  <td>0.1661</td> \n",
        "</tr>\n",
        "<tr>\n",
        "  <th>Time:</th>              <td>15:53:56</td>     <th>  Log-Likelihood:    </th> <td> -9990.4</td>\n",
        "</tr>\n",
        "<tr>\n",
        "  <th>converged:</th>           <td>True</td>       <th>  LL-Null:           </th> <td> -11981.</td>\n",
        "</tr>\n",
        "<tr>\n",
        "  <th> </th>                      <td> </td>        <th>  LLR p-value:       </th>  <td> 0.000</td> \n",
        "</tr>\n",
        "</table>\n",
        "<table class=\"simpletable\">\n",
        "<tr>\n",
        "   <th>rmarital=2</th>     <th>coef</th>     <th>std err</th>      <th>z</th>      <th>P>|z|</th> <th>[95.0% Conf. Int.]</th> \n",
        "</tr>\n",
        "<tr>\n",
        "  <th>Intercept</th>    <td>    8.9153</td> <td>    0.792</td> <td>   11.251</td> <td> 0.000</td> <td>    7.362    10.468</td>\n",
        "</tr>\n",
        "<tr>\n",
        "  <th>C(race)[T.2]</th> <td>   -0.9260</td> <td>    0.087</td> <td>  -10.705</td> <td> 0.000</td> <td>   -1.096    -0.756</td>\n",
        "</tr>\n",
        "<tr>\n",
        "  <th>C(race)[T.3]</th> <td>   -0.6335</td> <td>    0.133</td> <td>   -4.747</td> <td> 0.000</td> <td>   -0.895    -0.372</td>\n",
        "</tr>\n",
        "<tr>\n",
        "  <th>age_r</th>        <td>   -0.3567</td> <td>    0.050</td> <td>   -7.132</td> <td> 0.000</td> <td>   -0.455    -0.259</td>\n",
        "</tr>\n",
        "<tr>\n",
        "  <th>age2</th>         <td>    0.0047</td> <td>    0.001</td> <td>    6.054</td> <td> 0.000</td> <td>    0.003     0.006</td>\n",
        "</tr>\n",
        "<tr>\n",
        "  <th>totincr</th>      <td>   -0.1301</td> <td>    0.011</td> <td>  -11.475</td> <td> 0.000</td> <td>   -0.152    -0.108</td>\n",
        "</tr>\n",
        "<tr>\n",
        "  <th>educat</th>       <td>   -0.1940</td> <td>    0.018</td> <td>  -10.534</td> <td> 0.000</td> <td>   -0.230    -0.158</td>\n",
        "</tr>\n",
        "<tr>\n",
        "   <th>rmarital=3</th>     <th>coef</th>     <th>std err</th>      <th>z</th>      <th>P>|z|</th> <th>[95.0% Conf. Int.]</th> \n",
        "</tr>\n",
        "<tr>\n",
        "  <th>Intercept</th>    <td>    2.9927</td> <td>    2.970</td> <td>    1.007</td> <td> 0.314</td> <td>   -2.829     8.815</td>\n",
        "</tr>\n",
        "<tr>\n",
        "  <th>C(race)[T.2]</th> <td>   -0.3963</td> <td>    0.235</td> <td>   -1.685</td> <td> 0.092</td> <td>   -0.857     0.065</td>\n",
        "</tr>\n",
        "<tr>\n",
        "  <th>C(race)[T.3]</th> <td>    0.0650</td> <td>    0.336</td> <td>    0.194</td> <td> 0.846</td> <td>   -0.593     0.723</td>\n",
        "</tr>\n",
        "<tr>\n",
        "  <th>age_r</th>        <td>   -0.3141</td> <td>    0.174</td> <td>   -1.806</td> <td> 0.071</td> <td>   -0.655     0.027</td>\n",
        "</tr>\n",
        "<tr>\n",
        "  <th>age2</th>         <td>    0.0064</td> <td>    0.003</td> <td>    2.532</td> <td> 0.011</td> <td>    0.001     0.011</td>\n",
        "</tr>\n",
        "<tr>\n",
        "  <th>totincr</th>      <td>   -0.3217</td> <td>    0.032</td> <td>  -10.135</td> <td> 0.000</td> <td>   -0.384    -0.259</td>\n",
        "</tr>\n",
        "<tr>\n",
        "  <th>educat</th>       <td>   -0.1093</td> <td>    0.048</td> <td>   -2.266</td> <td> 0.023</td> <td>   -0.204    -0.015</td>\n",
        "</tr>\n",
        "<tr>\n",
        "   <th>rmarital=4</th>     <th>coef</th>     <th>std err</th>      <th>z</th>      <th>P>|z|</th> <th>[95.0% Conf. Int.]</th> \n",
        "</tr>\n",
        "<tr>\n",
        "  <th>Intercept</th>    <td>   -3.6475</td> <td>    1.193</td> <td>   -3.059</td> <td> 0.002</td> <td>   -5.985    -1.310</td>\n",
        "</tr>\n",
        "<tr>\n",
        "  <th>C(race)[T.2]</th> <td>   -0.3303</td> <td>    0.091</td> <td>   -3.641</td> <td> 0.000</td> <td>   -0.508    -0.153</td>\n",
        "</tr>\n",
        "<tr>\n",
        "  <th>C(race)[T.3]</th> <td>   -0.8227</td> <td>    0.170</td> <td>   -4.853</td> <td> 0.000</td> <td>   -1.155    -0.490</td>\n",
        "</tr>\n",
        "<tr>\n",
        "  <th>age_r</th>        <td>    0.1238</td> <td>    0.070</td> <td>    1.763</td> <td> 0.078</td> <td>   -0.014     0.261</td>\n",
        "</tr>\n",
        "<tr>\n",
        "  <th>age2</th>         <td>   -0.0008</td> <td>    0.001</td> <td>   -0.814</td> <td> 0.416</td> <td>   -0.003     0.001</td>\n",
        "</tr>\n",
        "<tr>\n",
        "  <th>totincr</th>      <td>   -0.2288</td> <td>    0.011</td> <td>  -20.058</td> <td> 0.000</td> <td>   -0.251    -0.206</td>\n",
        "</tr>\n",
        "<tr>\n",
        "  <th>educat</th>       <td>    0.0661</td> <td>    0.016</td> <td>    4.015</td> <td> 0.000</td> <td>    0.034     0.098</td>\n",
        "</tr>\n",
        "<tr>\n",
        "   <th>rmarital=5</th>     <th>coef</th>     <th>std err</th>      <th>z</th>      <th>P>|z|</th> <th>[95.0% Conf. Int.]</th> \n",
        "</tr>\n",
        "<tr>\n",
        "  <th>Intercept</th>    <td>   -2.3978</td> <td>    1.269</td> <td>   -1.889</td> <td> 0.059</td> <td>   -4.886     0.090</td>\n",
        "</tr>\n",
        "<tr>\n",
        "  <th>C(race)[T.2]</th> <td>   -1.0493</td> <td>    0.101</td> <td>  -10.366</td> <td> 0.000</td> <td>   -1.248    -0.851</td>\n",
        "</tr>\n",
        "<tr>\n",
        "  <th>C(race)[T.3]</th> <td>   -0.6065</td> <td>    0.154</td> <td>   -3.937</td> <td> 0.000</td> <td>   -0.908    -0.305</td>\n",
        "</tr>\n",
        "<tr>\n",
        "  <th>age_r</th>        <td>    0.2084</td> <td>    0.077</td> <td>    2.699</td> <td> 0.007</td> <td>    0.057     0.360</td>\n",
        "</tr>\n",
        "<tr>\n",
        "  <th>age2</th>         <td>   -0.0030</td> <td>    0.001</td> <td>   -2.619</td> <td> 0.009</td> <td>   -0.005    -0.001</td>\n",
        "</tr>\n",
        "<tr>\n",
        "  <th>totincr</th>      <td>   -0.2900</td> <td>    0.014</td> <td>  -20.314</td> <td> 0.000</td> <td>   -0.318    -0.262</td>\n",
        "</tr>\n",
        "<tr>\n",
        "  <th>educat</th>       <td>   -0.0176</td> <td>    0.021</td> <td>   -0.835</td> <td> 0.404</td> <td>   -0.059     0.024</td>\n",
        "</tr>\n",
        "<tr>\n",
        "   <th>rmarital=6</th>     <th>coef</th>     <th>std err</th>      <th>z</th>      <th>P>|z|</th> <th>[95.0% Conf. Int.]</th> \n",
        "</tr>\n",
        "<tr>\n",
        "  <th>Intercept</th>    <td>    8.1722</td> <td>    0.797</td> <td>   10.252</td> <td> 0.000</td> <td>    6.610     9.734</td>\n",
        "</tr>\n",
        "<tr>\n",
        "  <th>C(race)[T.2]</th> <td>   -2.1628</td> <td>    0.079</td> <td>  -27.532</td> <td> 0.000</td> <td>   -2.317    -2.009</td>\n",
        "</tr>\n",
        "<tr>\n",
        "  <th>C(race)[T.3]</th> <td>   -1.9701</td> <td>    0.136</td> <td>  -14.472</td> <td> 0.000</td> <td>   -2.237    -1.703</td>\n",
        "</tr>\n",
        "<tr>\n",
        "  <th>age_r</th>        <td>   -0.2188</td> <td>    0.050</td> <td>   -4.337</td> <td> 0.000</td> <td>   -0.318    -0.120</td>\n",
        "</tr>\n",
        "<tr>\n",
        "  <th>age2</th>         <td>    0.0020</td> <td>    0.001</td> <td>    2.505</td> <td> 0.012</td> <td>    0.000     0.004</td>\n",
        "</tr>\n",
        "<tr>\n",
        "  <th>totincr</th>      <td>   -0.2888</td> <td>    0.011</td> <td>  -25.418</td> <td> 0.000</td> <td>   -0.311    -0.267</td>\n",
        "</tr>\n",
        "<tr>\n",
        "  <th>educat</th>       <td>   -0.0802</td> <td>    0.018</td> <td>   -4.582</td> <td> 0.000</td> <td>   -0.115    -0.046</td>\n",
        "</tr>\n",
        "</table>"
       ],
       "metadata": {},
       "output_type": "pyout",
       "prompt_number": 11,
       "text": [
        "<class 'statsmodels.iolib.summary.Summary'>\n",
        "\"\"\"\n",
        "                          MNLogit Regression Results                          \n",
        "==============================================================================\n",
        "Dep. Variable:               rmarital   No. Observations:                 9148\n",
        "Model:                        MNLogit   Df Residuals:                     9113\n",
        "Method:                           MLE   Df Model:                           30\n",
        "Date:                Mon, 18 Aug 2014   Pseudo R-squ.:                  0.1661\n",
        "Time:                        15:53:56   Log-Likelihood:                -9990.4\n",
        "converged:                       True   LL-Null:                       -11981.\n",
        "                                        LLR p-value:                     0.000\n",
        "================================================================================\n",
        "  rmarital=2       coef    std err          z      P>|z|      [95.0% Conf. Int.]\n",
        "--------------------------------------------------------------------------------\n",
        "Intercept        8.9153      0.792     11.251      0.000         7.362    10.468\n",
        "C(race)[T.2]    -0.9260      0.087    -10.705      0.000        -1.096    -0.756\n",
        "C(race)[T.3]    -0.6335      0.133     -4.747      0.000        -0.895    -0.372\n",
        "age_r           -0.3567      0.050     -7.132      0.000        -0.455    -0.259\n",
        "age2             0.0047      0.001      6.054      0.000         0.003     0.006\n",
        "totincr         -0.1301      0.011    -11.475      0.000        -0.152    -0.108\n",
        "educat          -0.1940      0.018    -10.534      0.000        -0.230    -0.158\n",
        "--------------------------------------------------------------------------------\n",
        "  rmarital=3       coef    std err          z      P>|z|      [95.0% Conf. Int.]\n",
        "--------------------------------------------------------------------------------\n",
        "Intercept        2.9927      2.970      1.007      0.314        -2.829     8.815\n",
        "C(race)[T.2]    -0.3963      0.235     -1.685      0.092        -0.857     0.065\n",
        "C(race)[T.3]     0.0650      0.336      0.194      0.846        -0.593     0.723\n",
        "age_r           -0.3141      0.174     -1.806      0.071        -0.655     0.027\n",
        "age2             0.0064      0.003      2.532      0.011         0.001     0.011\n",
        "totincr         -0.3217      0.032    -10.135      0.000        -0.384    -0.259\n",
        "educat          -0.1093      0.048     -2.266      0.023        -0.204    -0.015\n",
        "--------------------------------------------------------------------------------\n",
        "  rmarital=4       coef    std err          z      P>|z|      [95.0% Conf. Int.]\n",
        "--------------------------------------------------------------------------------\n",
        "Intercept       -3.6475      1.193     -3.059      0.002        -5.985    -1.310\n",
        "C(race)[T.2]    -0.3303      0.091     -3.641      0.000        -0.508    -0.153\n",
        "C(race)[T.3]    -0.8227      0.170     -4.853      0.000        -1.155    -0.490\n",
        "age_r            0.1238      0.070      1.763      0.078        -0.014     0.261\n",
        "age2            -0.0008      0.001     -0.814      0.416        -0.003     0.001\n",
        "totincr         -0.2288      0.011    -20.058      0.000        -0.251    -0.206\n",
        "educat           0.0661      0.016      4.015      0.000         0.034     0.098\n",
        "--------------------------------------------------------------------------------\n",
        "  rmarital=5       coef    std err          z      P>|z|      [95.0% Conf. Int.]\n",
        "--------------------------------------------------------------------------------\n",
        "Intercept       -2.3978      1.269     -1.889      0.059        -4.886     0.090\n",
        "C(race)[T.2]    -1.0493      0.101    -10.366      0.000        -1.248    -0.851\n",
        "C(race)[T.3]    -0.6065      0.154     -3.937      0.000        -0.908    -0.305\n",
        "age_r            0.2084      0.077      2.699      0.007         0.057     0.360\n",
        "age2            -0.0030      0.001     -2.619      0.009        -0.005    -0.001\n",
        "totincr         -0.2900      0.014    -20.314      0.000        -0.318    -0.262\n",
        "educat          -0.0176      0.021     -0.835      0.404        -0.059     0.024\n",
        "--------------------------------------------------------------------------------\n",
        "  rmarital=6       coef    std err          z      P>|z|      [95.0% Conf. Int.]\n",
        "--------------------------------------------------------------------------------\n",
        "Intercept        8.1722      0.797     10.252      0.000         6.610     9.734\n",
        "C(race)[T.2]    -2.1628      0.079    -27.532      0.000        -2.317    -2.009\n",
        "C(race)[T.3]    -1.9701      0.136    -14.472      0.000        -2.237    -1.703\n",
        "age_r           -0.2188      0.050     -4.337      0.000        -0.318    -0.120\n",
        "age2             0.0020      0.001      2.505      0.012         0.000     0.004\n",
        "totincr         -0.2888      0.011    -25.418      0.000        -0.311    -0.267\n",
        "educat          -0.0802      0.018     -4.582      0.000        -0.115    -0.046\n",
        "================================================================================\n",
        "\"\"\""
       ]
      }
     ],
     "prompt_number": 11
    },
    {
     "cell_type": "markdown",
     "metadata": {},
     "source": [
      "And here is the prediction for a woman who is 25 years old, white, and a high\n",
      "school graduate whose annual household income is about $45,000."
     ]
    },
    {
     "cell_type": "code",
     "collapsed": false,
     "input": [
      "columns = ['age_r', 'age2', 'race', 'totincr', 'educat']\n",
      "new = pandas.DataFrame([[25, 25**2, 2, 11, 12]], columns=columns)\n",
      "results.predict(new)"
     ],
     "language": "python",
     "metadata": {},
     "outputs": [
      {
       "metadata": {},
       "output_type": "pyout",
       "prompt_number": 12,
       "text": [
        "array([[ 0.74568869,  0.12829132,  0.0016241 ,  0.03280099,  0.02188668,\n",
        "         0.06970823]])"
       ]
      }
     ],
     "prompt_number": 12
    },
    {
     "cell_type": "markdown",
     "metadata": {},
     "source": [
      "So this person has a 75% chance of being currently married, a 13% chance of being \"not married but living with opposite sex partner\", etc."
     ]
    },
    {
     "cell_type": "code",
     "collapsed": false,
     "input": [],
     "language": "python",
     "metadata": {},
     "outputs": []
    }
   ],
   "metadata": {}
  }
 ]
}