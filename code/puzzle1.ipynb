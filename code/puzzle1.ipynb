{
 "metadata": {
  "name": ""
 },
 "nbformat": 3,
 "nbformat_minor": 0,
 "worksheets": [
  {
   "cells": [
    {
     "cell_type": "markdown",
     "metadata": {},
     "source": [
      "This notebook contains my solution to [this puzzle](http://puzzles.bostonpython.com/puzzle1.html), written by John Bohannon for the Boston Python User Group.\n",
      "\n",
      "This solution is copyright 2014 Allen B. Downey\n",
      "\n",
      "License: GNU GPLv3 http://www.gnu.org/licenses/gpl.html"
     ]
    },
    {
     "cell_type": "markdown",
     "metadata": {},
     "source": [
      "The first step is to define `OPERATORS` and `DIGITS`.  I am putting the sequence of digits into a NumPy array so I can take advantage of `numpy.insert()`, which can do multiple inserts with one function call."
     ]
    },
    {
     "cell_type": "code",
     "collapsed": false,
     "input": [
      "from itertools import *\n",
      "import numpy\n",
      "\n",
      "OPERATORS = '+-'\n",
      "DIGITS = numpy.array(list('123456789'))\n",
      "NUM_DIGITS = len(DIGITS)\n",
      "\n",
      "DIGITS"
     ],
     "language": "python",
     "metadata": {},
     "outputs": [
      {
       "metadata": {},
       "output_type": "pyout",
       "prompt_number": 210,
       "text": [
        "array(['1', '2', '3', '4', '5', '6', '7', '8', '9'], \n",
        "      dtype='|S1')"
       ]
      }
     ],
     "prompt_number": 210
    },
    {
     "cell_type": "markdown",
     "metadata": {},
     "source": [
      "Assuming that we know how many operators we're going to insert in an expression, we want to enumerate all possible combinations of operators.  `itertools.product` does what we want."
     ]
    },
    {
     "cell_type": "code",
     "collapsed": false,
     "input": [
      "def operator_iter(n):\n",
      "    \"\"\"Iterates all sequences of n operators.\"\"\"\n",
      "    return product(OPERATORS, repeat=n)\n",
      "\n",
      "list(operator_iter(2))"
     ],
     "language": "python",
     "metadata": {},
     "outputs": [
      {
       "metadata": {},
       "output_type": "pyout",
       "prompt_number": 211,
       "text": [
        "[('+', '+'), ('+', '-'), ('-', '+'), ('-', '-')]"
       ]
      }
     ],
     "prompt_number": 211
    },
    {
     "cell_type": "markdown",
     "metadata": {},
     "source": [
      "Given the operators, we have to figure out where to put them.  `itertools.combinations` enumerates the possible sequences of indices."
     ]
    },
    {
     "cell_type": "code",
     "collapsed": false,
     "input": [
      "def index_iter(n):\n",
      "    \"\"\"Iterates all the places we could put n operators.\"\"\"\n",
      "    return combinations(range(1, NUM_DIGITS), n)\n",
      "\n",
      "list(index_iter(2))"
     ],
     "language": "python",
     "metadata": {},
     "outputs": [
      {
       "metadata": {},
       "output_type": "pyout",
       "prompt_number": 212,
       "text": [
        "[(1, 2),\n",
        " (1, 3),\n",
        " (1, 4),\n",
        " (1, 5),\n",
        " (1, 6),\n",
        " (1, 7),\n",
        " (1, 8),\n",
        " (2, 3),\n",
        " (2, 4),\n",
        " (2, 5),\n",
        " (2, 6),\n",
        " (2, 7),\n",
        " (2, 8),\n",
        " (3, 4),\n",
        " (3, 5),\n",
        " (3, 6),\n",
        " (3, 7),\n",
        " (3, 8),\n",
        " (4, 5),\n",
        " (4, 6),\n",
        " (4, 7),\n",
        " (4, 8),\n",
        " (5, 6),\n",
        " (5, 7),\n",
        " (5, 8),\n",
        " (6, 7),\n",
        " (6, 8),\n",
        " (7, 8)]"
       ]
      }
     ],
     "prompt_number": 212
    },
    {
     "cell_type": "markdown",
     "metadata": {},
     "source": [
      "Now we can use `numpy.insert` to combine the digits and operators."
     ]
    },
    {
     "cell_type": "code",
     "collapsed": false,
     "input": [
      "def make_expr(index, operator):\n",
      "    \"\"\"Inserts the operators at the given locations and make a string.\"\"\"\n",
      "    return ''.join(numpy.insert(DIGITS, index, operator))\n",
      "\n",
      "make_expr((2, 4), ('+', '-'))"
     ],
     "language": "python",
     "metadata": {},
     "outputs": [
      {
       "metadata": {},
       "output_type": "pyout",
       "prompt_number": 213,
       "text": [
        "'12+34-56789'"
       ]
      }
     ],
     "prompt_number": 213
    },
    {
     "cell_type": "markdown",
     "metadata": {},
     "source": [
      "For a given number of operators, `n`, we map `make_expr` onto the product of the indices and the operators, yielding all possible expressions with `n` operators. "
     ]
    },
    {
     "cell_type": "code",
     "collapsed": false,
     "input": [
      "def expression_iter(n):\n",
      "    \"\"\"Iterates expressions with n operators.\"\"\"\n",
      "    return starmap(make_expr, product(index_iter(n), operator_iter(n)))\n",
      "\n",
      "list(expression_iter(1))"
     ],
     "language": "python",
     "metadata": {},
     "outputs": [
      {
       "metadata": {},
       "output_type": "pyout",
       "prompt_number": 214,
       "text": [
        "['1+23456789',\n",
        " '1-23456789',\n",
        " '12+3456789',\n",
        " '12-3456789',\n",
        " '123+456789',\n",
        " '123-456789',\n",
        " '1234+56789',\n",
        " '1234-56789',\n",
        " '12345+6789',\n",
        " '12345-6789',\n",
        " '123456+789',\n",
        " '123456-789',\n",
        " '1234567+89',\n",
        " '1234567-89',\n",
        " '12345678+9',\n",
        " '12345678-9']"
       ]
      }
     ],
     "prompt_number": 214
    },
    {
     "cell_type": "markdown",
     "metadata": {},
     "source": [
      "Finally, map `expression_iter` onto the range `0..NUMDIGITS-1` and chain together the results."
     ]
    },
    {
     "cell_type": "code",
     "collapsed": false,
     "input": [
      "def all_expression_iter():\n",
      "    \"\"\"Iterates all expressions.\"\"\"\n",
      "    return chain(*imap(expression_iter, range(NUM_DIGITS)))\n",
      "\n",
      "list(islice(all_expression_iter(), 10))"
     ],
     "language": "python",
     "metadata": {},
     "outputs": [
      {
       "metadata": {},
       "output_type": "pyout",
       "prompt_number": 215,
       "text": [
        "['123456789',\n",
        " '1+23456789',\n",
        " '1-23456789',\n",
        " '12+3456789',\n",
        " '12-3456789',\n",
        " '123+456789',\n",
        " '123-456789',\n",
        " '1234+56789',\n",
        " '1234-56789',\n",
        " '12345+6789']"
       ]
      }
     ],
     "prompt_number": 215
    },
    {
     "cell_type": "markdown",
     "metadata": {},
     "source": [
      "`forward` maps from each string expression to its numerical value."
     ]
    },
    {
     "cell_type": "code",
     "collapsed": false,
     "input": [
      "forward = dict(imap(lambda s: (s, eval(s)), all_expression_iter()))\n",
      "min(forward.itervalues())"
     ],
     "language": "python",
     "metadata": {},
     "outputs": [
      {
       "metadata": {},
       "output_type": "pyout",
       "prompt_number": 216,
       "text": [
        "-23456788"
       ]
      }
     ],
     "prompt_number": 216
    },
    {
     "cell_type": "markdown",
     "metadata": {},
     "source": [
      "`counter` maps from each numerical value to the number of times it appears."
     ]
    },
    {
     "cell_type": "code",
     "collapsed": false,
     "input": [
      "from collections import Counter\n",
      "counter = Counter(forward.itervalues())\n",
      "counter[100]"
     ],
     "language": "python",
     "metadata": {},
     "outputs": [
      {
       "metadata": {},
       "output_type": "pyout",
       "prompt_number": 217,
       "text": [
        "11"
       ]
      }
     ],
     "prompt_number": 217
    },
    {
     "cell_type": "markdown",
     "metadata": {},
     "source": [
      "`most_frequent` is a list of value, frequency pairs in descending order of frequency"
     ]
    },
    {
     "cell_type": "code",
     "collapsed": false,
     "input": [
      "from operator import itemgetter\n",
      "\n",
      "most_frequent = sorted(counter.iteritems(), key=itemgetter(1), reverse=True)\n",
      "\n",
      "for value, freq in most_frequent[:10]:\n",
      "    print value, freq"
     ],
     "language": "python",
     "metadata": {},
     "outputs": [
      {
       "output_type": "stream",
       "stream": "stdout",
       "text": [
        "-21 27\n",
        "1 26\n",
        "45 26\n",
        "-43 24\n",
        "-9 24\n",
        "23 23\n",
        "-27 23\n",
        "-25 23\n",
        "-15 23\n",
        "-3 23\n"
       ]
      }
     ],
     "prompt_number": 218
    },
    {
     "cell_type": "markdown",
     "metadata": {},
     "source": [
      "Now we want to invert `forward`."
     ]
    },
    {
     "cell_type": "code",
     "collapsed": false,
     "input": [
      "def invert_dict(forward):\n",
      "    \"\"\"Inverts a dictionary using a set comprehension.\"\"\"\n",
      "    reverse = {}\n",
      "    set(reverse.setdefault(v, []).append(k) for k, v in forward.iteritems())\n",
      "    return reverse"
     ],
     "language": "python",
     "metadata": {},
     "outputs": [],
     "prompt_number": 219
    },
    {
     "cell_type": "markdown",
     "metadata": {},
     "source": [
      "`reverse` maps from each numerical value to a list of expressions."
     ]
    },
    {
     "cell_type": "code",
     "collapsed": false,
     "input": [
      "reverse = invert_dict(forward)\n",
      "reverse[100]"
     ],
     "language": "python",
     "metadata": {},
     "outputs": [
      {
       "metadata": {},
       "output_type": "pyout",
       "prompt_number": 220,
       "text": [
        "['123-45-67+89',\n",
        " '1+23-4+5+6+78-9',\n",
        " '1+2+3-4+5+6+78+9',\n",
        " '123+45-67+8-9',\n",
        " '1+23-4+56+7+8+9',\n",
        " '12-3-4+5-6+7+89',\n",
        " '1+2+34-5+67-8+9',\n",
        " '12+3-4+5+67+8+9',\n",
        " '123+4-5+67-89',\n",
        " '123-4-5-6-7+8-9',\n",
        " '12+3+4+5-6-7+89']"
       ]
      }
     ],
     "prompt_number": 220
    },
    {
     "cell_type": "markdown",
     "metadata": {},
     "source": [
      "A cumulative distribution function (CDF) is represented by a sorted list of values and a list of the corresponding cumulative probabilities."
     ]
    },
    {
     "cell_type": "code",
     "collapsed": false,
     "input": [
      "def make_cdf(counter):\n",
      "    \"\"\"Makes a cumulative distribution function.\"\"\"\n",
      "    vals, freqs = zip(*sorted(counter.iteritems()))\n",
      "    probs = numpy.cumsum(freqs, dtype=numpy.float)\n",
      "    probs /= probs[-1]\n",
      "    return vals, probs"
     ],
     "language": "python",
     "metadata": {},
     "outputs": [],
     "prompt_number": 221
    },
    {
     "cell_type": "markdown",
     "metadata": {},
     "source": [
      "`abs_counter` is a map from the magnitude of the values (abs) to frequence.  `cdf` is the distribution of the absolute values."
     ]
    },
    {
     "cell_type": "code",
     "collapsed": false,
     "input": [
      "abs_counter = Counter(imap(abs, forward.itervalues()))\n",
      "cdf = make_cdf(abs_counter)\n",
      "zip(*cdf)[:11]"
     ],
     "language": "python",
     "metadata": {},
     "outputs": [
      {
       "metadata": {},
       "output_type": "pyout",
       "prompt_number": 222,
       "text": [
        "[(0, 0.0016765736930345985),\n",
        " (1, 0.00823045267489712),\n",
        " (2, 0.010973936899862825),\n",
        " (3, 0.0172229843011736),\n",
        " (4, 0.019966468526139307),\n",
        " (5, 0.026063100137174212),\n",
        " (6, 0.029721079103795154),\n",
        " (7, 0.035665294924554183),\n",
        " (8, 0.038408779149519894),\n",
        " (9, 0.045419905502210027),\n",
        " (10, 0.048010973936899862)]"
       ]
      }
     ],
     "prompt_number": 222
    },
    {
     "cell_type": "markdown",
     "metadata": {},
     "source": [
      "You can evaluate a CDF forward or backward in log time using `bisect`."
     ]
    },
    {
     "cell_type": "code",
     "collapsed": false,
     "input": [
      "from bisect import bisect_left\n",
      "\n",
      "def eval_cdf(cdf, x):\n",
      "    \"\"\"Evaluates a cumulative distribution function.\"\"\"\n",
      "    vals, probs = cdf\n",
      "    return probs[bisect_left(vals, x)]\n",
      "\n",
      "print 'x    CDF(x)'\n",
      "for x in [10, 100, 1000, 10000, 100000]:\n",
      "    print x, eval_cdf(cdf, x) * 100"
     ],
     "language": "python",
     "metadata": {},
     "outputs": [
      {
       "output_type": "stream",
       "stream": "stdout",
       "text": [
        "x    CDF(x)\n",
        "10 4.80109739369\n",
        "100 42.7069044353\n",
        "1000 83.6610272824\n",
        "10000 95.5037341869\n",
        "100000 98.7806736778\n"
       ]
      }
     ],
     "prompt_number": 223
    },
    {
     "cell_type": "markdown",
     "metadata": {},
     "source": [
      "Let's try plotting the CDF."
     ]
    },
    {
     "cell_type": "code",
     "collapsed": false,
     "input": [
      "import matplotlib.pyplot as pyplot\n",
      "\n",
      "def plot_cdf(cdf, xscale='linear'):\n",
      "    pyplot.plot(*cdf, linewidth=4, alpha=0.5)\n",
      "    pyplot.xlabel('abs(value)')\n",
      "    pyplot.ylabel('CDF')\n",
      "    pyplot.xscale(xscale)\n",
      "    pyplot.show()\n",
      "    \n",
      "plot_cdf(cdf)"
     ],
     "language": "python",
     "metadata": {},
     "outputs": [
      {
       "metadata": {},
       "output_type": "display_data",
       "png": "[encoded data removed]",
       "text": [
        "<matplotlib.figure.Figure at 0x48067d0>"
       ]
      }
     ],
     "prompt_number": 224
    },
    {
     "cell_type": "markdown",
     "metadata": {},
     "source": [
      "On a linear scale, we can't see much.  Let's try a log-x scale:"
     ]
    },
    {
     "cell_type": "code",
     "collapsed": false,
     "input": [
      "plot_cdf(cdf, xscale='log')"
     ],
     "language": "python",
     "metadata": {},
     "outputs": [
      {
       "metadata": {},
       "output_type": "display_data",
       "png": "[encoded data removed]",
       "text": [
        "<matplotlib.figure.Figure at 0x3eae150>"
       ]
      }
     ],
     "prompt_number": 225
    },
    {
     "cell_type": "markdown",
     "metadata": {},
     "source": [
      "That looks like a long-tailed distribution.  To see if it has a power-law tail, we can plot the complementary CDF (CCDF) on a log-log scale."
     ]
    },
    {
     "cell_type": "code",
     "collapsed": false,
     "input": [
      "def plot_ccdf(cdf):\n",
      "    ccdf = cdf[0], 1-cdf[1]\n",
      "    pyplot.plot(*ccdf, linewidth=4, alpha=0.5)\n",
      "    pyplot.xlabel('abs(value)')\n",
      "    pyplot.ylabel('CCDF')\n",
      "    pyplot.xscale('log')\n",
      "    pyplot.yscale('log')\n",
      "    pyplot.show()\n",
      "    \n",
      "plot_ccdf(cdf)"
     ],
     "language": "python",
     "metadata": {},
     "outputs": [
      {
       "metadata": {},
       "output_type": "display_data",
       "png": "[encoded data removed]",
       "text": [
        "<matplotlib.figure.Figure at 0x3d6f290>"
       ]
      }
     ],
     "prompt_number": 226
    },
    {
     "cell_type": "markdown",
     "metadata": {},
     "source": [
      "A straight line in this plot indicates a power-law tail.  In this example is spans about 6 orders of magnitude.\n",
      "\n",
      "So you might wonder whether this pattern persists.  Let's try it with hexadecimal numbers."
     ]
    },
    {
     "cell_type": "code",
     "collapsed": false,
     "input": [
      "DIGITS = numpy.array(list('123456789abcdef'))\n",
      "NUM_DIGITS = len(DIGITS)\n",
      "\n",
      "def hex_eval(expr):\n",
      "    \"\"\"Evaluates an expression with hexadecimal numbers.\"\"\"\n",
      "    expr = '0x' + expr.replace('+', '+0x').replace('-', '-0x')\n",
      "    return eval(expr)\n",
      "\n",
      "forward2 = dict(imap(lambda s: (s, hex_eval(s)), all_expression_iter()))"
     ],
     "language": "python",
     "metadata": {},
     "outputs": [],
     "prompt_number": 40
    },
    {
     "cell_type": "code",
     "collapsed": false,
     "input": [
      "def num_and_log(n):\n",
      "    \"\"\"Returns a number and its number of digits (actually log base 10).\"\"\"\n",
      "    return n, numpy.log10(abs(n))\n",
      "\n",
      "num_and_log(len(forward2))"
     ],
     "language": "python",
     "metadata": {},
     "outputs": [
      {
       "metadata": {},
       "output_type": "pyout",
       "prompt_number": 166,
       "text": [
        "(4782969, 6.6796975660752738)"
       ]
      }
     ],
     "prompt_number": 166
    },
    {
     "cell_type": "code",
     "collapsed": false,
     "input": [
      "num_and_log(min(forward2.itervalues()))"
     ],
     "language": "python",
     "metadata": {},
     "outputs": [
      {
       "metadata": {},
       "output_type": "pyout",
       "prompt_number": 167,
       "text": [
        "(-9927935178558958, 15.996858932905857)"
       ]
      }
     ],
     "prompt_number": 167
    },
    {
     "cell_type": "code",
     "collapsed": false,
     "input": [
      "num_and_log(max(forward2.itervalues()))"
     ],
     "language": "python",
     "metadata": {},
     "outputs": [
      {
       "metadata": {},
       "output_type": "pyout",
       "prompt_number": 168,
       "text": [
        "(81985529216486895, 16.913737204383434)"
       ]
      }
     ],
     "prompt_number": 168
    },
    {
     "cell_type": "code",
     "collapsed": false,
     "input": [
      "abs_counter2 = Counter(imap(abs, forward2.itervalues()))\n",
      "cdf2 = make_cdf(abs_counter2)\n",
      "plot_ccdf(cdf2)"
     ],
     "language": "python",
     "metadata": {},
     "outputs": [
      {
       "metadata": {},
       "output_type": "display_data",
       "png": "[encoded data removed]",
       "text": [
        "<matplotlib.figure.Figure at 0x3ea7d90>"
       ]
      }
     ],
     "prompt_number": 169
    },
    {
     "cell_type": "markdown",
     "metadata": {},
     "source": [
      "Yup, that looks like a power tail over about 14 orders of magnitude!  The ripple pattern suggests that the tail is a mixture of distributions with geometrically increasing central tendency and decreasing probability.  And it looks like the width of each ripple is a factor of 16 (there are 12 ripples; if each is a hexadecade, they should span 14.4 decades)."
     ]
    },
    {
     "cell_type": "code",
     "collapsed": false,
     "input": [
      "12 * numpy.log10(16)"
     ],
     "language": "python",
     "metadata": {},
     "outputs": [
      {
       "metadata": {},
       "output_type": "pyout",
       "prompt_number": 170,
       "text": [
        "14.449439791871097"
       ]
      }
     ],
     "prompt_number": 170
    },
    {
     "cell_type": "markdown",
     "metadata": {},
     "source": [
      "That gives us a hint about the cause of the ripples.  The value of each expression will tend to be dominated by the largest term.  Here's a function that takes an expression and finds the number of digits in the dominant term."
     ]
    },
    {
     "cell_type": "code",
     "collapsed": false,
     "input": [
      "import re\n",
      "\n",
      "def dom_term_len(expr, val):\n",
      "    return abs(val), max(imap(len, re.split('\\+|-', expr)))\n",
      "    \n",
      "dom_term_len('1234+56789', 1234+56789)"
     ],
     "language": "python",
     "metadata": {},
     "outputs": [
      {
       "metadata": {},
       "output_type": "pyout",
       "prompt_number": 171,
       "text": [
        "(58023, 5)"
       ]
      }
     ],
     "prompt_number": 171
    },
    {
     "cell_type": "markdown",
     "metadata": {},
     "source": [
      "`dom_term_map` maps from the number of digits in the largest term to a list of values."
     ]
    },
    {
     "cell_type": "code",
     "collapsed": false,
     "input": [
      "dom_term_map = invert_dict(dict(starmap(dom_term_len, forward.iteritems())))"
     ],
     "language": "python",
     "metadata": {},
     "outputs": [],
     "prompt_number": 172
    },
    {
     "cell_type": "code",
     "collapsed": false,
     "input": [
      "dom_term_map[6][:10]"
     ],
     "language": "python",
     "metadata": {},
     "outputs": [
      {
       "metadata": {},
       "output_type": "pyout",
       "prompt_number": 174,
       "text": [
        "[123374,\n",
        " 123387,\n",
        " 123432,\n",
        " 123462,\n",
        " 124245,\n",
        " 345657,\n",
        " 345666,\n",
        " 345668,\n",
        " 345670,\n",
        " 345672]"
       ]
      }
     ],
     "prompt_number": 174
    },
    {
     "cell_type": "markdown",
     "metadata": {},
     "source": [
      "Now we can compute the distribution of values within each decade (or hexadecade)."
     ]
    },
    {
     "cell_type": "code",
     "collapsed": false,
     "input": [
      "plot_cdf(make_cdf(Counter(dom_term_map[2])))"
     ],
     "language": "python",
     "metadata": {},
     "outputs": [
      {
       "metadata": {},
       "output_type": "display_data",
       "png": "[encoded data removed]",
       "text": [
        "<matplotlib.figure.Figure at 0x40d5ad0>"
       ]
      }
     ],
     "prompt_number": 175
    },
    {
     "cell_type": "code",
     "collapsed": false,
     "input": [
      "plot_cdf(make_cdf(Counter(dom_term_map[3])))"
     ],
     "language": "python",
     "metadata": {},
     "outputs": [
      {
       "metadata": {},
       "output_type": "display_data",
       "png": "[encoded data removed]",
       "text": [
        "<matplotlib.figure.Figure at 0x40d3090>"
       ]
      }
     ],
     "prompt_number": 176
    },
    {
     "cell_type": "code",
     "collapsed": false,
     "input": [
      "plot_cdf(make_cdf(Counter(dom_term_map[4])))"
     ],
     "language": "python",
     "metadata": {},
     "outputs": [
      {
       "metadata": {},
       "output_type": "display_data",
       "png": "[encoded data removed]",
       "text": [
        "<matplotlib.figure.Figure at 0x3d27350>"
       ]
      }
     ],
     "prompt_number": 177
    },
    {
     "cell_type": "code",
     "collapsed": false,
     "input": [
      "plot_cdf(make_cdf(Counter(dom_term_map[5])))"
     ],
     "language": "python",
     "metadata": {},
     "outputs": [
      {
       "metadata": {},
       "output_type": "display_data",
       "png": "[encoded data removed]",
       "text": [
        "<matplotlib.figure.Figure at 0x40d3c10>"
       ]
      }
     ],
     "prompt_number": 178
    },
    {
     "cell_type": "code",
     "collapsed": false,
     "input": [
      "plot_cdf(make_cdf(Counter(dom_term_map[6])))"
     ],
     "language": "python",
     "metadata": {},
     "outputs": [
      {
       "metadata": {},
       "output_type": "display_data",
       "png": "[encoded data removed]",
       "text": [
        "<matplotlib.figure.Figure at 0x3d14b50>"
       ]
      }
     ],
     "prompt_number": 179
    },
    {
     "cell_type": "code",
     "collapsed": false,
     "input": [
      "plot_cdf(make_cdf(Counter(dom_term_map[7])))"
     ],
     "language": "python",
     "metadata": {},
     "outputs": [
      {
       "metadata": {},
       "output_type": "display_data",
       "png": "[encoded data removed]",
       "text": [
        "<matplotlib.figure.Figure at 0x46e3310>"
       ]
      }
     ],
     "prompt_number": 180
    },
    {
     "cell_type": "code",
     "collapsed": false,
     "input": [
      "plot_cdf(make_cdf(Counter(dom_term_map[8])))"
     ],
     "language": "python",
     "metadata": {},
     "outputs": [
      {
       "metadata": {},
       "output_type": "display_data",
       "png": "[encoded data removed]",
       "text": [
        "<matplotlib.figure.Figure at 0x1d0dccd0>"
       ]
      }
     ],
     "prompt_number": 181
    },
    {
     "cell_type": "markdown",
     "metadata": {},
     "source": [
      "Within each decade (or hexadecade) the distribution of values is roughly uniform."
     ]
    },
    {
     "cell_type": "markdown",
     "metadata": {},
     "source": [
      "It looks like the distribution of values is a mixture of uniform distributions where each element of the mixture spans a decade.  So why does the resulting mixture have a power-law tail?  Because the number of values in each element of the mixture decreases geometrically.  To see that, let's plot the number of values as a function of the size of the largest term."
     ]
    },
    {
     "cell_type": "code",
     "collapsed": false,
     "input": [
      "pairs = sorted(starmap(lambda x, t: (x, len(t)), dom_term_map.iteritems()))\n",
      "xs, ys = zip(*pairs)\n",
      "pyplot.plot(xs, ys, linewidth=4, alpha=0.5)\n",
      "pyplot.xlabel('Digits in largest term')\n",
      "pyplot.ylabel('Number of values')\n",
      "pyplot.show()"
     ],
     "language": "python",
     "metadata": {},
     "outputs": [
      {
       "metadata": {},
       "output_type": "display_data",
       "png": "[encoded data removed]",
       "text": [
        "<matplotlib.figure.Figure at 0x3eb3b10>"
       ]
      }
     ],
     "prompt_number": 190
    },
    {
     "cell_type": "markdown",
     "metadata": {},
     "source": [
      "From 4 on up, that looks like a geometric decay.  To confirm, let's look at the log ratio of successive elements."
     ]
    },
    {
     "cell_type": "code",
     "collapsed": false,
     "input": [
      "diffs = numpy.diff(numpy.log10(ys))\n",
      "pyplot.plot(xs[1:], diffs, linewidth=4, alpha=0.5)\n",
      "pyplot.show()"
     ],
     "language": "python",
     "metadata": {},
     "outputs": [
      {
       "metadata": {},
       "output_type": "display_data",
       "png": "[encoded data removed]",
       "text": [
        "<matplotlib.figure.Figure at 0x43b0210>"
       ]
      }
     ],
     "prompt_number": 192
    },
    {
     "cell_type": "markdown",
     "metadata": {},
     "source": [
      "That looks like it's converging at about -0.6, so we expect the mixture distribution, plotted on a log scale, to drop by 0.6 per decade.  And it does."
     ]
    }
   ],
   "metadata": {}
  }
 ]
}