{
 "cells": [
  {
   "cell_type": "markdown",
   "metadata": {},
   "source": [
    "통계적 사고 (2판) 연습문제 ([thinkstats2.com](thinkstats2.com), [think-stat.xwmooc.org](http://think-stat.xwmooc.org))<br>\n",
    "Allen Downey / 이광춘(xwMOOC)"
   ]
  },
  {
   "cell_type": "code",
   "execution_count": 3,
   "metadata": {
    "collapsed": false
   },
   "outputs": [],
   "source": [
    "%matplotlib inline\n",
    "from __future__ import print_function\n",
    "\n",
    "import thinkstats2\n",
    "import thinkplot\n",
    "\n",
    "import math\n",
    "import random\n",
    "import numpy as np\n",
    "\n",
    "from scipy import stats\n",
    "from estimation import RMSE, MeanError"
   ]
  },
  {
   "cell_type": "markdown",
   "metadata": {},
   "source": [
    "## 연습문제 8.1\n",
    "\n",
    "이번 장에서, $\\mu$를 추정하는데 xbar 와 중위수를 사용했고, xbar가 MSE 하한을 산출함을 알아냈다. 또한, $\\sigma$를 추정하는데  $S^2$ 와  $S_{n-1}^2$ 을 사용했고,  $S^2$ 은 편향되었고, $S_{n-1}^2$은 불편향임을 알아냈다.\n",
    "유사한 실험을 실행해서, xbar와 중위수가 $\\mu$의 편향된 추정값임을 알아내라. 또한, $S^2$ 혹은 $S_{n-1}^2$ 가 MSE 하한을 산출하는지 검사하라."
   ]
  },
  {
   "cell_type": "code",
   "execution_count": 3,
   "metadata": {
    "collapsed": false
   },
   "outputs": [
    {
     "name": "stdout",
     "output_type": "stream",
     "text": [
      "Experiment 1\n",
      "mean error xbar -0.000501853563251\n",
      "mean error median -5.92353811989e-05\n",
      "Experiment 2\n",
      "RMSE biased 0.515294279494\n",
      "RMSE unbiased 0.577482542019\n"
     ]
    }
   ],
   "source": [
    "\"\"\"Mean error for xbar and median as estimators of population mean.\n",
    "\n",
    "    n: sample size\n",
    "    m: number of iterations\n",
    "\"\"\"\n",
    "n = 7\n",
    "m=100000\n",
    "\n",
    "mu = 0\n",
    "sigma = 1\n",
    "\n",
    "means = []\n",
    "medians = []\n",
    "for _ in range(m):\n",
    "    xs = [random.gauss(mu, sigma) for i in range(n)]\n",
    "    xbar = np.mean(xs)\n",
    "    median = np.median(xs)\n",
    "    means.append(xbar)\n",
    "    medians.append(median)\n",
    "\n",
    "print('Experiment 1')\n",
    "print('mean error xbar', MeanError(means, mu))\n",
    "print('mean error median', MeanError(medians, mu))\n",
    "\n",
    "\"\"\"RMSE for biased and unbiased estimators of population variance.\n",
    "\n",
    "n: sample size\n",
    "m: number of iterations\n",
    "\"\"\"\n",
    "mu = 0\n",
    "sigma = 1\n",
    "\n",
    "estimates1 = []\n",
    "estimates2 = []\n",
    "for _ in range(m):\n",
    "    xs = [random.gauss(mu, sigma) for i in range(n)]\n",
    "    biased = np.var(xs)\n",
    "    unbiased = np.var(xs, ddof=1)\n",
    "    estimates1.append(biased)\n",
    "    estimates2.append(unbiased)\n",
    "\n",
    "print('Experiment 2')\n",
    "print('RMSE biased', RMSE(estimates1, sigma**2))\n",
    "print('RMSE unbiased', RMSE(estimates2, sigma**2))"
   ]
  },
  {
   "cell_type": "markdown",
   "metadata": {},
   "source": [
    "1. xbar 와 중위수가 m이 증가함에따라 더 낮은 평균오차를 산출한다. 실험으로부터 식별할 수 있는한 어떤 것도 분명히 편향되지 않았다.\n",
    "1. 분산에 대한 불편 추정량이 불편 추정량보다 더 낮은 약 10% 낮은 RMSE를 산출한다. 그리고 m이 증가함에 따라 차이는 유지된다."
   ]
  },
  {
   "cell_type": "markdown",
   "metadata": {},
   "source": [
    "## 연습문제 8.2  \n",
    "모수 $\\lambda=2$를 갖는 지수분포에서 표본 $n=10$개를 추출한다고 가정하자. 실험을 1000번 모의시험하고 추정값 lamhat의 표본 분포를 도식화한다. 추정값의 표준오차와 90% 신뢰구간을 계산하라.\n",
    "\n",
    "다른 $n$ 값을 갖는 실험을 반복하고, $n$ 값과 표준오차를 도식화한다."
   ]
  },
  {
   "cell_type": "code",
   "execution_count": 5,
   "metadata": {
    "collapsed": false
   },
   "outputs": [
    {
     "name": "stdout",
     "output_type": "stream",
     "text": [
      "standard error 0.784058129255\n",
      "confidence interval (1.2783641952567839, 3.5793120939847975)\n"
     ]
    },
    {
     "data": {
      "image/png": "[encoded data removed]",
      "text/plain": [
       "<matplotlib.figure.Figure at 0xf21afd0>"
      ]
     },
     "metadata": {},
     "output_type": "display_data"
    },
    {
     "data": {
      "text/plain": [
       "<matplotlib.figure.Figure at 0x7adeb50>"
      ]
     },
     "metadata": {},
     "output_type": "display_data"
    }
   ],
   "source": [
    "\"\"\"Sampling distribution of L as an estimator of exponential parameter.\n",
    "\n",
    "lam: parameter of an exponential distribution\n",
    "n: sample size\n",
    "m: number of iterations\n",
    "\"\"\"\n",
    "lam=2\n",
    "n=10\n",
    "m=1000\n",
    "\n",
    "def VertLine(x, y=1):\n",
    "    thinkplot.Plot([x, x], [0, y], color='0.8', linewidth=3)\n",
    "\n",
    "estimates = []\n",
    "for j in range(m):\n",
    "    xs = np.random.exponential(1.0/lam, n)\n",
    "    lamhat = 1.0 / np.mean(xs)\n",
    "    estimates.append(lamhat)\n",
    "\n",
    "stderr = RMSE(estimates, lam)\n",
    "print('standard error', stderr)\n",
    "\n",
    "cdf = thinkstats2.Cdf(estimates)\n",
    "ci = cdf.Percentile(5), cdf.Percentile(95)\n",
    "print('confidence interval', ci)\n",
    "VertLine(ci[0])\n",
    "VertLine(ci[1])\n",
    "\n",
    "# plot the CDF\n",
    "thinkplot.Cdf(cdf)\n",
    "thinkplot.Show(xlabel='estimate',\n",
    "               ylabel='CDF',\n",
    "               title='Sampling distribution')"
   ]
  },
  {
   "cell_type": "markdown",
   "metadata": {},
   "source": [
    "1. 표본크기 10인경우\n",
    "    - 표준오차 : 0.896717911545\n",
    "    - 신뢰구간: (1.2901330772324622, 3.8692334892427911)\n",
    "1. 표본크기가 증가함에 따라, 표준오차와 CI 구간범위가 줄어든다:\n",
    "    - 10      0.90    (1.3, 3.9)\n",
    "    - 100     0.21    (1.7, 2.4)\n",
    "    - 1000    0.06    (1.9, 2.1)\n",
    "상기 신뢰구간 세개 모두 실제 값 2를 포함하고 있다."
   ]
  },
  {
   "cell_type": "markdown",
   "metadata": {
    "collapsed": false
   },
   "source": [
    "## 연습문제 8.3  \n",
    "하키와 축구같은 스포츠 게임에서 득점 사이 시간은 대체로 지수를 따른다. 그래서 게임에서 한 팀이 득점한 골을 관측함으로써 득점을 추정할 수 있다. 이 추정 과정은 득점 사이 시간을 표집하는 것과 약간 다르다. 그래서 작동방법을 살펴보다.\n",
    "\n",
    "게임당 골로 득점률 ${\\tt lam}$을 인자로 받고, 전체 시간이 1 게임 경과할 때까지 득점사이 시간을 생성함으로서 게임을 모의시험하고 나서, 득점한 점수를 반환하는 함수를 작성하라.\n",
    "\n",
    "많은 게임을 모의시험하고, ${\\tt lam}$ 추정값을 저장하고 나서 평균 오차와 RMSE를 계산하는 또다른 함수를 작성하라.\n",
    "\n",
    "추정값을 이와 같은 방식으로 만드는 것이 편향됐을까? 추정값에 대한 표본분포와 90% 신뢰구간을 도식화하시오. 표준오차는 얼마인가? ${\\tt lam}$ 값을 크게하면, 표집오차에 무슨일이 생길까?"
   ]
  },
  {
   "cell_type": "code",
   "execution_count": 4,
   "metadata": {
    "collapsed": false
   },
   "outputs": [
    {
     "name": "stdout",
     "output_type": "stream",
     "text": [
      "Experiment 4\n",
      "rmse L 1.41495194265\n",
      "mean error L -0.000607\n"
     ]
    },
    {
     "data": {
      "image/png": "[encoded data removed]",
      "text/plain": [
       "<matplotlib.figure.Figure at 0xebbc870>"
      ]
     },
     "metadata": {},
     "output_type": "display_data"
    },
    {
     "data": {
      "text/plain": [
       "<matplotlib.figure.Figure at 0xebbc910>"
      ]
     },
     "metadata": {},
     "output_type": "display_data"
    }
   ],
   "source": [
    "def SimulateGame(lam):\n",
    "    \"\"\"Simulates a game and returns the estimated goal-scoring rate.\n",
    "\n",
    "    lam: actual goal scoring rate in goals per game\n",
    "    \"\"\"\n",
    "    goals = 0\n",
    "    t = 0\n",
    "    while True:\n",
    "        time_between_goals = random.expovariate(lam)\n",
    "        t += time_between_goals\n",
    "        if t > 1:\n",
    "            break\n",
    "        goals += 1\n",
    "\n",
    "    # estimated goal-scoring rate is the actual number of goals scored\n",
    "    L = goals\n",
    "    return L\n",
    "\n",
    "def Estimate4(lam=2, m=1000000):\n",
    "\n",
    "    estimates = []\n",
    "    for i in range(m):\n",
    "        L = SimulateGame(lam)\n",
    "        estimates.append(L)\n",
    "\n",
    "    print('Experiment 4')\n",
    "    print('rmse L', RMSE(estimates, lam))\n",
    "    print('mean error L', MeanError(estimates, lam))\n",
    "    \n",
    "    pmf = thinkstats2.Pmf(estimates)\n",
    "\n",
    "    thinkplot.Hist(pmf)\n",
    "    thinkplot.Show()\n",
    "\n",
    "Estimate4()    "
   ]
  },
  {
   "cell_type": "markdown",
   "metadata": {},
   "source": [
    "1. 이런 방식으로 lambda 추정에 대한 RMSE는 1.4.\n",
    "1. 평균오차는 작고, m이 커짐에 따라 줄어든다. 그래서, 추정량은 편향되지 않은 것으로 보인다.\n",
    "주의: 득점 사이 시간이 지수분포라면, 게임에서 득점된 골의 분포는 포아송이다. [https://en.wikipedia.org/wiki/Poisson_distribution](https://en.wikipedia.org/wiki/Poisson_distribution) 참조한다."
   ]
  },
  {
   "cell_type": "code",
   "execution_count": null,
   "metadata": {
    "collapsed": true
   },
   "outputs": [],
   "source": []
  }
 ],
 "metadata": {
  "kernelspec": {
   "display_name": "Python 2",
   "language": "python",
   "name": "python2"
  },
  "language_info": {
   "codemirror_mode": {
    "name": "ipython",
    "version": 2
   },
   "file_extension": ".py",
   "mimetype": "text/x-python",
   "name": "python",
   "nbconvert_exporter": "python",
   "pygments_lexer": "ipython2",
   "version": "2.7.10"
  }
 },
 "nbformat": 4,
 "nbformat_minor": 0
}
