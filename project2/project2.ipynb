{
 "cells": [
  {
   "cell_type": "markdown",
   "metadata": {},
   "source": [
    "# Cohort Analysis of Opinions on LGBT issues"
   ]
  },
  {
   "cell_type": "markdown",
   "metadata": {},
   "source": [
    "For this project, we will be analyzing at data from the General Social Survey (GSS) to explore the opinions of different demographics on LGBT issues."
   ]
  },
  {
   "cell_type": "code",
   "execution_count": 1,
   "metadata": {},
   "outputs": [],
   "source": [
    "import numpy as np\n",
    "import pandas as pd\n",
    "import matplotlib.pyplot as plt\n",
    "\n",
    "import thinkstats2\n",
    "import thinkplot\n",
    "\n",
    "import utils\n",
    "from utils import decorate"
   ]
  },
  {
   "cell_type": "code",
   "execution_count": 2,
   "metadata": {},
   "outputs": [],
   "source": [
    "def read_gss(dirname):\n",
    "    \"\"\"Reads GSS files from the given directory.\n",
    "    \n",
    "    dirname: string\n",
    "    \n",
    "    returns: DataFrame\n",
    "    \"\"\"\n",
    "    dct = utils.read_stata_dict(dirname + '/GSS.dct')\n",
    "    gss = dct.read_fixed_width(dirname + '/GSS.dat.gz',\n",
    "                             compression='gzip')\n",
    "    return gss"
   ]
  },
  {
   "cell_type": "code",
   "execution_count": 3,
   "metadata": {},
   "outputs": [],
   "source": [
    "# Read in the GSS variables.\n",
    "gss = read_gss('gss_vars')"
   ]
  },
  {
   "cell_type": "markdown",
   "metadata": {},
   "source": [
    "## Clean the Data"
   ]
  },
  {
   "cell_type": "code",
   "execution_count": 4,
   "metadata": {
    "scrolled": true
   },
   "outputs": [
    {
     "data": {
      "text/html": [
       "<div>\n",
       "<style scoped>\n",
       "    .dataframe tbody tr th:only-of-type {\n",
       "        vertical-align: middle;\n",
       "    }\n",
       "\n",
       "    .dataframe tbody tr th {\n",
       "        vertical-align: top;\n",
       "    }\n",
       "\n",
       "    .dataframe thead th {\n",
       "        text-align: right;\n",
       "    }\n",
       "</style>\n",
       "<table border=\"1\" class=\"dataframe\">\n",
       "  <thead>\n",
       "    <tr style=\"text-align: right;\">\n",
       "      <th></th>\n",
       "      <th>ballot</th>\n",
       "      <th>fund</th>\n",
       "      <th>other</th>\n",
       "      <th>denom</th>\n",
       "      <th>relig</th>\n",
       "      <th>cappun</th>\n",
       "      <th>libhomo</th>\n",
       "      <th>colhomo</th>\n",
       "      <th>spkhomo</th>\n",
       "      <th>natfare</th>\n",
       "      <th>...</th>\n",
       "      <th>nateduc</th>\n",
       "      <th>natdrug</th>\n",
       "      <th>natcity</th>\n",
       "      <th>natheal</th>\n",
       "      <th>natenvir</th>\n",
       "      <th>natspac</th>\n",
       "      <th>polviews</th>\n",
       "      <th>partyid</th>\n",
       "      <th>size</th>\n",
       "      <th>year</th>\n",
       "    </tr>\n",
       "  </thead>\n",
       "  <tbody>\n",
       "    <tr>\n",
       "      <th>0</th>\n",
       "      <td>0</td>\n",
       "      <td>3</td>\n",
       "      <td>0</td>\n",
       "      <td>0</td>\n",
       "      <td>3</td>\n",
       "      <td>0</td>\n",
       "      <td>0</td>\n",
       "      <td>0</td>\n",
       "      <td>0</td>\n",
       "      <td>0</td>\n",
       "      <td>...</td>\n",
       "      <td>0</td>\n",
       "      <td>0</td>\n",
       "      <td>0</td>\n",
       "      <td>0</td>\n",
       "      <td>0</td>\n",
       "      <td>0</td>\n",
       "      <td>0</td>\n",
       "      <td>2</td>\n",
       "      <td>72</td>\n",
       "      <td>1972</td>\n",
       "    </tr>\n",
       "    <tr>\n",
       "      <th>1</th>\n",
       "      <td>0</td>\n",
       "      <td>2</td>\n",
       "      <td>0</td>\n",
       "      <td>0</td>\n",
       "      <td>2</td>\n",
       "      <td>0</td>\n",
       "      <td>0</td>\n",
       "      <td>0</td>\n",
       "      <td>0</td>\n",
       "      <td>0</td>\n",
       "      <td>...</td>\n",
       "      <td>0</td>\n",
       "      <td>0</td>\n",
       "      <td>0</td>\n",
       "      <td>0</td>\n",
       "      <td>0</td>\n",
       "      <td>0</td>\n",
       "      <td>0</td>\n",
       "      <td>1</td>\n",
       "      <td>72</td>\n",
       "      <td>1972</td>\n",
       "    </tr>\n",
       "    <tr>\n",
       "      <th>2</th>\n",
       "      <td>0</td>\n",
       "      <td>2</td>\n",
       "      <td>0</td>\n",
       "      <td>28</td>\n",
       "      <td>1</td>\n",
       "      <td>0</td>\n",
       "      <td>0</td>\n",
       "      <td>0</td>\n",
       "      <td>0</td>\n",
       "      <td>0</td>\n",
       "      <td>...</td>\n",
       "      <td>0</td>\n",
       "      <td>0</td>\n",
       "      <td>0</td>\n",
       "      <td>0</td>\n",
       "      <td>0</td>\n",
       "      <td>0</td>\n",
       "      <td>0</td>\n",
       "      <td>3</td>\n",
       "      <td>72</td>\n",
       "      <td>1972</td>\n",
       "    </tr>\n",
       "    <tr>\n",
       "      <th>3</th>\n",
       "      <td>0</td>\n",
       "      <td>9</td>\n",
       "      <td>0</td>\n",
       "      <td>0</td>\n",
       "      <td>5</td>\n",
       "      <td>0</td>\n",
       "      <td>0</td>\n",
       "      <td>0</td>\n",
       "      <td>0</td>\n",
       "      <td>0</td>\n",
       "      <td>...</td>\n",
       "      <td>0</td>\n",
       "      <td>0</td>\n",
       "      <td>0</td>\n",
       "      <td>0</td>\n",
       "      <td>0</td>\n",
       "      <td>0</td>\n",
       "      <td>0</td>\n",
       "      <td>1</td>\n",
       "      <td>72</td>\n",
       "      <td>1972</td>\n",
       "    </tr>\n",
       "    <tr>\n",
       "      <th>4</th>\n",
       "      <td>0</td>\n",
       "      <td>2</td>\n",
       "      <td>0</td>\n",
       "      <td>28</td>\n",
       "      <td>1</td>\n",
       "      <td>0</td>\n",
       "      <td>0</td>\n",
       "      <td>0</td>\n",
       "      <td>0</td>\n",
       "      <td>0</td>\n",
       "      <td>...</td>\n",
       "      <td>0</td>\n",
       "      <td>0</td>\n",
       "      <td>0</td>\n",
       "      <td>0</td>\n",
       "      <td>0</td>\n",
       "      <td>0</td>\n",
       "      <td>0</td>\n",
       "      <td>0</td>\n",
       "      <td>72</td>\n",
       "      <td>1972</td>\n",
       "    </tr>\n",
       "  </tbody>\n",
       "</table>\n",
       "<p>5 rows × 45 columns</p>\n",
       "</div>"
      ],
      "text/plain": [
       "   ballot  fund  other  denom  relig  cappun  libhomo  colhomo  spkhomo  \\\n",
       "0       0     3      0      0      3       0        0        0        0   \n",
       "1       0     2      0      0      2       0        0        0        0   \n",
       "2       0     2      0     28      1       0        0        0        0   \n",
       "3       0     9      0      0      5       0        0        0        0   \n",
       "4       0     2      0     28      1       0        0        0        0   \n",
       "\n",
       "   natfare  ...   nateduc  natdrug  natcity  natheal  natenvir  natspac  \\\n",
       "0        0  ...         0        0        0        0         0        0   \n",
       "1        0  ...         0        0        0        0         0        0   \n",
       "2        0  ...         0        0        0        0         0        0   \n",
       "3        0  ...         0        0        0        0         0        0   \n",
       "4        0  ...         0        0        0        0         0        0   \n",
       "\n",
       "   polviews  partyid  size  year  \n",
       "0         0        2    72  1972  \n",
       "1         0        1    72  1972  \n",
       "2         0        3    72  1972  \n",
       "3         0        1    72  1972  \n",
       "4         0        0    72  1972  \n",
       "\n",
       "[5 rows x 45 columns]"
      ]
     },
     "execution_count": 4,
     "metadata": {},
     "output_type": "execute_result"
    }
   ],
   "source": [
    "gss.head()"
   ]
  },
  {
   "cell_type": "code",
   "execution_count": 29,
   "metadata": {},
   "outputs": [
    {
     "data": {
      "text/plain": [
       "Index(['ballot', 'fund', 'other', 'denom', 'relig', 'cappun', 'libhomo',\n",
       "       'colhomo', 'spkhomo', 'natfare', 'attend', 'reliten', 'realrinc',\n",
       "       'marhomo', 'homosex', 'hapmar', 'raclive', 'fund16', 'oth16', 'denom16',\n",
       "       'relig16', 'nataid', 'natarms', 'natrace', 'res16', 'race', 'sex',\n",
       "       'educ', 'age', 'divorce', 'marital', 'wrkstat', 'id_', 'reg16',\n",
       "       'region', 'nateduc', 'natdrug', 'natcity', 'natheal', 'natenvir',\n",
       "       'natspac', 'polviews', 'partyid', 'size', 'year'],\n",
       "      dtype='object')"
      ]
     },
     "execution_count": 29,
     "metadata": {},
     "output_type": "execute_result"
    }
   ],
   "source": [
    "gss.columns"
   ]
  },
  {
   "cell_type": "code",
   "execution_count": 5,
   "metadata": {},
   "outputs": [],
   "source": [
    "# Remove reponses of Not Applicable and No Answer\n",
    "# In some cases also Don't Know answers \n",
    "\n",
    "gss['nataid'].replace([0,8,9], np.nan, inplace=True)\n",
    "gss['natarms'].replace([0,8,9], np.nan, inplace=True)\n",
    "gss['natrace'].replace([0,8,9], np.nan, inplace=True)\n",
    "gss['res16'].replace([0,8,9], np.nan, inplace=True)\n",
    "gss['educ'].replace([98,99], np.nan, inplace=True)\n",
    "gss['age'].replace([89,98,99], np.nan, inplace=True)\n",
    "gss['divorce'].replace([0,9,9], np.nan, inplace=True)\n",
    "gss['marital'].replace([9], np.nan, inplace=True)\n",
    "gss['wrkstat'].replace([9], np.nan, inplace=True)\n",
    "gss['nateduc'].replace([0,8,9], np.nan, inplace=True)\n",
    "gss['natdrug'].replace([0,8,9], np.nan, inplace=True)\n",
    "gss['natcity'].replace([0,8,9], np.nan, inplace=True)\n",
    "gss['natheal'].replace([0,8,9], np.nan, inplace=True)\n",
    "gss['natenvir'].replace([0,8,9], np.nan, inplace=True)\n",
    "gss['natspac'].replace([0,8,9], np.nan, inplace=True)\n",
    "gss['polviews'].replace([0,8,9], np.nan, inplace=True)\n",
    "gss['partyid'].replace([8,9], np.nan, inplace=True)"
   ]
  },
  {
   "cell_type": "code",
   "execution_count": 54,
   "metadata": {},
   "outputs": [
    {
     "data": {
      "image/png": "[encoded data removed]",
      "text/plain": [
       "<Figure size 432x288 with 1 Axes>"
      ]
     },
     "metadata": {
      "needs_background": "light"
     },
     "output_type": "display_data"
    }
   ],
   "source": [
    "married = gss[gss['marital']==1]\n",
    "not_married = gss[gss['marital'] > 1]\n",
    "\n",
    "mar_cdf = thinkstats2.Cdf(married['polviews'])\n",
    "not_mar_cdf = thinkstats2.Cdf(not_married['polviews'])\n",
    "thinkplot.PrePlot(2)\n",
    "thinkplot.cdf(mar_cdf, label = 'married')\n",
    "thinkplot.cdf(not_mar_cdf, label = ' not married')\n",
    "decorate(xlabel = 'Liberal -> Conservative',\n",
    "        ylabel = 'CDF')"
   ]
  },
  {
   "cell_type": "code",
   "execution_count": 59,
   "metadata": {},
   "outputs": [
    {
     "data": {
      "image/png": "[encoded data removed]",
      "text/plain": [
       "<Figure size 432x288 with 1 Axes>"
      ]
     },
     "metadata": {
      "needs_background": "light"
     },
     "output_type": "display_data"
    }
   ],
   "source": [
    "drug_little = gss[gss['natdrug']==1]\n",
    "drug_right = gss[gss['natdrug'] == 2]\n",
    "drug_lot = gss[gss['natdrug'] == 3]\n",
    "\n",
    "drug_little_pmf = thinkstats2.Pmf(drug_little['polviews'])\n",
    "drug_right_pmf= thinkstats2.Pmf(drug_right['polviews'])\n",
    "drug_lot_pmf = thinkstats2.Pmf(drug_lot['polviews'])\n",
    "thinkplot.PrePlot(3)\n",
    "thinkplot.pmf(drug_little_pmf, label = 'too little')\n",
    "thinkplot.pmf(drug_right_pmf, label = 'just right')\n",
    "thinkplot.pmf(drug_lot_pmf, label = 'too much')\n",
    "decorate(xlabel = 'Liberal -> Conservative',\n",
    "        ylabel = 'PMF')"
   ]
  },
  {
   "cell_type": "code",
   "execution_count": 60,
   "metadata": {},
   "outputs": [
    {
     "data": {
      "image/png": "[encoded data removed]",
      "text/plain": [
       "<Figure size 432x288 with 1 Axes>"
      ]
     },
     "metadata": {
      "needs_background": "light"
     },
     "output_type": "display_data"
    }
   ],
   "source": [
    "educ_little = gss[gss['nateduc']==1]\n",
    "educ_right = gss[gss['nateduc'] == 2]\n",
    "educ_lot = gss[gss['nateduc'] == 3]\n",
    "\n",
    "educ_little_pmf = thinkstats2.Pmf(educ_little['polviews'])\n",
    "educ_right_pmf= thinkstats2.Pmf(educ_right['polviews'])\n",
    "educ_lot_pmf = thinkstats2.Pmf(educ_lot['polviews'])\n",
    "thinkplot.PrePlot(3)\n",
    "thinkplot.pmf(educ_little_pmf, label = 'too little')\n",
    "thinkplot.pmf(educ_right_pmf, label = 'just right')\n",
    "thinkplot.pmf(educ_lot_pmf, label = 'too much')\n",
    "decorate(xlabel = 'Liberal -> Conservative',\n",
    "        ylabel = 'PMF')"
   ]
  },
  {
   "cell_type": "code",
   "execution_count": 61,
   "metadata": {},
   "outputs": [
    {
     "data": {
      "image/png": "[encoded data removed]",
      "text/plain": [
       "<Figure size 432x288 with 1 Axes>"
      ]
     },
     "metadata": {
      "needs_background": "light"
     },
     "output_type": "display_data"
    }
   ],
   "source": [
    "race_little = gss[gss['natrace']==1]\n",
    "race_right = gss[gss['natrace'] == 2]\n",
    "race_lot = gss[gss['natrace'] == 3]\n",
    "\n",
    "race_little_pmf = thinkstats2.Pmf(race_little['polviews'])\n",
    "race_right_pmf= thinkstats2.Pmf(race_right['polviews'])\n",
    "race_lot_pmf = thinkstats2.Pmf(race_lot['polviews'])\n",
    "thinkplot.PrePlot(3)\n",
    "thinkplot.pmf(race_little_pmf, label = 'too little')\n",
    "thinkplot.pmf(race_right_pmf, label = 'just right')\n",
    "thinkplot.pmf(race_lot_pmf, label = 'too much')\n",
    "decorate(xlabel = 'Liberal -> Conservative',\n",
    "        ylabel = 'PMF')"
   ]
  },
  {
   "cell_type": "code",
   "execution_count": 62,
   "metadata": {},
   "outputs": [
    {
     "data": {
      "image/png": "[encoded data removed]",
      "text/plain": [
       "<Figure size 432x288 with 1 Axes>"
      ]
     },
     "metadata": {
      "needs_background": "light"
     },
     "output_type": "display_data"
    }
   ],
   "source": [
    "spac_little = gss[gss['natspac']==1]\n",
    "spac_right = gss[gss['natspac'] == 2]\n",
    "spac_lot = gss[gss['natspac'] == 3]\n",
    "\n",
    "spac_little_pmf = thinkstats2.Pmf(spac_little['polviews'])\n",
    "spac_right_pmf= thinkstats2.Pmf(spac_right['polviews'])\n",
    "spac_lot_pmf = thinkstats2.Pmf(spac_lot['polviews'])\n",
    "thinkplot.PrePlot(3)\n",
    "thinkplot.pmf(spac_little_pmf, label = 'too little')\n",
    "thinkplot.pmf(spac_right_pmf, label = 'just right')\n",
    "thinkplot.pmf(spac_lot_pmf, label = 'too much')\n",
    "decorate(xlabel = 'Liberal -> Conservative',\n",
    "        ylabel = 'PMF')"
   ]
  },
  {
   "cell_type": "code",
   "execution_count": null,
   "metadata": {},
   "outputs": [],
   "source": []
  }
 ],
 "metadata": {
  "kernelspec": {
   "display_name": "Python 3",
   "language": "python",
   "name": "python3"
  },
  "language_info": {
   "codemirror_mode": {
    "name": "ipython",
    "version": 3
   },
   "file_extension": ".py",
   "mimetype": "text/x-python",
   "name": "python",
   "nbconvert_exporter": "python",
   "pygments_lexer": "ipython3",
   "version": "3.6.7"
  }
 },
 "nbformat": 4,
 "nbformat_minor": 2
}
